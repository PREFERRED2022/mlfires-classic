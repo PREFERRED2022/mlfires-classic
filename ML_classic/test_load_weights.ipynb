{
 "cells": [
  {
   "cell_type": "code",
   "execution_count": 156,
   "id": "1c76bdcc",
   "metadata": {},
   "outputs": [],
   "source": [
    "from manage_model import create_NN_model, create_sklearn_model, allowgrowthgpus, \\\n",
    "mm_load_model, mm_save_model, mm_load_weights, create_model, fit_model\n",
    "from best_models import retrieve_best_models, retrieve_models_by_id\n",
    "from check_and_prepare_dataset import load_dataset, prepare_dataset\n",
    "import pandas as pd"
   ]
  },
  {
   "cell_type": "code",
   "execution_count": 104,
   "id": "8b72e963",
   "metadata": {},
   "outputs": [],
   "source": [
    "filters = [\"df_flt['params'].str.contains(\\\"'dropout': None\\\")\"] # no dropout\n",
    "#filters = [\"~df_flt['params'].str.contains(\\\"'dropout': None\\\")\"] # with dropout\n",
    "opt_targets = ['auc', 'f1-score 1', 'hybrid1', 'hybrid2', 'hybrid5', 'NH2', 'NH5', 'NH10']\n",
    "resdir = '/mnt/nvme2tb/ffp/results/bestmodels'\n",
    "testfpattern=cvrespattern = '*NN_ns*mean*'\n",
    "#testmodel = retrieve_models_by_id(197,'auc test', resdir, testfpattern, opt_targets, 'val.', 'test', filters, 3)\n",
    "testmodel = retrieve_models_by_id(366,'hybrid2 test', resdir, testfpattern, opt_targets, 'val.', 'test', filters, 3)\n",
    "\n",
    "#testmodels = retrieve_best_models(resdir, testfpattern, opt_targets, 'val.', 'test', filters, 3)\n",
    "\n"
   ]
  },
  {
   "cell_type": "code",
   "execution_count": 105,
   "id": "d9c8c716",
   "metadata": {},
   "outputs": [
    {
     "data": {
      "text/plain": [
       "{'params': {'ES_mindelta': 0.002,\n",
       "  'ES_monitor': 'val_loss',\n",
       "  'ES_patience': 10,\n",
       "  'batch_size': 512,\n",
       "  'class_weights': {0: 1, 1: 5},\n",
       "  'dropout': None,\n",
       "  'feature_drop': ('month',\n",
       "   'weekday',\n",
       "   'dom_dir',\n",
       "   'dir_max',\n",
       "   'pop',\n",
       "   'corine_gr1',\n",
       "   'corine_gr2',\n",
       "   'corine_gr3',\n",
       "   'corine_gr4',\n",
       "   'corine_gr5',\n",
       "   'corine_gr6',\n",
       "   'corine_gr7',\n",
       "   'corine_gr8',\n",
       "   'corine_gr9'),\n",
       "  'max_epochs': 2000,\n",
       "  'metric': 'accuracy',\n",
       "  'n_internal_layers': (0, {'layer_1_0_nodes': 700.0}),\n",
       "  'optimizer': {'adam_params': None, 'name': 'Adam'}},\n",
       " 'trial': 366}"
      ]
     },
     "execution_count": 105,
     "metadata": {},
     "output_type": "execute_result"
    }
   ],
   "source": [
    "testmodel"
   ]
  },
  {
   "cell_type": "code",
   "execution_count": 134,
   "id": "a52c7bd5",
   "metadata": {},
   "outputs": [
    {
     "name": "stdout",
     "output_type": "stream",
     "text": [
      "Loading full dataset /mnt/nvme2tb/ffp/datasets/train/train_new_sample_1_2_norm.csv\n",
      "before nan drop: 41771\n",
      "after nan drop: 41771\n",
      "after dup. drop: 41684\n",
      "renaming \"x\": \"xpos\", \"y\": \"ypos\"\n",
      "Ignored columns from csv ['index', 'y', 'x', 'dom_dir', 'dir_max', 'fire', 'weekday', 'month', 'band', 'firedate']\n",
      "Dropped columns ['bin_month_5', 'bin_corine_gr32', 'bin_corine_gr21', 'bin_corine_gr22', 'bin_month_7', 'bin_weekday_4', 'bin_corine_gr31', 'bin_month_3', 'bin_dom_dir_1', 'bin_weekday_3', 'bin_corine_gr4', 'bin_dom_dir_5', 'bin_weekday_5', 'bin_corine_gr5', 'bin_dir_max_4', 'bin_dir_max_3', 'bin_dom_dir_8', 'bin_month_8', 'bin_dir_max_2', 'bin_dir_max_8', 'bin_month_4', 'bin_dir_max_6', 'bin_dom_dir_2', 'bin_dom_dir_7', 'bin_weekday_7', 'bin_dir_max_5', 'bin_month_10', 'bin_weekday_2', 'bin_weekday_1', 'pop', 'bin_corine_gr1', 'bin_dir_max_1', 'bin_dom_dir_4', 'bin_corine_gr24', 'bin_weekday_6', 'bin_dom_dir_3', 'bin_corine_gr23', 'bin_dir_max_7', 'bin_corine_gr33', 'bin_dom_dir_6', 'bin_month_9', 'bin_month_6']\n"
     ]
    }
   ],
   "source": [
    "X, y, g=load_dataset('/mnt/nvme2tb/ffp/datasets/train/train_new_sample_1_2_norm.csv', \\\n",
    "                         testmodel['params']['feature_drop'])"
   ]
  },
  {
   "cell_type": "code",
   "execution_count": 5,
   "id": "cc0f5073",
   "metadata": {},
   "outputs": [
    {
     "name": "stdout",
     "output_type": "stream",
     "text": [
      "1 Physical GPUs, 1 Logical GPUs\n"
     ]
    },
    {
     "name": "stderr",
     "output_type": "stream",
     "text": [
      "2023-07-06 13:35:52.322194: I tensorflow/compiler/xla/stream_executor/cuda/cuda_gpu_executor.cc:981] successful NUMA node read from SysFS had negative value (-1), but there must be at least one NUMA node, so returning NUMA node zero\n",
      "2023-07-06 13:35:52.336603: I tensorflow/compiler/xla/stream_executor/cuda/cuda_gpu_executor.cc:981] successful NUMA node read from SysFS had negative value (-1), but there must be at least one NUMA node, so returning NUMA node zero\n",
      "2023-07-06 13:35:52.336720: I tensorflow/compiler/xla/stream_executor/cuda/cuda_gpu_executor.cc:981] successful NUMA node read from SysFS had negative value (-1), but there must be at least one NUMA node, so returning NUMA node zero\n",
      "2023-07-06 13:35:52.337225: I tensorflow/core/platform/cpu_feature_guard.cc:193] This TensorFlow binary is optimized with oneAPI Deep Neural Network Library (oneDNN) to use the following CPU instructions in performance-critical operations:  SSE4.1 SSE4.2 AVX AVX2 AVX_VNNI FMA\n",
      "To enable them in other operations, rebuild TensorFlow with the appropriate compiler flags.\n",
      "2023-07-06 13:35:52.337733: I tensorflow/compiler/xla/stream_executor/cuda/cuda_gpu_executor.cc:981] successful NUMA node read from SysFS had negative value (-1), but there must be at least one NUMA node, so returning NUMA node zero\n",
      "2023-07-06 13:35:52.337826: I tensorflow/compiler/xla/stream_executor/cuda/cuda_gpu_executor.cc:981] successful NUMA node read from SysFS had negative value (-1), but there must be at least one NUMA node, so returning NUMA node zero\n",
      "2023-07-06 13:35:52.337879: I tensorflow/compiler/xla/stream_executor/cuda/cuda_gpu_executor.cc:981] successful NUMA node read from SysFS had negative value (-1), but there must be at least one NUMA node, so returning NUMA node zero\n",
      "2023-07-06 13:35:52.804781: I tensorflow/compiler/xla/stream_executor/cuda/cuda_gpu_executor.cc:981] successful NUMA node read from SysFS had negative value (-1), but there must be at least one NUMA node, so returning NUMA node zero\n",
      "2023-07-06 13:35:52.804896: I tensorflow/compiler/xla/stream_executor/cuda/cuda_gpu_executor.cc:981] successful NUMA node read from SysFS had negative value (-1), but there must be at least one NUMA node, so returning NUMA node zero\n",
      "2023-07-06 13:35:52.804954: I tensorflow/compiler/xla/stream_executor/cuda/cuda_gpu_executor.cc:981] successful NUMA node read from SysFS had negative value (-1), but there must be at least one NUMA node, so returning NUMA node zero\n",
      "2023-07-06 13:35:52.805002: I tensorflow/core/common_runtime/gpu/gpu_device.cc:1613] Created device /job:localhost/replica:0/task:0/device:GPU:0 with 19962 MB memory:  -> device: 0, name: NVIDIA GeForce RTX 3090 Ti, pci bus id: 0000:01:00.0, compute capability: 8.6\n"
     ]
    }
   ],
   "source": [
    "allowgrowthgpus()"
   ]
  },
  {
   "cell_type": "code",
   "execution_count": 179,
   "id": "1ec02d60",
   "metadata": {},
   "outputs": [
    {
     "name": "stdout",
     "output_type": "stream",
     "text": [
      "Loading full dataset /mnt/nvme2tb/ffp/datasets/test/2019/20190803_df_norm.csv\n",
      "before nan drop: 650975\n",
      "after nan drop: 650975\n",
      "after dup. drop: 650975\n",
      "renaming \"x\": \"xpos\", \"y\": \"ypos\"\n",
      "Ignored columns from csv ['index', 'y', 'x', 'dom_dir', 'dir_max', 'fire', 'weekday', 'month', 'band', 'id', 'firedate']\n",
      "Dropped columns ['bin_month_5', 'bin_corine_gr32', 'bin_corine_gr21', 'bin_corine_gr22', 'bin_month_7', 'bin_weekday_4', 'bin_corine_gr31', 'bin_month_3', 'bin_dom_dir_1', 'bin_weekday_3', 'bin_corine_gr4', 'bin_dom_dir_5', 'bin_weekday_5', 'bin_corine_gr5', 'bin_dir_max_4', 'bin_dir_max_3', 'bin_dom_dir_8', 'bin_month_8', 'bin_dir_max_2', 'bin_dir_max_8', 'bin_month_4', 'bin_dir_max_6', 'bin_dom_dir_2', 'bin_dom_dir_7', 'bin_weekday_7', 'bin_dir_max_5', 'bin_month_10', 'bin_weekday_2', 'bin_weekday_1', 'pop', 'bin_corine_gr1', 'bin_dir_max_1', 'bin_dom_dir_4', 'bin_corine_gr24', 'bin_weekday_6', 'bin_dom_dir_3', 'bin_corine_gr23', 'bin_dir_max_7', 'bin_corine_gr33', 'bin_dom_dir_6', 'bin_month_9', 'bin_month_6']\n"
     ]
    }
   ],
   "source": [
    "X_pd, y_pd, g=load_dataset('/mnt/nvme2tb/ffp/datasets/test/2019/20190803_df_norm.csv', \\\n",
    "                         testmodel['params']['feature_drop'])\n",
    "X_pd = X_pd.reindex(sorted(X_pd.columns), axis=1)\n",
    "X = X_pd.values\n",
    "y = y_pd.values\n",
    "y = y[:, 0]"
   ]
  },
  {
   "cell_type": "code",
   "execution_count": 173,
   "id": "f15fd493",
   "metadata": {},
   "outputs": [],
   "source": [
    "#model=load_model('/mnt/nvme2tb/ffp/results/bestmodels/models/hypres_tf_ns_ncv_do_2019_weights_id_197_r_0_auctest_1.cpkt', 'tf',\\\n",
    "#                 testmodel['params'],X)\n",
    "mdl=None\n",
    "#mdl=mm_load_model('/mnt/nvme2tb/ffp/results/bestmodels/entiremodels/hypres_tf_ns_ncv_do_2019_model_id_366_r_0_hybrid2test_1.h5', 'tf',\\\n",
    "#                 testmodel['params'],X)\n",
    "mdl=mm_load_model('/mnt/nvme2tb/ffp/results/bestmodels/entiremodels/hypres_tf_ns_ncv_do_2019_model_id_785_r_0_hybrid2test_1.h5', \n",
    "                  'tf',testmodel['params'],X)\n",
    "\n",
    "#mdl=create_model('tf', testmodel['params'], X)\n"
   ]
  },
  {
   "cell_type": "code",
   "execution_count": 148,
   "id": "2b03e9ad",
   "metadata": {},
   "outputs": [],
   "source": [
    "mdl, res = fit_model('tf', mdl, testmodel['params'], X, y, X, y)"
   ]
  },
  {
   "cell_type": "code",
   "execution_count": 125,
   "id": "6d80e175",
   "metadata": {},
   "outputs": [
    {
     "data": {
      "text/plain": [
       "<tensorflow.python.checkpoint.checkpoint.CheckpointLoadStatus at 0x7f0cec7bbd00>"
      ]
     },
     "execution_count": 125,
     "metadata": {},
     "output_type": "execute_result"
    }
   ],
   "source": [
    "mdl.load_weights('/mnt/nvme2tb/ffp/results/bestmodels/weights/hypres_tf_ns_ncv_do_2019_weights_id_366_r_0_hybrid2test_1.cpkt')"
   ]
  },
  {
   "cell_type": "code",
   "execution_count": 149,
   "id": "8082c456",
   "metadata": {},
   "outputs": [
    {
     "name": "stdout",
     "output_type": "stream",
     "text": [
      "Model: \"sequential_4\"\n",
      "_________________________________________________________________\n",
      " Layer (type)                Output Shape              Param #   \n",
      "=================================================================\n",
      " dense_8 (Dense)             (None, 700)               44800     \n",
      "                                                                 \n",
      " dense_9 (Dense)             (None, 2)                 1402      \n",
      "                                                                 \n",
      "=================================================================\n",
      "Total params: 46,202\n",
      "Trainable params: 46,202\n",
      "Non-trainable params: 0\n",
      "_________________________________________________________________\n"
     ]
    }
   ],
   "source": [
    "mdl.summary()"
   ]
  },
  {
   "cell_type": "code",
   "execution_count": 150,
   "id": "70c244b6",
   "metadata": {},
   "outputs": [
    {
     "data": {
      "text/plain": [
       "[array([[ 0.0480417 ,  0.01736723,  0.04032859, ...,  0.09716347,\n",
       "          0.05914954, -0.00915137],\n",
       "        [-0.00613742, -0.0850711 , -0.16287519, ...,  0.06970468,\n",
       "          0.0430031 , -0.15639016],\n",
       "        [ 0.05382802,  0.05307555, -0.10841866, ..., -0.14677909,\n",
       "         -0.28713763, -0.08376907],\n",
       "        ...,\n",
       "        [ 0.07315093, -0.06018258, -0.00592211, ...,  0.00614177,\n",
       "         -0.05075567,  0.04001919],\n",
       "        [ 0.07542433,  0.01261827,  0.03895753, ..., -0.14490607,\n",
       "         -0.31036025,  0.17748497],\n",
       "        [-0.03879215,  0.05096834,  0.10306682, ...,  0.0741    ,\n",
       "         -0.03616442,  0.02236046]], dtype=float32),\n",
       " array([ 0.00000000e+00,  5.76201361e-03, -1.15351826e-02, -2.05555800e-02,\n",
       "         1.00370997e-03, -3.00316419e-02,  1.56737678e-02, -1.73575487e-02,\n",
       "         9.86134540e-03,  1.37419645e-02, -1.65317412e-02,  0.00000000e+00,\n",
       "        -2.50664391e-02, -9.68583487e-03,  4.66232421e-03,  1.33348200e-02,\n",
       "         0.00000000e+00, -6.53448422e-03,  9.03559290e-03,  3.37795839e-02,\n",
       "        -1.98793728e-02,  0.00000000e+00,  1.32001434e-02, -9.99284163e-03,\n",
       "         3.76231149e-02, -1.08582620e-02, -8.00705398e-04,  0.00000000e+00,\n",
       "         2.73991302e-02,  2.55746283e-02, -9.16509703e-03,  8.60722270e-03,\n",
       "         2.51563676e-02, -5.06475754e-03,  1.59564149e-02, -7.24823400e-03,\n",
       "        -2.51881219e-02, -5.31623419e-03, -9.96300951e-03,  2.01963894e-02,\n",
       "         1.42265363e-02,  3.80935371e-02, -1.99557282e-02,  1.01134377e-02,\n",
       "        -8.08019936e-03,  5.50251221e-03, -1.55849038e-02, -2.12689601e-02,\n",
       "         3.93104702e-02,  3.00220456e-02,  2.42621265e-02, -5.25963753e-02,\n",
       "         3.74803990e-02, -1.66668203e-02,  3.29408469e-03, -2.30936091e-02,\n",
       "        -2.82625575e-03,  5.20352349e-02, -2.46094875e-02, -1.26175219e-02,\n",
       "        -3.33682038e-02, -2.04985235e-02, -1.20911961e-02,  1.55415768e-02,\n",
       "        -1.04883937e-02, -9.62048303e-03, -3.03543955e-02, -1.52073540e-02,\n",
       "        -7.28358235e-03,  8.71446857e-04, -2.12333240e-02, -1.88500378e-02,\n",
       "         0.00000000e+00, -1.35563388e-02, -1.53945582e-02, -1.92831121e-02,\n",
       "        -1.09365201e-02, -6.89547136e-03, -3.17398049e-02, -7.60627910e-03,\n",
       "         2.43054107e-02, -2.17968114e-02, -1.04223592e-02, -1.03769666e-02,\n",
       "         1.35582518e-02, -2.32510157e-02, -1.84315704e-02, -1.30331852e-02,\n",
       "        -5.03002713e-03, -1.33697875e-02,  2.80377585e-02,  2.87230359e-03,\n",
       "        -2.09906027e-02,  3.55740897e-02, -2.14976799e-02, -9.02005844e-03,\n",
       "        -1.20491553e-02,  0.00000000e+00, -2.86840415e-03, -2.67961137e-02,\n",
       "         0.00000000e+00,  4.48327363e-02,  1.58204045e-02, -1.58908386e-02,\n",
       "         3.74541283e-02, -1.87680945e-02, -1.57821719e-02,  7.56959012e-03,\n",
       "         3.23085636e-02, -2.49109454e-02,  2.78731026e-02,  9.77269653e-03,\n",
       "        -5.12070069e-03, -7.25363242e-03,  0.00000000e+00, -1.54291317e-02,\n",
       "        -1.52817173e-02,  8.10724869e-03,  2.60441527e-02, -1.15986606e-02,\n",
       "         1.31480908e-02,  1.35681489e-02,  2.41843611e-02, -1.74282510e-02,\n",
       "        -7.58416019e-03,  4.28265572e-04, -5.36967721e-03,  1.57932732e-02,\n",
       "         3.31173353e-02,  2.83920374e-02,  0.00000000e+00,  4.04568538e-02,\n",
       "         1.62683409e-02, -1.13815516e-02, -9.30658914e-03, -1.30478144e-02,\n",
       "        -1.29927397e-02, -1.60070490e-02, -1.88240875e-02, -3.96857336e-02,\n",
       "        -9.27827694e-03,  0.00000000e+00,  2.13537551e-02,  2.17985194e-02,\n",
       "         1.14037702e-02, -1.52167464e-02, -8.57789069e-04,  6.07766502e-04,\n",
       "         0.00000000e+00, -1.06690200e-02, -1.88645590e-02,  0.00000000e+00,\n",
       "        -1.10085122e-02, -6.12810953e-03,  0.00000000e+00,  1.53707433e-02,\n",
       "        -4.12230939e-03, -1.60876997e-02,  0.00000000e+00,  1.01646641e-02,\n",
       "         2.48000957e-02, -1.42187541e-02, -2.21540947e-02,  9.13517643e-03,\n",
       "         2.03321334e-02,  2.18920112e-02,  2.40499992e-03,  3.76028344e-02,\n",
       "         1.43650044e-02, -1.62284374e-02,  2.55258046e-02, -4.87984857e-03,\n",
       "        -2.32247356e-02, -4.78341756e-03,  7.35155365e-04,  3.89724821e-02,\n",
       "        -2.11891234e-02,  2.07863543e-02, -5.41777071e-03,  3.14792395e-02,\n",
       "        -1.34294648e-02,  1.04441261e-02, -5.20905713e-03, -1.91118345e-02,\n",
       "        -2.25943550e-02, -1.53441755e-02,  1.76623389e-02, -1.78785287e-02,\n",
       "         0.00000000e+00, -2.49935058e-03,  2.20810734e-02, -8.42304993e-03,\n",
       "        -1.29772378e-02,  3.85662424e-03,  1.78402103e-02, -8.27212166e-03,\n",
       "         3.76139092e-03, -9.19892546e-03,  2.39474718e-02,  2.00093118e-03,\n",
       "        -2.22289115e-02, -3.08259893e-02, -2.80164368e-02,  9.57735907e-03,\n",
       "         3.64966094e-02, -6.52498379e-02, -8.86168610e-03,  1.52041763e-02,\n",
       "         4.92210593e-03, -2.17449069e-02,  1.43119562e-02, -1.80303678e-02,\n",
       "         1.06109381e-02, -1.35872969e-02, -1.76919310e-03,  1.51925106e-02,\n",
       "        -5.92834176e-03, -1.31189153e-02, -1.01711461e-02,  2.32706685e-02,\n",
       "        -1.02323145e-02,  7.46331271e-03, -7.33829729e-05, -2.19521169e-02,\n",
       "        -1.82547793e-02,  2.89351977e-02, -2.92233191e-02, -1.10947760e-02,\n",
       "         1.51490858e-02, -5.81042981e-03, -1.00133736e-02,  7.72795640e-03,\n",
       "        -4.96602897e-03,  3.43621969e-02, -1.68764405e-02,  1.32211288e-02,\n",
       "        -2.65485235e-02,  8.36497580e-04, -7.30723981e-03,  1.50151430e-02,\n",
       "        -8.24732613e-03,  1.45205483e-02,  1.14532970e-02,  3.05108204e-02,\n",
       "        -3.31113227e-02,  0.00000000e+00, -1.08755575e-02, -2.28752103e-02,\n",
       "         4.76557529e-03, -7.13940384e-03,  1.85107358e-03,  4.21971753e-02,\n",
       "        -1.42457699e-02, -2.75902692e-02,  4.55613574e-03,  0.00000000e+00,\n",
       "        -5.28994389e-03, -9.37809702e-03,  1.15079032e-02, -3.25098112e-02,\n",
       "         1.71403829e-02,  1.61909387e-02, -1.98689029e-02,  2.20535714e-02,\n",
       "        -2.03257576e-02, -2.74275132e-02, -1.07418355e-02,  2.72147190e-02,\n",
       "        -5.61167346e-03,  2.28794124e-02,  2.40557417e-02,  0.00000000e+00,\n",
       "        -3.49584445e-02,  3.78823616e-02,  2.01838352e-02, -1.35594420e-02,\n",
       "         1.95150096e-02, -4.70204884e-03,  4.40041609e-02, -4.74109733e-03,\n",
       "        -9.83130746e-03, -1.88004132e-02, -1.78938806e-02,  8.93473532e-03,\n",
       "        -7.53086433e-03, -5.07536670e-03,  9.73187108e-03,  0.00000000e+00,\n",
       "         4.80676256e-02,  1.04569318e-02, -5.39586088e-03,  3.35380435e-02,\n",
       "        -1.93620119e-02, -2.10675970e-03,  2.92938985e-02, -1.57894678e-02,\n",
       "        -2.03523301e-02, -1.55410618e-02, -1.17570376e-02,  0.00000000e+00,\n",
       "        -1.25505598e-02, -1.65287079e-03,  1.29696436e-03,  3.41132171e-02,\n",
       "        -1.83402244e-02, -1.83614045e-02, -2.63874792e-02, -1.90375000e-02,\n",
       "        -1.14741782e-02, -2.34053377e-02,  3.23966257e-02, -4.93615866e-03,\n",
       "        -1.29220635e-02, -5.24048880e-03, -2.54021268e-02,  1.21944984e-02,\n",
       "        -1.93512943e-02, -1.19455028e-02,  1.28826406e-02,  4.75902557e-02,\n",
       "        -1.52639626e-02,  3.28006037e-02, -3.42863263e-03,  1.97569821e-02,\n",
       "        -3.50762866e-02, -8.28995649e-03, -1.45329079e-02,  0.00000000e+00,\n",
       "         3.88399581e-04, -9.35076829e-03,  3.90285556e-03, -1.79987941e-02,\n",
       "         3.25999744e-02, -6.01198385e-03, -1.05453155e-03, -1.40763735e-02,\n",
       "         3.21799554e-02, -1.12273742e-03, -1.40478415e-02,  1.82868503e-02,\n",
       "         6.67096488e-03, -7.88813177e-03,  1.25100892e-02, -5.55285672e-03,\n",
       "         3.54622453e-02,  8.34651664e-03, -1.43618174e-02,  4.59479429e-02,\n",
       "        -1.58774145e-02, -1.40742473e-02,  3.23412642e-02,  0.00000000e+00,\n",
       "        -6.52047060e-03,  3.69472615e-02, -2.51832772e-02,  4.99219708e-02,\n",
       "         0.00000000e+00,  1.93525432e-03,  1.66204516e-02,  4.74376930e-03,\n",
       "        -2.10667066e-02,  0.00000000e+00,  2.74857115e-02,  2.42918264e-02,\n",
       "        -1.08620711e-02,  2.81500909e-02,  3.47410562e-03, -1.24334870e-02,\n",
       "        -2.77364813e-02, -4.10514623e-02,  9.95114096e-04,  3.85509543e-02,\n",
       "         2.13035680e-02, -1.42353484e-02, -2.04092450e-02,  2.36053094e-02,\n",
       "         3.28890346e-02,  1.15540447e-02, -4.99456236e-03,  1.22635104e-02,\n",
       "        -1.92751009e-02,  7.27058994e-03, -1.83210224e-02, -1.68280732e-02,\n",
       "         3.93233029e-03, -7.32532842e-03, -1.02834301e-02,  3.65276337e-02,\n",
       "         8.62861611e-03, -2.70429607e-02, -2.54988857e-02, -9.76847112e-03,\n",
       "         0.00000000e+00,  3.14714611e-02, -1.95559990e-02,  1.19184535e-02,\n",
       "        -2.46117972e-02,  2.28453637e-03,  3.85201313e-02,  4.94923489e-03,\n",
       "        -2.82746721e-02,  1.27099622e-02,  2.95571098e-03, -1.75196677e-02,\n",
       "        -1.60054099e-02,  5.99323213e-03,  0.00000000e+00, -1.57625545e-02,\n",
       "        -4.07523802e-03,  1.41063398e-02, -2.44906005e-02,  1.16482731e-02,\n",
       "        -1.00996988e-02, -2.77657509e-02, -1.18332952e-02, -1.10885138e-02,\n",
       "        -3.53021012e-03, -1.21626295e-02,  0.00000000e+00, -2.75811516e-02,\n",
       "         2.03735884e-02, -1.23345666e-02,  3.22407708e-02, -6.55213790e-03,\n",
       "         1.68098195e-03, -4.01325449e-02,  8.78529903e-03, -1.65176205e-02,\n",
       "         0.00000000e+00, -9.99458972e-03, -2.39382423e-02,  1.76366717e-02,\n",
       "         1.87151134e-02, -6.06783340e-03, -5.76571235e-03, -1.44410646e-02,\n",
       "        -1.94039438e-02, -1.51841100e-02, -4.66359872e-03, -7.31117651e-03,\n",
       "        -4.19856003e-03, -3.58405523e-02, -1.56854559e-02, -4.52320138e-03,\n",
       "        -7.17265066e-03, -5.19213825e-03,  4.83264308e-03,  1.26554500e-02,\n",
       "        -7.43505638e-03,  0.00000000e+00,  1.48445833e-02, -6.84724841e-03,\n",
       "         1.30438684e-02, -2.41781436e-02,  3.26024517e-02, -1.46759180e-02,\n",
       "         1.96182411e-02,  1.15596037e-02,  1.79530885e-02,  1.52376341e-02,\n",
       "         2.52837930e-02, -9.81061347e-03,  2.48935111e-02, -1.00338040e-02,\n",
       "        -5.96367987e-03, -9.47603956e-04, -2.06211209e-03,  0.00000000e+00,\n",
       "        -1.41024953e-02, -9.83107556e-03,  9.66549502e-04,  0.00000000e+00,\n",
       "        -1.60074010e-02, -8.42926372e-03,  8.76860972e-03,  2.24368889e-02,\n",
       "         1.82965584e-02, -3.31628160e-03, -1.32673550e-02,  1.39840180e-02,\n",
       "        -7.38094328e-03, -9.97323077e-03,  0.00000000e+00,  1.38632068e-02,\n",
       "         1.21083623e-02, -1.37277534e-02, -1.03221061e-02,  4.08943649e-03,\n",
       "        -1.97244156e-02, -5.96036343e-03, -2.01016683e-02,  1.52484328e-02,\n",
       "         4.16907221e-02, -1.27619933e-02, -8.05342663e-03, -9.68470983e-03,\n",
       "        -7.93795474e-03,  2.53083371e-03, -3.83333070e-03, -1.14866737e-02,\n",
       "         1.39716715e-02,  0.00000000e+00,  8.12548865e-03, -8.86851083e-03,\n",
       "         1.68746449e-02,  2.02598665e-02, -9.97821800e-03, -3.36587685e-03,\n",
       "        -1.07372515e-02, -9.73852724e-03,  3.93521972e-02, -1.25472313e-02,\n",
       "        -5.20011317e-03, -2.12202221e-02, -2.29494944e-02, -2.15596538e-02,\n",
       "         4.38240357e-03,  0.00000000e+00,  3.04696634e-02,  3.50614078e-02,\n",
       "         3.26924622e-02,  2.80380733e-02, -8.17990117e-03,  0.00000000e+00,\n",
       "         1.30854612e-02, -1.34024220e-02, -2.37497259e-02, -3.02287042e-02,\n",
       "        -1.54901203e-02,  0.00000000e+00, -2.66868342e-02, -2.27912217e-02,\n",
       "         4.21686051e-03,  1.50510110e-02, -2.12881751e-02, -1.70351174e-02,\n",
       "         3.37255821e-02,  3.50657385e-03, -1.66186932e-02,  0.00000000e+00,\n",
       "         2.20603403e-02, -8.17882188e-04, -2.22661756e-02,  9.78799444e-03,\n",
       "        -1.60139259e-02,  0.00000000e+00,  1.76886842e-02,  5.32228500e-03,\n",
       "         0.00000000e+00, -7.80933071e-03, -1.68579724e-02,  4.19054441e-02,\n",
       "        -1.86288618e-02, -2.11045966e-02, -2.15060730e-02,  2.06174143e-02,\n",
       "        -3.94640816e-03,  2.17921771e-02, -1.20980619e-02, -1.54538397e-02,\n",
       "        -1.22461654e-02, -1.67906452e-02,  3.68789956e-02, -1.71285868e-02,\n",
       "        -8.02458823e-03,  2.30600382e-03,  2.88248099e-02, -3.16033699e-02,\n",
       "         1.31711615e-02, -8.75579659e-03, -2.33342461e-02, -9.00940876e-03,\n",
       "        -5.23138279e-03,  1.44642941e-03,  3.85001004e-02, -1.80720096e-03,\n",
       "         2.49950457e-02, -1.84425749e-02, -2.18812935e-02, -7.92346895e-03,\n",
       "        -2.93657668e-02,  2.71524442e-03, -2.37785578e-02, -2.17107381e-03,\n",
       "         0.00000000e+00, -1.66833643e-02,  2.77784257e-03, -9.43040662e-03,\n",
       "        -8.68962612e-03,  0.00000000e+00, -9.83978715e-03, -1.18763922e-02,\n",
       "        -9.44411033e-04,  1.78872142e-02, -7.37017160e-03,  0.00000000e+00,\n",
       "         0.00000000e+00, -1.14072608e-02,  0.00000000e+00,  2.31616087e-02,\n",
       "        -1.21804746e-02,  3.13919112e-02, -5.92613313e-03, -1.73812099e-02,\n",
       "         3.55219170e-02, -5.32857608e-03, -1.46191483e-02, -1.98167935e-02,\n",
       "         1.33393100e-02, -3.43236662e-02,  1.05529521e-02,  4.54943045e-04,\n",
       "         1.34712001e-02,  3.05551142e-02, -1.42238671e-02,  1.66975204e-02,\n",
       "        -1.55660249e-02, -1.07612386e-02, -1.91589985e-02, -9.44548938e-03,\n",
       "         0.00000000e+00, -1.95543878e-02, -9.58107691e-03, -5.01612620e-03,\n",
       "        -2.30325013e-02,  0.00000000e+00,  1.88946091e-02,  2.91322940e-03,\n",
       "         1.85771193e-02,  1.61772140e-03,  0.00000000e+00, -9.78675205e-03,\n",
       "        -3.29381861e-02, -7.49949273e-03,  0.00000000e+00,  4.45678784e-03,\n",
       "        -5.44718793e-03,  0.00000000e+00, -7.09975092e-03,  2.53391266e-02,\n",
       "        -8.05303082e-03,  0.00000000e+00, -3.00379135e-02,  4.36392501e-02,\n",
       "         3.45499888e-02, -2.71675121e-02, -1.51035599e-02,  1.49146589e-02,\n",
       "        -1.09951636e-02, -8.56544450e-03, -6.75249426e-03,  1.60298962e-02,\n",
       "        -6.99060969e-03,  0.00000000e+00, -3.50573566e-03,  2.04789937e-02,\n",
       "        -1.77567117e-02,  8.02642107e-03, -5.84122026e-03, -1.44038135e-02,\n",
       "         1.31829176e-02,  4.64237593e-02,  3.38314511e-02, -1.12425266e-02,\n",
       "        -9.42857377e-03, -1.10566411e-02,  7.09759770e-03, -2.19077803e-03,\n",
       "        -1.02707185e-02, -1.70775093e-02,  0.00000000e+00, -2.95795910e-02,\n",
       "        -1.55557450e-02,  7.65050016e-03,  6.04454428e-03, -5.96574601e-03,\n",
       "         4.82623512e-03,  1.73080731e-02, -3.22887138e-03, -2.47647464e-02,\n",
       "         0.00000000e+00, -9.70130786e-03,  0.00000000e+00, -2.14686114e-02,\n",
       "         5.01573421e-02, -5.98462624e-03,  0.00000000e+00, -6.78560510e-03,\n",
       "        -8.23537586e-04,  1.78907495e-02, -2.14919187e-02, -2.49581225e-03,\n",
       "        -1.00006713e-02, -2.65982095e-02, -1.96588971e-02, -3.24240187e-03,\n",
       "         1.76613517e-02, -4.14168648e-03, -2.02334356e-02,  2.80634239e-02],\n",
       "       dtype=float32),\n",
       " array([[ 0.09109018,  0.03888483],\n",
       "        [ 0.02181016, -0.1113095 ],\n",
       "        [-0.32988763,  0.22334173],\n",
       "        ...,\n",
       "        [-0.20768183,  0.16907148],\n",
       "        [-0.13959938,  0.07175355],\n",
       "        [ 0.13719141, -0.12299374]], dtype=float32),\n",
       " array([ 0.01724983, -0.01724983], dtype=float32)]"
      ]
     },
     "execution_count": 150,
     "metadata": {},
     "output_type": "execute_result"
    }
   ],
   "source": [
    "mdl.get_weights()"
   ]
  },
  {
   "cell_type": "code",
   "execution_count": 180,
   "id": "d5a6a2de",
   "metadata": {},
   "outputs": [
    {
     "name": "stdout",
     "output_type": "stream",
     "text": [
      "20343/20343 [==============================] - 7s 316us/step\n"
     ]
    }
   ],
   "source": [
    "y=mdl.predict(X)"
   ]
  },
  {
   "cell_type": "code",
   "execution_count": 181,
   "id": "6b0ac262",
   "metadata": {},
   "outputs": [
    {
     "data": {
      "text/plain": [
       "(650975, 2)"
      ]
     },
     "execution_count": 181,
     "metadata": {},
     "output_type": "execute_result"
    }
   ],
   "source": [
    "y.shape"
   ]
  },
  {
   "cell_type": "code",
   "execution_count": 182,
   "id": "4a8250ce",
   "metadata": {},
   "outputs": [],
   "source": [
    "yp=y[:,0]"
   ]
  },
  {
   "cell_type": "code",
   "execution_count": 183,
   "id": "6beeb563",
   "metadata": {},
   "outputs": [
    {
     "data": {
      "text/plain": [
       "456039"
      ]
     },
     "execution_count": 183,
     "metadata": {},
     "output_type": "execute_result"
    }
   ],
   "source": [
    "len(yp[yp>0.5])"
   ]
  },
  {
   "cell_type": "code",
   "execution_count": 184,
   "id": "326520e6",
   "metadata": {},
   "outputs": [
    {
     "name": "stdout",
     "output_type": "stream",
     "text": [
      "92074\n",
      "71687\n",
      "62454\n",
      "71488\n",
      "353272\n"
     ]
    }
   ],
   "source": [
    "for i in range(0,5):\n",
    "    print(len(yp[(yp>=i/5)&(yp<=i/5+0.2)]))"
   ]
  },
  {
   "cell_type": "code",
   "execution_count": 157,
   "id": "ab3d8625",
   "metadata": {},
   "outputs": [],
   "source": [
    "mm_save_model('/mnt/nvme2tb/ffp/results/bestmodels/entiremodels/testmodel.h5', mdl, 'tf', testmodel['params'])"
   ]
  },
  {
   "cell_type": "code",
   "execution_count": 159,
   "id": "be30f730",
   "metadata": {},
   "outputs": [],
   "source": [
    "newmdl=mm_load_model('/mnt/nvme2tb/ffp/results/bestmodels/entiremodels/testmodel.h5', 'tf',testmodel['params'], X)"
   ]
  },
  {
   "cell_type": "code",
   "execution_count": 160,
   "id": "f0cb9755",
   "metadata": {},
   "outputs": [
    {
     "name": "stdout",
     "output_type": "stream",
     "text": [
      "Model: \"sequential_4\"\n",
      "_________________________________________________________________\n",
      " Layer (type)                Output Shape              Param #   \n",
      "=================================================================\n",
      " dense_8 (Dense)             (None, 700)               44800     \n",
      "                                                                 \n",
      " dense_9 (Dense)             (None, 2)                 1402      \n",
      "                                                                 \n",
      "=================================================================\n",
      "Total params: 46,202\n",
      "Trainable params: 46,202\n",
      "Non-trainable params: 0\n",
      "_________________________________________________________________\n"
     ]
    }
   ],
   "source": [
    "newmdl.summary()"
   ]
  },
  {
   "cell_type": "code",
   "execution_count": 162,
   "id": "4f9d5844",
   "metadata": {},
   "outputs": [
    {
     "name": "stdout",
     "output_type": "stream",
     "text": [
      "20460/20460 [==============================] - 7s 318us/step\n"
     ]
    }
   ],
   "source": [
    "ynew=newmdl.predict(X)"
   ]
  },
  {
   "cell_type": "code",
   "execution_count": 164,
   "id": "065f92f6",
   "metadata": {},
   "outputs": [
    {
     "name": "stdout",
     "output_type": "stream",
     "text": [
      "77400\n",
      "55100\n",
      "53815\n",
      "74600\n",
      "393783\n"
     ]
    }
   ],
   "source": [
    "ynewp=ynew[:,0]\n",
    "for i in range(0,5):\n",
    "    print(len(ynewp[(ynewp>=i/5)&(ynewp<=i/5+0.2)]))"
   ]
  },
  {
   "cell_type": "code",
   "execution_count": 92,
   "id": "0936e8a4",
   "metadata": {},
   "outputs": [],
   "source": [
    "dfscores=pd.read_csv('/mnt/nvme2tb/ffp/results/bestmodels/test/hypres_tf_ns_ncv_do_2019_scores_hybrid2test_1_201906df_normcsv.csv')"
   ]
  },
  {
   "cell_type": "code",
   "execution_count": null,
   "id": "0e4c87e2",
   "metadata": {},
   "outputs": [],
   "source": []
  },
  {
   "cell_type": "code",
   "execution_count": 93,
   "id": "9680f82f",
   "metadata": {},
   "outputs": [
    {
     "data": {
      "text/html": [
       "<div>\n",
       "<style scoped>\n",
       "    .dataframe tbody tr th:only-of-type {\n",
       "        vertical-align: middle;\n",
       "    }\n",
       "\n",
       "    .dataframe tbody tr th {\n",
       "        vertical-align: top;\n",
       "    }\n",
       "\n",
       "    .dataframe thead th {\n",
       "        text-align: right;\n",
       "    }\n",
       "</style>\n",
       "<table border=\"1\" class=\"dataframe\">\n",
       "  <thead>\n",
       "    <tr style=\"text-align: right;\">\n",
       "      <th></th>\n",
       "      <th>id</th>\n",
       "      <th>firedate</th>\n",
       "      <th>y</th>\n",
       "      <th>1</th>\n",
       "      <th>2</th>\n",
       "      <th>3</th>\n",
       "      <th>4</th>\n",
       "      <th>5</th>\n",
       "      <th>6</th>\n",
       "      <th>7</th>\n",
       "      <th>8</th>\n",
       "      <th>9</th>\n",
       "      <th>10</th>\n",
       "      <th>11</th>\n",
       "    </tr>\n",
       "  </thead>\n",
       "  <tbody>\n",
       "    <tr>\n",
       "      <th>0</th>\n",
       "      <td>2.277064e+11</td>\n",
       "      <td>20190629.0</td>\n",
       "      <td>0.0</td>\n",
       "      <td>3.501878e-08</td>\n",
       "      <td>0.000062</td>\n",
       "      <td>0.000036</td>\n",
       "      <td>1.916510e-07</td>\n",
       "      <td>5.457658e-11</td>\n",
       "      <td>1.861014e-09</td>\n",
       "      <td>7.990204e-08</td>\n",
       "      <td>0.000020</td>\n",
       "      <td>0.000018</td>\n",
       "      <td>0.000005</td>\n",
       "      <td>0.000056</td>\n",
       "    </tr>\n",
       "    <tr>\n",
       "      <th>1</th>\n",
       "      <td>2.277584e+11</td>\n",
       "      <td>20190629.0</td>\n",
       "      <td>0.0</td>\n",
       "      <td>1.350264e-07</td>\n",
       "      <td>0.000310</td>\n",
       "      <td>0.000209</td>\n",
       "      <td>4.614344e-07</td>\n",
       "      <td>3.773597e-09</td>\n",
       "      <td>8.971537e-08</td>\n",
       "      <td>4.392725e-07</td>\n",
       "      <td>0.000097</td>\n",
       "      <td>0.000132</td>\n",
       "      <td>0.000038</td>\n",
       "      <td>0.000289</td>\n",
       "    </tr>\n",
       "    <tr>\n",
       "      <th>2</th>\n",
       "      <td>2.278104e+11</td>\n",
       "      <td>20190629.0</td>\n",
       "      <td>0.0</td>\n",
       "      <td>2.545226e-07</td>\n",
       "      <td>0.000269</td>\n",
       "      <td>0.000183</td>\n",
       "      <td>7.206104e-07</td>\n",
       "      <td>1.807729e-08</td>\n",
       "      <td>8.920400e-08</td>\n",
       "      <td>6.912280e-07</td>\n",
       "      <td>0.000093</td>\n",
       "      <td>0.000113</td>\n",
       "      <td>0.000031</td>\n",
       "      <td>0.000239</td>\n",
       "    </tr>\n",
       "    <tr>\n",
       "      <th>3</th>\n",
       "      <td>2.278614e+11</td>\n",
       "      <td>20190629.0</td>\n",
       "      <td>0.0</td>\n",
       "      <td>1.787119e-07</td>\n",
       "      <td>0.000159</td>\n",
       "      <td>0.000099</td>\n",
       "      <td>1.019396e-06</td>\n",
       "      <td>6.766182e-09</td>\n",
       "      <td>2.565046e-08</td>\n",
       "      <td>4.591851e-07</td>\n",
       "      <td>0.000057</td>\n",
       "      <td>0.000057</td>\n",
       "      <td>0.000015</td>\n",
       "      <td>0.000134</td>\n",
       "    </tr>\n",
       "    <tr>\n",
       "      <th>4</th>\n",
       "      <td>2.279134e+11</td>\n",
       "      <td>20190629.0</td>\n",
       "      <td>0.0</td>\n",
       "      <td>1.292365e-07</td>\n",
       "      <td>0.000128</td>\n",
       "      <td>0.000077</td>\n",
       "      <td>7.773998e-07</td>\n",
       "      <td>2.232106e-09</td>\n",
       "      <td>1.523166e-08</td>\n",
       "      <td>3.390488e-07</td>\n",
       "      <td>0.000045</td>\n",
       "      <td>0.000044</td>\n",
       "      <td>0.000012</td>\n",
       "      <td>0.000110</td>\n",
       "    </tr>\n",
       "    <tr>\n",
       "      <th>...</th>\n",
       "      <td>...</td>\n",
       "      <td>...</td>\n",
       "      <td>...</td>\n",
       "      <td>...</td>\n",
       "      <td>...</td>\n",
       "      <td>...</td>\n",
       "      <td>...</td>\n",
       "      <td>...</td>\n",
       "      <td>...</td>\n",
       "      <td>...</td>\n",
       "      <td>...</td>\n",
       "      <td>...</td>\n",
       "      <td>...</td>\n",
       "      <td>...</td>\n",
       "    </tr>\n",
       "    <tr>\n",
       "      <th>19622983</th>\n",
       "      <td>NaN</td>\n",
       "      <td>NaN</td>\n",
       "      <td>NaN</td>\n",
       "      <td>NaN</td>\n",
       "      <td>NaN</td>\n",
       "      <td>NaN</td>\n",
       "      <td>NaN</td>\n",
       "      <td>NaN</td>\n",
       "      <td>NaN</td>\n",
       "      <td>NaN</td>\n",
       "      <td>NaN</td>\n",
       "      <td>NaN</td>\n",
       "      <td>0.522708</td>\n",
       "      <td>0.567374</td>\n",
       "    </tr>\n",
       "    <tr>\n",
       "      <th>19622984</th>\n",
       "      <td>NaN</td>\n",
       "      <td>NaN</td>\n",
       "      <td>NaN</td>\n",
       "      <td>NaN</td>\n",
       "      <td>NaN</td>\n",
       "      <td>NaN</td>\n",
       "      <td>NaN</td>\n",
       "      <td>NaN</td>\n",
       "      <td>NaN</td>\n",
       "      <td>NaN</td>\n",
       "      <td>NaN</td>\n",
       "      <td>NaN</td>\n",
       "      <td>0.867111</td>\n",
       "      <td>0.757075</td>\n",
       "    </tr>\n",
       "    <tr>\n",
       "      <th>19622985</th>\n",
       "      <td>NaN</td>\n",
       "      <td>NaN</td>\n",
       "      <td>NaN</td>\n",
       "      <td>NaN</td>\n",
       "      <td>NaN</td>\n",
       "      <td>NaN</td>\n",
       "      <td>NaN</td>\n",
       "      <td>NaN</td>\n",
       "      <td>NaN</td>\n",
       "      <td>NaN</td>\n",
       "      <td>NaN</td>\n",
       "      <td>NaN</td>\n",
       "      <td>0.875851</td>\n",
       "      <td>0.749028</td>\n",
       "    </tr>\n",
       "    <tr>\n",
       "      <th>19622986</th>\n",
       "      <td>NaN</td>\n",
       "      <td>NaN</td>\n",
       "      <td>NaN</td>\n",
       "      <td>NaN</td>\n",
       "      <td>NaN</td>\n",
       "      <td>NaN</td>\n",
       "      <td>NaN</td>\n",
       "      <td>NaN</td>\n",
       "      <td>NaN</td>\n",
       "      <td>NaN</td>\n",
       "      <td>NaN</td>\n",
       "      <td>NaN</td>\n",
       "      <td>0.408626</td>\n",
       "      <td>0.440074</td>\n",
       "    </tr>\n",
       "    <tr>\n",
       "      <th>19622987</th>\n",
       "      <td>NaN</td>\n",
       "      <td>NaN</td>\n",
       "      <td>NaN</td>\n",
       "      <td>NaN</td>\n",
       "      <td>NaN</td>\n",
       "      <td>NaN</td>\n",
       "      <td>NaN</td>\n",
       "      <td>NaN</td>\n",
       "      <td>NaN</td>\n",
       "      <td>NaN</td>\n",
       "      <td>NaN</td>\n",
       "      <td>NaN</td>\n",
       "      <td>0.387816</td>\n",
       "      <td>0.522976</td>\n",
       "    </tr>\n",
       "  </tbody>\n",
       "</table>\n",
       "<p>19622988 rows × 14 columns</p>\n",
       "</div>"
      ],
      "text/plain": [
       "                    id    firedate    y             1         2         3  \\\n",
       "0         2.277064e+11  20190629.0  0.0  3.501878e-08  0.000062  0.000036   \n",
       "1         2.277584e+11  20190629.0  0.0  1.350264e-07  0.000310  0.000209   \n",
       "2         2.278104e+11  20190629.0  0.0  2.545226e-07  0.000269  0.000183   \n",
       "3         2.278614e+11  20190629.0  0.0  1.787119e-07  0.000159  0.000099   \n",
       "4         2.279134e+11  20190629.0  0.0  1.292365e-07  0.000128  0.000077   \n",
       "...                ...         ...  ...           ...       ...       ...   \n",
       "19622983           NaN         NaN  NaN           NaN       NaN       NaN   \n",
       "19622984           NaN         NaN  NaN           NaN       NaN       NaN   \n",
       "19622985           NaN         NaN  NaN           NaN       NaN       NaN   \n",
       "19622986           NaN         NaN  NaN           NaN       NaN       NaN   \n",
       "19622987           NaN         NaN  NaN           NaN       NaN       NaN   \n",
       "\n",
       "                     4             5             6             7         8  \\\n",
       "0         1.916510e-07  5.457658e-11  1.861014e-09  7.990204e-08  0.000020   \n",
       "1         4.614344e-07  3.773597e-09  8.971537e-08  4.392725e-07  0.000097   \n",
       "2         7.206104e-07  1.807729e-08  8.920400e-08  6.912280e-07  0.000093   \n",
       "3         1.019396e-06  6.766182e-09  2.565046e-08  4.591851e-07  0.000057   \n",
       "4         7.773998e-07  2.232106e-09  1.523166e-08  3.390488e-07  0.000045   \n",
       "...                ...           ...           ...           ...       ...   \n",
       "19622983           NaN           NaN           NaN           NaN       NaN   \n",
       "19622984           NaN           NaN           NaN           NaN       NaN   \n",
       "19622985           NaN           NaN           NaN           NaN       NaN   \n",
       "19622986           NaN           NaN           NaN           NaN       NaN   \n",
       "19622987           NaN           NaN           NaN           NaN       NaN   \n",
       "\n",
       "                 9        10        11  \n",
       "0         0.000018  0.000005  0.000056  \n",
       "1         0.000132  0.000038  0.000289  \n",
       "2         0.000113  0.000031  0.000239  \n",
       "3         0.000057  0.000015  0.000134  \n",
       "4         0.000044  0.000012  0.000110  \n",
       "...            ...       ...       ...  \n",
       "19622983       NaN  0.522708  0.567374  \n",
       "19622984       NaN  0.867111  0.757075  \n",
       "19622985       NaN  0.875851  0.749028  \n",
       "19622986       NaN  0.408626  0.440074  \n",
       "19622987       NaN  0.387816  0.522976  \n",
       "\n",
       "[19622988 rows x 14 columns]"
      ]
     },
     "execution_count": 93,
     "metadata": {},
     "output_type": "execute_result"
    }
   ],
   "source": [
    "dfscores"
   ]
  },
  {
   "cell_type": "code",
   "execution_count": 97,
   "id": "29ebec20",
   "metadata": {},
   "outputs": [],
   "source": [
    "dfd=dfscores[dfscores['firedate']==20190629]"
   ]
  },
  {
   "cell_type": "code",
   "execution_count": 132,
   "id": "45a05f2d",
   "metadata": {},
   "outputs": [
    {
     "data": {
      "text/plain": [
       "654698"
      ]
     },
     "execution_count": 132,
     "metadata": {},
     "output_type": "execute_result"
    }
   ],
   "source": [
    "len(dfd)"
   ]
  },
  {
   "cell_type": "code",
   "execution_count": 99,
   "id": "628cf68e",
   "metadata": {},
   "outputs": [
    {
     "name": "stdout",
     "output_type": "stream",
     "text": [
      "483030\n",
      "108099\n",
      "77379\n",
      "67728\n",
      "73582\n"
     ]
    }
   ],
   "source": [
    "for i in range(0,5):\n",
    "    print(len(dfd[(dfd['11']>=i/5)&(dfd['1']<=i/5+0.2)]))"
   ]
  },
  {
   "cell_type": "code",
   "execution_count": 33,
   "id": "cf25eb73",
   "metadata": {},
   "outputs": [
    {
     "data": {
      "text/plain": [
       "array([1.        , 1.        , 1.        , ..., 1.        , 0.99999845,\n",
       "       0.9999999 ], dtype=float32)"
      ]
     },
     "execution_count": 33,
     "metadata": {},
     "output_type": "execute_result"
    }
   ],
   "source": [
    "yp"
   ]
  },
  {
   "cell_type": "code",
   "execution_count": null,
   "id": "9beea4ec",
   "metadata": {},
   "outputs": [],
   "source": []
  }
 ],
 "metadata": {
  "kernelspec": {
   "display_name": "Python 3 (ipykernel)",
   "language": "python",
   "name": "python3"
  },
  "language_info": {
   "codemirror_mode": {
    "name": "ipython",
    "version": 3
   },
   "file_extension": ".py",
   "mimetype": "text/x-python",
   "name": "python",
   "nbconvert_exporter": "python",
   "pygments_lexer": "ipython3",
   "version": "3.10.10"
  }
 },
 "nbformat": 4,
 "nbformat_minor": 5
}
