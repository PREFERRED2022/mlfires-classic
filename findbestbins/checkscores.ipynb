{
 "cells": [
  {
   "cell_type": "code",
   "execution_count": 17,
   "id": "6027ddc9",
   "metadata": {},
   "outputs": [],
   "source": [
    "import pandas as pd\n",
    "import matplotlib.pyplot as plt\n",
    "import numpy as np"
   ]
  },
  {
   "cell_type": "code",
   "execution_count": 18,
   "id": "1b879ef0",
   "metadata": {},
   "outputs": [],
   "source": [
    "df=pd.read_csv('/mnt/nvme2tb/ffp/results/bestmodels/test/hypres_tf_ns_ncv_2019_all_test_2.csv')"
   ]
  },
  {
   "cell_type": "code",
   "execution_count": 3,
   "id": "a7d9cd58",
   "metadata": {},
   "outputs": [
    {
     "data": {
      "text/plain": [
       "Index(['Model ID', 'opt. metric', 'training set', 'test set', 'accuracy train',\n",
       "       'precision 1 train', 'recall 1 train', 'f1-score 1 train',\n",
       "       'precision 0 train', 'recall 0 train', 'f1-score 0 train', 'auc train',\n",
       "       'TN train', 'FP train', 'FN train', 'TP train', 'accuracy test',\n",
       "       'precision 1 test', 'recall 1 test', 'f1-score 1 test',\n",
       "       'precision 0 test', 'recall 0 test', 'f1-score 0 test', 'auc test',\n",
       "       'TN test', 'FP test', 'FN test', 'TP test', 'FN01 test', 'FN02 test',\n",
       "       'FN001 test', 'FN002 test', 'early stop epochs', 'params',\n",
       "       'CV Fit and predict min.'],\n",
       "      dtype='object')"
      ]
     },
     "execution_count": 3,
     "metadata": {},
     "output_type": "execute_result"
    }
   ],
   "source": [
    "df.columns"
   ]
  },
  {
   "cell_type": "code",
   "execution_count": 4,
   "id": "97be28fc",
   "metadata": {},
   "outputs": [],
   "source": [
    "dffilt=df[['Model ID', 'opt. metric', 'test set', 'recall 1 test', 'recall 0 test', 'params' ]]"
   ]
  },
  {
   "cell_type": "code",
   "execution_count": 5,
   "id": "483cefaa",
   "metadata": {},
   "outputs": [
    {
     "data": {
      "text/html": [
       "<div>\n",
       "<style scoped>\n",
       "    .dataframe tbody tr th:only-of-type {\n",
       "        vertical-align: middle;\n",
       "    }\n",
       "\n",
       "    .dataframe tbody tr th {\n",
       "        vertical-align: top;\n",
       "    }\n",
       "\n",
       "    .dataframe thead th {\n",
       "        text-align: right;\n",
       "    }\n",
       "</style>\n",
       "<table border=\"1\" class=\"dataframe\">\n",
       "  <thead>\n",
       "    <tr style=\"text-align: right;\">\n",
       "      <th></th>\n",
       "      <th>Model ID</th>\n",
       "      <th>opt. metric</th>\n",
       "      <th>test set</th>\n",
       "      <th>recall 1 test</th>\n",
       "      <th>recall 0 test</th>\n",
       "      <th>params</th>\n",
       "    </tr>\n",
       "  </thead>\n",
       "  <tbody>\n",
       "    <tr>\n",
       "      <th>4</th>\n",
       "      <td>923</td>\n",
       "      <td>hybrid5 test</td>\n",
       "      <td>all set</td>\n",
       "      <td>0.898331</td>\n",
       "      <td>0.787437</td>\n",
       "      <td>{'ES_mindelta': 0.002, 'ES_monitor': 'val_loss...</td>\n",
       "    </tr>\n",
       "    <tr>\n",
       "      <th>9</th>\n",
       "      <td>875</td>\n",
       "      <td>hybrid5 test</td>\n",
       "      <td>all set</td>\n",
       "      <td>0.904401</td>\n",
       "      <td>0.773437</td>\n",
       "      <td>{'ES_mindelta': 0.002, 'ES_monitor': 'val_loss...</td>\n",
       "    </tr>\n",
       "    <tr>\n",
       "      <th>14</th>\n",
       "      <td>555</td>\n",
       "      <td>hybrid5 test</td>\n",
       "      <td>all set</td>\n",
       "      <td>0.908953</td>\n",
       "      <td>0.771941</td>\n",
       "      <td>{'ES_mindelta': 0.002, 'ES_monitor': 'val_loss...</td>\n",
       "    </tr>\n",
       "    <tr>\n",
       "      <th>19</th>\n",
       "      <td>786</td>\n",
       "      <td>NH10 test</td>\n",
       "      <td>all set</td>\n",
       "      <td>0.936267</td>\n",
       "      <td>0.753004</td>\n",
       "      <td>{'ES_mindelta': 0.002, 'ES_monitor': 'val_loss...</td>\n",
       "    </tr>\n",
       "    <tr>\n",
       "      <th>24</th>\n",
       "      <td>379</td>\n",
       "      <td>NH10 test</td>\n",
       "      <td>all set</td>\n",
       "      <td>0.948407</td>\n",
       "      <td>0.714011</td>\n",
       "      <td>{'ES_mindelta': 0.002, 'ES_monitor': 'val_loss...</td>\n",
       "    </tr>\n",
       "    <tr>\n",
       "      <th>29</th>\n",
       "      <td>137</td>\n",
       "      <td>NH10 test</td>\n",
       "      <td>all set</td>\n",
       "      <td>0.966616</td>\n",
       "      <td>0.681698</td>\n",
       "      <td>{'ES_mindelta': 0.002, 'ES_monitor': 'val_loss...</td>\n",
       "    </tr>\n",
       "    <tr>\n",
       "      <th>34</th>\n",
       "      <td>785</td>\n",
       "      <td>hybrid2 test</td>\n",
       "      <td>all set</td>\n",
       "      <td>0.886191</td>\n",
       "      <td>0.811678</td>\n",
       "      <td>{'ES_mindelta': 0.002, 'ES_monitor': 'val_loss...</td>\n",
       "    </tr>\n",
       "    <tr>\n",
       "      <th>39</th>\n",
       "      <td>366</td>\n",
       "      <td>hybrid2 test</td>\n",
       "      <td>all set</td>\n",
       "      <td>0.852807</td>\n",
       "      <td>0.832309</td>\n",
       "      <td>{'ES_mindelta': 0.002, 'ES_monitor': 'val_loss...</td>\n",
       "    </tr>\n",
       "    <tr>\n",
       "      <th>44</th>\n",
       "      <td>686</td>\n",
       "      <td>hybrid2 test</td>\n",
       "      <td>all set</td>\n",
       "      <td>0.895296</td>\n",
       "      <td>0.793061</td>\n",
       "      <td>{'ES_mindelta': 0.002, 'ES_monitor': 'val_loss...</td>\n",
       "    </tr>\n",
       "  </tbody>\n",
       "</table>\n",
       "</div>"
      ],
      "text/plain": [
       "    Model ID   opt. metric test set  recall 1 test  recall 0 test  \\\n",
       "4        923  hybrid5 test  all set       0.898331       0.787437   \n",
       "9        875  hybrid5 test  all set       0.904401       0.773437   \n",
       "14       555  hybrid5 test  all set       0.908953       0.771941   \n",
       "19       786     NH10 test  all set       0.936267       0.753004   \n",
       "24       379     NH10 test  all set       0.948407       0.714011   \n",
       "29       137     NH10 test  all set       0.966616       0.681698   \n",
       "34       785  hybrid2 test  all set       0.886191       0.811678   \n",
       "39       366  hybrid2 test  all set       0.852807       0.832309   \n",
       "44       686  hybrid2 test  all set       0.895296       0.793061   \n",
       "\n",
       "                                               params  \n",
       "4   {'ES_mindelta': 0.002, 'ES_monitor': 'val_loss...  \n",
       "9   {'ES_mindelta': 0.002, 'ES_monitor': 'val_loss...  \n",
       "14  {'ES_mindelta': 0.002, 'ES_monitor': 'val_loss...  \n",
       "19  {'ES_mindelta': 0.002, 'ES_monitor': 'val_loss...  \n",
       "24  {'ES_mindelta': 0.002, 'ES_monitor': 'val_loss...  \n",
       "29  {'ES_mindelta': 0.002, 'ES_monitor': 'val_loss...  \n",
       "34  {'ES_mindelta': 0.002, 'ES_monitor': 'val_loss...  \n",
       "39  {'ES_mindelta': 0.002, 'ES_monitor': 'val_loss...  \n",
       "44  {'ES_mindelta': 0.002, 'ES_monitor': 'val_loss...  "
      ]
     },
     "execution_count": 5,
     "metadata": {},
     "output_type": "execute_result"
    }
   ],
   "source": [
    "dffilt[dffilt['test set'].str.contains('all')]"
   ]
  },
  {
   "cell_type": "code",
   "execution_count": 42,
   "id": "daf5154e",
   "metadata": {},
   "outputs": [],
   "source": [
    "dfscs=[]\n",
    "dfscs2=[]\n",
    "for i in range(6,10):\n",
    "    dftemp=pd.read_csv('/mnt/nvme2tb/ffp/results/bestmodels/test/hypres_tf_ns_ncv_2019_scores_hybrid2test_1_20190%ddf_normcsv.csv'%i)\n",
    "    dftemp=dftemp[['y','1']]\n",
    "    dfscs+=[dftemp]\n",
    "    if i>6:\n",
    "        dfscs2+=[dftemp]\n",
    "    \n",
    "    "
   ]
  },
  {
   "cell_type": "code",
   "execution_count": 43,
   "id": "3aba1a81",
   "metadata": {},
   "outputs": [],
   "source": [
    "def getbin(distrib, percent, hist, binedges):\n",
    "    binedges1=binedges[:-1] # match histogram array\n",
    "    numelements=int(len(distrib)*percent)+1 # compute number of elements for cut off likelihood\n",
    "    binlim=binedges1[np.cumsum(hist)<numelements][-1] # get cut off likelihood\n",
    "    return binlim"
   ]
  },
  {
   "cell_type": "code",
   "execution_count": 44,
   "id": "2db47f70",
   "metadata": {},
   "outputs": [],
   "source": [
    "dfsc=pd.concat(dfscs)"
   ]
  },
  {
   "cell_type": "code",
   "execution_count": 46,
   "id": "d267435c",
   "metadata": {},
   "outputs": [],
   "source": [
    "dfsc789=pd.concat(dfscs2)"
   ]
  },
  {
   "cell_type": "code",
   "execution_count": 47,
   "id": "efd116eb",
   "metadata": {},
   "outputs": [],
   "source": [
    "plotfiredistrib=dfsc[dfsc['y']==1]['1'].values\n",
    "plotalldistrib=dfsc['1'].values"
   ]
  },
  {
   "cell_type": "code",
   "execution_count": 48,
   "id": "867136fe",
   "metadata": {},
   "outputs": [
    {
     "data": {
      "text/plain": [
       "0.052360608171"
      ]
     },
     "execution_count": 48,
     "metadata": {},
     "output_type": "execute_result"
    }
   ],
   "source": [
    "binedges=be\n",
    "hist=h\n",
    "binedges1=binedges[:-1] # match histogram array\n",
    "distrib=plotfiredistrib\n",
    "percent=0.005\n",
    "numelements=int(len(distrib)*percent)+1 # compute number of elements for cut off likelihood\n",
    "binlim=binedges1[np.cumsum(hist)<numelements][-1] # get cut off likelihood\n",
    "binlim"
   ]
  },
  {
   "cell_type": "code",
   "execution_count": 36,
   "id": "6ad6dc22",
   "metadata": {},
   "outputs": [
    {
     "ename": "IndexError",
     "evalue": "index -1 is out of bounds for axis 0 with size 0",
     "output_type": "error",
     "traceback": [
      "\u001b[0;31m---------------------------------------------------------------------------\u001b[0m",
      "\u001b[0;31mIndexError\u001b[0m                                Traceback (most recent call last)",
      "Cell \u001b[0;32mIn[36], line 1\u001b[0m\n\u001b[0;32m----> 1\u001b[0m \u001b[43mgetbin\u001b[49m\u001b[43m(\u001b[49m\u001b[43mplotfiredistrib\u001b[49m\u001b[43m,\u001b[49m\u001b[43m \u001b[49m\u001b[38;5;241;43m0\u001b[39;49m\u001b[43m,\u001b[49m\u001b[43m \u001b[49m\u001b[43mh\u001b[49m\u001b[43m,\u001b[49m\u001b[43m \u001b[49m\u001b[43mbe\u001b[49m\u001b[43m)\u001b[49m\n",
      "Cell \u001b[0;32mIn[31], line 4\u001b[0m, in \u001b[0;36mgetbin\u001b[0;34m(distrib, percent, hist, binedges)\u001b[0m\n\u001b[1;32m      2\u001b[0m binedges1\u001b[38;5;241m=\u001b[39mbinedges[:\u001b[38;5;241m-\u001b[39m\u001b[38;5;241m1\u001b[39m] \u001b[38;5;66;03m# match histogram array\u001b[39;00m\n\u001b[1;32m      3\u001b[0m numelements\u001b[38;5;241m=\u001b[39m\u001b[38;5;28mint\u001b[39m(\u001b[38;5;28mlen\u001b[39m(distrib)\u001b[38;5;241m*\u001b[39mpercent)\u001b[38;5;241m+\u001b[39m\u001b[38;5;241m1\u001b[39m \u001b[38;5;66;03m# compute number of elements for cut off likelihood\u001b[39;00m\n\u001b[0;32m----> 4\u001b[0m binlim\u001b[38;5;241m=\u001b[39m\u001b[43mbinedges1\u001b[49m\u001b[43m[\u001b[49m\u001b[43mnp\u001b[49m\u001b[38;5;241;43m.\u001b[39;49m\u001b[43mcumsum\u001b[49m\u001b[43m(\u001b[49m\u001b[43mhist\u001b[49m\u001b[43m)\u001b[49m\u001b[38;5;241;43m<\u001b[39;49m\u001b[43mnumelements\u001b[49m\u001b[43m]\u001b[49m\u001b[43m[\u001b[49m\u001b[38;5;241;43m-\u001b[39;49m\u001b[38;5;241;43m1\u001b[39;49m\u001b[43m]\u001b[49m \u001b[38;5;66;03m# get cut off likelihood\u001b[39;00m\n\u001b[1;32m      5\u001b[0m \u001b[38;5;28;01mreturn\u001b[39;00m binlim\n",
      "\u001b[0;31mIndexError\u001b[0m: index -1 is out of bounds for axis 0 with size 0"
     ]
    }
   ],
   "source": [
    "getbin(plotfiredistrib, 0, h, be)"
   ]
  },
  {
   "cell_type": "code",
   "execution_count": 49,
   "id": "ac69b480",
   "metadata": {},
   "outputs": [],
   "source": [
    "firepercents=[0.005,0.05,0.20,0.55]\n",
    "h, be = np.histogram(plotfiredistrib, bins=1000)\n",
    "binscust=[]\n",
    "for fp in firepercents:\n",
    "    binscust+=[getbin(plotfiredistrib, fp, h, be)]\n",
    "binscust=[0]+binscust+[1]\n",
    "    "
   ]
  },
  {
   "cell_type": "code",
   "execution_count": 50,
   "id": "5a36da4a",
   "metadata": {},
   "outputs": [
    {
     "data": {
      "text/plain": [
       "[0.005,\n",
       " 0.045000000000000005,\n",
       " 0.15000000000000002,\n",
       " 0.35000000000000003,\n",
       " 0.44999999999999996]"
      ]
     },
     "execution_count": 50,
     "metadata": {},
     "output_type": "execute_result"
    }
   ],
   "source": [
    "fpcs=[]\n",
    "fpcs.append(firepercents[0])\n",
    "for fpi in range(1,len(firepercents)):\n",
    "    fpcs.append(firepercents[fpi]-firepercents[fpi-1])\n",
    "fpcs.append(1-firepercents[-1])\n",
    "fpcs"
   ]
  },
  {
   "cell_type": "code",
   "execution_count": 39,
   "id": "d6ea1b76",
   "metadata": {},
   "outputs": [
    {
     "data": {
      "text/plain": [
       "[0,\n",
       " 0.052360608171,\n",
       " 0.27639974118099997,\n",
       " 0.6747997646639999,\n",
       " 0.8920203153649999,\n",
       " 1]"
      ]
     },
     "execution_count": 39,
     "metadata": {},
     "output_type": "execute_result"
    }
   ],
   "source": [
    "binscust"
   ]
  },
  {
   "cell_type": "code",
   "execution_count": 57,
   "id": "20a875a9",
   "metadata": {
    "scrolled": true
   },
   "outputs": [
    {
     "data": {
      "image/png": "[encoded data removed]",
      "text/plain": [
       "<Figure size 1500x600 with 1 Axes>"
      ]
     },
     "metadata": {},
     "output_type": "display_data"
    }
   ],
   "source": [
    "plotfiredistrib=dfsc789[dfsc789['y']==1]['1'].values\n",
    "plotalldistrib=dfsc789['1'].values\n",
    "\n",
    "plotfiredistrib=dfsc[dfsc['y']==1]['1'].values\n",
    "plotalldistrib=dfsc['1'].values\n",
    "\n",
    "fig1, ax1 = plt.subplots(1, 1, figsize=(15,6))\n",
    "fsize=20\n",
    "#ax1.title.set_text('Distribution of ypred')\n",
    "h50, be50 = np.histogram(plotfiredistrib, bins=50)\n",
    "hcustf, becustf = np.histogram(plotfiredistrib, bins=binscust)\n",
    "hcustnf, becustnf = np.histogram(plotalldistrib, bins=binscust)\n",
    "#ax1.hist(plotalldistrib, bins=100)\n",
    "#ax1.hist(plotfiredistrib, bins=50, weights=np.ones(len(plotfiredistrib)) / len(plotfiredistrib))\n",
    "#ax1.plot(be50[1:],np.cumsum(h50)/sum(h50),label=\"Cumul.Prob.Distrib. of model's pred. 'fire' class\", linewidth=3)\n",
    "#ax1.plot(be50[:-1],h50/sum(h50),label=\"Prob. Distribution of model's prediction for 'fire'\", linewidth=3)\n",
    "#ax1.plot(becustf[1:],np.cumsum(hcustf)/sum(hcustf),label=\"Cumul.Prob.Distrib. of Risk Level for 'fire' class\",marker='o', linewidth=3)\n",
    "#ax1.plot(becustnf[:-1],np.cumsum(hcustnf)/sum(hcustnf),label='Level pred. vs all rate',marker='o')\n",
    "#ax1.plot(be50[:-1],be50[1:],linestyle='--', color='black', label='Ideal Probability match')\n",
    "#ax1.set_xlabel('Prediction score', fontsize=fsize)\n",
    "ax1.yaxis.set_ticks(np.linspace(0,1, 11).astype(float))\n",
    "ax1.grid(axis='y')\n",
    "ax1.set_xlabel('Βαθμολόγηση πρόβλεψης μοντέλου', fontsize=fsize)\n",
    "ax1.set_ylabel('Ποσοστό κλάσης', fontsize=fsize)\n",
    "ax1.tick_params(axis='both', labelsize=12)\n",
    "\n",
    "#ax2=ax1.twinx()\n",
    "#ax2.set_ylabel('Times x Cond. Prob. of fire given level 1')\n",
    "#ax2.set_yscale('log')\n",
    "#ax2.plot(becustf[:-1],pfrate,label='Cond. Prob. of fire given level (right y axis)',color='purple')\n",
    "\n",
    "colors1 = ['red', 'darkorange','yellow', 'green', 'blue']\n",
    "colors2 = ['tomato', 'orange','gold', 'lightgreen', 'lightblue']\n",
    "\n",
    "#.reverse()\n",
    "\n",
    "#colors\n",
    "N, bins, patches = ax1.hist([plotfiredistrib,plotalldistrib], bins=binscust,\n",
    "                             weights=[np.ones(len(plotfiredistrib)) / len(plotfiredistrib), \n",
    "                                      np.ones(len(plotalldistrib)) / len(plotalldistrib)], color=['red', 'green'],\n",
    "                            label=['Ποσοστό πυρκαγιών ανά επίπεδο', 'Ποσοστό κελιών ανά επίπεδο'])\n",
    "                           #label=['Actual \"Fire\" rate per risk level', 'All cells rate per risk level'])\n",
    "\n",
    "\n",
    "#labels = [w.get_text() for w in ax1.get_xticklabels()]\n",
    "#locs=list(ax1.get_xticks())\n",
    "#llabels=['Very Low', 'Low', 'Moderate', 'High', 'Very High']\n",
    "llabels=['Πολύ Χαμηλός', 'Χαμηλός', 'Μεσαίος', 'Υψηλός', 'Πολύ Υψηλός']\n",
    "#locs+=binscust[1:]\n",
    "#ax1.set_xticklabels(labels)\n",
    "#ax1.set_xticks(locs)\n",
    "\n",
    "plt.vlines(x=binscust, ymin=0, ymax=1, color = 'b', linestyle='--')\n",
    "\n",
    "prev=-0.05\n",
    "for i, x in enumerate(binscust[1:]):\n",
    "    #print(x, prev, (x-prev)/2 )\n",
    "    ax1.text(x-(x-prev)/2, 0.45, llabels[i], rotation=90, verticalalignment='center', color='blue', fontsize=fsize)\n",
    "    prev=x\n",
    "\n",
    "#lines, labels = ax1.get_legend_handles_labels()\n",
    "#lines2, labels2 = ax2.get_legend_handles_labels()\n",
    "#ax2.legend(lines + lines2, labels + labels2, loc='upper left')\n",
    "ax1.legend(fontsize=fsize, loc='upper left')\n",
    "#N, bins, patches2 = ax1.hist(plotalldistrib, bins=binscust, weights=np.ones(len(plotalldistrib)) / len(plotalldistrib))\n",
    "          #alpha=0.7, color=colors, edgecolor='black')\n",
    "\n",
    "#for patch, color in zip(patches[0], colors1[::-1]):\n",
    "#    patch.set_facecolor(color)\n",
    "#for patch, color in zip(patches[1], colors2[::-1]):\n",
    "#    patch.set_facecolor(color)\n",
    "\n",
    "#patches\n",
    "#for i in range(0,5):\n",
    "#    patches[i].set_facecolor(colors[::-1][i])\n",
    "#plt.legend()\n",
    "plt.show()"
   ]
  },
  {
   "cell_type": "code",
   "execution_count": 58,
   "id": "c78c71e6",
   "metadata": {},
   "outputs": [
    {
     "data": {
      "text/plain": [
       "array([53.13178665, 18.43283512, 15.87617795,  8.58625883,  3.97294145])"
      ]
     },
     "execution_count": 58,
     "metadata": {},
     "output_type": "execute_result"
    }
   ],
   "source": [
    "hcustnf/sum(hcustnf)*100"
   ]
  },
  {
   "cell_type": "code",
   "execution_count": null,
   "id": "57507eee",
   "metadata": {},
   "outputs": [],
   "source": [
    "array([50.5644415 , 18.72970714, 16.69105995,  9.40614507,  4.60864634])"
   ]
  },
  {
   "cell_type": "code",
   "execution_count": 41,
   "id": "8e7fbbeb",
   "metadata": {},
   "outputs": [
    {
     "data": {
      "text/plain": [
       "array([0.02021586, 0.03969753, 0.05917919, 0.07866085, 0.09814252,\n",
       "       0.11762418, 0.13710585, 0.15658751, 0.17606917, 0.19555084,\n",
       "       0.2150325 , 0.23451416, 0.25399583, 0.27347749, 0.29295916,\n",
       "       0.31244082, 0.33192248, 0.35140415, 0.37088581, 0.39036747,\n",
       "       0.40984914, 0.4293308 , 0.44881247, 0.46829413, 0.48777579,\n",
       "       0.50725746, 0.52673912, 0.54622078, 0.56570245, 0.58518411,\n",
       "       0.60466578, 0.62414744, 0.6436291 , 0.66311077, 0.68259243,\n",
       "       0.70207409, 0.72155576, 0.74103742, 0.76051909, 0.78000075,\n",
       "       0.79948241, 0.81896408, 0.83844574, 0.8579274 , 0.87740907,\n",
       "       0.89689073, 0.9163724 , 0.93585406, 0.95533572, 0.97481739,\n",
       "       0.99429905])"
      ]
     },
     "execution_count": 41,
     "metadata": {},
     "output_type": "execute_result"
    }
   ],
   "source": [
    "be50"
   ]
  },
  {
   "cell_type": "code",
   "execution_count": 15,
   "id": "3f191580",
   "metadata": {},
   "outputs": [
    {
     "data": {
      "text/plain": [
       "array([0.18341258, 0.4538933 , 0.8848229 , 0.74888116, 0.67185444,\n",
       "       0.8983802 , 0.76278883, 0.808925  , 0.26145926, 0.55789256,\n",
       "       0.5469544 , 0.80818266, 0.5162439 , 0.7931911 , 0.5347061 ,\n",
       "       0.7921453 , 0.8302173 , 0.85355455, 0.7884016 , 0.56042093,\n",
       "       0.75936216, 0.7344581 , 0.7494679 , 0.50296885, 0.75750214,\n",
       "       0.69221216, 0.67282355, 0.6776625 , 0.75349206, 0.6336132 ,\n",
       "       0.61654305, 0.6541006 , 0.68889654, 0.7113155 , 0.7527121 ,\n",
       "       0.7274111 , 0.59240127, 0.34476465, 0.64609313, 0.59467995,\n",
       "       0.63722277, 0.6555028 , 0.64835083, 0.5409329 , 0.32599255,\n",
       "       0.02613307, 0.7112369 , 0.69408655, 0.52846736, 0.36512277,\n",
       "       0.5545633 , 0.5098144 , 0.07026715, 0.06109734, 0.07265855,\n",
       "       0.69914865, 0.6264139 , 0.9277572 , 0.9377277 , 0.9503953 ,\n",
       "       0.94941163, 0.86915565, 0.9526147 , 0.9571165 , 0.9418731 ,\n",
       "       0.75129414, 0.8655432 , 0.8952556 , 0.9155083 , 0.76769763,\n",
       "       0.7577132 , 0.8928909 , 0.90194666, 0.86788476, 0.83393663,\n",
       "       0.87460464, 0.88845444, 0.8442862 , 0.8144535 , 0.8412818 ,\n",
       "       0.86206865, 0.76242965, 0.8219915 , 0.76461995, 0.7675127 ,\n",
       "       0.7706332 , 0.7362502 , 0.8070906 , 0.8584892 , 0.9623548 ,\n",
       "       0.95176053, 0.83270645, 0.7911662 , 0.77019817, 0.71311146,\n",
       "       0.7503577 , 0.79587966, 0.81885004, 0.8910732 , 0.890089  ,\n",
       "       0.7845704 , 0.96483505, 0.97144765, 0.9777215 , 0.9710307 ,\n",
       "       0.9623303 , 0.9702709 , 0.9693507 , 0.9632385 , 0.9777633 ,\n",
       "       0.53789616, 0.7096796 , 0.6625078 , 0.3832164 , 0.96230555,\n",
       "       0.66581815, 0.73147357, 0.7290573 , 0.6609509 , 0.71139157,\n",
       "       0.6550865 , 0.7181    , 0.68369913, 0.39514908, 0.4013787 ,\n",
       "       0.49925995, 0.46423808, 0.7122976 , 0.61398727, 0.6880286 ,\n",
       "       0.5859903 , 0.62990403, 0.48561484, 0.72932404, 0.6986027 ,\n",
       "       0.72924656, 0.7295928 , 0.8399709 , 0.7894852 , 0.7418708 ,\n",
       "       0.7004584 , 0.87454164, 0.8522867 , 0.798517  , 0.90091664,\n",
       "       0.91678065, 0.9175621 , 0.7332655 , 0.6980416 , 0.87525356,\n",
       "       0.87015855, 0.18178308, 0.3304518 , 0.32007077, 0.1112475 ,\n",
       "       0.9473291 , 0.9384799 , 0.9717776 , 0.95973766, 0.9589336 ,\n",
       "       0.9625266 , 0.95702344, 0.9750514 , 0.85408145, 0.92517084,\n",
       "       0.9623062 , 0.9470955 , 0.9808233 , 0.9476961 , 0.97772676,\n",
       "       0.9141322 , 0.97123665, 0.99123424, 0.98858976, 0.59390825,\n",
       "       0.48111397, 0.7453689 , 0.8457338 , 0.85995585, 0.71211445,\n",
       "       0.712905  , 0.7036639 , 0.84243786, 0.7860506 , 0.7300158 ,\n",
       "       0.68587995, 0.7469228 , 0.79570043, 0.8305023 , 0.8772216 ,\n",
       "       0.6987811 , 0.71483207, 0.72897226, 0.7713842 , 0.880057  ,\n",
       "       0.8404494 , 0.8690569 , 0.75472164, 0.7865299 , 0.819933  ,\n",
       "       0.72993404, 0.69273704, 0.8347351 , 0.8412704 , 0.87852746,\n",
       "       0.7499992 , 0.69246453, 0.76966053, 0.9008374 , 0.79799104,\n",
       "       0.81090045, 0.82896537, 0.8746445 , 0.22120786, 0.2775057 ,\n",
       "       0.08448811, 0.31438237, 0.3375162 , 0.31831092, 0.19871356,\n",
       "       0.03748028, 0.88754964, 0.8721499 , 0.3768162 , 0.6595834 ,\n",
       "       0.86134887, 0.64247334, 0.1566148 , 0.11249803, 0.11147054,\n",
       "       0.45759708, 0.3767144 , 0.16614085, 0.7163083 , 0.67471784,\n",
       "       0.6415793 , 0.7832787 , 0.21312986, 0.25235218, 0.24303566,\n",
       "       0.3265816 , 0.7207072 , 0.44616908, 0.9643007 , 0.716532  ,\n",
       "       0.840014  , 0.8925629 , 0.932408  , 0.8199858 , 0.8435312 ,\n",
       "       0.5637383 , 0.62168324, 0.6777693 , 0.8081348 , 0.8395011 ,\n",
       "       0.8411808 , 0.76026577, 0.2721994 , 0.28508502, 0.21989913,\n",
       "       0.20154975, 0.926837  , 0.78760505, 0.91813457, 0.7659514 ,\n",
       "       0.78233886, 0.76060027, 0.9621599 , 0.9432466 , 0.9510076 ,\n",
       "       0.91092664, 0.88206244, 0.90303916, 0.9204579 , 0.90188545,\n",
       "       0.89754933, 0.8957119 , 0.904902  , 0.7844175 , 0.821084  ,\n",
       "       0.75006896, 0.73167944, 0.73161024, 0.9223092 , 0.9411661 ,\n",
       "       0.94362265, 0.92109275, 0.90747833, 0.9098672 , 0.92779744,\n",
       "       0.8981044 , 0.92816275, 0.9280957 , 0.9327247 , 0.91609454,\n",
       "       0.93612146, 0.9329751 , 0.9016892 , 0.8697638 , 0.8987336 ,\n",
       "       0.96513635, 0.96327364, 0.9636808 , 0.9679699 , 0.9485838 ,\n",
       "       0.91800004, 0.92577475, 0.92925674, 0.94210356, 0.94999385,\n",
       "       0.9487906 , 0.9216918 , 0.8728632 , 0.9403649 , 0.9253624 ,\n",
       "       0.9397558 , 0.9623717 , 0.9450148 , 0.96525973, 0.96828383,\n",
       "       0.95721817, 0.9303294 , 0.9478332 , 0.95311445, 0.887139  ,\n",
       "       0.88171893, 0.9466648 , 0.902974  , 0.85394895, 0.8921813 ,\n",
       "       0.9115762 , 0.9170291 , 0.9291539 , 0.95457083, 0.9557699 ,\n",
       "       0.94725275, 0.9338089 , 0.9303979 , 0.94685405, 0.9127974 ,\n",
       "       0.8575551 , 0.8712156 , 0.8491343 , 0.9522571 , 0.8994572 ,\n",
       "       0.93127275, 0.96654004, 0.8988833 , 0.91237634, 0.9216885 ,\n",
       "       0.8059174 , 0.90726817, 0.8645211 , 0.9353355 , 0.9611008 ,\n",
       "       0.95198   , 0.96693635, 0.96787274, 0.96057296, 0.8820695 ,\n",
       "       0.87701976, 0.8792611 , 0.9152729 , 0.9256219 , 0.93440336,\n",
       "       0.9375563 , 0.95757633, 0.9715906 , 0.9108523 , 0.87903786,\n",
       "       0.85368454, 0.8305265 , 0.8352803 , 0.91701514, 0.94670564,\n",
       "       0.96164817, 0.9370989 , 0.8890547 , 0.94050395, 0.8722412 ,\n",
       "       0.5905544 , 0.9029672 , 0.81836635, 0.8402579 , 0.8791719 ,\n",
       "       0.8490687 , 0.8938311 , 0.89638364, 0.9187547 , 0.9408349 ,\n",
       "       0.94939893, 0.89404577, 0.92207146, 0.89855546, 0.946454  ,\n",
       "       0.94293785, 0.88364613, 0.8573932 , 0.8097204 , 0.9262811 ,\n",
       "       0.8737546 , 0.8368881 , 0.78943133, 0.82043344, 0.8450519 ,\n",
       "       0.5281248 , 0.19723524, 0.6325861 , 0.19702859, 0.24018429,\n",
       "       0.6548171 , 0.8698505 , 0.87058073, 0.8696034 , 0.88998085,\n",
       "       0.8608884 , 0.8454653 , 0.9873082 , 0.9781421 , 0.9832314 ,\n",
       "       0.9865632 , 0.96745926, 0.9723612 , 0.9659462 , 0.9834578 ,\n",
       "       0.98461795, 0.9798126 , 0.9783941 , 0.98153746, 0.9737958 ,\n",
       "       0.91993254, 0.96818966, 0.97193885, 0.9724133 , 0.9801594 ,\n",
       "       0.96278435, 0.9251832 , 0.88832223, 0.92452794, 0.98606944,\n",
       "       0.8123037 , 0.97136456, 0.968906  , 0.9692035 , 0.8502738 ,\n",
       "       0.68788636, 0.8236823 , 0.7809258 , 0.59501404, 0.5895413 ,\n",
       "       0.7231765 , 0.7329242 , 0.64204866, 0.85415006, 0.3155097 ,\n",
       "       0.05334351, 0.9366184 , 0.9163674 , 0.9050001 , 0.9325524 ,\n",
       "       0.93886083, 0.926846  , 0.02021586, 0.8160796 , 0.8873966 ,\n",
       "       0.9886574 , 0.98690283, 0.9836923 , 0.98389083, 0.98518825,\n",
       "       0.989602  , 0.98878247, 0.9828232 , 0.9902361 , 0.9887754 ,\n",
       "       0.98893064, 0.9068219 , 0.85217667, 0.80039424, 0.7775205 ,\n",
       "       0.777097  , 0.69594944, 0.6041782 , 0.8424546 , 0.7755461 ,\n",
       "       0.78978735, 0.6758953 , 0.6692097 , 0.35729057, 0.32498533,\n",
       "       0.39783537, 0.5627971 , 0.6140724 , 0.44221947, 0.45720208,\n",
       "       0.46640772, 0.54641575, 0.6696666 , 0.90900254, 0.8829468 ,\n",
       "       0.92958033, 0.8908045 , 0.8046676 , 0.9052263 , 0.9033558 ,\n",
       "       0.8688971 , 0.90643746, 0.9129775 , 0.914628  , 0.90648407,\n",
       "       0.9320148 , 0.9256108 , 0.83299774, 0.8907416 , 0.6859402 ,\n",
       "       0.57229483, 0.5270556 , 0.67985004, 0.873681  , 0.9275188 ,\n",
       "       0.73048735, 0.77797544, 0.94464904, 0.9713075 , 0.5024048 ,\n",
       "       0.40908796, 0.99429905, 0.9934569 , 0.9897814 , 0.9908093 ,\n",
       "       0.9903386 , 0.9907323 , 0.99214375, 0.9934894 , 0.9858037 ,\n",
       "       0.9898263 , 0.989146  , 0.9884283 , 0.9872773 , 0.99200165,\n",
       "       0.9743105 , 0.98691505, 0.9888182 , 0.9869845 , 0.9863837 ,\n",
       "       0.9869573 , 0.9837276 , 0.9889348 , 0.98901945, 0.98625225,\n",
       "       0.9919654 , 0.86274165, 0.85610324, 0.991495  , 0.98646927,\n",
       "       0.9854622 , 0.988942  , 0.8412022 , 0.9910222 , 0.98928833,\n",
       "       0.9919545 , 0.98368907, 0.9828084 , 0.98733807, 0.986185  ,\n",
       "       0.986798  , 0.98084223, 0.979776  , 0.97624695, 0.97806656,\n",
       "       0.98022056, 0.93294007, 0.9748845 , 0.9835133 , 0.9753557 ,\n",
       "       0.9759897 , 0.9773852 , 0.97600466, 0.96764094, 0.9416415 ,\n",
       "       0.9710897 , 0.9701614 , 0.9665787 , 0.77093154, 0.801896  ,\n",
       "       0.76363707, 0.78810525, 0.69771975, 0.7403453 , 0.70583665,\n",
       "       0.725198  , 0.6724655 , 0.7134075 , 0.5917558 , 0.33269522,\n",
       "       0.64029235, 0.95696974, 0.4845401 , 0.48471174, 0.9792932 ,\n",
       "       0.3216395 , 0.41457477, 0.18723671, 0.27193704, 0.18113078,\n",
       "       0.17205584, 0.4025628 , 0.34655815, 0.4035316 , 0.37965256,\n",
       "       0.97983986, 0.97974294, 0.97966206, 0.9852182 , 0.98777485,\n",
       "       0.9834614 , 0.9781456 , 0.9769811 , 0.9784831 , 0.9843885 ,\n",
       "       0.98600394, 0.98027533, 0.97585994, 0.9770702 , 0.97696406,\n",
       "       0.9711803 , 0.98211515, 0.98134536, 0.9806158 , 0.9780815 ,\n",
       "       0.9745035 , 0.9632351 , 0.97322637, 0.9769125 , 0.98176354,\n",
       "       0.9777493 , 0.0998561 , 0.97802985, 0.98026717, 0.9868194 ,\n",
       "       0.97176456, 0.9738375 , 0.98077947, 0.9807632 , 0.9797992 ,\n",
       "       0.91978204, 0.9737413 , 0.6660199 , 0.7550427 , 0.79372746,\n",
       "       0.6993309 , 0.7380223 , 0.74452394, 0.67584026, 0.75728536,\n",
       "       0.6847801 , 0.30675548, 0.24310485, 0.33040658])"
      ]
     },
     "execution_count": 15,
     "metadata": {},
     "output_type": "execute_result"
    }
   ],
   "source": [
    "plotfiredistrib"
   ]
  },
  {
   "cell_type": "code",
   "execution_count": null,
   "id": "0464e6f1",
   "metadata": {},
   "outputs": [],
   "source": []
  },
  {
   "cell_type": "code",
   "execution_count": 14,
   "id": "7cfaf931",
   "metadata": {},
   "outputs": [
    {
     "data": {
      "image/png": "[encoded data removed]",
      "text/plain": [
       "<Figure size 1500x1000 with 2 Axes>"
      ]
     },
     "metadata": {},
     "output_type": "display_data"
    }
   ],
   "source": [
    "fig, ax = plt.subplots(2, 1, figsize=(15, 10))\n",
    "#ax[0].hist(plotfiredistrib, bins=binscust)\n",
    "ax[0].title.set_text('Expected percentage of fires in each risk range')\n",
    "ax[0].hist(plotfiredistrib, bins=binscust, weights=np.ones(len(plotfiredistrib)) / len(plotfiredistrib),\n",
    "          orientation='horizontal')\n",
    "#ax[2].hist(plotalldistrib, bins=binscust)\n",
    "ax[1].title.set_text('Expected percentage of cells in each risk range')\n",
    "ax[1].hist(plotalldistrib, bins=binscust, weights=np.ones(len(plotalldistrib)) / len(plotalldistrib),\n",
    "          orientation='horizontal')\n",
    "for i in range(2):\n",
    "    ax[i].grid(axis='x')\n",
    "    ax[i].set_ylabel('Model scoring')\n",
    "    #ax[i].set_xlabel('histogram percent')\n",
    "plt.show()"
   ]
  },
  {
   "cell_type": "code",
   "execution_count": 25,
   "id": "d0acf733",
   "metadata": {},
   "outputs": [],
   "source": [
    "hcust, becust = np.histogram(plotalldistrib, bins=binscust)"
   ]
  },
  {
   "cell_type": "code",
   "execution_count": 94,
   "id": "6443e1d9",
   "metadata": {},
   "outputs": [
    {
     "data": {
      "text/plain": [
       "79273280"
      ]
     },
     "execution_count": 94,
     "metadata": {},
     "output_type": "execute_result"
    }
   ],
   "source": [
    "len(plotalldistrib)"
   ]
  },
  {
   "cell_type": "code",
   "execution_count": 95,
   "id": "b87963c7",
   "metadata": {},
   "outputs": [],
   "source": [
    "pab=hcust/len(plotalldistrib)"
   ]
  },
  {
   "cell_type": "code",
   "execution_count": 97,
   "id": "6f95ae4e",
   "metadata": {},
   "outputs": [],
   "source": [
    "p1=len(plotfiredistrib)/len(plotalldistrib)"
   ]
  },
  {
   "cell_type": "code",
   "execution_count": 26,
   "id": "08555d13",
   "metadata": {},
   "outputs": [
    {
     "ename": "NameError",
     "evalue": "name 'pab' is not defined",
     "output_type": "error",
     "traceback": [
      "\u001b[0;31m---------------------------------------------------------------------------\u001b[0m",
      "\u001b[0;31mNameError\u001b[0m                                 Traceback (most recent call last)",
      "Cell \u001b[0;32mIn[26], line 1\u001b[0m\n\u001b[0;32m----> 1\u001b[0m \u001b[43mpab\u001b[49m\n",
      "\u001b[0;31mNameError\u001b[0m: name 'pab' is not defined"
     ]
    }
   ],
   "source": [
    "pab"
   ]
  },
  {
   "cell_type": "code",
   "execution_count": 101,
   "id": "0a29764f",
   "metadata": {},
   "outputs": [],
   "source": [
    "pfire=p1*np.array(fpcs)/pab"
   ]
  },
  {
   "cell_type": "code",
   "execution_count": 48,
   "id": "90e7ebb4",
   "metadata": {},
   "outputs": [
    {
     "data": {
      "text/plain": [
       "1203.60716699316"
      ]
     },
     "execution_count": 48,
     "metadata": {},
     "output_type": "execute_result"
    }
   ],
   "source": [
    "9.41583709e-05/7.82301514e-08"
   ]
  },
  {
   "cell_type": "code",
   "execution_count": 120,
   "id": "d4457917",
   "metadata": {},
   "outputs": [
    {
     "ename": "IndexError",
     "evalue": "index 5 is out of bounds for axis 0 with size 5",
     "output_type": "error",
     "traceback": [
      "\u001b[0;31m---------------------------------------------------------------------------\u001b[0m",
      "\u001b[0;31mIndexError\u001b[0m                                Traceback (most recent call last)",
      "Cell \u001b[0;32mIn[120], line 1\u001b[0m\n\u001b[0;32m----> 1\u001b[0m \u001b[43m(\u001b[49m\u001b[43mpfire\u001b[49m\u001b[38;5;241;43m*\u001b[39;49m\u001b[38;5;241;43m1000000\u001b[39;49m\u001b[43m)\u001b[49m\u001b[43m[\u001b[49m\u001b[38;5;241;43m5\u001b[39;49m\u001b[43m]\u001b[49m\n",
      "\u001b[0;31mIndexError\u001b[0m: index 5 is out of bounds for axis 0 with size 5"
     ]
    }
   ],
   "source": [
    "(pfire*1000000)[5]"
   ]
  },
  {
   "cell_type": "code",
   "execution_count": 124,
   "id": "2a7e82fb",
   "metadata": {},
   "outputs": [
    {
     "data": {
      "text/plain": [
       "array([1.00000000e+00, 2.59420798e+01, 1.00399076e+02, 4.33160139e+02,\n",
       "       1.20360717e+03])"
      ]
     },
     "execution_count": 124,
     "metadata": {},
     "output_type": "execute_result"
    }
   ],
   "source": [
    "pfrate=np.zeros(len(pfire))\n",
    "pfrate[0]=1\n",
    "for i in range(len(pfire)-1):\n",
    "    pfrate[i+1]=pfire[i+1]/pfire[0]\n",
    "pfrate  "
   ]
  },
  {
   "cell_type": "code",
   "execution_count": 132,
   "id": "52065fab",
   "metadata": {},
   "outputs": [
    {
     "data": {
      "text/plain": [
       "[0, 0.052360608171, 0.270555242059, 0.67285159829, 0.8910462321779999, 1]"
      ]
     },
     "execution_count": 132,
     "metadata": {},
     "output_type": "execute_result"
    }
   ],
   "source": [
    "binscust"
   ]
  },
  {
   "cell_type": "code",
   "execution_count": 133,
   "id": "89135222",
   "metadata": {},
   "outputs": [
    {
     "data": {
      "text/plain": [
       "array([7.82301514e-08, 2.02945283e-06, 7.85423493e-06, 3.38861833e-05,\n",
       "       9.41583709e-05])"
      ]
     },
     "execution_count": 133,
     "metadata": {},
     "output_type": "execute_result"
    }
   ],
   "source": [
    "pfire"
   ]
  },
  {
   "cell_type": "code",
   "execution_count": 143,
   "id": "dee3ca4e",
   "metadata": {},
   "outputs": [
    {
     "data": {
      "text/plain": [
       "array([1.00000000e+00, 2.59420798e+01, 1.00399076e+02, 4.33160139e+02,\n",
       "       1.20360717e+03])"
      ]
     },
     "execution_count": 143,
     "metadata": {},
     "output_type": "execute_result"
    }
   ],
   "source": [
    "pfrate"
   ]
  },
  {
   "cell_type": "code",
   "execution_count": 145,
   "id": "9caddff3",
   "metadata": {},
   "outputs": [
    {
     "data": {
      "text/plain": [
       "array([0.53131787, 0.18432835, 0.15876178, 0.08586259, 0.03972941])"
      ]
     },
     "execution_count": 145,
     "metadata": {},
     "output_type": "execute_result"
    }
   ],
   "source": [
    "hcustnf/sum(hcustnf)"
   ]
  },
  {
   "cell_type": "code",
   "execution_count": 213,
   "id": "8c8ddcdd",
   "metadata": {},
   "outputs": [],
   "source": [
    "hcustarb, becustarb = np.histogram(plotfiredistrib, bins=[0,0.2,0.4,0.6,0.8,1])"
   ]
  },
  {
   "cell_type": "code",
   "execution_count": 217,
   "id": "003e8a5e",
   "metadata": {},
   "outputs": [
    {
     "data": {
      "text/plain": [
       "array([0.03338392, 0.05462822, 0.06525038, 0.2245827 , 0.62215478])"
      ]
     },
     "execution_count": 217,
     "metadata": {},
     "output_type": "execute_result"
    }
   ],
   "source": [
    "hcustarb/sum(hcustarb)"
   ]
  },
  {
   "cell_type": "code",
   "execution_count": 215,
   "id": "3df8173e",
   "metadata": {},
   "outputs": [
    {
     "data": {
      "text/plain": [
       "array([0. , 0.2, 0.4, 0.6, 0.8, 1. ])"
      ]
     },
     "execution_count": 215,
     "metadata": {},
     "output_type": "execute_result"
    }
   ],
   "source": [
    "becustarb"
   ]
  },
  {
   "cell_type": "code",
   "execution_count": 218,
   "id": "f9160641",
   "metadata": {},
   "outputs": [],
   "source": [
    "from jenkspy import JenksNaturalBreaks"
   ]
  },
  {
   "cell_type": "code",
   "execution_count": 230,
   "id": "dafbc4a4",
   "metadata": {},
   "outputs": [],
   "source": [
    "jnb = JenksNaturalBreaks(5) # Asking for 4 clusters\n",
    "jnb.fit(plotfiredistrib) # Create the clusters according to values in 'x'"
   ]
  },
  {
   "cell_type": "code",
   "execution_count": 221,
   "id": "ac13d440",
   "metadata": {},
   "outputs": [
    {
     "name": "stdout",
     "output_type": "stream",
     "text": [
      "[0.020215863, 0.28508502, 0.5637383, 0.7713842, 0.9033558, 0.99429905]\n"
     ]
    }
   ],
   "source": [
    "#print(jnb.labels_) # Labels for fitted data\n",
    "#print(jnb.groups_) # Content of each group\n",
    "print(jnb.breaks_) # Break values (including min and max)\n",
    "#print(jnb.inner_breaks_) # Inner breaks (ie breaks_[1:-1])"
   ]
  },
  {
   "cell_type": "code",
   "execution_count": 227,
   "id": "c33fdb5d",
   "metadata": {},
   "outputs": [],
   "source": [
    "hcustnb, becustnb = np.histogram(plotfiredistrib, bins=[0, 0.28508502, 0.5637383, 0.7713842, 0.9033558, 1])"
   ]
  },
  {
   "cell_type": "code",
   "execution_count": 228,
   "id": "78ac60c6",
   "metadata": {},
   "outputs": [
    {
     "data": {
      "text/plain": [
       "array([0.05159332, 0.08649469, 0.20030349, 0.24279211, 0.41881639])"
      ]
     },
     "execution_count": 228,
     "metadata": {},
     "output_type": "execute_result"
    }
   ],
   "source": [
    "hcustnb/sum(hcustnb)"
   ]
  },
  {
   "cell_type": "code",
   "execution_count": 229,
   "id": "6c8ed097",
   "metadata": {},
   "outputs": [
    {
     "data": {
      "text/plain": [
       "659"
      ]
     },
     "execution_count": 229,
     "metadata": {},
     "output_type": "execute_result"
    }
   ],
   "source": [
    "sum(hcustarb)"
   ]
  },
  {
   "cell_type": "code",
   "execution_count": null,
   "id": "fe0473d6",
   "metadata": {},
   "outputs": [],
   "source": []
  }
 ],
 "metadata": {
  "kernelspec": {
   "display_name": "Python 3 (ipykernel)",
   "language": "python",
   "name": "python3"
  },
  "language_info": {
   "codemirror_mode": {
    "name": "ipython",
    "version": 3
   },
   "file_extension": ".py",
   "mimetype": "text/x-python",
   "name": "python",
   "nbconvert_exporter": "python",
   "pygments_lexer": "ipython3",
   "version": "3.10.10"
  }
 },
 "nbformat": 4,
 "nbformat_minor": 5
}
