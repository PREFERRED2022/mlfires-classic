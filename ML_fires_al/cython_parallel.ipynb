{
 "cells": [
  {
   "cell_type": "code",
   "execution_count": 1,
   "id": "d3dd3f16",
   "metadata": {},
   "outputs": [],
   "source": [
    "%load_ext Cython"
   ]
  },
  {
   "cell_type": "code",
   "execution_count": 42,
   "id": "cb8d33e2",
   "metadata": {},
   "outputs": [],
   "source": [
    "%%cython\n",
    "from cython.parallel import prange\n",
    "cdef int i\n",
    "cdef int n = 1000000000\n",
    "cdef long int sum = 0\n",
    "\n",
    "for i in prange(n, nogil=True):\n",
    "    sum += i\n",
    "\n",
    "print(sum)"
   ]
  },
  {
   "cell_type": "code",
   "execution_count": 40,
   "id": "32e4a11d",
   "metadata": {},
   "outputs": [],
   "source": [
    "%%cython\n",
    "import numpy as np\n",
    "cimport numpy as np\n",
    "import cython\n",
    "from cython.parallel import prange\n",
    "ctypedef np.double_t cDOUBLE\n",
    "DOUBLE = np.float64\n",
    "\n",
    "def mydot(np.ndarray[cDOUBLE, ndim=2] a, np.ndarray[cDOUBLE, ndim=2] b):\n",
    "    cdef np.ndarray[cDOUBLE, ndim=2] c\n",
    "    cdef int i, M, N, K\n",
    "\n",
    "    c = np.zeros((a.shape[0], b.shape[1]), dtype=DOUBLE)\n",
    "    M = a.shape[0]\n",
    "    N = a.shape[1]\n",
    "    K = b.shape[1]\n",
    "\n",
    "    for i in prange(M, nogil=True, num_threads=10, schedule='guided'):\n",
    "        multiply(&a[i,0], &b[0,0], &c[i,0], N, K)\n",
    "    return c\n",
    "\n",
    "@cython.wraparound(False)\n",
    "@cython.boundscheck(False)\n",
    "@cython.nonecheck(False)\n",
    "cdef void multiply(double *a, double *b, double *c, int N, int K) nogil:\n",
    "    cdef int j, k\n",
    "    for j in range(N):\n",
    "        for k in range(K):\n",
    "            c[k] += a[j]*b[k+j*K]"
   ]
  },
  {
   "cell_type": "code",
   "execution_count": 27,
   "id": "d999bc32",
   "metadata": {},
   "outputs": [
    {
     "name": "stdout",
     "output_type": "stream",
     "text": [
      "0.00 s\n",
      "3.35 s ± 53.1 ms per loop (mean ± std. dev. of 7 runs, 1 loop each)\n",
      "26.86 s\n"
     ]
    }
   ],
   "source": [
    "import time\n",
    "a = np.random.random((4000,500))\n",
    "b = np.random.random((500,2000))\n",
    "\n",
    "start=time.time()\n",
    "#%timeit c = np.dot(a, b)\n",
    "#print('finished dot: {} s'.format(time.clock()-t))\n",
    "print('%.2f s'%(time.time()-start))\n",
    "#t = time.clock()\n",
    "start=time.time()\n",
    "%timeit c2 = mydot(a, b)\n",
    "print('%.2f s'%(time.time()-start))\n",
    "#print('finished mydot: {} s'.format(time.clock()-t))\n",
    "\n",
    "#print('Passed test:', np.allclose(c, c2))"
   ]
  },
  {
   "cell_type": "code",
   "execution_count": null,
   "id": "4c1400df",
   "metadata": {},
   "outputs": [],
   "source": []
  }
 ],
 "metadata": {
  "kernelspec": {
   "display_name": "Python 3",
   "language": "python",
   "name": "python3"
  },
  "language_info": {
   "codemirror_mode": {
    "name": "ipython",
    "version": 3
   },
   "file_extension": ".py",
   "mimetype": "text/x-python",
   "name": "python",
   "nbconvert_exporter": "python",
   "pygments_lexer": "ipython3",
   "version": "3.9.15"
  }
 },
 "nbformat": 4,
 "nbformat_minor": 5
}
