{
 "cells": [
  {
   "cell_type": "code",
   "execution_count": 39,
   "id": "e514dc17",
   "metadata": {},
   "outputs": [],
   "source": [
    "import os\n",
    "import calendar\n",
    "import time\n",
    "import datatable as dt\n",
    "import fileutils\n",
    "import traceback"
   ]
  },
  {
   "cell_type": "code",
   "execution_count": 40,
   "id": "b187b97d",
   "metadata": {},
   "outputs": [],
   "source": [
    "def load_datatable(fpath, fill=False):\n",
    "    if not os.path.exists(fpath):\n",
    "        print('Path not found : %s'%fpath)\n",
    "        raise\n",
    "    DT = dt.fread(fpath, fill=fill)\n",
    "    return DT"
   ]
  },
  {
   "cell_type": "code",
   "execution_count": 41,
   "id": "993b1199",
   "metadata": {},
   "outputs": [],
   "source": [
    "def walkmonthfiles(sfolder):\n",
    "    for fmonth in fileutils.find_files(sfolder, '*_norm.csv', listtype=\"walk\"):\n",
    "        #print(fmonth)\n",
    "        monthdir = os.path.dirname(fmonth)\n",
    "        year = os.path.basename(os.path.dirname(monthdir))\n",
    "        if year[0:2] != '20':\n",
    "            continue\n",
    "        yield fmonth\n",
    "        #extractdays(fmonth, tfolder)"
   ]
  },
  {
   "cell_type": "code",
   "execution_count": 42,
   "id": "c1a8850e",
   "metadata": {},
   "outputs": [],
   "source": [
    "def read_multiple_csv(sfolder, pattern):\n",
    "    #pattern example '*_norm.csv'\n",
    "    exfeat = [\"\",\"id\", \"firedate\"]\n",
    "    DTall = None\n",
    "    for f in fileutils.find_files(sfolder, pattern, listtype=\"walk\"):\n",
    "        print(f)\n",
    "        try:\n",
    "            DTpart=load_datatable(f)\n",
    "        except:\n",
    "            print(\"Fail to load %s :\\n\"%f+traceback.format_exc())\n",
    "            raise\n",
    "        if DTall is None: \n",
    "            DTall = DTpart\n",
    "        else:\n",
    "            DTall=dt.rbind(DTall, DTpart)\n",
    "    return DTall"
   ]
  },
  {
   "cell_type": "code",
   "execution_count": 43,
   "id": "bc64a921",
   "metadata": {},
   "outputs": [],
   "source": [
    "def filterDT(DT, filt):\n",
    "    DT=DT[:, [name for name in filt]]\n",
    "    return DT\n",
    "    "
   ]
  },
  {
   "cell_type": "code",
   "execution_count": 44,
   "id": "b2c210e9",
   "metadata": {},
   "outputs": [],
   "source": [
    "def aggrfuncs(DTaggr, func, y, pattern, agg):\n",
    "    DTa=func()\n",
    "    DTa['Year'] = '%d'%(y)\n",
    "    DTa['Pattern'] = pattern\n",
    "    DTa['Aggr'] = agg\n",
    "    if DTaggr==None:\n",
    "        DTaggr=DTa\n",
    "    else:\n",
    "        DTaggr = dt.rbind(DTaggr,DTa)\n",
    "    return DTaggr"
   ]
  },
  {
   "cell_type": "code",
   "execution_count": 45,
   "id": "174c0c20",
   "metadata": {},
   "outputs": [],
   "source": [
    "def statmonths(years, sfolder, pattern, filt):\n",
    "    #sfolder = '/data2/ffp/datasets/daily/%s/08'\n",
    "    DTmeans=None; DTmin=None; DTmax=None; DTsd=None;\n",
    "    #filt=['ndvi_new','evi', 'lst_day', 'lst_night']\n",
    "    #filt=['max_temp','min_temp','mean_temp','rain_7days','res_max','dom_vel','max_dew_temp','min_dew_temp','mean_dew_temp']\n",
    "    #exclude onehot = ['corine', 'dir_max', 'dom_dir', 'wkd', 'month']+[\"C0\",\"id\", \"firedate\"]\n",
    "    for y in years:\n",
    "        print(y)\n",
    "        #sfolder = '/data2/ffp/datasets/daily/%d/08'%y\n",
    "        yfolder = sfolder%y\n",
    "        print(yfolder)\n",
    "        DT = read_multiple_csv(yfolder, pattern)\n",
    "        DT = DT[:, [name for name in filt]]\n",
    "        DTmeans = aggrfuncs(DTmeans, DT.mean, y, pattern, 'mean')\n",
    "        DTmin = aggrfuncs(DTmin, DT.min, y, pattern, 'min')\n",
    "        DTmax = aggrfuncs(DTmax, DT.max, y, pattern, 'max')\n",
    "        DTsd = aggrfuncs(DTsd, DT.sd, y, pattern, 'sd')\n",
    "        DT = None\n",
    "    return DTmeans, DTmin, DTmax, DTsd "
   ]
  },
  {
   "cell_type": "code",
   "execution_count": 46,
   "id": "40f1409d",
   "metadata": {},
   "outputs": [],
   "source": [
    "def load_test(years, sfolder, pattern):\n",
    "    for y in years:\n",
    "        print(y)\n",
    "        #sfolder = '/data2/ffp/datasets/daily/%d/08'%y\n",
    "        yfolder = sfolder%y\n",
    "        print(\"%s, %s: Loading\"%(yfolder,pattern))\n",
    "        try:\n",
    "            DT = read_multiple_csv(yfolder, pattern)\n",
    "            if DT is not None:\n",
    "                print(\"%s, %s: Loaded successfully\"%(yfolder,pattern))\n",
    "                print(DT.names)\n",
    "                wdays = len([d for d in DT.names if 'wkd_' in d ])\n",
    "                months = len([d for d in DT.names if 'month_' in d ])\n",
    "                corines = len([d for d in DT.names if 'corine_' in d ])\n",
    "                dir_maxs = len([d for d in DT.names if 'dir_max_' in d ])\n",
    "                dom_dirs = len([d for d in DT.names if 'dom_dir_' in d ])\n",
    "                total_feat = len(DT.names)\n",
    "                print('Total features: %d, week days: %d, months: %d, corine: %d, dom_dir: %d, dir_max: %d'%\\\n",
    "                     (total_feat, wdays, months, corines, dom_dirs, dir_maxs))\n",
    "            else:\n",
    "                print(\"%s, %s: No dataset\"%(yfolder,pattern))\n",
    "        except:\n",
    "            print(traceback.format_exc())"
   ]
  },
  {
   "cell_type": "code",
   "execution_count": 139,
   "id": "dc727c5c",
   "metadata": {},
   "outputs": [
    {
     "name": "stdout",
     "output_type": "stream",
     "text": [
      "/data2/ffp/datasets/monthly/2020/june_2020/june_2020_norm.csv\n",
      "Fail to load /data2/ffp/datasets/monthly/2020/june_2020/june_2020_norm.csv :\n",
      "Traceback (most recent call last):\n",
      "  File \"/tmp/ipykernel_21804/1220714569.py\", line 8, in read_multiple_csv\n",
      "    DTpart=load_datatable(f)\n",
      "  File \"/tmp/ipykernel_21804/2284077608.py\", line 5, in load_datatable\n",
      "    DT = dt.fread(fpath, fill=fill)\n",
      "datatable.exceptions.IOError: Too few fields on line 2996394: expected 89 but found only 88 (with sep=','). Set fill=True to ignore this error.  <<571272.0,20200620,0.5327007906783188,0.5907605818898644,0.5644809018037349,0.18547352348715113,0.05993656615338073,0.08501656076862274,0.12788477266746798,0.13705918297059183,0.5082965918950052,0.8946559260716122,1.4285476071369019,0.16680658159838815,0.5184615384615384,0.45719332625949305,0.6244364582068118,0.6114168310863944,0.6395486230502329,0,1,0,0,0,0,0,0,0,1,0,0,0,0,0,0,0,0,0,0,0,0,0,0,0,0,0,0,0,0,0,0,0,0,0,0,0,0,0,1,0,0,0,0,0,0,0,0,0,0,0,0,0,0,0,0,0,0,1,1,0,0,0,0,0,0.0,0.1187935034802...>>\n",
      "\n"
     ]
    }
   ],
   "source": [
    "read_multiple_csv('/data2/ffp/datasets/monthly/2020/', 'june_*_norm.csv')"
   ]
  },
  {
   "cell_type": "code",
   "execution_count": 186,
   "id": "805f42d9",
   "metadata": {
    "scrolled": true
   },
   "outputs": [
    {
     "name": "stdout",
     "output_type": "stream",
     "text": [
      "2019\n",
      "/data2/ffp/datasets/monthly/2019/, july_*_norm.csv: Loading\n",
      "/data2/ffp/datasets/monthly/2019/07/july_2019_norm.csv\n",
      "/data2/ffp/datasets/monthly/2019/, july_*_norm.csv: Loaded successfully\n",
      "('C0', 'id', 'firedate', 'max_temp', 'min_temp', 'mean_temp', 'res_max', 'dom_vel', 'rain_7days', 'dem', 'slope', 'curvature', 'aspect', 'ndvi_new', 'evi', 'lst_day', 'lst_night', 'max_dew_temp', 'mean_dew_temp', 'min_dew_temp', 'fire', 'dir_max_1', 'dir_max_2', 'dir_max_3', 'dir_max_4', 'dir_max_5', 'dir_max_6', 'dir_max_7', 'dir_max_8', 'dom_dir_1', 'dom_dir_2', 'dom_dir_3', 'dom_dir_4', 'dom_dir_5', 'dom_dir_6', 'dom_dir_7', 'dom_dir_8', 'corine_111', 'corine_112', 'corine_121', 'corine_122', 'corine_123', 'corine_124', 'corine_131', 'corine_132', 'corine_133', 'corine_141', 'corine_142', 'corine_211', 'corine_212', 'corine_213', 'corine_221', 'corine_222', 'corine_223', 'corine_231', 'corine_241', 'corine_242', 'corine_243', 'corine_244', 'corine_311', 'corine_312', 'corine_313', 'corine_321', 'corine_322', 'corine_323', 'corine_324', 'corine_331', 'corine_332', 'corine_333', 'corine_334', 'corine_411', 'corine_412', 'corine_421', 'corine_422', 'corine_511', 'corine_512', 'corine_521', 'wkd_0', 'wkd_1', 'wkd_2', 'wkd_3', 'wkd_4', 'wkd_5', 'wkd_6', 'month_7', 'month_4', 'month_5', 'month_6', 'month_8', 'month_9', 'frequency', 'f81', 'x', 'y')\n",
      "Total features: 94, week days: 7, months: 6, corine: 40, dom_dir: 8, dir_max: 8\n",
      "2020\n",
      "/data2/ffp/datasets/monthly/2020/, july_*_norm.csv: Loading\n",
      "/data2/ffp/datasets/monthly/2020/july_2020/july_2020_norm.csv\n",
      "/data2/ffp/datasets/monthly/2020/, july_*_norm.csv: Loaded successfully\n",
      "('id', 'firedate', 'max_temp', 'min_temp', 'mean_temp', 'res_max', 'dom_vel', 'rain_7days', 'dem', 'slope', 'curvature', 'aspect', 'ndvi_new', 'evi', 'lst_day', 'lst_night', 'max_dew_temp', 'mean_dew_temp', 'min_dew_temp', 'fire', 'dir_max_1', 'dir_max_2', 'dir_max_3', 'dir_max_4', 'dir_max_5', 'dir_max_6', 'dir_max_7', 'dir_max_8', 'dom_dir_1', 'dom_dir_2', 'dom_dir_3', 'dom_dir_4', 'dom_dir_5', 'dom_dir_6', 'dom_dir_7', 'dom_dir_8', 'corine_111', 'corine_112', 'corine_121', 'corine_122', 'corine_123', 'corine_124', 'corine_131', 'corine_132', 'corine_133', 'corine_141', 'corine_142', 'corine_211', 'corine_212', 'corine_213', 'corine_221', 'corine_222', 'corine_223', 'corine_231', 'corine_241', 'corine_242', 'corine_243', 'corine_244', 'corine_311', 'corine_312', 'corine_313', 'corine_321', 'corine_322', 'corine_323', 'corine_324', 'corine_331', 'corine_332', 'corine_333', 'corine_334', 'corine_411', 'corine_412', 'corine_421', 'corine_422', 'corine_511', 'corine_512', 'corine_521', 'wkd_0', 'wkd_1', 'wkd_2', 'wkd_3', 'wkd_4', 'wkd_5', 'wkd_6', 'month_8', 'month_4', 'month_5', 'month_6', 'month_7', 'month_9', 'frequency', 'f81', 'x', 'y')\n",
      "Total features: 93, week days: 7, months: 6, corine: 40, dom_dir: 8, dir_max: 8\n",
      "2019\n",
      "/data2/ffp/datasets/monthly/2019/, august_*_norm.csv: Loading\n",
      "/data2/ffp/datasets/monthly/2019/08/august_2019_norm.csv\n",
      "/data2/ffp/datasets/monthly/2019/, august_*_norm.csv: Loaded successfully\n",
      "('C0', 'id', 'firedate', 'max_temp', 'min_temp', 'mean_temp', 'res_max', 'dom_vel', 'rain_7days', 'dem', 'slope', 'curvature', 'aspect', 'ndvi_new', 'evi', 'lst_day', 'lst_night', 'max_dew_temp', 'mean_dew_temp', 'min_dew_temp', 'fire', 'dir_max_1', 'dir_max_2', 'dir_max_3', 'dir_max_4', 'dir_max_5', 'dir_max_6', 'dir_max_7', 'dir_max_8', 'dom_dir_1', 'dom_dir_2', 'dom_dir_3', 'dom_dir_4', 'dom_dir_5', 'dom_dir_6', 'dom_dir_7', 'dom_dir_8', 'corine_111', 'corine_112', 'corine_121', 'corine_122', 'corine_123', 'corine_124', 'corine_131', 'corine_132', 'corine_133', 'corine_141', 'corine_142', 'corine_211', 'corine_212', 'corine_213', 'corine_221', 'corine_222', 'corine_223', 'corine_231', 'corine_241', 'corine_242', 'corine_243', 'corine_244', 'corine_311', 'corine_312', 'corine_313', 'corine_321', 'corine_322', 'corine_323', 'corine_324', 'corine_331', 'corine_332', 'corine_333', 'corine_334', 'corine_411', 'corine_412', 'corine_421', 'corine_422', 'corine_511', 'corine_512', 'corine_521', 'wkd_0', 'wkd_1', 'wkd_2', 'wkd_3', 'wkd_4', 'wkd_5', 'wkd_6', 'month_8', 'month_4', 'month_5', 'month_6', 'month_7', 'month_9', 'frequency', 'f81', 'x', 'y')\n",
      "Total features: 94, week days: 7, months: 6, corine: 40, dom_dir: 8, dir_max: 8\n",
      "2020\n",
      "/data2/ffp/datasets/monthly/2020/, august_*_norm.csv: Loading\n",
      "/data2/ffp/datasets/monthly/2020/august_2020/august_2020_norm.csv\n",
      "/data2/ffp/datasets/monthly/2020/, august_*_norm.csv: Loaded successfully\n",
      "('id', 'firedate', 'max_temp', 'min_temp', 'mean_temp', 'res_max', 'dom_vel', 'rain_7days', 'dem', 'slope', 'curvature', 'aspect', 'ndvi_new', 'evi', 'lst_day', 'lst_night', 'max_dew_temp', 'mean_dew_temp', 'min_dew_temp', 'fire', 'dir_max_1', 'dir_max_2', 'dir_max_3', 'dir_max_4', 'dir_max_5', 'dir_max_6', 'dir_max_7', 'dir_max_8', 'dom_dir_1', 'dom_dir_2', 'dom_dir_3', 'dom_dir_4', 'dom_dir_5', 'dom_dir_6', 'dom_dir_7', 'dom_dir_8', 'corine_111', 'corine_112', 'corine_121', 'corine_122', 'corine_123', 'corine_124', 'corine_131', 'corine_132', 'corine_133', 'corine_141', 'corine_142', 'corine_211', 'corine_212', 'corine_213', 'corine_221', 'corine_222', 'corine_223', 'corine_231', 'corine_241', 'corine_242', 'corine_243', 'corine_244', 'corine_311', 'corine_312', 'corine_313', 'corine_321', 'corine_322', 'corine_323', 'corine_324', 'corine_331', 'corine_332', 'corine_333', 'corine_334', 'corine_411', 'corine_412', 'corine_421', 'corine_422', 'corine_511', 'corine_512', 'corine_521', 'wkd_0', 'wkd_1', 'wkd_2', 'wkd_3', 'wkd_4', 'wkd_5', 'wkd_6', 'month_8', 'month_4', 'month_5', 'month_6', 'month_7', 'month_9', 'frequency', 'f81', 'x', 'y')\n",
      "Total features: 93, week days: 7, months: 6, corine: 40, dom_dir: 8, dir_max: 8\n",
      "2019\n",
      "/data2/ffp/datasets/monthly/2019/, september_*_norm.csv: Loading\n",
      "/data2/ffp/datasets/monthly/2019/09/september_2019_norm.csv\n",
      "/data2/ffp/datasets/monthly/2019/, september_*_norm.csv: Loaded successfully\n",
      "('C0', 'id', 'firedate', 'max_temp', 'min_temp', 'mean_temp', 'res_max', 'dom_vel', 'rain_7days', 'dem', 'slope', 'curvature', 'aspect', 'ndvi_new', 'evi', 'lst_day', 'lst_night', 'max_dew_temp', 'mean_dew_temp', 'min_dew_temp', 'fire', 'dir_max_1', 'dir_max_2', 'dir_max_3', 'dir_max_4', 'dir_max_5', 'dir_max_6', 'dir_max_7', 'dir_max_8', 'dom_dir_1', 'dom_dir_2', 'dom_dir_3', 'dom_dir_4', 'dom_dir_5', 'dom_dir_6', 'dom_dir_7', 'dom_dir_8', 'corine_111', 'corine_112', 'corine_121', 'corine_122', 'corine_123', 'corine_124', 'corine_131', 'corine_132', 'corine_133', 'corine_141', 'corine_142', 'corine_211', 'corine_212', 'corine_213', 'corine_221', 'corine_222', 'corine_223', 'corine_231', 'corine_241', 'corine_242', 'corine_243', 'corine_244', 'corine_311', 'corine_312', 'corine_313', 'corine_321', 'corine_322', 'corine_323', 'corine_324', 'corine_331', 'corine_332', 'corine_333', 'corine_334', 'corine_411', 'corine_412', 'corine_421', 'corine_422', 'corine_511', 'corine_512', 'corine_521', 'wkd_0', 'wkd_1', 'wkd_2', 'wkd_3', 'wkd_4', 'wkd_5', 'wkd_6', 'month_9', 'month_4', 'month_5', 'month_6', 'month_7', 'month_8', 'frequency', 'f81', 'x', 'y')\n",
      "Total features: 94, week days: 7, months: 6, corine: 40, dom_dir: 8, dir_max: 8\n",
      "2020\n",
      "/data2/ffp/datasets/monthly/2020/, september_*_norm.csv: Loading\n",
      "/data2/ffp/datasets/monthly/2020/september_2020/september_2020_norm.csv\n",
      "/data2/ffp/datasets/monthly/2020/, september_*_norm.csv: Loaded successfully\n",
      "('id', 'firedate', 'max_temp', 'min_temp', 'mean_temp', 'res_max', 'dom_vel', 'rain_7days', 'dem', 'slope', 'curvature', 'aspect', 'ndvi_new', 'evi', 'lst_day', 'lst_night', 'max_dew_temp', 'mean_dew_temp', 'min_dew_temp', 'fire', 'dir_max_1', 'dir_max_2', 'dir_max_3', 'dir_max_4', 'dir_max_5', 'dir_max_6', 'dir_max_7', 'dir_max_8', 'dom_dir_1', 'dom_dir_2', 'dom_dir_3', 'dom_dir_4', 'dom_dir_5', 'dom_dir_6', 'dom_dir_7', 'dom_dir_8', 'corine_111', 'corine_112', 'corine_121', 'corine_122', 'corine_123', 'corine_124', 'corine_131', 'corine_132', 'corine_133', 'corine_141', 'corine_142', 'corine_211', 'corine_212', 'corine_213', 'corine_221', 'corine_222', 'corine_223', 'corine_231', 'corine_241', 'corine_242', 'corine_243', 'corine_244', 'corine_311', 'corine_312', 'corine_313', 'corine_321', 'corine_322', 'corine_323', 'corine_324', 'corine_331', 'corine_332', 'corine_333', 'corine_334', 'corine_411', 'corine_412', 'corine_421', 'corine_422', 'corine_511', 'corine_512', 'corine_521', 'wkd_0', 'wkd_1', 'wkd_2', 'wkd_3', 'wkd_4', 'wkd_5', 'wkd_6', 'month_8', 'month_4', 'month_5', 'month_6', 'month_7', 'month_9', 'frequency', 'f81', 'x', 'y')\n",
      "Total features: 93, week days: 7, months: 6, corine: 40, dom_dir: 8, dir_max: 8\n"
     ]
    }
   ],
   "source": [
    "#for m in ['june','july','august','september']:\n",
    "for m in ['july','august','september']:\n",
    "    load_test(range(2019,2021),'/data2/ffp/datasets/monthly/%d/','%s_*_norm.csv'%m)"
   ]
  },
  {
   "cell_type": "code",
   "execution_count": 48,
   "id": "ebb60927",
   "metadata": {},
   "outputs": [],
   "source": [
    "filt=['ndvi_new','evi', 'lst_day', 'lst_night']\n",
    "#exclude onehot = ['corine', 'dir_max', 'dom_dir', 'wkd', 'month']+[\"C0\",\"id\", \"firedate\"]"
   ]
  },
  {
   "cell_type": "code",
   "execution_count": 49,
   "id": "b6cd7239",
   "metadata": {},
   "outputs": [
    {
     "name": "stdout",
     "output_type": "stream",
     "text": [
      "2016\n",
      "/data2/ffp/datasets/monthly/2016/\n",
      "/data2/ffp/datasets/monthly/2016/08/august_2016_norm.csv\n",
      "2017\n",
      "/data2/ffp/datasets/monthly/2017/\n",
      "/data2/ffp/datasets/monthly/2017/08/august_2017_norm.csv\n",
      "2018\n",
      "/data2/ffp/datasets/monthly/2018/\n",
      "/data2/ffp/datasets/monthly/2018/08/august_2018_norm.csv\n",
      "2019\n",
      "/data2/ffp/datasets/monthly/2019/\n",
      "/data2/ffp/datasets/monthly/2019/08/august_2019_norm.csv\n",
      "2020\n",
      "/data2/ffp/datasets/monthly/2020/\n",
      "/data2/ffp/datasets/monthly/2020/august_2020/august_2020_norm.csv\n"
     ]
    }
   ],
   "source": [
    "DTmeans, DTmin, DTmax, DTsd = statmonths(range(2016,2021),'/data2/ffp/datasets/monthly/%d/', 'august_*_norm.csv', filt)"
   ]
  },
  {
   "cell_type": "code",
   "execution_count": 47,
   "id": "93df9bae",
   "metadata": {
    "collapsed": true
   },
   "outputs": [
    {
     "name": "stdout",
     "output_type": "stream",
     "text": [
      "2016\n",
      "/data2/ffp/datasets/monthly/2016/\n",
      "/data2/ffp/datasets/monthly/2016/07/july_2016_norm.csv\n",
      "2017\n",
      "/data2/ffp/datasets/monthly/2017/\n",
      "/data2/ffp/datasets/monthly/2017/07/july_2017_norm.csv\n",
      "Fail to load /data2/ffp/datasets/monthly/2017/07/july_2017_norm.csv :\n",
      "Traceback (most recent call last):\n",
      "  File \"/tmp/ipykernel_26599/516241387.py\", line 8, in read_multiple_csv\n",
      "    DTpart=load_datatable(f)\n",
      "  File \"/tmp/ipykernel_26599/2284077608.py\", line 5, in load_datatable\n",
      "    DT = dt.fread(fpath, fill=fill)\n",
      "KeyboardInterrupt\n",
      "\n"
     ]
    },
    {
     "ename": "KeyboardInterrupt",
     "evalue": "",
     "output_type": "error",
     "traceback": [
      "\u001b[0;31m---------------------------------------------------------------------------\u001b[0m",
      "\u001b[0;31mKeyboardInterrupt\u001b[0m                         Traceback (most recent call last)",
      "\u001b[0;32m/tmp/ipykernel_26599/1747903410.py\u001b[0m in \u001b[0;36m<module>\u001b[0;34m\u001b[0m\n\u001b[1;32m      1\u001b[0m \u001b[0mfilt\u001b[0m\u001b[0;34m=\u001b[0m\u001b[0;34m[\u001b[0m\u001b[0;34m'max_temp'\u001b[0m\u001b[0;34m,\u001b[0m\u001b[0;34m'min_temp'\u001b[0m\u001b[0;34m,\u001b[0m\u001b[0;34m'mean_temp'\u001b[0m\u001b[0;34m,\u001b[0m\u001b[0;34m'rain_7days'\u001b[0m\u001b[0;34m,\u001b[0m\u001b[0;34m'res_max'\u001b[0m\u001b[0;34m,\u001b[0m\u001b[0;34m'dom_vel'\u001b[0m\u001b[0;34m,\u001b[0m\u001b[0;34m'max_dew_temp'\u001b[0m\u001b[0;34m,\u001b[0m\u001b[0;34m'min_dew_temp'\u001b[0m\u001b[0;34m,\u001b[0m\u001b[0;34m'mean_dew_temp'\u001b[0m\u001b[0;34m]\u001b[0m\u001b[0;34m\u001b[0m\u001b[0;34m\u001b[0m\u001b[0m\n\u001b[0;32m----> 2\u001b[0;31m \u001b[0mDTmeans\u001b[0m\u001b[0;34m,\u001b[0m \u001b[0mDTmin\u001b[0m\u001b[0;34m,\u001b[0m \u001b[0mDTmax\u001b[0m\u001b[0;34m,\u001b[0m \u001b[0mDTsd\u001b[0m \u001b[0;34m=\u001b[0m \u001b[0mstatmonths\u001b[0m\u001b[0;34m(\u001b[0m\u001b[0mrange\u001b[0m\u001b[0;34m(\u001b[0m\u001b[0;36m2016\u001b[0m\u001b[0;34m,\u001b[0m\u001b[0;36m2021\u001b[0m\u001b[0;34m)\u001b[0m\u001b[0;34m,\u001b[0m\u001b[0;34m'/data2/ffp/datasets/monthly/%d/'\u001b[0m\u001b[0;34m,\u001b[0m \u001b[0;34m'july_*_norm.csv'\u001b[0m\u001b[0;34m,\u001b[0m \u001b[0mfilt\u001b[0m\u001b[0;34m)\u001b[0m\u001b[0;34m\u001b[0m\u001b[0;34m\u001b[0m\u001b[0m\n\u001b[0m",
      "\u001b[0;32m/tmp/ipykernel_26599/1726408943.py\u001b[0m in \u001b[0;36mstatmonths\u001b[0;34m(years, sfolder, pattern, filt)\u001b[0m\n\u001b[1;32m     10\u001b[0m         \u001b[0myfolder\u001b[0m \u001b[0;34m=\u001b[0m \u001b[0msfolder\u001b[0m\u001b[0;34m%\u001b[0m\u001b[0my\u001b[0m\u001b[0;34m\u001b[0m\u001b[0;34m\u001b[0m\u001b[0m\n\u001b[1;32m     11\u001b[0m         \u001b[0mprint\u001b[0m\u001b[0;34m(\u001b[0m\u001b[0myfolder\u001b[0m\u001b[0;34m)\u001b[0m\u001b[0;34m\u001b[0m\u001b[0;34m\u001b[0m\u001b[0m\n\u001b[0;32m---> 12\u001b[0;31m         \u001b[0mDT\u001b[0m \u001b[0;34m=\u001b[0m \u001b[0mread_multiple_csv\u001b[0m\u001b[0;34m(\u001b[0m\u001b[0myfolder\u001b[0m\u001b[0;34m,\u001b[0m \u001b[0mpattern\u001b[0m\u001b[0;34m)\u001b[0m\u001b[0;34m\u001b[0m\u001b[0;34m\u001b[0m\u001b[0m\n\u001b[0m\u001b[1;32m     13\u001b[0m         \u001b[0mDT\u001b[0m \u001b[0;34m=\u001b[0m \u001b[0mDT\u001b[0m\u001b[0;34m[\u001b[0m\u001b[0;34m:\u001b[0m\u001b[0;34m,\u001b[0m \u001b[0;34m[\u001b[0m\u001b[0mname\u001b[0m \u001b[0;32mfor\u001b[0m \u001b[0mname\u001b[0m \u001b[0;32min\u001b[0m \u001b[0mfilt\u001b[0m\u001b[0;34m]\u001b[0m\u001b[0;34m]\u001b[0m\u001b[0;34m\u001b[0m\u001b[0;34m\u001b[0m\u001b[0m\n\u001b[1;32m     14\u001b[0m         \u001b[0mDTmeans\u001b[0m \u001b[0;34m=\u001b[0m \u001b[0maggrfuncs\u001b[0m\u001b[0;34m(\u001b[0m\u001b[0mDTmeans\u001b[0m\u001b[0;34m,\u001b[0m \u001b[0mDT\u001b[0m\u001b[0;34m.\u001b[0m\u001b[0mmean\u001b[0m\u001b[0;34m,\u001b[0m \u001b[0my\u001b[0m\u001b[0;34m,\u001b[0m \u001b[0mpattern\u001b[0m\u001b[0;34m,\u001b[0m \u001b[0;34m'mean'\u001b[0m\u001b[0;34m)\u001b[0m\u001b[0;34m\u001b[0m\u001b[0;34m\u001b[0m\u001b[0m\n",
      "\u001b[0;32m/tmp/ipykernel_26599/516241387.py\u001b[0m in \u001b[0;36mread_multiple_csv\u001b[0;34m(sfolder, pattern)\u001b[0m\n\u001b[1;32m      6\u001b[0m         \u001b[0mprint\u001b[0m\u001b[0;34m(\u001b[0m\u001b[0mf\u001b[0m\u001b[0;34m)\u001b[0m\u001b[0;34m\u001b[0m\u001b[0;34m\u001b[0m\u001b[0m\n\u001b[1;32m      7\u001b[0m         \u001b[0;32mtry\u001b[0m\u001b[0;34m:\u001b[0m\u001b[0;34m\u001b[0m\u001b[0;34m\u001b[0m\u001b[0m\n\u001b[0;32m----> 8\u001b[0;31m             \u001b[0mDTpart\u001b[0m\u001b[0;34m=\u001b[0m\u001b[0mload_datatable\u001b[0m\u001b[0;34m(\u001b[0m\u001b[0mf\u001b[0m\u001b[0;34m)\u001b[0m\u001b[0;34m\u001b[0m\u001b[0;34m\u001b[0m\u001b[0m\n\u001b[0m\u001b[1;32m      9\u001b[0m         \u001b[0;32mexcept\u001b[0m\u001b[0;34m:\u001b[0m\u001b[0;34m\u001b[0m\u001b[0;34m\u001b[0m\u001b[0m\n\u001b[1;32m     10\u001b[0m             \u001b[0mprint\u001b[0m\u001b[0;34m(\u001b[0m\u001b[0;34m\"Fail to load %s :\\n\"\u001b[0m\u001b[0;34m%\u001b[0m\u001b[0mf\u001b[0m\u001b[0;34m+\u001b[0m\u001b[0mtraceback\u001b[0m\u001b[0;34m.\u001b[0m\u001b[0mformat_exc\u001b[0m\u001b[0;34m(\u001b[0m\u001b[0;34m)\u001b[0m\u001b[0;34m)\u001b[0m\u001b[0;34m\u001b[0m\u001b[0;34m\u001b[0m\u001b[0m\n",
      "\u001b[0;32m/tmp/ipykernel_26599/2284077608.py\u001b[0m in \u001b[0;36mload_datatable\u001b[0;34m(fpath, fill)\u001b[0m\n\u001b[1;32m      3\u001b[0m         \u001b[0mprint\u001b[0m\u001b[0;34m(\u001b[0m\u001b[0;34m'Path not found : %s'\u001b[0m\u001b[0;34m%\u001b[0m\u001b[0mfpath\u001b[0m\u001b[0;34m)\u001b[0m\u001b[0;34m\u001b[0m\u001b[0;34m\u001b[0m\u001b[0m\n\u001b[1;32m      4\u001b[0m         \u001b[0;32mraise\u001b[0m\u001b[0;34m\u001b[0m\u001b[0;34m\u001b[0m\u001b[0m\n\u001b[0;32m----> 5\u001b[0;31m     \u001b[0mDT\u001b[0m \u001b[0;34m=\u001b[0m \u001b[0mdt\u001b[0m\u001b[0;34m.\u001b[0m\u001b[0mfread\u001b[0m\u001b[0;34m(\u001b[0m\u001b[0mfpath\u001b[0m\u001b[0;34m,\u001b[0m \u001b[0mfill\u001b[0m\u001b[0;34m=\u001b[0m\u001b[0mfill\u001b[0m\u001b[0;34m)\u001b[0m\u001b[0;34m\u001b[0m\u001b[0;34m\u001b[0m\u001b[0m\n\u001b[0m\u001b[1;32m      6\u001b[0m     \u001b[0;32mreturn\u001b[0m \u001b[0mDT\u001b[0m\u001b[0;34m\u001b[0m\u001b[0;34m\u001b[0m\u001b[0m\n",
      "\u001b[0;31mKeyboardInterrupt\u001b[0m: "
     ]
    }
   ],
   "source": [
    "filt=['max_temp','min_temp','mean_temp','rain_7days','res_max','dom_vel','max_dew_temp','min_dew_temp','mean_dew_temp']\n",
    "DTmeans, DTmin, DTmax, DTsd = statmonths(range(2016,2021),'/data2/ffp/datasets/monthly/%d/', 'july_*_norm.csv', filt)"
   ]
  },
  {
   "cell_type": "code",
   "execution_count": 62,
   "id": "41f09b67",
   "metadata": {},
   "outputs": [],
   "source": [
    "DTmeans.to_csv('august_means_sat.csv')\n",
    "DTmax.to_csv('august_max_sat.csv')\n",
    "DTmin.to_csv('august_min_sat.csv')\n",
    "DTsd.to_csv('august_sd_sat.csv')"
   ]
  },
  {
   "cell_type": "code",
   "execution_count": 13,
   "id": "d3d34d7c",
   "metadata": {},
   "outputs": [
    {
     "data": {
      "text/html": [
       "<div class='datatable'>\n",
       "  <table class='frame'>\n",
       "  <thead>\n",
       "    <tr class='colnames'><td class='row_index'></td><th>max_temp</th><th>min_temp</th><th>mean_temp</th><th>rain_7days</th><th>res_max</th><th>dom_vel</th><th>max_dew_temp</th><th>min_dew_temp</th><th>mean_dew_temp</th><th>Year</th><th>Pattern</th><th>Aggr</th></tr>\n",
       "    <tr class='coltypes'><td class='row_index'></td><td class='float' title='float64'>&#x25AA;&#x25AA;&#x25AA;&#x25AA;&#x25AA;&#x25AA;&#x25AA;&#x25AA;</td><td class='float' title='float64'>&#x25AA;&#x25AA;&#x25AA;&#x25AA;&#x25AA;&#x25AA;&#x25AA;&#x25AA;</td><td class='float' title='float64'>&#x25AA;&#x25AA;&#x25AA;&#x25AA;&#x25AA;&#x25AA;&#x25AA;&#x25AA;</td><td class='float' title='float64'>&#x25AA;&#x25AA;&#x25AA;&#x25AA;&#x25AA;&#x25AA;&#x25AA;&#x25AA;</td><td class='float' title='float64'>&#x25AA;&#x25AA;&#x25AA;&#x25AA;&#x25AA;&#x25AA;&#x25AA;&#x25AA;</td><td class='float' title='float64'>&#x25AA;&#x25AA;&#x25AA;&#x25AA;&#x25AA;&#x25AA;&#x25AA;&#x25AA;</td><td class='float' title='float64'>&#x25AA;&#x25AA;&#x25AA;&#x25AA;&#x25AA;&#x25AA;&#x25AA;&#x25AA;</td><td class='float' title='float64'>&#x25AA;&#x25AA;&#x25AA;&#x25AA;&#x25AA;&#x25AA;&#x25AA;&#x25AA;</td><td class='float' title='float64'>&#x25AA;&#x25AA;&#x25AA;&#x25AA;&#x25AA;&#x25AA;&#x25AA;&#x25AA;</td><td class='str' title='str32'>&#x25AA;&#x25AA;&#x25AA;&#x25AA;</td><td class='str' title='str32'>&#x25AA;&#x25AA;&#x25AA;&#x25AA;</td><td class='str' title='str32'>&#x25AA;&#x25AA;&#x25AA;&#x25AA;</td></tr>\n",
       "  </thead>\n",
       "  <tbody>\n",
       "    <tr><td class='row_index'>0</td><td>0.628887</td><td>0.735546</td><td>0.675471</td><td>0.0521674</td><td>0.319967</td><td>0.149258</td><td>0.736163</td><td>0.745445</td><td>0.739142</td><td>2018</td><td>july_*_norm.csv</td><td>mean</td></tr>\n",
       "    <tr><td class='row_index'>1</td><td>0.631838</td><td>0.732991</td><td>0.677387</td><td>0.0339274</td><td>0.382876</td><td>0.160683</td><td>0.709956</td><td>0.703433</td><td>0.70098</td><td>2019</td><td>july_*_norm.csv</td><td>mean</td></tr>\n",
       "    <tr><td class='row_index'>2</td><td>0.642724</td><td>0.742816</td><td>0.687063</td><td>0.0177944</td><td>0.429905</td><td>0.165823</td><td>0.709551</td><td>0.706695</td><td>0.702376</td><td>2020</td><td>july_*_norm.csv</td><td>mean</td></tr>\n",
       "  </tbody>\n",
       "  </table>\n",
       "  <div class='footer'>\n",
       "    <div class='frame_dimensions'>3 rows &times; 12 columns</div>\n",
       "  </div>\n",
       "</div>\n"
      ],
      "text/plain": [
       "<Frame#7f568461d450 3x12>"
      ]
     },
     "execution_count": 13,
     "metadata": {},
     "output_type": "execute_result"
    }
   ],
   "source": [
    "DTmeans"
   ]
  },
  {
   "cell_type": "code",
   "execution_count": 3,
   "id": "8bed3f4d",
   "metadata": {},
   "outputs": [],
   "source": [
    "DT2 = load_datatable('/data2/ffp/datasets/monthly/2020/august_2020/august_2020_norm.csv')"
   ]
  },
  {
   "cell_type": "code",
   "execution_count": 35,
   "id": "9a6c025f",
   "metadata": {},
   "outputs": [
    {
     "ename": "TypeError",
     "evalue": "sd() missing 1 required positional argument: 'expr'",
     "output_type": "error",
     "traceback": [
      "\u001b[0;31m---------------------------------------------------------------------------\u001b[0m",
      "\u001b[0;31mTypeError\u001b[0m                                 Traceback (most recent call last)",
      "\u001b[0;32m/tmp/ipykernel_26599/536265575.py\u001b[0m in \u001b[0;36m<module>\u001b[0;34m\u001b[0m\n\u001b[0;32m----> 1\u001b[0;31m \u001b[0mDT2\u001b[0m\u001b[0;34m[\u001b[0m\u001b[0mdt\u001b[0m\u001b[0;34m.\u001b[0m\u001b[0mf\u001b[0m\u001b[0;34m[\u001b[0m\u001b[0;34m\"ndvi_new\"\u001b[0m\u001b[0;34m]\u001b[0m \u001b[0;34m>\u001b[0m \u001b[0;36m1\u001b[0m\u001b[0;34m,\u001b[0m \u001b[0mdt\u001b[0m\u001b[0;34m.\u001b[0m\u001b[0msd\u001b[0m\u001b[0;34m(\u001b[0m\u001b[0;34m)\u001b[0m\u001b[0;34m]\u001b[0m\u001b[0;34m\u001b[0m\u001b[0;34m\u001b[0m\u001b[0m\n\u001b[0m",
      "\u001b[0;31mTypeError\u001b[0m: sd() missing 1 required positional argument: 'expr'"
     ]
    }
   ],
   "source": [
    "DT2[dt.f[\"ndvi_new\"] > 1, dt.sd()]"
   ]
  },
  {
   "cell_type": "code",
   "execution_count": 34,
   "id": "f7ad5a77",
   "metadata": {},
   "outputs": [
    {
     "data": {
      "text/html": [
       "<div class='datatable'>\n",
       "  <table class='frame'>\n",
       "  <thead>\n",
       "    <tr class='colnames'><td class='row_index'></td><th>evi</th></tr>\n",
       "    <tr class='coltypes'><td class='row_index'></td><td class='int' title='int64'>&#x25AA;&#x25AA;&#x25AA;&#x25AA;&#x25AA;&#x25AA;&#x25AA;&#x25AA;</td></tr>\n",
       "  </thead>\n",
       "  <tbody>\n",
       "    <tr><td class='row_index'>0</td><td>0</td></tr>\n",
       "  </tbody>\n",
       "  </table>\n",
       "  <div class='footer'>\n",
       "    <div class='frame_dimensions'>1 row &times; 1 column</div>\n",
       "  </div>\n",
       "</div>\n"
      ],
      "text/plain": [
       "<Frame#7f10c004b2d0 1x1>"
      ]
     },
     "execution_count": 34,
     "metadata": {},
     "output_type": "execute_result"
    }
   ],
   "source": [
    "DT2[dt.f[\"evi\"] <0, dt.count(dt.f.evi) ]"
   ]
  },
  {
   "cell_type": "code",
   "execution_count": null,
   "id": "ebb1508a",
   "metadata": {},
   "outputs": [],
   "source": [
    "DT2[dt.f[\"evi\"] <= 1, dt.sd(dt.f[\"evi\"])]"
   ]
  },
  {
   "cell_type": "code",
   "execution_count": 50,
   "id": "56da94ad",
   "metadata": {},
   "outputs": [
    {
     "data": {
      "text/html": [
       "<div class='datatable'>\n",
       "  <table class='frame'>\n",
       "  <thead>\n",
       "    <tr class='colnames'><td class='row_index'></td><th>ndvi_new</th><th>evi</th><th>lst_day</th><th>lst_night</th><th>Year</th><th>Pattern</th><th>Aggr</th></tr>\n",
       "    <tr class='coltypes'><td class='row_index'></td><td class='float' title='float64'>&#x25AA;&#x25AA;&#x25AA;&#x25AA;&#x25AA;&#x25AA;&#x25AA;&#x25AA;</td><td class='float' title='float64'>&#x25AA;&#x25AA;&#x25AA;&#x25AA;&#x25AA;&#x25AA;&#x25AA;&#x25AA;</td><td class='float' title='float64'>&#x25AA;&#x25AA;&#x25AA;&#x25AA;&#x25AA;&#x25AA;&#x25AA;&#x25AA;</td><td class='float' title='float64'>&#x25AA;&#x25AA;&#x25AA;&#x25AA;&#x25AA;&#x25AA;&#x25AA;&#x25AA;</td><td class='str' title='str32'>&#x25AA;&#x25AA;&#x25AA;&#x25AA;</td><td class='str' title='str32'>&#x25AA;&#x25AA;&#x25AA;&#x25AA;</td><td class='str' title='str32'>&#x25AA;&#x25AA;&#x25AA;&#x25AA;</td></tr>\n",
       "  </thead>\n",
       "  <tbody>\n",
       "    <tr><td class='row_index'>0</td><td>0.147485</td><td>0.0981408</td><td>0.0497807</td><td>0.0461257</td><td>2016</td><td>august_*_norm.csv</td><td>sd</td></tr>\n",
       "    <tr><td class='row_index'>1</td><td>0.141489</td><td>0.0934132</td><td>0.0493042</td><td>0.0437773</td><td>2017</td><td>august_*_norm.csv</td><td>sd</td></tr>\n",
       "    <tr><td class='row_index'>2</td><td>0.144489</td><td>0.0975897</td><td>0.0509302</td><td>0.044631</td><td>2018</td><td>august_*_norm.csv</td><td>sd</td></tr>\n",
       "    <tr><td class='row_index'>3</td><td>0.142305</td><td>0.0988653</td><td>0.0499927</td><td>0.0431327</td><td>2019</td><td>august_*_norm.csv</td><td>sd</td></tr>\n",
       "    <tr><td class='row_index'>4</td><td>0.565736</td><td>0.0022491</td><td>0.050642</td><td>0.0434798</td><td>2020</td><td>august_*_norm.csv</td><td>sd</td></tr>\n",
       "  </tbody>\n",
       "  </table>\n",
       "  <div class='footer'>\n",
       "    <div class='frame_dimensions'>5 rows &times; 7 columns</div>\n",
       "  </div>\n",
       "</div>\n"
      ],
      "text/plain": [
       "<Frame#7f10c004bed0 5x7>"
      ]
     },
     "execution_count": 50,
     "metadata": {},
     "output_type": "execute_result"
    }
   ],
   "source": [
    "DTsd"
   ]
  },
  {
   "cell_type": "code",
   "execution_count": 52,
   "id": "087f5e88",
   "metadata": {},
   "outputs": [
    {
     "data": {
      "text/html": [
       "<div class='datatable'>\n",
       "  <table class='frame'>\n",
       "  <thead>\n",
       "    <tr class='colnames'><td class='row_index'></td><th>ndvi_new</th><th>evi</th><th>lst_day</th><th>lst_night</th><th>Year</th><th>Pattern</th><th>Aggr</th></tr>\n",
       "    <tr class='coltypes'><td class='row_index'></td><td class='float' title='float64'>&#x25AA;&#x25AA;&#x25AA;&#x25AA;&#x25AA;&#x25AA;&#x25AA;&#x25AA;</td><td class='float' title='float64'>&#x25AA;&#x25AA;&#x25AA;&#x25AA;&#x25AA;&#x25AA;&#x25AA;&#x25AA;</td><td class='float' title='float64'>&#x25AA;&#x25AA;&#x25AA;&#x25AA;&#x25AA;&#x25AA;&#x25AA;&#x25AA;</td><td class='float' title='float64'>&#x25AA;&#x25AA;&#x25AA;&#x25AA;&#x25AA;&#x25AA;&#x25AA;&#x25AA;</td><td class='str' title='str32'>&#x25AA;&#x25AA;&#x25AA;&#x25AA;</td><td class='str' title='str32'>&#x25AA;&#x25AA;&#x25AA;&#x25AA;</td><td class='str' title='str32'>&#x25AA;&#x25AA;&#x25AA;&#x25AA;</td></tr>\n",
       "  </thead>\n",
       "  <tbody>\n",
       "    <tr><td class='row_index'>0</td><td>0.61504</td><td>0.438016</td><td>0.603699</td><td>0.565433</td><td>2016</td><td>august_*_norm.csv</td><td>mean</td></tr>\n",
       "    <tr><td class='row_index'>1</td><td>0.632167</td><td>0.445391</td><td>0.615199</td><td>0.568938</td><td>2017</td><td>august_*_norm.csv</td><td>mean</td></tr>\n",
       "    <tr><td class='row_index'>2</td><td>0.659176</td><td>0.453464</td><td>0.575333</td><td>0.557584</td><td>2018</td><td>august_*_norm.csv</td><td>mean</td></tr>\n",
       "    <tr><td class='row_index'>3</td><td>0.647192</td><td>0.461368</td><td>0.608678</td><td>0.561063</td><td>2019</td><td>august_*_norm.csv</td><td>mean</td></tr>\n",
       "    <tr><td class='row_index'>4</td><td>1.06259</td><td>0.168091</td><td>0.59755</td><td>0.566657</td><td>2020</td><td>august_*_norm.csv</td><td>mean</td></tr>\n",
       "  </tbody>\n",
       "  </table>\n",
       "  <div class='footer'>\n",
       "    <div class='frame_dimensions'>5 rows &times; 7 columns</div>\n",
       "  </div>\n",
       "</div>\n"
      ],
      "text/plain": [
       "<Frame#7f10c004b5a0 5x7>"
      ]
     },
     "execution_count": 52,
     "metadata": {},
     "output_type": "execute_result"
    }
   ],
   "source": [
    "DTmeans"
   ]
  },
  {
   "cell_type": "code",
   "execution_count": 53,
   "id": "a89d397d",
   "metadata": {},
   "outputs": [],
   "source": [
    "DT2 = load_datatable('/data2/ffp/datasets/monthly/2020_old/08/august_2020_norm.csv')"
   ]
  },
  {
   "cell_type": "code",
   "execution_count": 57,
   "id": "6877f629",
   "metadata": {},
   "outputs": [
    {
     "data": {
      "text/html": [
       "<div class='datatable'>\n",
       "  <table class='frame'>\n",
       "  <thead>\n",
       "    <tr class='colnames'><td class='row_index'></td><th>ndvi mean</th><th>ndvi sd</th></tr>\n",
       "    <tr class='coltypes'><td class='row_index'></td><td class='float' title='float64'>&#x25AA;&#x25AA;&#x25AA;&#x25AA;&#x25AA;&#x25AA;&#x25AA;&#x25AA;</td><td class='float' title='float64'>&#x25AA;&#x25AA;&#x25AA;&#x25AA;&#x25AA;&#x25AA;&#x25AA;&#x25AA;</td></tr>\n",
       "  </thead>\n",
       "  <tbody>\n",
       "    <tr><td class='row_index'>0</td><td>0.998264</td><td>0.592549</td></tr>\n",
       "  </tbody>\n",
       "  </table>\n",
       "  <div class='footer'>\n",
       "    <div class='frame_dimensions'>1 row &times; 2 columns</div>\n",
       "  </div>\n",
       "</div>\n"
      ],
      "text/plain": [
       "<Frame#7f10c005b9c0 1x2>"
      ]
     },
     "execution_count": 57,
     "metadata": {},
     "output_type": "execute_result"
    }
   ],
   "source": [
    "DT2[:, {'ndvi mean': dt.mean(dt.f.ndvi_new), 'ndvi sd': dt.sd(dt.f.ndvi_new)}]"
   ]
  },
  {
   "cell_type": "code",
   "execution_count": null,
   "id": "a245fefb",
   "metadata": {},
   "outputs": [],
   "source": []
  }
 ],
 "metadata": {
  "kernelspec": {
   "display_name": "Python 3 (ipykernel)",
   "language": "python",
   "name": "python3"
  },
  "language_info": {
   "codemirror_mode": {
    "name": "ipython",
    "version": 3
   },
   "file_extension": ".py",
   "mimetype": "text/x-python",
   "name": "python",
   "nbconvert_exporter": "python",
   "pygments_lexer": "ipython3",
   "version": "3.8.12"
  }
 },
 "nbformat": 4,
 "nbformat_minor": 5
}
