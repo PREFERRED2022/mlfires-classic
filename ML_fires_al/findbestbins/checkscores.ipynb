{
 "cells": [
  {
   "cell_type": "code",
   "execution_count": 2,
   "id": "6027ddc9",
   "metadata": {},
   "outputs": [],
   "source": [
    "import pandas as pd\n",
    "import matplotlib.pyplot as plt\n",
    "import numpy as np"
   ]
  },
  {
   "cell_type": "code",
   "execution_count": 3,
   "id": "1b879ef0",
   "metadata": {},
   "outputs": [],
   "source": [
    "df=pd.read_csv('/mnt/nvme2tb/ffp/results/bestmodels/test/hypres_tf_ns_ncv_2019_all_test_2.csv')"
   ]
  },
  {
   "cell_type": "code",
   "execution_count": 4,
   "id": "a7d9cd58",
   "metadata": {},
   "outputs": [
    {
     "data": {
      "text/plain": [
       "Index(['Model ID', 'opt. metric', 'training set', 'test set', 'accuracy train',\n",
       "       'precision 1 train', 'recall 1 train', 'f1-score 1 train',\n",
       "       'precision 0 train', 'recall 0 train', 'f1-score 0 train', 'auc train',\n",
       "       'TN train', 'FP train', 'FN train', 'TP train', 'accuracy test',\n",
       "       'precision 1 test', 'recall 1 test', 'f1-score 1 test',\n",
       "       'precision 0 test', 'recall 0 test', 'f1-score 0 test', 'auc test',\n",
       "       'TN test', 'FP test', 'FN test', 'TP test', 'FN01 test', 'FN02 test',\n",
       "       'FN001 test', 'FN002 test', 'early stop epochs', 'params',\n",
       "       'CV Fit and predict min.'],\n",
       "      dtype='object')"
      ]
     },
     "execution_count": 4,
     "metadata": {},
     "output_type": "execute_result"
    }
   ],
   "source": [
    "df.columns"
   ]
  },
  {
   "cell_type": "code",
   "execution_count": 5,
   "id": "97be28fc",
   "metadata": {},
   "outputs": [],
   "source": [
    "dffilt=df[['Model ID', 'opt. metric', 'test set', 'recall 1 test', 'recall 0 test', 'params' ]]"
   ]
  },
  {
   "cell_type": "code",
   "execution_count": 6,
   "id": "483cefaa",
   "metadata": {},
   "outputs": [
    {
     "data": {
      "text/html": [
       "<div>\n",
       "<style scoped>\n",
       "    .dataframe tbody tr th:only-of-type {\n",
       "        vertical-align: middle;\n",
       "    }\n",
       "\n",
       "    .dataframe tbody tr th {\n",
       "        vertical-align: top;\n",
       "    }\n",
       "\n",
       "    .dataframe thead th {\n",
       "        text-align: right;\n",
       "    }\n",
       "</style>\n",
       "<table border=\"1\" class=\"dataframe\">\n",
       "  <thead>\n",
       "    <tr style=\"text-align: right;\">\n",
       "      <th></th>\n",
       "      <th>Model ID</th>\n",
       "      <th>opt. metric</th>\n",
       "      <th>test set</th>\n",
       "      <th>recall 1 test</th>\n",
       "      <th>recall 0 test</th>\n",
       "      <th>params</th>\n",
       "    </tr>\n",
       "  </thead>\n",
       "  <tbody>\n",
       "    <tr>\n",
       "      <th>4</th>\n",
       "      <td>923</td>\n",
       "      <td>hybrid5 test</td>\n",
       "      <td>all set</td>\n",
       "      <td>0.898331</td>\n",
       "      <td>0.787437</td>\n",
       "      <td>{'ES_mindelta': 0.002, 'ES_monitor': 'val_loss...</td>\n",
       "    </tr>\n",
       "    <tr>\n",
       "      <th>9</th>\n",
       "      <td>875</td>\n",
       "      <td>hybrid5 test</td>\n",
       "      <td>all set</td>\n",
       "      <td>0.904401</td>\n",
       "      <td>0.773437</td>\n",
       "      <td>{'ES_mindelta': 0.002, 'ES_monitor': 'val_loss...</td>\n",
       "    </tr>\n",
       "    <tr>\n",
       "      <th>14</th>\n",
       "      <td>555</td>\n",
       "      <td>hybrid5 test</td>\n",
       "      <td>all set</td>\n",
       "      <td>0.908953</td>\n",
       "      <td>0.771941</td>\n",
       "      <td>{'ES_mindelta': 0.002, 'ES_monitor': 'val_loss...</td>\n",
       "    </tr>\n",
       "    <tr>\n",
       "      <th>19</th>\n",
       "      <td>786</td>\n",
       "      <td>NH10 test</td>\n",
       "      <td>all set</td>\n",
       "      <td>0.936267</td>\n",
       "      <td>0.753004</td>\n",
       "      <td>{'ES_mindelta': 0.002, 'ES_monitor': 'val_loss...</td>\n",
       "    </tr>\n",
       "    <tr>\n",
       "      <th>24</th>\n",
       "      <td>379</td>\n",
       "      <td>NH10 test</td>\n",
       "      <td>all set</td>\n",
       "      <td>0.948407</td>\n",
       "      <td>0.714011</td>\n",
       "      <td>{'ES_mindelta': 0.002, 'ES_monitor': 'val_loss...</td>\n",
       "    </tr>\n",
       "    <tr>\n",
       "      <th>29</th>\n",
       "      <td>137</td>\n",
       "      <td>NH10 test</td>\n",
       "      <td>all set</td>\n",
       "      <td>0.966616</td>\n",
       "      <td>0.681698</td>\n",
       "      <td>{'ES_mindelta': 0.002, 'ES_monitor': 'val_loss...</td>\n",
       "    </tr>\n",
       "    <tr>\n",
       "      <th>34</th>\n",
       "      <td>785</td>\n",
       "      <td>hybrid2 test</td>\n",
       "      <td>all set</td>\n",
       "      <td>0.886191</td>\n",
       "      <td>0.811678</td>\n",
       "      <td>{'ES_mindelta': 0.002, 'ES_monitor': 'val_loss...</td>\n",
       "    </tr>\n",
       "    <tr>\n",
       "      <th>39</th>\n",
       "      <td>366</td>\n",
       "      <td>hybrid2 test</td>\n",
       "      <td>all set</td>\n",
       "      <td>0.852807</td>\n",
       "      <td>0.832309</td>\n",
       "      <td>{'ES_mindelta': 0.002, 'ES_monitor': 'val_loss...</td>\n",
       "    </tr>\n",
       "    <tr>\n",
       "      <th>44</th>\n",
       "      <td>686</td>\n",
       "      <td>hybrid2 test</td>\n",
       "      <td>all set</td>\n",
       "      <td>0.895296</td>\n",
       "      <td>0.793061</td>\n",
       "      <td>{'ES_mindelta': 0.002, 'ES_monitor': 'val_loss...</td>\n",
       "    </tr>\n",
       "  </tbody>\n",
       "</table>\n",
       "</div>"
      ],
      "text/plain": [
       "    Model ID   opt. metric test set  recall 1 test  recall 0 test  \\\n",
       "4        923  hybrid5 test  all set       0.898331       0.787437   \n",
       "9        875  hybrid5 test  all set       0.904401       0.773437   \n",
       "14       555  hybrid5 test  all set       0.908953       0.771941   \n",
       "19       786     NH10 test  all set       0.936267       0.753004   \n",
       "24       379     NH10 test  all set       0.948407       0.714011   \n",
       "29       137     NH10 test  all set       0.966616       0.681698   \n",
       "34       785  hybrid2 test  all set       0.886191       0.811678   \n",
       "39       366  hybrid2 test  all set       0.852807       0.832309   \n",
       "44       686  hybrid2 test  all set       0.895296       0.793061   \n",
       "\n",
       "                                               params  \n",
       "4   {'ES_mindelta': 0.002, 'ES_monitor': 'val_loss...  \n",
       "9   {'ES_mindelta': 0.002, 'ES_monitor': 'val_loss...  \n",
       "14  {'ES_mindelta': 0.002, 'ES_monitor': 'val_loss...  \n",
       "19  {'ES_mindelta': 0.002, 'ES_monitor': 'val_loss...  \n",
       "24  {'ES_mindelta': 0.002, 'ES_monitor': 'val_loss...  \n",
       "29  {'ES_mindelta': 0.002, 'ES_monitor': 'val_loss...  \n",
       "34  {'ES_mindelta': 0.002, 'ES_monitor': 'val_loss...  \n",
       "39  {'ES_mindelta': 0.002, 'ES_monitor': 'val_loss...  \n",
       "44  {'ES_mindelta': 0.002, 'ES_monitor': 'val_loss...  "
      ]
     },
     "execution_count": 6,
     "metadata": {},
     "output_type": "execute_result"
    }
   ],
   "source": [
    "dffilt[dffilt['test set'].str.contains('all')]"
   ]
  },
  {
   "cell_type": "code",
   "execution_count": 7,
   "id": "daf5154e",
   "metadata": {},
   "outputs": [],
   "source": [
    "dfscs=[]\n",
    "for i in range(6,10):\n",
    "    dftemp=pd.read_csv('/mnt/nvme2tb/ffp/results/bestmodels/test/hypres_tf_ns_ncv_2019_scores_hybrid2test_1_20190%ddf_normcsv.csv'%i)\n",
    "    dftemp=dftemp[['y','1']]\n",
    "    dfscs+=[dftemp]\n",
    "    "
   ]
  },
  {
   "cell_type": "code",
   "execution_count": 9,
   "id": "3aba1a81",
   "metadata": {},
   "outputs": [],
   "source": [
    "def getbin(distrib, percent, hist, binedges):\n",
    "    binedges1=binedges[:-1] # match histogram array\n",
    "    numelements=int(len(distrib)*percent)+1 # compute number of elements for cut off likelihood\n",
    "    binlim=binedges1[np.cumsum(hist)<numelements][-1] # get cut off likelihood\n",
    "    return binlim"
   ]
  },
  {
   "cell_type": "code",
   "execution_count": 39,
   "id": "0d621546",
   "metadata": {},
   "outputs": [
    {
     "data": {
      "text/plain": [
       "array([ 1,  0,  0,  0,  0,  0,  1,  0,  0,  0,  0,  0,  0,  0,  0,  0,  0,\n",
       "        1,  0,  0,  0,  0,  0,  0,  0,  0,  0,  0,  0,  0,  0,  0,  0,  0,\n",
       "        1,  0,  0,  0,  0,  0,  0,  1,  0,  0,  0,  0,  0,  0,  0,  0,  0,\n",
       "        1,  0,  1,  0,  0,  0,  0,  0,  0,  0,  0,  0,  0,  0,  1,  0,  0,\n",
       "        0,  0,  0,  0,  0,  0,  0,  0,  0,  0,  0,  0,  0,  1,  0,  0,  0,\n",
       "        0,  0,  0,  0,  0,  0,  0,  0,  2,  1,  0,  0,  0,  0,  0,  0,  0,\n",
       "        0,  0,  0,  0,  0,  0,  0,  0,  0,  0,  0,  0,  0,  0,  0,  0,  0,\n",
       "        0,  0,  0,  0,  0,  0,  0,  0,  0,  0,  0,  0,  0,  0,  0,  0,  0,\n",
       "        0,  0,  0,  0,  1,  0,  0,  0,  0,  0,  0,  0,  0,  1,  0,  0,  0,\n",
       "        0,  0,  1,  0,  0,  0,  0,  0,  0,  0,  0,  0,  2,  0,  1,  0,  0,\n",
       "        0,  1,  0,  0,  0,  0,  0,  0,  0,  0,  0,  2,  0,  1,  0,  0,  1,\n",
       "        0,  0,  0,  0,  0,  0,  0,  0,  0,  0,  0,  1,  0,  0,  0,  0,  0,\n",
       "        1,  0,  1,  0,  0,  0,  0,  0,  0,  0,  0,  0,  0,  0,  0,  0,  0,\n",
       "        0,  0,  0,  0,  1,  0,  0,  2,  0,  0,  0,  0,  0,  0,  0,  0,  0,\n",
       "        1,  0,  0,  0,  0,  0,  0,  0,  0,  1,  0,  0,  0,  0,  0,  0,  0,\n",
       "        0,  0,  0,  2,  0,  0,  0,  0,  0,  1,  0,  0,  0,  0,  0,  0,  1,\n",
       "        0,  0,  0,  0,  0,  0,  0,  0,  0,  0,  0,  0,  0,  0,  0,  0,  0,\n",
       "        0,  0,  0,  0,  0,  1,  0,  0,  0,  0,  0,  0,  1,  0,  1,  0,  0,\n",
       "        1,  1,  0,  1,  0,  0,  1,  1,  1,  0,  0,  0,  2,  0,  1,  0,  0,\n",
       "        0,  0,  1,  0,  0,  0,  0,  0,  0,  0,  1,  0,  1,  0,  0,  0,  0,\n",
       "        0,  0,  0,  0,  0,  0,  1,  0,  0,  0,  0,  0,  0,  0,  1,  0,  0,\n",
       "        0,  0,  0,  0,  0,  0,  0,  0,  1,  1,  0,  0,  1,  0,  0,  1,  0,\n",
       "        0,  0,  0,  0,  0,  0,  0,  0,  0,  0,  1,  0,  0,  1,  0,  0,  0,\n",
       "        1,  1,  1,  0,  0,  0,  0,  0,  1,  0,  0,  0,  0,  1,  0,  0,  0,\n",
       "        0,  0,  0,  0,  0,  0,  0,  0,  0,  0,  0,  0,  0,  0,  0,  0,  0,\n",
       "        0,  0,  0,  0,  0,  0,  0,  0,  1,  0,  0,  0,  1,  0,  0,  0,  0,\n",
       "        0,  0,  0,  1,  0,  0,  1,  1,  0,  0,  0,  0,  0,  1,  0,  0,  1,\n",
       "        0,  0,  0,  0,  0,  0,  0,  0,  0,  0,  0,  0,  0,  0,  1,  0,  0,\n",
       "        2,  1,  0,  0,  0,  0,  0,  0,  0,  0,  0,  0,  0,  0,  0,  1,  0,\n",
       "        0,  0,  2,  0,  0,  0,  0,  0,  0,  1,  0,  0,  0,  0,  0,  0,  1,\n",
       "        0,  0,  0,  0,  0,  0,  0,  0,  0,  0,  1,  2,  0,  0,  0,  0,  0,\n",
       "        0,  1,  0,  0,  1,  0,  0,  1,  0,  0,  0,  0,  0,  2,  0,  0,  0,\n",
       "        0,  0,  0,  0,  1,  0,  0,  1,  0,  0,  1,  0,  0,  2,  0,  0,  0,\n",
       "        0,  0,  0,  0,  0,  1,  0,  0,  0,  0,  0,  0,  0,  0,  0,  0,  0,\n",
       "        0,  0,  1,  0,  0,  0,  1,  1,  1,  1,  1,  1,  1,  0,  0,  0,  0,\n",
       "        0,  0,  0,  0,  1,  0,  0,  0,  0,  0,  0,  0,  0,  0,  2,  0,  0,\n",
       "        1,  0,  0,  0,  0,  1,  0,  0,  0,  0,  1,  0,  0,  1,  0,  0,  1,\n",
       "        1,  0,  0,  0,  1,  0,  0,  1,  1,  2,  0,  0,  0,  1,  0,  1,  0,\n",
       "        0,  0,  0,  0,  1,  2,  1,  0,  0,  0,  1,  1,  0,  1,  0,  0,  2,\n",
       "        0,  0,  0,  2,  0,  1,  2,  0,  1,  0,  2,  1,  1,  0,  1,  0,  0,\n",
       "        0,  1,  1,  2,  0,  2,  1,  0,  0,  1,  2,  1,  0,  1,  0,  2,  3,\n",
       "        1,  1,  0,  0,  1,  0,  1,  0,  0,  0,  1,  0,  3,  2,  3,  0,  1,\n",
       "        2,  0,  1,  0,  0,  1,  0,  1,  0,  1,  0,  0,  1,  4,  3,  1,  3,\n",
       "        1,  1,  1,  0,  1,  1,  0,  0,  1,  1,  0,  0,  1,  1,  0,  1,  0,\n",
       "        2,  3,  1,  1,  1,  0,  2,  0,  2,  1,  1,  1,  1,  1,  1,  1,  1,\n",
       "        1,  0,  2,  0,  2,  2,  1,  0,  0,  0,  1,  0,  3,  0,  0,  1,  0,\n",
       "        1,  1,  2,  0,  2,  1,  2,  2,  1,  1,  1,  1,  1,  0,  2,  0,  1,\n",
       "        1,  1,  0,  1,  0,  0,  1,  1,  1,  2,  1,  1,  1,  0,  1,  0,  1,\n",
       "        0,  1,  0,  2,  1,  2,  1,  1,  1,  0,  0,  0,  0,  0,  1,  3,  0,\n",
       "        0,  2,  1,  2,  0,  1,  0,  0,  4,  5,  0,  2,  2,  1,  2,  0,  0,\n",
       "        2,  0,  1,  0,  2,  3,  2,  0,  1,  2,  1,  0,  1,  2,  2,  0,  1,\n",
       "        1,  0,  0,  1,  4,  4,  1,  2,  1,  2,  4,  0,  2,  0,  4,  1,  0,\n",
       "        3,  1,  1,  1,  0,  1,  2,  3,  1,  3,  1,  3,  1,  1,  2,  1,  1,\n",
       "        4,  2,  0,  3,  2,  4,  0,  3,  2,  3,  0,  1,  1,  2,  2,  2,  1,\n",
       "        2,  3,  3,  3,  1,  2,  2,  3,  1,  0,  1,  6,  3,  3,  2,  3,  2,\n",
       "        1,  4,  3,  1,  1,  2,  3,  1,  1,  3,  3,  2,  3,  0,  2,  1,  6,\n",
       "        2,  4,  2,  1,  3,  2,  0,  1,  1,  4,  1,  1,  1,  2,  1,  8,  4,\n",
       "        2,  3,  3,  4,  3,  2,  2, 10,  3,  4,  2,  3,  4,  7,  9,  2, 10,\n",
       "        6,  2,  6,  5,  4,  7, 10,  2, 11,  5,  4,  5,  0,  3])"
      ]
     },
     "execution_count": 39,
     "metadata": {},
     "output_type": "execute_result"
    }
   ],
   "source": [
    "h"
   ]
  },
  {
   "cell_type": "code",
   "execution_count": 10,
   "id": "2db47f70",
   "metadata": {},
   "outputs": [],
   "source": [
    "dfsc=pd.concat(dfscs)"
   ]
  },
  {
   "cell_type": "code",
   "execution_count": 11,
   "id": "435c3c9f",
   "metadata": {},
   "outputs": [
    {
     "data": {
      "text/html": [
       "<div>\n",
       "<style scoped>\n",
       "    .dataframe tbody tr th:only-of-type {\n",
       "        vertical-align: middle;\n",
       "    }\n",
       "\n",
       "    .dataframe tbody tr th {\n",
       "        vertical-align: top;\n",
       "    }\n",
       "\n",
       "    .dataframe thead th {\n",
       "        text-align: right;\n",
       "    }\n",
       "</style>\n",
       "<table border=\"1\" class=\"dataframe\">\n",
       "  <thead>\n",
       "    <tr style=\"text-align: right;\">\n",
       "      <th></th>\n",
       "      <th>y</th>\n",
       "      <th>1</th>\n",
       "    </tr>\n",
       "  </thead>\n",
       "  <tbody>\n",
       "    <tr>\n",
       "      <th>0</th>\n",
       "      <td>0.0</td>\n",
       "      <td>0.000050</td>\n",
       "    </tr>\n",
       "    <tr>\n",
       "      <th>1</th>\n",
       "      <td>0.0</td>\n",
       "      <td>0.000192</td>\n",
       "    </tr>\n",
       "    <tr>\n",
       "      <th>2</th>\n",
       "      <td>0.0</td>\n",
       "      <td>0.000176</td>\n",
       "    </tr>\n",
       "    <tr>\n",
       "      <th>3</th>\n",
       "      <td>0.0</td>\n",
       "      <td>0.000112</td>\n",
       "    </tr>\n",
       "    <tr>\n",
       "      <th>4</th>\n",
       "      <td>0.0</td>\n",
       "      <td>0.000093</td>\n",
       "    </tr>\n",
       "    <tr>\n",
       "      <th>...</th>\n",
       "      <td>...</td>\n",
       "      <td>...</td>\n",
       "    </tr>\n",
       "    <tr>\n",
       "      <th>19678921</th>\n",
       "      <td>0.0</td>\n",
       "      <td>0.704708</td>\n",
       "    </tr>\n",
       "    <tr>\n",
       "      <th>19678922</th>\n",
       "      <td>0.0</td>\n",
       "      <td>0.851876</td>\n",
       "    </tr>\n",
       "    <tr>\n",
       "      <th>19678923</th>\n",
       "      <td>0.0</td>\n",
       "      <td>0.757222</td>\n",
       "    </tr>\n",
       "    <tr>\n",
       "      <th>19678924</th>\n",
       "      <td>0.0</td>\n",
       "      <td>0.420057</td>\n",
       "    </tr>\n",
       "    <tr>\n",
       "      <th>19678925</th>\n",
       "      <td>0.0</td>\n",
       "      <td>0.690158</td>\n",
       "    </tr>\n",
       "  </tbody>\n",
       "</table>\n",
       "<p>79273280 rows × 2 columns</p>\n",
       "</div>"
      ],
      "text/plain": [
       "            y         1\n",
       "0         0.0  0.000050\n",
       "1         0.0  0.000192\n",
       "2         0.0  0.000176\n",
       "3         0.0  0.000112\n",
       "4         0.0  0.000093\n",
       "...       ...       ...\n",
       "19678921  0.0  0.704708\n",
       "19678922  0.0  0.851876\n",
       "19678923  0.0  0.757222\n",
       "19678924  0.0  0.420057\n",
       "19678925  0.0  0.690158\n",
       "\n",
       "[79273280 rows x 2 columns]"
      ]
     },
     "execution_count": 11,
     "metadata": {},
     "output_type": "execute_result"
    }
   ],
   "source": [
    "dfsc"
   ]
  },
  {
   "cell_type": "code",
   "execution_count": 12,
   "id": "efd116eb",
   "metadata": {},
   "outputs": [],
   "source": [
    "plotfiredistrib=dfsc[dfsc['y']==1]['1'].values\n",
    "plotalldistrib=dfsc['1'].values"
   ]
  },
  {
   "cell_type": "code",
   "execution_count": 11,
   "id": "867136fe",
   "metadata": {},
   "outputs": [
    {
     "ename": "NameError",
     "evalue": "name 'be' is not defined",
     "output_type": "error",
     "traceback": [
      "\u001b[0;31m---------------------------------------------------------------------------\u001b[0m",
      "\u001b[0;31mNameError\u001b[0m                                 Traceback (most recent call last)",
      "Cell \u001b[0;32mIn[11], line 1\u001b[0m\n\u001b[0;32m----> 1\u001b[0m binedges\u001b[38;5;241m=\u001b[39m\u001b[43mbe\u001b[49m\n\u001b[1;32m      2\u001b[0m hist\u001b[38;5;241m=\u001b[39mh\n\u001b[1;32m      3\u001b[0m binedges1\u001b[38;5;241m=\u001b[39mbinedges[:\u001b[38;5;241m-\u001b[39m\u001b[38;5;241m1\u001b[39m] \u001b[38;5;66;03m# match histogram array\u001b[39;00m\n",
      "\u001b[0;31mNameError\u001b[0m: name 'be' is not defined"
     ]
    }
   ],
   "source": [
    "binedges=be\n",
    "hist=h\n",
    "binedges1=binedges[:-1] # match histogram array\n",
    "distrib=plotfiredistrib\n",
    "percent=0.005\n",
    "numelements=int(len(distrib)*percent)+1 # compute number of elements for cut off likelihood\n",
    "binlim=binedges1[np.cumsum(hist)<numelements][-1] # get cut off likelihood\n",
    "binlim"
   ]
  },
  {
   "cell_type": "code",
   "execution_count": 13,
   "id": "6ad6dc22",
   "metadata": {},
   "outputs": [
    {
     "ename": "NameError",
     "evalue": "name 'h' is not defined",
     "output_type": "error",
     "traceback": [
      "\u001b[0;31m---------------------------------------------------------------------------\u001b[0m",
      "\u001b[0;31mNameError\u001b[0m                                 Traceback (most recent call last)",
      "Cell \u001b[0;32mIn[13], line 1\u001b[0m\n\u001b[0;32m----> 1\u001b[0m getbin(plotfiredistrib, \u001b[38;5;241m0\u001b[39m, \u001b[43mh\u001b[49m, be)\n",
      "\u001b[0;31mNameError\u001b[0m: name 'h' is not defined"
     ]
    }
   ],
   "source": [
    "getbin(plotfiredistrib, 0, h, be)"
   ]
  },
  {
   "cell_type": "code",
   "execution_count": 14,
   "id": "ac69b480",
   "metadata": {},
   "outputs": [],
   "source": [
    "firepercents=[0.005,0.05,0.20,0.55]\n",
    "h, be = np.histogram(plotfiredistrib, bins=1000)\n",
    "binscust=[]\n",
    "for fp in firepercents:\n",
    "    binscust+=[getbin(plotfiredistrib, fp, h, be)]\n",
    "binscust=[0]+binscust+[1]\n",
    "    "
   ]
  },
  {
   "cell_type": "code",
   "execution_count": 15,
   "id": "d6ea1b76",
   "metadata": {},
   "outputs": [
    {
     "data": {
      "text/plain": [
       "[0, 0.052360608171, 0.270555242059, 0.67285159829, 0.8910462321779999, 1]"
      ]
     },
     "execution_count": 15,
     "metadata": {},
     "output_type": "execute_result"
    }
   ],
   "source": [
    "binscust"
   ]
  },
  {
   "cell_type": "code",
   "execution_count": 16,
   "id": "20a875a9",
   "metadata": {},
   "outputs": [
    {
     "data": {
      "image/png": "[encoded data removed]",
      "text/plain": [
       "<Figure size 1500x1000 with 1 Axes>"
      ]
     },
     "metadata": {},
     "output_type": "display_data"
    }
   ],
   "source": [
    "fig1, ax1 = plt.subplots(1, 1, figsize=(15, 10))\n",
    "ax1.title.set_text('Expected percentage of fires in each risk range')\n",
    "ax1.hist(plotalldistrib, bins=100)\n",
    "plt.show()"
   ]
  },
  {
   "cell_type": "code",
   "execution_count": 14,
   "id": "7cfaf931",
   "metadata": {},
   "outputs": [
    {
     "data": {
      "image/png": "[encoded data removed]",
      "text/plain": [
       "<Figure size 1500x1000 with 2 Axes>"
      ]
     },
     "metadata": {},
     "output_type": "display_data"
    }
   ],
   "source": [
    "fig, ax = plt.subplots(2, 1, figsize=(15, 10))\n",
    "#ax[0].hist(plotfiredistrib, bins=binscust)\n",
    "ax[0].title.set_text('Expected percentage of fires in each risk range')\n",
    "ax[0].hist(plotfiredistrib, bins=binscust, weights=np.ones(len(plotfiredistrib)) / len(plotfiredistrib),\n",
    "          orientation='horizontal')\n",
    "#ax[2].hist(plotalldistrib, bins=binscust)\n",
    "ax[1].title.set_text('Expected percentage of cells in each risk range')\n",
    "ax[1].hist(plotalldistrib, bins=binscust, weights=np.ones(len(plotalldistrib)) / len(plotalldistrib),\n",
    "          orientation='horizontal')\n",
    "for i in range(2):\n",
    "    ax[i].grid(axis='x')\n",
    "    ax[i].set_ylabel('Model scoring')\n",
    "    #ax[i].set_xlabel('histogram percent')\n",
    "plt.show()"
   ]
  },
  {
   "cell_type": "code",
   "execution_count": 15,
   "id": "6fd6742d",
   "metadata": {},
   "outputs": [
    {
     "data": {
      "text/plain": [
       "(6.59, 32.95, 65.9)"
      ]
     },
     "execution_count": 15,
     "metadata": {},
     "output_type": "execute_result"
    }
   ],
   "source": [
    "len(plotfiredistrib)*0.01, len(plotfiredistrib)*0.05, len(plotfiredistrib)*0.10"
   ]
  },
  {
   "cell_type": "code",
   "execution_count": null,
   "id": "83e1be9c",
   "metadata": {},
   "outputs": [],
   "source": []
  },
  {
   "cell_type": "code",
   "execution_count": 95,
   "id": "36fdec9a",
   "metadata": {},
   "outputs": [
    {
     "data": {
      "text/plain": [
       "(array([  7, 652]), array([0.  , 0.08, 1.  ]))"
      ]
     },
     "execution_count": 95,
     "metadata": {},
     "output_type": "execute_result"
    }
   ],
   "source": [
    "np.histogram(plotfiredistrib, bins=[0,0.08,1])"
   ]
  },
  {
   "cell_type": "code",
   "execution_count": 49,
   "id": "95157cf2",
   "metadata": {},
   "outputs": [
    {
     "data": {
      "text/plain": [
       "19656353"
      ]
     },
     "execution_count": 49,
     "metadata": {},
     "output_type": "execute_result"
    }
   ],
   "source": [
    "len(plotalldistrib)"
   ]
  },
  {
   "cell_type": "code",
   "execution_count": 155,
   "id": "9118b4dc",
   "metadata": {},
   "outputs": [
    {
     "data": {
      "text/plain": [
       "(array([44493592, 18441059,  8591126,  3937682,  3809821]),\n",
       " array([0.        , 0.07086819, 0.4527088 , 0.747856  , 0.87156457,\n",
       "        1.        ]))"
      ]
     },
     "execution_count": 155,
     "metadata": {},
     "output_type": "execute_result"
    }
   ],
   "source": [
    "np.histogram(plotalldistrib, bins=[0]+bins+[1])"
   ]
  },
  {
   "cell_type": "code",
   "execution_count": 59,
   "id": "1c34abb2",
   "metadata": {},
   "outputs": [
    {
     "data": {
      "text/plain": [
       "(array([  4,  19,  26,  94, 214]), array([0.02, 0.1 , 0.3 , 0.6 , 0.85, 1.  ]))"
      ]
     },
     "execution_count": 59,
     "metadata": {},
     "output_type": "execute_result"
    }
   ],
   "source": [
    "np.histogram(plotfiredistrib, bins=[0.02,0.1,0.3,0.6,0.85,1])"
   ]
  },
  {
   "cell_type": "code",
   "execution_count": 145,
   "id": "0103d3ba",
   "metadata": {},
   "outputs": [],
   "source": [
    "h, be = np.histogram(plotfiredistrib, bins=1000)"
   ]
  },
  {
   "cell_type": "code",
   "execution_count": 131,
   "id": "62e15b93",
   "metadata": {},
   "outputs": [
    {
     "data": {
      "text/plain": [
       "7"
      ]
     },
     "execution_count": 131,
     "metadata": {},
     "output_type": "execute_result"
    }
   ],
   "source": [
    "int(len(plotfiredistrib)*0.01)+1"
   ]
  },
  {
   "cell_type": "code",
   "execution_count": 134,
   "id": "bb182037",
   "metadata": {},
   "outputs": [
    {
     "data": {
      "text/plain": [
       "0.05917919048"
      ]
     },
     "execution_count": 134,
     "metadata": {},
     "output_type": "execute_result"
    }
   ],
   "source": [
    "be[:-1][np.cumsum(h)<int(len(plotfiredistrib)*0.01)+1][-1]"
   ]
  },
  {
   "cell_type": "code",
   "execution_count": 133,
   "id": "0588aa7e",
   "metadata": {},
   "outputs": [
    {
     "data": {
      "text/plain": [
       "array([0.02021586, 0.02995669, 0.03969753, 0.04943836, 0.05917919,\n",
       "       0.06892002, 0.07866085, 0.08840169, 0.09814252, 0.10788335,\n",
       "       0.11762418, 0.12736501, 0.13710585, 0.14684668, 0.15658751,\n",
       "       0.16632834, 0.17606917, 0.18581   , 0.19555084, 0.20529167,\n",
       "       0.2150325 , 0.22477333, 0.23451416, 0.244255  , 0.25399583,\n",
       "       0.26373666, 0.27347749, 0.28321832, 0.29295916, 0.30269999,\n",
       "       0.31244082, 0.32218165, 0.33192248, 0.34166331, 0.35140415,\n",
       "       0.36114498, 0.37088581, 0.38062664, 0.39036747, 0.40010831,\n",
       "       0.40984914, 0.41958997, 0.4293308 , 0.43907163, 0.44881247,\n",
       "       0.4585533 , 0.46829413, 0.47803496, 0.48777579, 0.49751662,\n",
       "       0.50725746, 0.51699829, 0.52673912, 0.53647995, 0.54622078,\n",
       "       0.55596162, 0.56570245, 0.57544328, 0.58518411, 0.59492494,\n",
       "       0.60466578, 0.61440661, 0.62414744, 0.63388827, 0.6436291 ,\n",
       "       0.65336993, 0.66311077, 0.6728516 , 0.68259243, 0.69233326,\n",
       "       0.70207409, 0.71181493, 0.72155576, 0.73129659, 0.74103742,\n",
       "       0.75077825, 0.76051909, 0.77025992, 0.78000075, 0.78974158,\n",
       "       0.79948241, 0.80922324, 0.81896408, 0.82870491, 0.83844574,\n",
       "       0.84818657, 0.8579274 , 0.86766824, 0.87740907, 0.8871499 ,\n",
       "       0.89689073, 0.90663156, 0.9163724 , 0.92611323, 0.93585406,\n",
       "       0.94559489, 0.95533572, 0.96507655, 0.97481739, 0.98455822,\n",
       "       0.99429905])"
      ]
     },
     "execution_count": 133,
     "metadata": {},
     "output_type": "execute_result"
    }
   ],
   "source": [
    "be"
   ]
  },
  {
   "cell_type": "code",
   "execution_count": 113,
   "id": "3f1e187a",
   "metadata": {},
   "outputs": [
    {
     "data": {
      "text/plain": [
       "array([0.02021586, 0.02118995, 0.02216403, ..., 0.99235088, 0.99332497,\n",
       "       0.99429905])"
      ]
     },
     "execution_count": 113,
     "metadata": {},
     "output_type": "execute_result"
    }
   ],
   "source": [
    "be"
   ]
  },
  {
   "cell_type": "code",
   "execution_count": 123,
   "id": "68cca197",
   "metadata": {},
   "outputs": [
    {
     "data": {
      "text/plain": [
       "array([2, 1, 0, 1, 1, 2])"
      ]
     },
     "execution_count": 123,
     "metadata": {},
     "output_type": "execute_result"
    }
   ],
   "source": [
    "h[be[:-1]<=0.06892002235]"
   ]
  },
  {
   "cell_type": "code",
   "execution_count": 146,
   "id": "3d237d75",
   "metadata": {},
   "outputs": [
    {
     "data": {
      "text/plain": [
       "0.070868188724"
      ]
     },
     "execution_count": 146,
     "metadata": {},
     "output_type": "execute_result"
    }
   ],
   "source": [
    "getbin(plotfiredistrib, 0.01, h, be)"
   ]
  },
  {
   "cell_type": "code",
   "execution_count": 147,
   "id": "88c00625",
   "metadata": {},
   "outputs": [
    {
     "data": {
      "text/plain": [
       "array([ 1,  0,  0,  0,  0,  0,  1,  0,  0,  0,  0,  0,  0,  0,  0,  0,  0,\n",
       "        1,  0,  0,  0,  0,  0,  0,  0,  0,  0,  0,  0,  0,  0,  0,  0,  0,\n",
       "        1,  0,  0,  0,  0,  0,  0,  1,  0,  0,  0,  0,  0,  0,  0,  0,  0,\n",
       "        1,  0,  1,  0,  0,  0,  0,  0,  0,  0,  0,  0,  0,  0,  1,  0,  0,\n",
       "        0,  0,  0,  0,  0,  0,  0,  0,  0,  0,  0,  0,  0,  1,  0,  0,  0,\n",
       "        0,  0,  0,  0,  0,  0,  0,  0,  2,  1,  0,  0,  0,  0,  0,  0,  0,\n",
       "        0,  0,  0,  0,  0,  0,  0,  0,  0,  0,  0,  0,  0,  0,  0,  0,  0,\n",
       "        0,  0,  0,  0,  0,  0,  0,  0,  0,  0,  0,  0,  0,  0,  0,  0,  0,\n",
       "        0,  0,  0,  0,  1,  0,  0,  0,  0,  0,  0,  0,  0,  1,  0,  0,  0,\n",
       "        0,  0,  1,  0,  0,  0,  0,  0,  0,  0,  0,  0,  2,  0,  1,  0,  0,\n",
       "        0,  1,  0,  0,  0,  0,  0,  0,  0,  0,  0,  2,  0,  1,  0,  0,  1,\n",
       "        0,  0,  0,  0,  0,  0,  0,  0,  0,  0,  0,  1,  0,  0,  0,  0,  0,\n",
       "        1,  0,  1,  0,  0,  0,  0,  0,  0,  0,  0,  0,  0,  0,  0,  0,  0,\n",
       "        0,  0,  0,  0,  1,  0,  0,  2,  0,  0,  0,  0,  0,  0,  0,  0,  0,\n",
       "        1,  0,  0,  0,  0,  0,  0,  0,  0,  1,  0,  0,  0,  0,  0,  0,  0,\n",
       "        0,  0,  0,  2,  0,  0,  0,  0,  0,  1,  0,  0,  0,  0,  0,  0,  1,\n",
       "        0,  0,  0,  0,  0,  0,  0,  0,  0,  0,  0,  0,  0,  0,  0,  0,  0,\n",
       "        0,  0,  0,  0,  0,  1,  0,  0,  0,  0,  0,  0,  1,  0,  1,  0,  0,\n",
       "        1,  1,  0,  1,  0,  0,  1,  1,  1,  0,  0,  0,  2,  0,  1,  0,  0,\n",
       "        0,  0,  1,  0,  0,  0,  0,  0,  0,  0,  1,  0,  1,  0,  0,  0,  0,\n",
       "        0,  0,  0,  0,  0,  0,  1,  0,  0,  0,  0,  0,  0,  0,  1,  0,  0,\n",
       "        0,  0,  0,  0,  0,  0,  0,  0,  1,  1,  0,  0,  1,  0,  0,  1,  0,\n",
       "        0,  0,  0,  0,  0,  0,  0,  0,  0,  0,  1,  0,  0,  1,  0,  0,  0,\n",
       "        1,  1,  1,  0,  0,  0,  0,  0,  1,  0,  0,  0,  0,  1,  0,  0,  0,\n",
       "        0,  0,  0,  0,  0,  0,  0,  0,  0,  0,  0,  0,  0,  0,  0,  0,  0,\n",
       "        0,  0,  0,  0,  0,  0,  0,  0,  1,  0,  0,  0,  1,  0,  0,  0,  0,\n",
       "        0,  0,  0,  1,  0,  0,  1,  1,  0,  0,  0,  0,  0,  1,  0,  0,  1,\n",
       "        0,  0,  0,  0,  0,  0,  0,  0,  0,  0,  0,  0,  0,  0,  1,  0,  0,\n",
       "        2,  1,  0,  0,  0,  0,  0,  0,  0,  0,  0,  0,  0,  0,  0,  1,  0,\n",
       "        0,  0,  2,  0,  0,  0,  0,  0,  0,  1,  0,  0,  0,  0,  0,  0,  1,\n",
       "        0,  0,  0,  0,  0,  0,  0,  0,  0,  0,  1,  2,  0,  0,  0,  0,  0,\n",
       "        0,  1,  0,  0,  1,  0,  0,  1,  0,  0,  0,  0,  0,  2,  0,  0,  0,\n",
       "        0,  0,  0,  0,  1,  0,  0,  1,  0,  0,  1,  0,  0,  2,  0,  0,  0,\n",
       "        0,  0,  0,  0,  0,  1,  0,  0,  0,  0,  0,  0,  0,  0,  0,  0,  0,\n",
       "        0,  0,  1,  0,  0,  0,  1,  1,  1,  1,  1,  1,  1,  0,  0,  0,  0,\n",
       "        0,  0,  0,  0,  1,  0,  0,  0,  0,  0,  0,  0,  0,  0,  2,  0,  0,\n",
       "        1,  0,  0,  0,  0,  1,  0,  0,  0,  0,  1,  0,  0,  1,  0,  0,  1,\n",
       "        1,  0,  0,  0,  1,  0,  0,  1,  1,  2,  0,  0,  0,  1,  0,  1,  0,\n",
       "        0,  0,  0,  0,  1,  2,  1,  0,  0,  0,  1,  1,  0,  1,  0,  0,  2,\n",
       "        0,  0,  0,  2,  0,  1,  2,  0,  1,  0,  2,  1,  1,  0,  1,  0,  0,\n",
       "        0,  1,  1,  2,  0,  2,  1,  0,  0,  1,  2,  1,  0,  1,  0,  2,  3,\n",
       "        1,  1,  0,  0,  1,  0,  1,  0,  0,  0,  1,  0,  3,  2,  3,  0,  1,\n",
       "        2,  0,  1,  0,  0,  1,  0,  1,  0,  1,  0,  0,  1,  4,  3,  1,  3,\n",
       "        1,  1,  1,  0,  1,  1,  0,  0,  1,  1,  0,  0,  1,  1,  0,  1,  0,\n",
       "        2,  3,  1,  1,  1,  0,  2,  0,  2,  1,  1,  1,  1,  1,  1,  1,  1,\n",
       "        1,  0,  2,  0,  2,  2,  1,  0,  0,  0,  1,  0,  3,  0,  0,  1,  0,\n",
       "        1,  1,  2,  0,  2,  1,  2,  2,  1,  1,  1,  1,  1,  0,  2,  0,  1,\n",
       "        1,  1,  0,  1,  0,  0,  1,  1,  1,  2,  1,  1,  1,  0,  1,  0,  1,\n",
       "        0,  1,  0,  2,  1,  2,  1,  1,  1,  0,  0,  0,  0,  0,  1,  3,  0,\n",
       "        0,  2,  1,  2,  0,  1,  0,  0,  4,  5,  0,  2,  2,  1,  2,  0,  0,\n",
       "        2,  0,  1,  0,  2,  3,  2,  0,  1,  2,  1,  0,  1,  2,  2,  0,  1,\n",
       "        1,  0,  0,  1,  4,  4,  1,  2,  1,  2,  4,  0,  2,  0,  4,  1,  0,\n",
       "        3,  1,  1,  1,  0,  1,  2,  3,  1,  3,  1,  3,  1,  1,  2,  1,  1,\n",
       "        4,  2,  0,  3,  2,  4,  0,  3,  2,  3,  0,  1,  1,  2,  2,  2,  1,\n",
       "        2,  3,  3,  3,  1,  2,  2,  3,  1,  0,  1,  6,  3,  3,  2,  3,  2,\n",
       "        1,  4,  3,  1,  1,  2,  3,  1,  1,  3,  3,  2,  3,  0,  2,  1,  6,\n",
       "        2,  4,  2,  1,  3,  2,  0,  1,  1,  4,  1,  1,  1,  2,  1,  8,  4,\n",
       "        2,  3,  3,  4,  3,  2,  2, 10,  3,  4,  2,  3,  4,  7,  9,  2, 10,\n",
       "        6,  2,  6,  5,  4,  7, 10,  2, 11,  5,  4,  5,  0,  3])"
      ]
     },
     "execution_count": 147,
     "metadata": {},
     "output_type": "execute_result"
    }
   ],
   "source": [
    "h"
   ]
  },
  {
   "cell_type": "code",
   "execution_count": 148,
   "id": "fa6ef3e0",
   "metadata": {},
   "outputs": [
    {
     "data": {
      "text/plain": [
       "array([0.02021586, 0.02118995, 0.02216403, ..., 0.99235088, 0.99332497,\n",
       "       0.99429905])"
      ]
     },
     "execution_count": 148,
     "metadata": {},
     "output_type": "execute_result"
    }
   ],
   "source": [
    "be"
   ]
  },
  {
   "cell_type": "code",
   "execution_count": 18,
   "id": "d0acf733",
   "metadata": {},
   "outputs": [],
   "source": [
    "hcust, becust = np.histogram(plotalldistrib, bins=binscust)"
   ]
  },
  {
   "cell_type": "code",
   "execution_count": 20,
   "id": "6443e1d9",
   "metadata": {},
   "outputs": [
    {
     "data": {
      "text/plain": [
       "79273280"
      ]
     },
     "execution_count": 20,
     "metadata": {},
     "output_type": "execute_result"
    }
   ],
   "source": [
    "len(plotalldistrib)"
   ]
  },
  {
   "cell_type": "code",
   "execution_count": 32,
   "id": "b87963c7",
   "metadata": {},
   "outputs": [],
   "source": [
    "pab=hcust/len(plotalldistrib)"
   ]
  },
  {
   "cell_type": "code",
   "execution_count": 33,
   "id": "6f95ae4e",
   "metadata": {},
   "outputs": [],
   "source": [
    "p1=len(plotfiredistrib)/len(plotalldistrib)"
   ]
  },
  {
   "cell_type": "code",
   "execution_count": 35,
   "id": "08555d13",
   "metadata": {},
   "outputs": [
    {
     "data": {
      "text/plain": [
       "array([0.53131787, 0.18432835, 0.15876178, 0.08586259, 0.03972941])"
      ]
     },
     "execution_count": 35,
     "metadata": {},
     "output_type": "execute_result"
    }
   ],
   "source": [
    "pab"
   ]
  },
  {
   "cell_type": "code",
   "execution_count": 46,
   "id": "5a36da4a",
   "metadata": {},
   "outputs": [
    {
     "data": {
      "text/plain": [
       "[0.005,\n",
       " 0.045000000000000005,\n",
       " 0.15000000000000002,\n",
       " 0.35000000000000003,\n",
       " 0.44999999999999996]"
      ]
     },
     "execution_count": 46,
     "metadata": {},
     "output_type": "execute_result"
    }
   ],
   "source": [
    "fpcs=[]\n",
    "fpcs.append(firepercents[0])\n",
    "for fpi in range(1,len(firepercents)):\n",
    "    fpcs.append(firepercents[fpi]-firepercents[fpi-1])\n",
    "fpcs.append(1-firepercents[-1])\n",
    "fpcs"
   ]
  },
  {
   "cell_type": "code",
   "execution_count": 47,
   "id": "0a29764f",
   "metadata": {},
   "outputs": [
    {
     "data": {
      "text/plain": [
       "array([7.82301514e-08, 2.02945283e-06, 7.85423493e-06, 3.38861833e-05,\n",
       "       9.41583709e-05])"
      ]
     },
     "execution_count": 47,
     "metadata": {},
     "output_type": "execute_result"
    }
   ],
   "source": [
    "p1*np.array(fpcs)/pab"
   ]
  },
  {
   "cell_type": "code",
   "execution_count": 48,
   "id": "90e7ebb4",
   "metadata": {},
   "outputs": [
    {
     "data": {
      "text/plain": [
       "1203.60716699316"
      ]
     },
     "execution_count": 48,
     "metadata": {},
     "output_type": "execute_result"
    }
   ],
   "source": [
    "9.41583709e-05/7.82301514e-08"
   ]
  },
  {
   "cell_type": "code",
   "execution_count": null,
   "id": "d4457917",
   "metadata": {},
   "outputs": [],
   "source": []
  }
 ],
 "metadata": {
  "kernelspec": {
   "display_name": "Python 3 (ipykernel)",
   "language": "python",
   "name": "python3"
  },
  "language_info": {
   "codemirror_mode": {
    "name": "ipython",
    "version": 3
   },
   "file_extension": ".py",
   "mimetype": "text/x-python",
   "name": "python",
   "nbconvert_exporter": "python",
   "pygments_lexer": "ipython3",
   "version": "3.10.10"
  }
 },
 "nbformat": 4,
 "nbformat_minor": 5
}
