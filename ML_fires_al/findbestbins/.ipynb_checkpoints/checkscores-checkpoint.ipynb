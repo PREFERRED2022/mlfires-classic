{
 "cells": [
  {
   "cell_type": "code",
   "execution_count": 2,
   "id": "390af560",
   "metadata": {},
   "outputs": [],
   "source": [
    "import pandas as pd"
   ]
  },
  {
   "cell_type": "code",
   "execution_count": 3,
   "id": "33c3828f",
   "metadata": {},
   "outputs": [],
   "source": [
    "df=pd.read_csv('/mnt/nvme2tb/ffp/results/best2/test/hypres_tf_ns_gr_2019_all_test_1.csv')"
   ]
  },
  {
   "cell_type": "code",
   "execution_count": 7,
   "id": "2e7d1dc1",
   "metadata": {},
   "outputs": [
    {
     "data": {
      "text/plain": [
       "Index(['Model ID', 'opt. metric', 'training set', 'test set', 'accuracy train',\n",
       "       'precision 1 train', 'recall 1 train', 'f1-score 1 train',\n",
       "       'precision 0 train', 'recall 0 train', 'f1-score 0 train', 'auc train',\n",
       "       'TN train', 'FP train', 'FN train', 'TP train', 'accuracy test',\n",
       "       'precision 1 test', 'recall 1 test', 'f1-score 1 test',\n",
       "       'precision 0 test', 'recall 0 test', 'f1-score 0 test', 'auc test',\n",
       "       'TN test', 'FP test', 'FN test', 'TP test', 'FN01 test', 'FN02 test',\n",
       "       'FN001 test', 'FN002 test', 'early stop epochs', 'params',\n",
       "       'CV Fit and predict min.'],\n",
       "      dtype='object')"
      ]
     },
     "execution_count": 7,
     "metadata": {},
     "output_type": "execute_result"
    }
   ],
   "source": [
    "df.columns"
   ]
  },
  {
   "cell_type": "code",
   "execution_count": 11,
   "id": "4d654b80",
   "metadata": {},
   "outputs": [],
   "source": [
    "dffilt=df[['Model ID', 'opt. metric', 'test set', 'recall 1 test', 'recall 0 test', 'params' ]]"
   ]
  },
  {
   "cell_type": "code",
   "execution_count": 13,
   "id": "770d495a",
   "metadata": {},
   "outputs": [
    {
     "data": {
      "text/html": [
       "<div>\n",
       "<style scoped>\n",
       "    .dataframe tbody tr th:only-of-type {\n",
       "        vertical-align: middle;\n",
       "    }\n",
       "\n",
       "    .dataframe tbody tr th {\n",
       "        vertical-align: top;\n",
       "    }\n",
       "\n",
       "    .dataframe thead th {\n",
       "        text-align: right;\n",
       "    }\n",
       "</style>\n",
       "<table border=\"1\" class=\"dataframe\">\n",
       "  <thead>\n",
       "    <tr style=\"text-align: right;\">\n",
       "      <th></th>\n",
       "      <th>Model ID</th>\n",
       "      <th>opt. metric</th>\n",
       "      <th>test set</th>\n",
       "      <th>recall 1 test</th>\n",
       "      <th>recall 0 test</th>\n",
       "      <th>params</th>\n",
       "    </tr>\n",
       "  </thead>\n",
       "  <tbody>\n",
       "    <tr>\n",
       "      <th>4</th>\n",
       "      <td>163</td>\n",
       "      <td>BA test</td>\n",
       "      <td>all set</td>\n",
       "      <td>0.814024</td>\n",
       "      <td>0.831273</td>\n",
       "      <td>{'ES_mindelta': 0.002, 'ES_monitor': 'val_loss...</td>\n",
       "    </tr>\n",
       "    <tr>\n",
       "      <th>9</th>\n",
       "      <td>208</td>\n",
       "      <td>BA test</td>\n",
       "      <td>all set</td>\n",
       "      <td>0.812500</td>\n",
       "      <td>0.827836</td>\n",
       "      <td>{'ES_mindelta': 0.002, 'ES_monitor': 'val_loss...</td>\n",
       "    </tr>\n",
       "    <tr>\n",
       "      <th>14</th>\n",
       "      <td>222</td>\n",
       "      <td>BA test</td>\n",
       "      <td>all set</td>\n",
       "      <td>0.823171</td>\n",
       "      <td>0.831583</td>\n",
       "      <td>{'ES_mindelta': 0.002, 'ES_monitor': 'val_loss...</td>\n",
       "    </tr>\n",
       "    <tr>\n",
       "      <th>19</th>\n",
       "      <td>276</td>\n",
       "      <td>NH5 test</td>\n",
       "      <td>all set</td>\n",
       "      <td>0.960366</td>\n",
       "      <td>0.604291</td>\n",
       "      <td>{'ES_mindelta': 0.002, 'ES_monitor': 'val_loss...</td>\n",
       "    </tr>\n",
       "    <tr>\n",
       "      <th>24</th>\n",
       "      <td>263</td>\n",
       "      <td>NH5 test</td>\n",
       "      <td>all set</td>\n",
       "      <td>0.928354</td>\n",
       "      <td>0.681072</td>\n",
       "      <td>{'ES_mindelta': 0.002, 'ES_monitor': 'val_loss...</td>\n",
       "    </tr>\n",
       "  </tbody>\n",
       "</table>\n",
       "</div>"
      ],
      "text/plain": [
       "    Model ID opt. metric test set  recall 1 test  recall 0 test  \\\n",
       "4        163     BA test  all set       0.814024       0.831273   \n",
       "9        208     BA test  all set       0.812500       0.827836   \n",
       "14       222     BA test  all set       0.823171       0.831583   \n",
       "19       276    NH5 test  all set       0.960366       0.604291   \n",
       "24       263    NH5 test  all set       0.928354       0.681072   \n",
       "\n",
       "                                               params  \n",
       "4   {'ES_mindelta': 0.002, 'ES_monitor': 'val_loss...  \n",
       "9   {'ES_mindelta': 0.002, 'ES_monitor': 'val_loss...  \n",
       "14  {'ES_mindelta': 0.002, 'ES_monitor': 'val_loss...  \n",
       "19  {'ES_mindelta': 0.002, 'ES_monitor': 'val_loss...  \n",
       "24  {'ES_mindelta': 0.002, 'ES_monitor': 'val_loss...  "
      ]
     },
     "execution_count": 13,
     "metadata": {},
     "output_type": "execute_result"
    }
   ],
   "source": [
    "dffilt[dffilt['test set'].str.contains('all')]"
   ]
  },
  {
   "cell_type": "code",
   "execution_count": null,
   "id": "d5685fad",
   "metadata": {},
   "outputs": [],
   "source": []
  }
 ],
 "metadata": {
  "kernelspec": {
   "display_name": "Python 3 (ipykernel)",
   "language": "python",
   "name": "python3"
  },
  "language_info": {
   "codemirror_mode": {
    "name": "ipython",
    "version": 3
   },
   "file_extension": ".py",
   "mimetype": "text/x-python",
   "name": "python",
   "nbconvert_exporter": "python",
   "pygments_lexer": "ipython3",
   "version": "3.10.12"
  }
 },
 "nbformat": 4,
 "nbformat_minor": 5
}
