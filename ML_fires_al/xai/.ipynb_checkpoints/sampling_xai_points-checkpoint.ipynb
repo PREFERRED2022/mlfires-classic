{
 "cells": [
  {
   "cell_type": "code",
   "execution_count": null,
   "id": "10e587dd",
   "metadata": {},
   "outputs": [],
   "source": [
    "import sys\n",
    "sys.path.append(\"/mnt/nvme2tb/ffp/code/mlfires/ML_fires_al/\")\n",
    "import pathlib\n",
    "import pandas as pd\n",
    "import xarray as xr\n",
    "import numpy as np\n",
    "import os\n",
    "import crop_dataset\n",
    "\n",
    "'''\n",
    "Adds a hash string ID in the dataset from x y coords \n",
    "'''\n",
    "def applyid(df):\n",
    "    df['xposst'] = (df['x'] * 10000).apply('{:06.0f}'.format)\n",
    "    df['yposst'] = (df['y'] * 10000).apply('{:06.0f}'.format)\n",
    "    df['id'] = df['xposst'] + df['yposst']\n",
    "    df.drop(columns=['xposst', 'yposst'], inplace=True)\n",
    "    return df\n",
    "\n",
    "'''\n",
    "Creates coarsen dataset subgrid from the initial dataset.\n",
    "\n",
    "\n",
    "Input \n",
    "    coarsen_c : The number of points in the subgrid is 1/( coarsen_c * coarsen_c) \n",
    "                We need to use odd numbers to maintain existing points coordinates in the subgrid.\n",
    "    file : The csv file to merge\n",
    "\n",
    "Output  \n",
    "    Corsen tabular pandas dataframe that contains only the instances of the points in the grid\n",
    "'''\n",
    "\n",
    "def getcoarsedf(coarsen_c, file):\n",
    "    ds = xr.open_dataset('/mnt/nvme2tb/ffp/datasets/images/20211030_df.nc')\n",
    "    dsc = ds.coarsen(y=coarsen_c, boundary='trim').mean().coarsen(x=coarsen_c, boundary='trim').mean()\n",
    "    coordtupar = dsc.stack(dim=['x', 'y']).dim.to_numpy()\n",
    "    coordnp = np.array([*coordtupar])\n",
    "    dfcoocrds = pd.DataFrame(coordnp, columns=['x', 'y'], dtype=float)\n",
    "    dfcoocrds = applyid(dfcoocrds)\n",
    "    dfday = pd.read_csv(file, dtype={'id': str})\n",
    "    coarsen_df = pd.merge(dfday, dfcoocrds, on=['id'], suffixes=(\"\", \"_c\")).drop(columns=['x_c', 'y_c'])\n",
    "    return coarsen_df\n",
    "\n",
    "def extract_day(date):\n",
    "    csvfolder = '/mnt/nvme2tb/ffp/datasets/prod/'\n",
    "    '''\n",
    "    gdfperif = crop_dataset.getperif()\n",
    "    crop_dataset.cropfile(os.path.join(csvfolder,date,'%s_norm.csv'%date),\n",
    "                      os.path.join(csvfolder,date, gdfperif, '_greece'),\n",
    "                      usexyid='id')\n",
    "    '''\n",
    "\n",
    "    csvfile = os.path.join(csvfolder, date, '%s_norm_greece.csv' % date)\n",
    "\n",
    "    # csv for xai input\n",
    "    coarsedf = getcoarsedf(31, csvfile)\n",
    "    xaifolder = '/mnt/nvme2tb/ffp/datasets/xai/%s' % date\n",
    "    if not os.path.isdir(xaifolder): os.makedirs(xaifolder)\n",
    "    csvcoarse = os.path.join(xaifolder, '%s_xai_inp.csv' % date)\n",
    "    coarsedf.to_csv(csvcoarse, index=False)\n"
   ]
  },
  {
   "cell_type": "code",
   "execution_count": null,
   "id": "254f1c34",
   "metadata": {},
   "outputs": [],
   "source": []
  },
  {
   "cell_type": "code",
   "execution_count": null,
   "id": "2eec3daf",
   "metadata": {},
   "outputs": [],
   "source": [
    "for d in range(25,29):\n",
    "    date='202308'+str(d)\n",
    "    extract_day(date)"
   ]
  }
 ],
 "metadata": {
  "kernelspec": {
   "display_name": "xarray",
   "language": "python",
   "name": "xarray"
  },
  "language_info": {
   "codemirror_mode": {
    "name": "ipython",
    "version": 3
   },
   "file_extension": ".py",
   "mimetype": "text/x-python",
   "name": "python",
   "nbconvert_exporter": "python",
   "pygments_lexer": "ipython3",
   "version": "3.11.4"
  }
 },
 "nbformat": 4,
 "nbformat_minor": 5
}
