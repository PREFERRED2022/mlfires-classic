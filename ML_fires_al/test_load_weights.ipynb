{
 "cells": [
  {
   "cell_type": "code",
   "execution_count": 1,
   "id": "1c76bdcc",
   "metadata": {},
   "outputs": [
    {
     "name": "stderr",
     "output_type": "stream",
     "text": [
      "2023-06-20 17:32:03.722391: I tensorflow/core/platform/cpu_feature_guard.cc:193] This TensorFlow binary is optimized with oneAPI Deep Neural Network Library (oneDNN) to use the following CPU instructions in performance-critical operations:  SSE4.1 SSE4.2 AVX AVX2 AVX_VNNI FMA\n",
      "To enable them in other operations, rebuild TensorFlow with the appropriate compiler flags.\n",
      "2023-06-20 17:32:03.761593: I tensorflow/core/util/port.cc:104] oneDNN custom operations are on. You may see slightly different numerical results due to floating-point round-off errors from different computation orders. To turn them off, set the environment variable `TF_ENABLE_ONEDNN_OPTS=0`.\n"
     ]
    }
   ],
   "source": [
    "from manage_model import create_NN_model, create_sklearn_model, allowgrowthgpus, load_model\n",
    "from best_models import retrieve_best_models, retrieve_models_by_id\n",
    "from check_and_prepare_dataset import load_dataset, prepare_dataset"
   ]
  },
  {
   "cell_type": "code",
   "execution_count": 2,
   "id": "8b72e963",
   "metadata": {},
   "outputs": [],
   "source": [
    "#filters = [\"df_flt['params'].str.contains(\\\"'dropout': None\\\")\"] # no dropout\n",
    "filters = [\"~df_flt['params'].str.contains(\\\"'dropout': None\\\")\"] # with dropout\n",
    "opt_targets = ['auc', 'f1-score 1', 'hybrid1', 'hybrid2', 'hybrid5', 'NH2', 'NH5', 'NH10']\n",
    "resdir = '/mnt/nvme2tb/ffp/results/bestmodels'\n",
    "testfpattern=cvrespattern = '*NN_ns*mean*'\n",
    "testmodel = retrieve_models_by_id(197,'auc test', resdir, testfpattern, opt_targets, 'val.', 'test', filters, 3)\n",
    "testmodels = retrieve_best_models(resdir, testfpattern, opt_targets, 'val.', 'test', filters, 3)\n",
    "\n"
   ]
  },
  {
   "cell_type": "code",
   "execution_count": 3,
   "id": "d9c8c716",
   "metadata": {},
   "outputs": [
    {
     "data": {
      "text/plain": [
       "{'params': {'ES_mindelta': 0.002,\n",
       "  'ES_monitor': 'val_loss',\n",
       "  'ES_patience': 10,\n",
       "  'batch_size': 512,\n",
       "  'class_weights': {0: 1, 1: 2},\n",
       "  'dropout': 0.3,\n",
       "  'feature_drop': ('month',\n",
       "   'weekday',\n",
       "   'dom_dir',\n",
       "   'dir_max',\n",
       "   'pop',\n",
       "   'corine_gr1',\n",
       "   'corine_gr2',\n",
       "   'corine_gr3',\n",
       "   'corine_gr4',\n",
       "   'corine_gr5',\n",
       "   'corine_gr6',\n",
       "   'corine_gr7',\n",
       "   'corine_gr8',\n",
       "   'corine_gr9'),\n",
       "  'max_epochs': 2000,\n",
       "  'metric': 'accuracy',\n",
       "  'n_internal_layers': (0, {'layer_1_0_nodes': 700.0}),\n",
       "  'optimizer': {'adam_params': None, 'name': 'Adam'}},\n",
       " 'trial': 197}"
      ]
     },
     "execution_count": 3,
     "metadata": {},
     "output_type": "execute_result"
    }
   ],
   "source": [
    "testmodel"
   ]
  },
  {
   "cell_type": "code",
   "execution_count": 4,
   "id": "a52c7bd5",
   "metadata": {},
   "outputs": [
    {
     "name": "stdout",
     "output_type": "stream",
     "text": [
      "Loading full dataset /mnt/nvme2tb/ffp/datasets/train/train_new_sample_1_2_norm.csv\n",
      "before nan drop: 41771\n",
      "after nan drop: 41771\n",
      "after dup. drop: 41684\n",
      "renaming \"x\": \"xpos\", \"y\": \"ypos\"\n",
      "Ignored columns from csv ['index', 'y', 'x', 'dom_dir', 'dir_max', 'fire', 'weekday', 'month', 'band', 'firedate']\n",
      "Dropped columns ['bin_dir_max_8', 'bin_corine_gr33', 'bin_weekday_6', 'bin_corine_gr21', 'bin_corine_gr24', 'bin_dom_dir_2', 'bin_dom_dir_4', 'bin_month_7', 'bin_dir_max_3', 'bin_dom_dir_1', 'bin_month_10', 'bin_dom_dir_8', 'bin_dir_max_1', 'bin_dom_dir_3', 'bin_dir_max_4', 'bin_weekday_2', 'bin_weekday_1', 'bin_corine_gr32', 'bin_dom_dir_7', 'bin_month_9', 'bin_corine_gr4', 'pop', 'bin_month_8', 'bin_corine_gr1', 'bin_weekday_5', 'bin_month_3', 'bin_dom_dir_5', 'bin_weekday_4', 'bin_corine_gr22', 'bin_month_4', 'bin_corine_gr31', 'bin_dir_max_5', 'bin_weekday_7', 'bin_dir_max_2', 'bin_dom_dir_6', 'bin_corine_gr23', 'bin_corine_gr5', 'bin_month_5', 'bin_dir_max_7', 'bin_dir_max_6', 'bin_weekday_3', 'bin_month_6']\n"
     ]
    }
   ],
   "source": [
    "X, y, g=load_dataset('/mnt/nvme2tb/ffp/datasets/train/train_new_sample_1_2_norm.csv', \\\n",
    "                         testmodel['params']['feature_drop'])"
   ]
  },
  {
   "cell_type": "code",
   "execution_count": 5,
   "id": "cc0f5073",
   "metadata": {},
   "outputs": [
    {
     "name": "stderr",
     "output_type": "stream",
     "text": [
      "2023-06-20 17:34:39.354520: I tensorflow/compiler/xla/stream_executor/cuda/cuda_gpu_executor.cc:981] successful NUMA node read from SysFS had negative value (-1), but there must be at least one NUMA node, so returning NUMA node zero\n",
      "2023-06-20 17:34:39.369843: I tensorflow/compiler/xla/stream_executor/cuda/cuda_gpu_executor.cc:981] successful NUMA node read from SysFS had negative value (-1), but there must be at least one NUMA node, so returning NUMA node zero\n",
      "2023-06-20 17:34:39.369986: I tensorflow/compiler/xla/stream_executor/cuda/cuda_gpu_executor.cc:981] successful NUMA node read from SysFS had negative value (-1), but there must be at least one NUMA node, so returning NUMA node zero\n",
      "2023-06-20 17:34:39.371293: I tensorflow/core/platform/cpu_feature_guard.cc:193] This TensorFlow binary is optimized with oneAPI Deep Neural Network Library (oneDNN) to use the following CPU instructions in performance-critical operations:  SSE4.1 SSE4.2 AVX AVX2 AVX_VNNI FMA\n",
      "To enable them in other operations, rebuild TensorFlow with the appropriate compiler flags.\n",
      "2023-06-20 17:34:39.372225: I tensorflow/compiler/xla/stream_executor/cuda/cuda_gpu_executor.cc:981] successful NUMA node read from SysFS had negative value (-1), but there must be at least one NUMA node, so returning NUMA node zero\n",
      "2023-06-20 17:34:39.372355: I tensorflow/compiler/xla/stream_executor/cuda/cuda_gpu_executor.cc:981] successful NUMA node read from SysFS had negative value (-1), but there must be at least one NUMA node, so returning NUMA node zero\n",
      "2023-06-20 17:34:39.372448: I tensorflow/compiler/xla/stream_executor/cuda/cuda_gpu_executor.cc:981] successful NUMA node read from SysFS had negative value (-1), but there must be at least one NUMA node, so returning NUMA node zero\n",
      "2023-06-20 17:34:40.028481: I tensorflow/compiler/xla/stream_executor/cuda/cuda_gpu_executor.cc:981] successful NUMA node read from SysFS had negative value (-1), but there must be at least one NUMA node, so returning NUMA node zero\n",
      "2023-06-20 17:34:40.083941: I tensorflow/compiler/xla/stream_executor/cuda/cuda_gpu_executor.cc:981] successful NUMA node read from SysFS had negative value (-1), but there must be at least one NUMA node, so returning NUMA node zero\n",
      "2023-06-20 17:34:40.084062: I tensorflow/compiler/xla/stream_executor/cuda/cuda_gpu_executor.cc:981] successful NUMA node read from SysFS had negative value (-1), but there must be at least one NUMA node, so returning NUMA node zero\n",
      "2023-06-20 17:34:40.084129: I tensorflow/core/common_runtime/gpu/gpu_device.cc:1613] Created device /job:localhost/replica:0/task:0/device:GPU:0 with 19962 MB memory:  -> device: 0, name: NVIDIA GeForce RTX 3090 Ti, pci bus id: 0000:01:00.0, compute capability: 8.6\n"
     ]
    },
    {
     "name": "stdout",
     "output_type": "stream",
     "text": [
      "1 Physical GPUs, 1 Logical GPUs\n"
     ]
    }
   ],
   "source": [
    "allowgrowthgpus()"
   ]
  },
  {
   "cell_type": "code",
   "execution_count": 7,
   "id": "f15fd493",
   "metadata": {},
   "outputs": [],
   "source": [
    "model=load_model('/mnt/nvme2tb/ffp/results/bestmodels/models/hypres_tf_ns_ncv_do_2019_weights_id_197_r_0_auctest_1.cpkt', 'tf',\\\n",
    "                 testmodel['params'],X)"
   ]
  },
  {
   "cell_type": "code",
   "execution_count": 8,
   "id": "d5a6a2de",
   "metadata": {},
   "outputs": [
    {
     "name": "stdout",
     "output_type": "stream",
     "text": [
      " 319/1303 [======>.......................] - ETA: 0s"
     ]
    },
    {
     "name": "stderr",
     "output_type": "stream",
     "text": [
      "2023-06-20 17:35:14.044429: I tensorflow/compiler/xla/stream_executor/cuda/cuda_blas.cc:630] TensorFloat-32 will be used for the matrix multiplication. This will only be logged once.\n"
     ]
    },
    {
     "name": "stdout",
     "output_type": "stream",
     "text": [
      "1303/1303 [==============================] - 2s 459us/step\n"
     ]
    },
    {
     "data": {
      "text/plain": [
       "array([[0.23376964, 0.76623034],\n",
       "       [0.51400113, 0.48599887],\n",
       "       [0.01781548, 0.9821845 ],\n",
       "       ...,\n",
       "       [0.01311231, 0.98688775],\n",
       "       [0.03468338, 0.9653166 ],\n",
       "       [0.04352969, 0.9564703 ]], dtype=float32)"
      ]
     },
     "execution_count": 8,
     "metadata": {},
     "output_type": "execute_result"
    }
   ],
   "source": [
    "model.predict(X)"
   ]
  },
  {
   "cell_type": "code",
   "execution_count": null,
   "id": "6b0ac262",
   "metadata": {},
   "outputs": [],
   "source": []
  }
 ],
 "metadata": {
  "kernelspec": {
   "display_name": "Python 3 (ipykernel)",
   "language": "python",
   "name": "python3"
  },
  "language_info": {
   "codemirror_mode": {
    "name": "ipython",
    "version": 3
   },
   "file_extension": ".py",
   "mimetype": "text/x-python",
   "name": "python",
   "nbconvert_exporter": "python",
   "pygments_lexer": "ipython3",
   "version": "3.10.10"
  }
 },
 "nbformat": 4,
 "nbformat_minor": 5
}
