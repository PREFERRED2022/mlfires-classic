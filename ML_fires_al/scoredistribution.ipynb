{
 "cells": [
  {
   "cell_type": "code",
   "execution_count": 1,
   "id": "0171103a",
   "metadata": {},
   "outputs": [],
   "source": [
    "import pandas as pd\n",
    "import numpy as np\n",
    "import matplotlib.pyplot as plt\n",
    "import matplotlib.ticker as ticker"
   ]
  },
  {
   "cell_type": "code",
   "execution_count": 2,
   "id": "9ca33707",
   "metadata": {
    "scrolled": true
   },
   "outputs": [],
   "source": [
    "#df = pd.read_csv('/home/aapostolakis/Documents/ffpcode/ml-fires-1/ML_fires_al/results/hyperopt/hyperopt_results_tensorflow_NN_700_50_scores_aucval_1.csv')\n",
    "#df = pd.read_csv('/home/aapostolakis/Documents/ffpcode/ml-fires-1/ML_fires_al/results/hyperopt/hyperopt_results_tensorflow_NN_200_scores_aucval_1.csv')\n",
    "#df = pd.read_csv('/home/aapostolakis/Documents/ffpcode/ml-fires-1/ML_fires_al/results/hyperopt/hyperopt_results_tensorflow_NN_1750_200_scores_aucval_1.csv')\n",
    "#df = pd.read_csv('/home/aapostolakis/Documents/ffpcode/ml-fires-1/ML_fires_al/results/hyperopt/hyperopt_results_sklearn_RF_scores_aucval_1.csv')\n",
    "df = pd.read_csv('/home/aapostolakis/Documents/ffpcode/ml-fires-1/ML_fires_al/results/hyperopt/hypres_tf_NN_scores_aucval_1.csv')"
   ]
  },
  {
   "cell_type": "code",
   "execution_count": 3,
   "id": "fadd8e6d",
   "metadata": {},
   "outputs": [
    {
     "data": {
      "text/plain": [
       "25793"
      ]
     },
     "execution_count": 3,
     "metadata": {},
     "output_type": "execute_result"
    }
   ],
   "source": [
    "totalrows=len(df.index)\n",
    "totalrows\n"
   ]
  },
  {
   "cell_type": "code",
   "execution_count": 4,
   "id": "10237403",
   "metadata": {},
   "outputs": [],
   "source": [
    "def firegroupby(classnum, classname, col, cutscheme):\n",
    "    dffire = df[df['fire']==classnum]\n",
    "    classtotal = len(dffire.index)\n",
    "    print(len(dffire.index))\n",
    "    tgroups = dffire.groupby(pd.cut(dffire[col], cutscheme)).count()\n",
    "    print(tgroups['id'].sum())\n",
    "    tgroups.rename(columns={'id': classname}, inplace=True)\n",
    "    tgroups = tgroups[[classname]]\n",
    "    tgroups[classname+' rate'] = tgroups[classname]/classtotal\n",
    "    tgroups[classname+' sum'] = tgroups[classname].cumsum()\n",
    "    dffire=None\n",
    "    return tgroups\n",
    "    "
   ]
  },
  {
   "cell_type": "code",
   "execution_count": 5,
   "id": "4ff90a43",
   "metadata": {},
   "outputs": [],
   "source": [
    "cutscheme = np.arange(0, 1.1, 0.1)"
   ]
  },
  {
   "cell_type": "code",
   "execution_count": 6,
   "id": "804d4943",
   "metadata": {},
   "outputs": [
    {
     "name": "stdout",
     "output_type": "stream",
     "text": [
      "11236\n",
      "11236\n",
      "12577\n",
      "12577\n"
     ]
    }
   ],
   "source": [
    "groupsfire = firegroupby(1, 'actual fire (TPR)', '1', cutscheme)\n",
    "groupsnof = firegroupby(0, 'no fire (TNR)', '1', cutscheme)"
   ]
  },
  {
   "cell_type": "code",
   "execution_count": 7,
   "id": "fff7386c",
   "metadata": {},
   "outputs": [],
   "source": [
    "thressgroups = pd.concat([groupsfire,groupsnof], axis=1)"
   ]
  },
  {
   "cell_type": "code",
   "execution_count": 8,
   "id": "fd38ada6",
   "metadata": {},
   "outputs": [
    {
     "data": {
      "image/png": "[encoded data removed]",
      "text/plain": [
       "<Figure size 1080x576 with 1 Axes>"
      ]
     },
     "metadata": {
      "needs_background": "light"
     },
     "output_type": "display_data"
    }
   ],
   "source": [
    "ax2 = thressgroups[['actual fire (TPR) sum', 'no fire (TNR) sum']].plot.bar(figsize=(15,8))\n",
    "ax2.xaxis.set_major_locator(ticker.MultipleLocator(5))"
   ]
  },
  {
   "cell_type": "code",
   "execution_count": 9,
   "id": "e4a26774",
   "metadata": {},
   "outputs": [
    {
     "data": {
      "image/png": "[encoded data removed]",
      "text/plain": [
       "<Figure size 1080x576 with 1 Axes>"
      ]
     },
     "metadata": {
      "needs_background": "light"
     },
     "output_type": "display_data"
    }
   ],
   "source": [
    "ax2 = thressgroups[['actual fire (TPR) rate', 'no fire (TNR) rate']].plot.bar(figsize=(15,8))\n",
    "ax2.xaxis.set_major_locator(ticker.MultipleLocator(5))"
   ]
  },
  {
   "cell_type": "code",
   "execution_count": 10,
   "id": "5724afd2",
   "metadata": {
    "scrolled": true
   },
   "outputs": [
    {
     "data": {
      "text/html": [
       "<div>\n",
       "<style scoped>\n",
       "    .dataframe tbody tr th:only-of-type {\n",
       "        vertical-align: middle;\n",
       "    }\n",
       "\n",
       "    .dataframe tbody tr th {\n",
       "        vertical-align: top;\n",
       "    }\n",
       "\n",
       "    .dataframe thead th {\n",
       "        text-align: right;\n",
       "    }\n",
       "</style>\n",
       "<table border=\"1\" class=\"dataframe\">\n",
       "  <thead>\n",
       "    <tr style=\"text-align: right;\">\n",
       "      <th></th>\n",
       "      <th>actual fire (TPR)</th>\n",
       "      <th>actual fire (TPR) rate</th>\n",
       "      <th>actual fire (TPR) sum</th>\n",
       "      <th>no fire (TNR)</th>\n",
       "      <th>no fire (TNR) rate</th>\n",
       "      <th>no fire (TNR) sum</th>\n",
       "    </tr>\n",
       "    <tr>\n",
       "      <th>1</th>\n",
       "      <th></th>\n",
       "      <th></th>\n",
       "      <th></th>\n",
       "      <th></th>\n",
       "      <th></th>\n",
       "      <th></th>\n",
       "    </tr>\n",
       "  </thead>\n",
       "  <tbody>\n",
       "    <tr>\n",
       "      <th>(0.0, 0.1]</th>\n",
       "      <td>238</td>\n",
       "      <td>0.021182</td>\n",
       "      <td>238</td>\n",
       "      <td>6205</td>\n",
       "      <td>0.493361</td>\n",
       "      <td>6205</td>\n",
       "    </tr>\n",
       "    <tr>\n",
       "      <th>(0.1, 0.2]</th>\n",
       "      <td>312</td>\n",
       "      <td>0.027768</td>\n",
       "      <td>550</td>\n",
       "      <td>1692</td>\n",
       "      <td>0.134531</td>\n",
       "      <td>7897</td>\n",
       "    </tr>\n",
       "    <tr>\n",
       "      <th>(0.2, 0.3]</th>\n",
       "      <td>477</td>\n",
       "      <td>0.042453</td>\n",
       "      <td>1027</td>\n",
       "      <td>1081</td>\n",
       "      <td>0.085951</td>\n",
       "      <td>8978</td>\n",
       "    </tr>\n",
       "    <tr>\n",
       "      <th>(0.3, 0.4]</th>\n",
       "      <td>550</td>\n",
       "      <td>0.048950</td>\n",
       "      <td>1577</td>\n",
       "      <td>807</td>\n",
       "      <td>0.064165</td>\n",
       "      <td>9785</td>\n",
       "    </tr>\n",
       "    <tr>\n",
       "      <th>(0.4, 0.5]</th>\n",
       "      <td>694</td>\n",
       "      <td>0.061766</td>\n",
       "      <td>2271</td>\n",
       "      <td>677</td>\n",
       "      <td>0.053828</td>\n",
       "      <td>10462</td>\n",
       "    </tr>\n",
       "    <tr>\n",
       "      <th>(0.5, 0.6]</th>\n",
       "      <td>832</td>\n",
       "      <td>0.074048</td>\n",
       "      <td>3103</td>\n",
       "      <td>604</td>\n",
       "      <td>0.048024</td>\n",
       "      <td>11066</td>\n",
       "    </tr>\n",
       "    <tr>\n",
       "      <th>(0.6, 0.7]</th>\n",
       "      <td>1204</td>\n",
       "      <td>0.107156</td>\n",
       "      <td>4307</td>\n",
       "      <td>596</td>\n",
       "      <td>0.047388</td>\n",
       "      <td>11662</td>\n",
       "    </tr>\n",
       "    <tr>\n",
       "      <th>(0.7, 0.8]</th>\n",
       "      <td>1326</td>\n",
       "      <td>0.118014</td>\n",
       "      <td>5633</td>\n",
       "      <td>443</td>\n",
       "      <td>0.035223</td>\n",
       "      <td>12105</td>\n",
       "    </tr>\n",
       "    <tr>\n",
       "      <th>(0.8, 0.9]</th>\n",
       "      <td>2075</td>\n",
       "      <td>0.184674</td>\n",
       "      <td>7708</td>\n",
       "      <td>320</td>\n",
       "      <td>0.025443</td>\n",
       "      <td>12425</td>\n",
       "    </tr>\n",
       "    <tr>\n",
       "      <th>(0.9, 1.0]</th>\n",
       "      <td>3528</td>\n",
       "      <td>0.313991</td>\n",
       "      <td>11236</td>\n",
       "      <td>152</td>\n",
       "      <td>0.012086</td>\n",
       "      <td>12577</td>\n",
       "    </tr>\n",
       "  </tbody>\n",
       "</table>\n",
       "</div>"
      ],
      "text/plain": [
       "            actual fire (TPR)  actual fire (TPR) rate  actual fire (TPR) sum  \\\n",
       "1                                                                              \n",
       "(0.0, 0.1]                238                0.021182                    238   \n",
       "(0.1, 0.2]                312                0.027768                    550   \n",
       "(0.2, 0.3]                477                0.042453                   1027   \n",
       "(0.3, 0.4]                550                0.048950                   1577   \n",
       "(0.4, 0.5]                694                0.061766                   2271   \n",
       "(0.5, 0.6]                832                0.074048                   3103   \n",
       "(0.6, 0.7]               1204                0.107156                   4307   \n",
       "(0.7, 0.8]               1326                0.118014                   5633   \n",
       "(0.8, 0.9]               2075                0.184674                   7708   \n",
       "(0.9, 1.0]               3528                0.313991                  11236   \n",
       "\n",
       "            no fire (TNR)  no fire (TNR) rate  no fire (TNR) sum  \n",
       "1                                                                 \n",
       "(0.0, 0.1]           6205            0.493361               6205  \n",
       "(0.1, 0.2]           1692            0.134531               7897  \n",
       "(0.2, 0.3]           1081            0.085951               8978  \n",
       "(0.3, 0.4]            807            0.064165               9785  \n",
       "(0.4, 0.5]            677            0.053828              10462  \n",
       "(0.5, 0.6]            604            0.048024              11066  \n",
       "(0.6, 0.7]            596            0.047388              11662  \n",
       "(0.7, 0.8]            443            0.035223              12105  \n",
       "(0.8, 0.9]            320            0.025443              12425  \n",
       "(0.9, 1.0]            152            0.012086              12577  "
      ]
     },
     "execution_count": 10,
     "metadata": {},
     "output_type": "execute_result"
    }
   ],
   "source": [
    "thressgroups"
   ]
  },
  {
   "cell_type": "code",
   "execution_count": null,
   "id": "6720a34e",
   "metadata": {},
   "outputs": [],
   "source": []
  },
  {
   "cell_type": "code",
   "execution_count": null,
   "id": "d22336d6",
   "metadata": {},
   "outputs": [],
   "source": []
  }
 ],
 "metadata": {
  "kernelspec": {
   "display_name": "Python 3",
   "language": "python",
   "name": "python3"
  },
  "language_info": {
   "codemirror_mode": {
    "name": "ipython",
    "version": 3
   },
   "file_extension": ".py",
   "mimetype": "text/x-python",
   "name": "python",
   "nbconvert_exporter": "python",
   "pygments_lexer": "ipython3",
   "version": "3.8.8"
  }
 },
 "nbformat": 4,
 "nbformat_minor": 5
}
