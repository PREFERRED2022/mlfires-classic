{
 "cells": [
  {
   "cell_type": "code",
   "execution_count": 1,
   "metadata": {},
   "outputs": [],
   "source": [
    "import os\n",
    "from os import listdir\n",
    "from os.path import isfile, join\n",
    "import pandas as pd"
   ]
  },
  {
   "cell_type": "code",
   "execution_count": 2,
   "metadata": {},
   "outputs": [],
   "source": [
    "os.chdir('/home/sgirtsou/Documents/June2019/Comb_results')\n",
    "mypath = '/home/sgirtsou/Documents/June2019/Comb_results'"
   ]
  },
  {
   "cell_type": "code",
   "execution_count": 4,
   "metadata": {},
   "outputs": [],
   "source": [
    "onlyfiles = [f for f in listdir(mypath) if isfile(join(mypath, f)) and 'comb' in f]\n",
    "combined_csv = pd.concat([pd.read_csv(f) for f in [onlyfiles[0]]])"
   ]
  },
  {
   "cell_type": "code",
   "execution_count": 5,
   "metadata": {},
   "outputs": [
    {
     "data": {
      "text/plain": [
       "Index(['Unnamed: 0', 'Unnamed: 0.1', 'Unnamed: 0.1.1', 'Unnamed: 0.1.1.1',\n",
       "       'id', 'Corine', 'DEM', 'Slope', 'Aspect', 'Curvature', 'ndvi',\n",
       "       'max_temp', 'min_temp', 'mean_temp', 'rain_7days', 'res_max', 'dir_max',\n",
       "       'dom_vel', 'dom_dir', 'x', 'y', 'fire', 'Class_pred', 'Class_0_proba',\n",
       "       'Class_1_proba', 'Class_pred_lb', 'Class_0_proba_lb',\n",
       "       'Class_1_proba_lb', 'OBJECTID', 'fire_id', 'firedate_g', 'g_id',\n",
       "       'Comb_proba_1', 'Comb_class_pred'],\n",
       "      dtype='object')"
      ]
     },
     "execution_count": 5,
     "metadata": {},
     "output_type": "execute_result"
    }
   ],
   "source": [
    "combined_csv.columns"
   ]
  },
  {
   "cell_type": "code",
   "execution_count": 6,
   "metadata": {},
   "outputs": [],
   "source": [
    "ranges = [0.0,0.2,0.4,0.6,0.8,1.0]"
   ]
  },
  {
   "cell_type": "code",
   "execution_count": 30,
   "metadata": {},
   "outputs": [],
   "source": [
    "combined_cut=pd.cut(combined_csv.Class_1_proba, ranges)"
   ]
  },
  {
   "cell_type": "code",
   "execution_count": 8,
   "metadata": {},
   "outputs": [],
   "source": [
    "combined_cut=combined_cut.rename(\"ranges\")"
   ]
  },
  {
   "cell_type": "code",
   "execution_count": 9,
   "metadata": {},
   "outputs": [],
   "source": [
    "combined_csv_r=pd.concat([combined_csv,combined_cut],axis=1)"
   ]
  },
  {
   "cell_type": "code",
   "execution_count": 31,
   "metadata": {},
   "outputs": [
    {
     "data": {
      "text/html": [
       "<div>\n",
       "<style scoped>\n",
       "    .dataframe tbody tr th:only-of-type {\n",
       "        vertical-align: middle;\n",
       "    }\n",
       "\n",
       "    .dataframe tbody tr th {\n",
       "        vertical-align: top;\n",
       "    }\n",
       "\n",
       "    .dataframe thead th {\n",
       "        text-align: right;\n",
       "    }\n",
       "</style>\n",
       "<table border=\"1\" class=\"dataframe\">\n",
       "  <thead>\n",
       "    <tr style=\"text-align: right;\">\n",
       "      <th></th>\n",
       "      <th>Unnamed: 0</th>\n",
       "      <th>Unnamed: 0.1</th>\n",
       "      <th>Unnamed: 0.1.1</th>\n",
       "      <th>Unnamed: 0.1.1.1</th>\n",
       "      <th>id</th>\n",
       "      <th>Corine</th>\n",
       "      <th>DEM</th>\n",
       "      <th>Slope</th>\n",
       "      <th>Aspect</th>\n",
       "      <th>Curvature</th>\n",
       "      <th>...</th>\n",
       "      <th>Class_pred_lb</th>\n",
       "      <th>Class_0_proba_lb</th>\n",
       "      <th>Class_1_proba_lb</th>\n",
       "      <th>OBJECTID</th>\n",
       "      <th>fire_id</th>\n",
       "      <th>firedate_g</th>\n",
       "      <th>g_id</th>\n",
       "      <th>Comb_proba_1</th>\n",
       "      <th>Comb_class_pred</th>\n",
       "      <th>ranges</th>\n",
       "    </tr>\n",
       "  </thead>\n",
       "  <tbody>\n",
       "    <tr>\n",
       "      <th>0</th>\n",
       "      <td>0</td>\n",
       "      <td>0</td>\n",
       "      <td>0</td>\n",
       "      <td>0</td>\n",
       "      <td>333237</td>\n",
       "      <td>311</td>\n",
       "      <td>84.3599</td>\n",
       "      <td>1.39337</td>\n",
       "      <td>42.2097</td>\n",
       "      <td>-0.000953</td>\n",
       "      <td>...</td>\n",
       "      <td>0</td>\n",
       "      <td>1.000000</td>\n",
       "      <td>7.205642e-13</td>\n",
       "      <td>NaN</td>\n",
       "      <td>NaN</td>\n",
       "      <td>NaN</td>\n",
       "      <td>NaN</td>\n",
       "      <td>0.347087</td>\n",
       "      <td>0</td>\n",
       "      <td>(0.2, 0.4]</td>\n",
       "    </tr>\n",
       "    <tr>\n",
       "      <th>1</th>\n",
       "      <td>1</td>\n",
       "      <td>1</td>\n",
       "      <td>1</td>\n",
       "      <td>1</td>\n",
       "      <td>335462</td>\n",
       "      <td>311</td>\n",
       "      <td>77.4268</td>\n",
       "      <td>1.34403</td>\n",
       "      <td>344.9420</td>\n",
       "      <td>-0.011174</td>\n",
       "      <td>...</td>\n",
       "      <td>0</td>\n",
       "      <td>1.000000</td>\n",
       "      <td>1.048661e-15</td>\n",
       "      <td>NaN</td>\n",
       "      <td>NaN</td>\n",
       "      <td>NaN</td>\n",
       "      <td>NaN</td>\n",
       "      <td>0.235868</td>\n",
       "      <td>0</td>\n",
       "      <td>(0.2, 0.4]</td>\n",
       "    </tr>\n",
       "    <tr>\n",
       "      <th>2</th>\n",
       "      <td>2</td>\n",
       "      <td>2</td>\n",
       "      <td>2</td>\n",
       "      <td>2</td>\n",
       "      <td>335463</td>\n",
       "      <td>311</td>\n",
       "      <td>90.7271</td>\n",
       "      <td>1.21530</td>\n",
       "      <td>357.5200</td>\n",
       "      <td>0.010208</td>\n",
       "      <td>...</td>\n",
       "      <td>0</td>\n",
       "      <td>1.000000</td>\n",
       "      <td>7.867603e-15</td>\n",
       "      <td>NaN</td>\n",
       "      <td>NaN</td>\n",
       "      <td>NaN</td>\n",
       "      <td>NaN</td>\n",
       "      <td>0.334811</td>\n",
       "      <td>0</td>\n",
       "      <td>(0.2, 0.4]</td>\n",
       "    </tr>\n",
       "    <tr>\n",
       "      <th>3</th>\n",
       "      <td>3</td>\n",
       "      <td>3</td>\n",
       "      <td>3</td>\n",
       "      <td>3</td>\n",
       "      <td>335464</td>\n",
       "      <td>311</td>\n",
       "      <td>84.3599</td>\n",
       "      <td>1.39337</td>\n",
       "      <td>42.2097</td>\n",
       "      <td>-0.000953</td>\n",
       "      <td>...</td>\n",
       "      <td>0</td>\n",
       "      <td>1.000000</td>\n",
       "      <td>7.205642e-13</td>\n",
       "      <td>NaN</td>\n",
       "      <td>NaN</td>\n",
       "      <td>NaN</td>\n",
       "      <td>NaN</td>\n",
       "      <td>0.347087</td>\n",
       "      <td>0</td>\n",
       "      <td>(0.2, 0.4]</td>\n",
       "    </tr>\n",
       "    <tr>\n",
       "      <th>4</th>\n",
       "      <td>4</td>\n",
       "      <td>4</td>\n",
       "      <td>4</td>\n",
       "      <td>4</td>\n",
       "      <td>337688</td>\n",
       "      <td>311</td>\n",
       "      <td>100.3930</td>\n",
       "      <td>1.60630</td>\n",
       "      <td>18.9754</td>\n",
       "      <td>-0.005336</td>\n",
       "      <td>...</td>\n",
       "      <td>0</td>\n",
       "      <td>1.000000</td>\n",
       "      <td>4.357297e-12</td>\n",
       "      <td>NaN</td>\n",
       "      <td>NaN</td>\n",
       "      <td>NaN</td>\n",
       "      <td>NaN</td>\n",
       "      <td>0.276757</td>\n",
       "      <td>0</td>\n",
       "      <td>(0.2, 0.4]</td>\n",
       "    </tr>\n",
       "    <tr>\n",
       "      <th>...</th>\n",
       "      <td>...</td>\n",
       "      <td>...</td>\n",
       "      <td>...</td>\n",
       "      <td>...</td>\n",
       "      <td>...</td>\n",
       "      <td>...</td>\n",
       "      <td>...</td>\n",
       "      <td>...</td>\n",
       "      <td>...</td>\n",
       "      <td>...</td>\n",
       "      <td>...</td>\n",
       "      <td>...</td>\n",
       "      <td>...</td>\n",
       "      <td>...</td>\n",
       "      <td>...</td>\n",
       "      <td>...</td>\n",
       "      <td>...</td>\n",
       "      <td>...</td>\n",
       "      <td>...</td>\n",
       "      <td>...</td>\n",
       "      <td>...</td>\n",
       "    </tr>\n",
       "    <tr>\n",
       "      <th>373539</th>\n",
       "      <td>373539</td>\n",
       "      <td>373539</td>\n",
       "      <td>373539</td>\n",
       "      <td>373987</td>\n",
       "      <td>3468809</td>\n",
       "      <td>323</td>\n",
       "      <td>0.0000</td>\n",
       "      <td>0.00000</td>\n",
       "      <td>0.0000</td>\n",
       "      <td>0.000000</td>\n",
       "      <td>...</td>\n",
       "      <td>1</td>\n",
       "      <td>0.002106</td>\n",
       "      <td>9.978943e-01</td>\n",
       "      <td>NaN</td>\n",
       "      <td>NaN</td>\n",
       "      <td>NaN</td>\n",
       "      <td>NaN</td>\n",
       "      <td>0.997894</td>\n",
       "      <td>1</td>\n",
       "      <td>(0.4, 0.6]</td>\n",
       "    </tr>\n",
       "    <tr>\n",
       "      <th>373540</th>\n",
       "      <td>373540</td>\n",
       "      <td>373540</td>\n",
       "      <td>373540</td>\n",
       "      <td>373988</td>\n",
       "      <td>3468810</td>\n",
       "      <td>323</td>\n",
       "      <td>0.0000</td>\n",
       "      <td>0.00000</td>\n",
       "      <td>-1.0000</td>\n",
       "      <td>-0.000000</td>\n",
       "      <td>...</td>\n",
       "      <td>1</td>\n",
       "      <td>0.006168</td>\n",
       "      <td>9.938315e-01</td>\n",
       "      <td>NaN</td>\n",
       "      <td>NaN</td>\n",
       "      <td>NaN</td>\n",
       "      <td>NaN</td>\n",
       "      <td>0.993832</td>\n",
       "      <td>1</td>\n",
       "      <td>(0.4, 0.6]</td>\n",
       "    </tr>\n",
       "    <tr>\n",
       "      <th>373541</th>\n",
       "      <td>373541</td>\n",
       "      <td>373541</td>\n",
       "      <td>373541</td>\n",
       "      <td>373989</td>\n",
       "      <td>3462125</td>\n",
       "      <td>321</td>\n",
       "      <td>0.0000</td>\n",
       "      <td>0.00000</td>\n",
       "      <td>-1.0000</td>\n",
       "      <td>-0.000000</td>\n",
       "      <td>...</td>\n",
       "      <td>1</td>\n",
       "      <td>0.043742</td>\n",
       "      <td>9.562585e-01</td>\n",
       "      <td>NaN</td>\n",
       "      <td>NaN</td>\n",
       "      <td>NaN</td>\n",
       "      <td>NaN</td>\n",
       "      <td>0.506242</td>\n",
       "      <td>1</td>\n",
       "      <td>(0.4, 0.6]</td>\n",
       "    </tr>\n",
       "    <tr>\n",
       "      <th>373542</th>\n",
       "      <td>373542</td>\n",
       "      <td>373542</td>\n",
       "      <td>373542</td>\n",
       "      <td>373990</td>\n",
       "      <td>3462126</td>\n",
       "      <td>321</td>\n",
       "      <td>0.0000</td>\n",
       "      <td>0.00000</td>\n",
       "      <td>-1.0000</td>\n",
       "      <td>-0.000000</td>\n",
       "      <td>...</td>\n",
       "      <td>1</td>\n",
       "      <td>0.117125</td>\n",
       "      <td>8.828749e-01</td>\n",
       "      <td>NaN</td>\n",
       "      <td>NaN</td>\n",
       "      <td>NaN</td>\n",
       "      <td>NaN</td>\n",
       "      <td>0.509161</td>\n",
       "      <td>1</td>\n",
       "      <td>(0.4, 0.6]</td>\n",
       "    </tr>\n",
       "    <tr>\n",
       "      <th>373543</th>\n",
       "      <td>373543</td>\n",
       "      <td>373543</td>\n",
       "      <td>373543</td>\n",
       "      <td>373991</td>\n",
       "      <td>3462127</td>\n",
       "      <td>321</td>\n",
       "      <td>0.0000</td>\n",
       "      <td>0.00062</td>\n",
       "      <td>270.0000</td>\n",
       "      <td>-0.000009</td>\n",
       "      <td>...</td>\n",
       "      <td>1</td>\n",
       "      <td>0.000855</td>\n",
       "      <td>9.991446e-01</td>\n",
       "      <td>NaN</td>\n",
       "      <td>NaN</td>\n",
       "      <td>NaN</td>\n",
       "      <td>NaN</td>\n",
       "      <td>0.999145</td>\n",
       "      <td>1</td>\n",
       "      <td>(0.4, 0.6]</td>\n",
       "    </tr>\n",
       "  </tbody>\n",
       "</table>\n",
       "<p>373544 rows × 35 columns</p>\n",
       "</div>"
      ],
      "text/plain": [
       "        Unnamed: 0  Unnamed: 0.1  Unnamed: 0.1.1  Unnamed: 0.1.1.1       id  \\\n",
       "0                0             0               0                 0   333237   \n",
       "1                1             1               1                 1   335462   \n",
       "2                2             2               2                 2   335463   \n",
       "3                3             3               3                 3   335464   \n",
       "4                4             4               4                 4   337688   \n",
       "...            ...           ...             ...               ...      ...   \n",
       "373539      373539        373539          373539            373987  3468809   \n",
       "373540      373540        373540          373540            373988  3468810   \n",
       "373541      373541        373541          373541            373989  3462125   \n",
       "373542      373542        373542          373542            373990  3462126   \n",
       "373543      373543        373543          373543            373991  3462127   \n",
       "\n",
       "        Corine       DEM    Slope    Aspect  Curvature  ...  Class_pred_lb  \\\n",
       "0          311   84.3599  1.39337   42.2097  -0.000953  ...              0   \n",
       "1          311   77.4268  1.34403  344.9420  -0.011174  ...              0   \n",
       "2          311   90.7271  1.21530  357.5200   0.010208  ...              0   \n",
       "3          311   84.3599  1.39337   42.2097  -0.000953  ...              0   \n",
       "4          311  100.3930  1.60630   18.9754  -0.005336  ...              0   \n",
       "...        ...       ...      ...       ...        ...  ...            ...   \n",
       "373539     323    0.0000  0.00000    0.0000   0.000000  ...              1   \n",
       "373540     323    0.0000  0.00000   -1.0000  -0.000000  ...              1   \n",
       "373541     321    0.0000  0.00000   -1.0000  -0.000000  ...              1   \n",
       "373542     321    0.0000  0.00000   -1.0000  -0.000000  ...              1   \n",
       "373543     321    0.0000  0.00062  270.0000  -0.000009  ...              1   \n",
       "\n",
       "        Class_0_proba_lb  Class_1_proba_lb  OBJECTID  fire_id  firedate_g  \\\n",
       "0               1.000000      7.205642e-13       NaN      NaN         NaN   \n",
       "1               1.000000      1.048661e-15       NaN      NaN         NaN   \n",
       "2               1.000000      7.867603e-15       NaN      NaN         NaN   \n",
       "3               1.000000      7.205642e-13       NaN      NaN         NaN   \n",
       "4               1.000000      4.357297e-12       NaN      NaN         NaN   \n",
       "...                  ...               ...       ...      ...         ...   \n",
       "373539          0.002106      9.978943e-01       NaN      NaN         NaN   \n",
       "373540          0.006168      9.938315e-01       NaN      NaN         NaN   \n",
       "373541          0.043742      9.562585e-01       NaN      NaN         NaN   \n",
       "373542          0.117125      8.828749e-01       NaN      NaN         NaN   \n",
       "373543          0.000855      9.991446e-01       NaN      NaN         NaN   \n",
       "\n",
       "        g_id  Comb_proba_1  Comb_class_pred      ranges  \n",
       "0        NaN      0.347087                0  (0.2, 0.4]  \n",
       "1        NaN      0.235868                0  (0.2, 0.4]  \n",
       "2        NaN      0.334811                0  (0.2, 0.4]  \n",
       "3        NaN      0.347087                0  (0.2, 0.4]  \n",
       "4        NaN      0.276757                0  (0.2, 0.4]  \n",
       "...      ...           ...              ...         ...  \n",
       "373539   NaN      0.997894                1  (0.4, 0.6]  \n",
       "373540   NaN      0.993832                1  (0.4, 0.6]  \n",
       "373541   NaN      0.506242                1  (0.4, 0.6]  \n",
       "373542   NaN      0.509161                1  (0.4, 0.6]  \n",
       "373543   NaN      0.999145                1  (0.4, 0.6]  \n",
       "\n",
       "[373544 rows x 35 columns]"
      ]
     },
     "execution_count": 31,
     "metadata": {},
     "output_type": "execute_result"
    }
   ],
   "source": [
    "combined_csv_r"
   ]
  },
  {
   "cell_type": "code",
   "execution_count": 43,
   "metadata": {},
   "outputs": [],
   "source": [
    "groups = combined_csv_r.groupby(combined_cut).count()['Class_1_proba']"
   ]
  },
  {
   "cell_type": "code",
   "execution_count": 44,
   "metadata": {},
   "outputs": [
    {
     "data": {
      "text/plain": [
       "Class_1_proba\n",
       "(0.0, 0.2]     50838\n",
       "(0.2, 0.4]    111421\n",
       "(0.4, 0.6]     80818\n",
       "(0.6, 0.8]    115633\n",
       "(0.8, 1.0]     14831\n",
       "Name: Class_1_proba, dtype: int64"
      ]
     },
     "execution_count": 44,
     "metadata": {},
     "output_type": "execute_result"
    }
   ],
   "source": [
    "groups"
   ]
  },
  {
   "cell_type": "code",
   "execution_count": 52,
   "metadata": {},
   "outputs": [],
   "source": [
    "combined_cut_lb=pd.cut(combined_csv.Class_1_proba_lb, ranges)\n",
    "combined_cut_lb=combined_cut_lb.rename(\"ranges_lb\")\n",
    "combined_csv_lb_r=pd.concat([combined_csv,combined_cut_lb],axis=1)"
   ]
  },
  {
   "cell_type": "code",
   "execution_count": 53,
   "metadata": {},
   "outputs": [
    {
     "data": {
      "text/plain": [
       "ranges_lb\n",
       "(0.0, 0.2]    369000\n",
       "(0.2, 0.4]       976\n",
       "(0.4, 0.6]       635\n",
       "(0.6, 0.8]       597\n",
       "(0.8, 1.0]      2336\n",
       "Name: Class_1_proba_lb, dtype: int64"
      ]
     },
     "execution_count": 53,
     "metadata": {},
     "output_type": "execute_result"
    }
   ],
   "source": [
    "groups_lb = combined_csv_r.groupby(combined_cut_lb).count()['Class_1_proba_lb']\n",
    "groups_lb"
   ]
  },
  {
   "cell_type": "code",
   "execution_count": 34,
   "metadata": {},
   "outputs": [],
   "source": [
    "combined_csv_fire=combined_csv[combined_csv[\"fire\"]==1]\n",
    "combined_fire_cut=pd.cut(combined_csv_fire.Class_1_proba, ranges)\n",
    "combined_fire_cut=combined_fire_cut.rename(\"ranges_fire\")"
   ]
  },
  {
   "cell_type": "code",
   "execution_count": 41,
   "metadata": {},
   "outputs": [
    {
     "data": {
      "text/html": [
       "<div>\n",
       "<style scoped>\n",
       "    .dataframe tbody tr th:only-of-type {\n",
       "        vertical-align: middle;\n",
       "    }\n",
       "\n",
       "    .dataframe tbody tr th {\n",
       "        vertical-align: top;\n",
       "    }\n",
       "\n",
       "    .dataframe thead th {\n",
       "        text-align: right;\n",
       "    }\n",
       "</style>\n",
       "<table border=\"1\" class=\"dataframe\">\n",
       "  <thead>\n",
       "    <tr style=\"text-align: right;\">\n",
       "      <th></th>\n",
       "      <th>Unnamed: 0</th>\n",
       "      <th>Unnamed: 0.1</th>\n",
       "      <th>Unnamed: 0.1.1</th>\n",
       "      <th>Unnamed: 0.1.1.1</th>\n",
       "      <th>id</th>\n",
       "      <th>Corine</th>\n",
       "      <th>DEM</th>\n",
       "      <th>Slope</th>\n",
       "      <th>Aspect</th>\n",
       "      <th>Curvature</th>\n",
       "      <th>...</th>\n",
       "      <th>Class_pred_lb</th>\n",
       "      <th>Class_0_proba_lb</th>\n",
       "      <th>Class_1_proba_lb</th>\n",
       "      <th>OBJECTID</th>\n",
       "      <th>fire_id</th>\n",
       "      <th>firedate_g</th>\n",
       "      <th>g_id</th>\n",
       "      <th>Comb_proba_1</th>\n",
       "      <th>Comb_class_pred</th>\n",
       "      <th>ranges_fire</th>\n",
       "    </tr>\n",
       "  </thead>\n",
       "  <tbody>\n",
       "  </tbody>\n",
       "</table>\n",
       "<p>0 rows × 35 columns</p>\n",
       "</div>"
      ],
      "text/plain": [
       "Empty DataFrame\n",
       "Columns: [Unnamed: 0, Unnamed: 0.1, Unnamed: 0.1.1, Unnamed: 0.1.1.1, id, Corine, DEM, Slope, Aspect, Curvature, ndvi, max_temp, min_temp, mean_temp, rain_7days, res_max, dir_max, dom_vel, dom_dir, x, y, fire, Class_pred, Class_0_proba, Class_1_proba, Class_pred_lb, Class_0_proba_lb, Class_1_proba_lb, OBJECTID, fire_id, firedate_g, g_id, Comb_proba_1, Comb_class_pred, ranges_fire]\n",
       "Index: []\n",
       "\n",
       "[0 rows x 35 columns]"
      ]
     },
     "execution_count": 41,
     "metadata": {},
     "output_type": "execute_result"
    }
   ],
   "source": [
    "combined_csv_fire_r=pd.concat([combined_csv_fire,combined_fire_cut],axis=1)"
   ]
  },
  {
   "cell_type": "code",
   "execution_count": 38,
   "metadata": {},
   "outputs": [],
   "source": [
    "groups_fire = combined_csv_fire_r.groupby(combined_fire_cut).count()"
   ]
  },
  {
   "cell_type": "code",
   "execution_count": 39,
   "metadata": {},
   "outputs": [
    {
     "data": {
      "text/plain": [
       "pandas.core.frame.DataFrame"
      ]
     },
     "execution_count": 39,
     "metadata": {},
     "output_type": "execute_result"
    }
   ],
   "source": [
    "allstats=pd.concat([groups[\"ranges\"],groups_fire[\"ranges_fire\"]],axis=1)\n",
    "type(allstats)"
   ]
  },
  {
   "cell_type": "code",
   "execution_count": 40,
   "metadata": {},
   "outputs": [
    {
     "name": "stdout",
     "output_type": "stream",
     "text": [
      "0.0-0.2 : 13.61 nan\n",
      "0.2-0.4 : 29.83 nan\n",
      "0.4-0.6 : 21.64 nan\n",
      "0.6-0.8 : 30.96 nan\n",
      "0.8-1.0 : 3.97 nan\n"
     ]
    },
    {
     "name": "stderr",
     "output_type": "stream",
     "text": [
      "/home/sgirtsou/miniconda3/envs/ml/lib/python3.6/site-packages/ipykernel_launcher.py:10: RuntimeWarning: invalid value encountered in long_scalars\n",
      "  # Remove the CWD from sys.path while we load stuff.\n"
     ]
    }
   ],
   "source": [
    "s1=allstats[\"ranges\"].sum()\n",
    "s2=allstats[\"ranges_fire\"].sum()\n",
    "spc1=0\n",
    "spc2=0\n",
    "for index, row in allstats.iterrows():\n",
    "    #print(index,row[\"ranges\"], row[\"ranges_fire\"])\n",
    "    #print(g[\"ranges\"])\n",
    "    pc1=row[\"ranges\"]/s1\n",
    "    spc1+=pc1\n",
    "    pc2=row[\"ranges_fire\"]/s2\n",
    "    spc2+=pc2\n",
    "    print(\"%s-%s : %3.2f %3.2f\"%(index.left,index.right,pc1*100,pc2*100))\n",
    "#print(\"0.0-1.0 : %3.2f\"%(spc*100))"
   ]
  },
  {
   "cell_type": "code",
   "execution_count": 37,
   "metadata": {},
   "outputs": [
    {
     "data": {
      "text/plain": [
       "7844361"
      ]
     },
     "execution_count": 37,
     "metadata": {},
     "output_type": "execute_result"
    }
   ],
   "source": []
  },
  {
   "cell_type": "code",
   "execution_count": null,
   "metadata": {},
   "outputs": [],
   "source": []
  }
 ],
 "metadata": {
  "kernelspec": {
   "display_name": "Python 3",
   "language": "python",
   "name": "python3"
  },
  "language_info": {
   "codemirror_mode": {
    "name": "ipython",
    "version": 3
   },
   "file_extension": ".py",
   "mimetype": "text/x-python",
   "name": "python",
   "nbconvert_exporter": "python",
   "pygments_lexer": "ipython3",
   "version": "3.6.8"
  }
 },
 "nbformat": 4,
 "nbformat_minor": 4
}
