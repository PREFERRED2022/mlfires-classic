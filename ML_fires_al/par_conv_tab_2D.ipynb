{
 "cells": [
  {
   "cell_type": "code",
   "execution_count": 1,
   "id": "22f0bdb9",
   "metadata": {},
   "outputs": [
    {
     "data": {
      "text/html": [
       "<style type='text/css'>\n",
       ".datatable table.frame { margin-bottom: 0; }\n",
       ".datatable table.frame thead { border-bottom: none; }\n",
       ".datatable table.frame tr.coltypes td {  color: #FFFFFF;  line-height: 6px;  padding: 0 0.5em;}\n",
       ".datatable .bool    { background: #DDDD99; }\n",
       ".datatable .object  { background: #565656; }\n",
       ".datatable .int     { background: #5D9E5D; }\n",
       ".datatable .float   { background: #4040CC; }\n",
       ".datatable .str     { background: #CC4040; }\n",
       ".datatable .row_index {  background: var(--jp-border-color3);  border-right: 1px solid var(--jp-border-color0);  color: var(--jp-ui-font-color3);  font-size: 9px;}\n",
       ".datatable .frame tr.coltypes .row_index {  background: var(--jp-border-color0);}\n",
       ".datatable th:nth-child(2) { padding-left: 12px; }\n",
       ".datatable .hellipsis {  color: var(--jp-cell-editor-border-color);}\n",
       ".datatable .vellipsis {  background: var(--jp-layout-color0);  color: var(--jp-cell-editor-border-color);}\n",
       ".datatable .na {  color: var(--jp-cell-editor-border-color);  font-size: 80%;}\n",
       ".datatable .footer { font-size: 9px; }\n",
       ".datatable .frame_dimensions {  background: var(--jp-border-color3);  border-top: 1px solid var(--jp-border-color0);  color: var(--jp-ui-font-color3);  display: inline-block;  opacity: 0.6;  padding: 1px 10px 1px 5px;}\n",
       "</style>\n"
      ],
      "text/plain": [
       "<IPython.core.display.HTML object>"
      ]
     },
     "metadata": {},
     "output_type": "display_data"
    }
   ],
   "source": [
    "import nppar\n",
    "import time\n",
    "import numpy as np\n",
    "import math\n",
    "import datatable as dt\n",
    "import time\n",
    "import xarray\n",
    "import os\n",
    "import fileutils\n",
    "import traceback\n",
    "from datetime import datetime\n",
    "import multiprocessing as mp\n",
    "import random\n",
    "from functools import partial\n",
    "from multiprocessing import Pool, Array, Process, Manager\n",
    "from functools import partial\n",
    "import matplotlib.pyplot as plt\n",
    "import mpl_toolkits.axes_grid1 as axes_grid1\n",
    "from multiprocessing import shared_memory"
   ]
  },
  {
   "cell_type": "code",
   "execution_count": 2,
   "id": "187c25d8",
   "metadata": {},
   "outputs": [],
   "source": [
    "def gridinfo():\n",
    "    rdiff=2227\n",
    "    minnorth=333237\n",
    "    #maxwest=1160624\n",
    "    minwest=1156167\n",
    "    maxeast=2747676\n",
    "    maxsouth=3504175\n",
    "    gridwidth=((maxeast-minwest) % rdiff) + 1\n",
    "    firstid = minwest-math.ceil((minwest-minnorth) / rdiff)*rdiff\n",
    "    gridheight=math.ceil((maxsouth-firstid) / rdiff)\n",
    "    return rdiff, firstid, gridwidth, gridheight\n",
    "\n",
    "def walkmonthdays(sfolder):\n",
    "    #sfolder = '/data2/ffp/datasets/daily/2015/08'\n",
    "    exfeat = [\"id\", \"firedate\"]\n",
    "    dayfiles=[]\n",
    "    for dayf in fileutils.find_files(sfolder, '*_norm.csv', listtype=\"walk\"):\n",
    "        dayfiles+=[dayf]\n",
    "        #print(fday)\n",
    "        '''\n",
    "        try:\n",
    "            #fday = '/data2/ffp/datasets/daily/2021/08/20210804_norm.csv'\n",
    "            creategrid_xs(fday, rdiff, firstid, gridwidth, gridheight)\n",
    "        except:\n",
    "            print(\"Fail to convert %s\"%fday)\n",
    "            traceback.print_exc()\n",
    "        '''\n",
    "    return dayfiles\n",
    "\n",
    "def get_grid_xy(firstid, rdiff, _id,):\n",
    "    row =int((_id-firstid)/rdiff)\n",
    "    col = int(_id-firstid-rdiff*row)\n",
    "    return row,col\n",
    "\n",
    "def assignrow(ggrid, tabrow):\n",
    "    row, col = get_xy(tabrow[0])\n",
    "    ggrid[row, col, :]=tabrow[:]\n",
    "\n",
    "def assignrowshared(ggrid_sh, grid_shape, tabrows):\n",
    "    for i in range(tabrows.shape[0]):\n",
    "        tabrow=tabrows[i,:]\n",
    "        try:\n",
    "            row, col = get_xy(tabrow[0])\n",
    "            idx = row*grid_shape[1]*grid_shape[2]+col*grid_shape[2]\n",
    "            ggrid_sh[idx:idx+grid_shape[2]]=tabrow[:]\n",
    "        except:\n",
    "            \"Error row: %s\\n\"%i+traceback.print_exc()\n",
    "            \n",
    "def assignrowshared2(ggrid_sh, tabrows):\n",
    "    for i in range(tabrows.shape[0]):\n",
    "        tabrow=tabrows[i,:]\n",
    "        try:\n",
    "            row, col = get_xy(tabrow[0])\n",
    "            ggrid_sh[row, col]=tabrow[:]\n",
    "            #print(row, col)\n",
    "        except:\n",
    "            \"Error row: %s\\n\"%i+traceback.print_exc()"
   ]
  },
  {
   "cell_type": "code",
   "execution_count": 3,
   "id": "d04c98fa",
   "metadata": {},
   "outputs": [],
   "source": [
    "def plotspeedup(wspeedup,pspeedup,ncpus):\n",
    "    plt.plot(range(1,ncpus+1), wspeedup, label = \"wall speed-up\")\n",
    "    plt.plot(range(1,ncpus+1), pspeedup, label = \"speed-up per CPU\")\n",
    "    plt.plot(range(1,ncpus+1), range(1,ncpus+1), label = \"Ideal speed-up\")\n",
    "    plt.xlabel(\"Number of CPUs\")\n",
    "    plt.ylabel(\"Speed-up\")\n",
    "    plt.grid(visible=True, axis='y')\n",
    "    plt.legend()\n",
    "    plt.show()"
   ]
  },
  {
   "cell_type": "code",
   "execution_count": 41,
   "id": "85537985",
   "metadata": {},
   "outputs": [],
   "source": [
    "def plotwall(wall,ncpus, ytitle=\"Time (sec)\", yscale=\"linear\"):\n",
    "    plt.figure(figsize=(10,6))\n",
    "    for wallline in wall: \n",
    "        plt.plot(range(1,ncpus+1), wall[wallline], label = wallline)\n",
    "    plt.yscale(yscale)\n",
    "    plt.xlabel(\"Number of CPUs\")\n",
    "    plt.ylabel(ytitle)\n",
    "    plt.grid(visible=True, axis='y')\n",
    "    plt.legend()\n",
    "    plt.show()"
   ]
  },
  {
   "cell_type": "code",
   "execution_count": 5,
   "id": "38ea0c35",
   "metadata": {},
   "outputs": [
    {
     "name": "stdout",
     "output_type": "stream",
     "text": [
      "max cpu count 16\n",
      "array rows: 372918\n"
     ]
    }
   ],
   "source": [
    "#initialize\n",
    "rdiff, firstid, gridwidth, gridheight = gridinfo()\n",
    "get_xy=partial(get_grid_xy, firstid, rdiff)\n",
    "dayfiles=walkmonthdays('/data2/ffp/datasets/daily/')\n",
    "fday='/data2/ffp/datasets/daily/2021/08/20210823_norm.csv'\n",
    "dt_df = dt.fread(fday)\n",
    "firstfeat=dt_df.names.index('id')\n",
    "npday = dt_df[:, firstfeat:].to_numpy(dt.float32)\n",
    "maxcpus=mp.cpu_count()\n",
    "featn = len(dt_df[:, firstfeat:].names)\n",
    "ggrid = np.zeros((gridwidth, gridheight, featn))\n",
    "ggrid[:,:]=np.nan\n",
    "assignr=partial(assignrow, ggrid)\n",
    "print('max cpu count %s'%maxcpus)\n",
    "print('array rows: %s'%npday.shape[0])"
   ]
  },
  {
   "cell_type": "markdown",
   "id": "e2ab5dc9",
   "metadata": {},
   "source": [
    "### Simple python run"
   ]
  },
  {
   "cell_type": "code",
   "execution_count": 15,
   "id": "84ad72c4",
   "metadata": {},
   "outputs": [
    {
     "name": "stdout",
     "output_type": "stream",
     "text": [
      "time: 3.08 sec\n"
     ]
    }
   ],
   "source": [
    "nruns=1\n",
    "totalrun=0\n",
    "start = time.time()\n",
    "for i in range(npday.shape[0]):\n",
    "    assignr(npday[i])\n",
    "end = time.time()\n",
    "print('time: %.2f sec'%(end-start))\n",
    "pythonsimple=[end-start]*maxcpus"
   ]
  },
  {
   "cell_type": "code",
   "execution_count": 18,
   "id": "452d025f",
   "metadata": {},
   "outputs": [],
   "source": [
    "allwall={}\n",
    "allwall['Simple Python Loop']=pythonsimple"
   ]
  },
  {
   "cell_type": "markdown",
   "id": "58872ea0",
   "metadata": {},
   "source": [
    "### Multiprocessing with map"
   ]
  },
  {
   "cell_type": "code",
   "execution_count": 57,
   "id": "6e76ca09",
   "metadata": {
    "collapsed": true
   },
   "outputs": [
    {
     "name": "stdout",
     "output_type": "stream",
     "text": [
      "average time: 37.51 sec, cpus: 1\n",
      "average time: 38.76 sec, cpus: 2\n",
      "average time: 57.94 sec, cpus: 3\n",
      "average time: 75.03 sec, cpus: 4\n"
     ]
    },
    {
     "name": "stderr",
     "output_type": "stream",
     "text": [
      "Process ForkPoolWorker-449:\n",
      "Process ForkPoolWorker-452:\n",
      "Process ForkPoolWorker-451:\n",
      "Process ForkPoolWorker-450:\n",
      "Traceback (most recent call last):\n",
      "Process ForkPoolWorker-448:\n",
      "Traceback (most recent call last):\n",
      "Traceback (most recent call last):\n",
      "  File \"/data2/ffp/envs/ml_vm2/lib/python3.9/multiprocessing/process.py\", line 315, in _bootstrap\n",
      "    self.run()\n",
      "  File \"/data2/ffp/envs/ml_vm2/lib/python3.9/multiprocessing/process.py\", line 315, in _bootstrap\n",
      "    self.run()\n"
     ]
    },
    {
     "ename": "UnpicklingError",
     "evalue": "invalid load key, '\\x00'.",
     "output_type": "error",
     "traceback": [
      "\u001b[0;31m---------------------------------------------------------------------------\u001b[0m",
      "\u001b[0;31mKeyboardInterrupt\u001b[0m                         Traceback (most recent call last)",
      "Cell \u001b[0;32mIn [57], line 9\u001b[0m\n\u001b[1;32m      8\u001b[0m \u001b[38;5;28;01mwith\u001b[39;00m Pool(cpus) \u001b[38;5;28;01mas\u001b[39;00m p:\n\u001b[0;32m----> 9\u001b[0m     \u001b[43mp\u001b[49m\u001b[38;5;241;43m.\u001b[39;49m\u001b[43mmap\u001b[49m\u001b[43m(\u001b[49m\u001b[43massignr\u001b[49m\u001b[43m,\u001b[49m\u001b[43m \u001b[49m\u001b[43mnpdayl\u001b[49m\u001b[43m)\u001b[49m\n\u001b[1;32m     10\u001b[0m end \u001b[38;5;241m=\u001b[39m time\u001b[38;5;241m.\u001b[39mtime()\n",
      "File \u001b[0;32m/data2/ffp/envs/ml_vm2/lib/python3.9/multiprocessing/pool.py:364\u001b[0m, in \u001b[0;36mPool.map\u001b[0;34m(self, func, iterable, chunksize)\u001b[0m\n\u001b[1;32m    360\u001b[0m \u001b[38;5;124;03m'''\u001b[39;00m\n\u001b[1;32m    361\u001b[0m \u001b[38;5;124;03mApply `func` to each element in `iterable`, collecting the results\u001b[39;00m\n\u001b[1;32m    362\u001b[0m \u001b[38;5;124;03min a list that is returned.\u001b[39;00m\n\u001b[1;32m    363\u001b[0m \u001b[38;5;124;03m'''\u001b[39;00m\n\u001b[0;32m--> 364\u001b[0m \u001b[38;5;28;01mreturn\u001b[39;00m \u001b[38;5;28;43mself\u001b[39;49m\u001b[38;5;241;43m.\u001b[39;49m\u001b[43m_map_async\u001b[49m\u001b[43m(\u001b[49m\u001b[43mfunc\u001b[49m\u001b[43m,\u001b[49m\u001b[43m \u001b[49m\u001b[43miterable\u001b[49m\u001b[43m,\u001b[49m\u001b[43m \u001b[49m\u001b[43mmapstar\u001b[49m\u001b[43m,\u001b[49m\u001b[43m \u001b[49m\u001b[43mchunksize\u001b[49m\u001b[43m)\u001b[49m\u001b[38;5;241;43m.\u001b[39;49m\u001b[43mget\u001b[49m\u001b[43m(\u001b[49m\u001b[43m)\u001b[49m\n",
      "File \u001b[0;32m/data2/ffp/envs/ml_vm2/lib/python3.9/multiprocessing/pool.py:765\u001b[0m, in \u001b[0;36mApplyResult.get\u001b[0;34m(self, timeout)\u001b[0m\n\u001b[1;32m    764\u001b[0m \u001b[38;5;28;01mdef\u001b[39;00m \u001b[38;5;21mget\u001b[39m(\u001b[38;5;28mself\u001b[39m, timeout\u001b[38;5;241m=\u001b[39m\u001b[38;5;28;01mNone\u001b[39;00m):\n\u001b[0;32m--> 765\u001b[0m     \u001b[38;5;28;43mself\u001b[39;49m\u001b[38;5;241;43m.\u001b[39;49m\u001b[43mwait\u001b[49m\u001b[43m(\u001b[49m\u001b[43mtimeout\u001b[49m\u001b[43m)\u001b[49m\n\u001b[1;32m    766\u001b[0m     \u001b[38;5;28;01mif\u001b[39;00m \u001b[38;5;129;01mnot\u001b[39;00m \u001b[38;5;28mself\u001b[39m\u001b[38;5;241m.\u001b[39mready():\n",
      "File \u001b[0;32m/data2/ffp/envs/ml_vm2/lib/python3.9/multiprocessing/pool.py:762\u001b[0m, in \u001b[0;36mApplyResult.wait\u001b[0;34m(self, timeout)\u001b[0m\n\u001b[1;32m    761\u001b[0m \u001b[38;5;28;01mdef\u001b[39;00m \u001b[38;5;21mwait\u001b[39m(\u001b[38;5;28mself\u001b[39m, timeout\u001b[38;5;241m=\u001b[39m\u001b[38;5;28;01mNone\u001b[39;00m):\n\u001b[0;32m--> 762\u001b[0m     \u001b[38;5;28;43mself\u001b[39;49m\u001b[38;5;241;43m.\u001b[39;49m\u001b[43m_event\u001b[49m\u001b[38;5;241;43m.\u001b[39;49m\u001b[43mwait\u001b[49m\u001b[43m(\u001b[49m\u001b[43mtimeout\u001b[49m\u001b[43m)\u001b[49m\n",
      "File \u001b[0;32m/data2/ffp/envs/ml_vm2/lib/python3.9/threading.py:581\u001b[0m, in \u001b[0;36mEvent.wait\u001b[0;34m(self, timeout)\u001b[0m\n\u001b[1;32m    580\u001b[0m \u001b[38;5;28;01mif\u001b[39;00m \u001b[38;5;129;01mnot\u001b[39;00m signaled:\n\u001b[0;32m--> 581\u001b[0m     signaled \u001b[38;5;241m=\u001b[39m \u001b[38;5;28;43mself\u001b[39;49m\u001b[38;5;241;43m.\u001b[39;49m\u001b[43m_cond\u001b[49m\u001b[38;5;241;43m.\u001b[39;49m\u001b[43mwait\u001b[49m\u001b[43m(\u001b[49m\u001b[43mtimeout\u001b[49m\u001b[43m)\u001b[49m\n\u001b[1;32m    582\u001b[0m \u001b[38;5;28;01mreturn\u001b[39;00m signaled\n",
      "File \u001b[0;32m/data2/ffp/envs/ml_vm2/lib/python3.9/threading.py:312\u001b[0m, in \u001b[0;36mCondition.wait\u001b[0;34m(self, timeout)\u001b[0m\n\u001b[1;32m    311\u001b[0m \u001b[38;5;28;01mif\u001b[39;00m timeout \u001b[38;5;129;01mis\u001b[39;00m \u001b[38;5;28;01mNone\u001b[39;00m:\n\u001b[0;32m--> 312\u001b[0m     \u001b[43mwaiter\u001b[49m\u001b[38;5;241;43m.\u001b[39;49m\u001b[43macquire\u001b[49m\u001b[43m(\u001b[49m\u001b[43m)\u001b[49m\n\u001b[1;32m    313\u001b[0m     gotit \u001b[38;5;241m=\u001b[39m \u001b[38;5;28;01mTrue\u001b[39;00m\n",
      "\u001b[0;31mKeyboardInterrupt\u001b[0m: ",
      "\nDuring handling of the above exception, another exception occurred:\n",
      "\u001b[0;31mUnpicklingError\u001b[0m                           Traceback (most recent call last)",
      "Cell \u001b[0;32mIn [57], line 9\u001b[0m\n\u001b[1;32m      7\u001b[0m start \u001b[38;5;241m=\u001b[39m time\u001b[38;5;241m.\u001b[39mtime()\n\u001b[1;32m      8\u001b[0m \u001b[38;5;28;01mwith\u001b[39;00m Pool(cpus) \u001b[38;5;28;01mas\u001b[39;00m p:\n\u001b[0;32m----> 9\u001b[0m     p\u001b[38;5;241m.\u001b[39mmap(assignr, npdayl)\n\u001b[1;32m     10\u001b[0m end \u001b[38;5;241m=\u001b[39m time\u001b[38;5;241m.\u001b[39mtime()\n\u001b[1;32m     11\u001b[0m totalrun\u001b[38;5;241m+\u001b[39m\u001b[38;5;241m=\u001b[39m(end \u001b[38;5;241m-\u001b[39m start)\n",
      "File \u001b[0;32m/data2/ffp/envs/ml_vm2/lib/python3.9/multiprocessing/pool.py:736\u001b[0m, in \u001b[0;36mPool.__exit__\u001b[0;34m(self, exc_type, exc_val, exc_tb)\u001b[0m\n\u001b[1;32m    735\u001b[0m \u001b[38;5;28;01mdef\u001b[39;00m \u001b[38;5;21m__exit__\u001b[39m(\u001b[38;5;28mself\u001b[39m, exc_type, exc_val, exc_tb):\n\u001b[0;32m--> 736\u001b[0m     \u001b[38;5;28;43mself\u001b[39;49m\u001b[38;5;241;43m.\u001b[39;49m\u001b[43mterminate\u001b[49m\u001b[43m(\u001b[49m\u001b[43m)\u001b[49m\n",
      "File \u001b[0;32m/data2/ffp/envs/ml_vm2/lib/python3.9/multiprocessing/pool.py:654\u001b[0m, in \u001b[0;36mPool.terminate\u001b[0;34m(self)\u001b[0m\n\u001b[1;32m    652\u001b[0m util\u001b[38;5;241m.\u001b[39mdebug(\u001b[38;5;124m'\u001b[39m\u001b[38;5;124mterminating pool\u001b[39m\u001b[38;5;124m'\u001b[39m)\n\u001b[1;32m    653\u001b[0m \u001b[38;5;28mself\u001b[39m\u001b[38;5;241m.\u001b[39m_state \u001b[38;5;241m=\u001b[39m TERMINATE\n\u001b[0;32m--> 654\u001b[0m \u001b[38;5;28;43mself\u001b[39;49m\u001b[38;5;241;43m.\u001b[39;49m\u001b[43m_terminate\u001b[49m\u001b[43m(\u001b[49m\u001b[43m)\u001b[49m\n",
      "File \u001b[0;32m/data2/ffp/envs/ml_vm2/lib/python3.9/multiprocessing/util.py:224\u001b[0m, in \u001b[0;36mFinalize.__call__\u001b[0;34m(self, wr, _finalizer_registry, sub_debug, getpid)\u001b[0m\n\u001b[1;32m    221\u001b[0m \u001b[38;5;28;01melse\u001b[39;00m:\n\u001b[1;32m    222\u001b[0m     sub_debug(\u001b[38;5;124m'\u001b[39m\u001b[38;5;124mfinalizer calling \u001b[39m\u001b[38;5;132;01m%s\u001b[39;00m\u001b[38;5;124m with args \u001b[39m\u001b[38;5;132;01m%s\u001b[39;00m\u001b[38;5;124m and kwargs \u001b[39m\u001b[38;5;132;01m%s\u001b[39;00m\u001b[38;5;124m'\u001b[39m,\n\u001b[1;32m    223\u001b[0m               \u001b[38;5;28mself\u001b[39m\u001b[38;5;241m.\u001b[39m_callback, \u001b[38;5;28mself\u001b[39m\u001b[38;5;241m.\u001b[39m_args, \u001b[38;5;28mself\u001b[39m\u001b[38;5;241m.\u001b[39m_kwargs)\n\u001b[0;32m--> 224\u001b[0m     res \u001b[38;5;241m=\u001b[39m \u001b[38;5;28;43mself\u001b[39;49m\u001b[38;5;241;43m.\u001b[39;49m\u001b[43m_callback\u001b[49m\u001b[43m(\u001b[49m\u001b[38;5;241;43m*\u001b[39;49m\u001b[38;5;28;43mself\u001b[39;49m\u001b[38;5;241;43m.\u001b[39;49m\u001b[43m_args\u001b[49m\u001b[43m,\u001b[49m\u001b[43m \u001b[49m\u001b[38;5;241;43m*\u001b[39;49m\u001b[38;5;241;43m*\u001b[39;49m\u001b[38;5;28;43mself\u001b[39;49m\u001b[38;5;241;43m.\u001b[39;49m\u001b[43m_kwargs\u001b[49m\u001b[43m)\u001b[49m\n\u001b[1;32m    225\u001b[0m \u001b[38;5;28mself\u001b[39m\u001b[38;5;241m.\u001b[39m_weakref \u001b[38;5;241m=\u001b[39m \u001b[38;5;28mself\u001b[39m\u001b[38;5;241m.\u001b[39m_callback \u001b[38;5;241m=\u001b[39m \u001b[38;5;28mself\u001b[39m\u001b[38;5;241m.\u001b[39m_args \u001b[38;5;241m=\u001b[39m \\\n\u001b[1;32m    226\u001b[0m                 \u001b[38;5;28mself\u001b[39m\u001b[38;5;241m.\u001b[39m_kwargs \u001b[38;5;241m=\u001b[39m \u001b[38;5;28mself\u001b[39m\u001b[38;5;241m.\u001b[39m_key \u001b[38;5;241m=\u001b[39m \u001b[38;5;28;01mNone\u001b[39;00m\n\u001b[1;32m    227\u001b[0m \u001b[38;5;28;01mreturn\u001b[39;00m res\n",
      "File \u001b[0;32m/data2/ffp/envs/ml_vm2/lib/python3.9/multiprocessing/pool.py:692\u001b[0m, in \u001b[0;36mPool._terminate_pool\u001b[0;34m(cls, taskqueue, inqueue, outqueue, pool, change_notifier, worker_handler, task_handler, result_handler, cache)\u001b[0m\n\u001b[1;32m    689\u001b[0m task_handler\u001b[38;5;241m.\u001b[39m_state \u001b[38;5;241m=\u001b[39m TERMINATE\n\u001b[1;32m    691\u001b[0m util\u001b[38;5;241m.\u001b[39mdebug(\u001b[38;5;124m'\u001b[39m\u001b[38;5;124mhelping task handler/workers to finish\u001b[39m\u001b[38;5;124m'\u001b[39m)\n\u001b[0;32m--> 692\u001b[0m \u001b[38;5;28;43mcls\u001b[39;49m\u001b[38;5;241;43m.\u001b[39;49m\u001b[43m_help_stuff_finish\u001b[49m\u001b[43m(\u001b[49m\u001b[43minqueue\u001b[49m\u001b[43m,\u001b[49m\u001b[43m \u001b[49m\u001b[43mtask_handler\u001b[49m\u001b[43m,\u001b[49m\u001b[43m \u001b[49m\u001b[38;5;28;43mlen\u001b[39;49m\u001b[43m(\u001b[49m\u001b[43mpool\u001b[49m\u001b[43m)\u001b[49m\u001b[43m)\u001b[49m\n\u001b[1;32m    694\u001b[0m \u001b[38;5;28;01mif\u001b[39;00m (\u001b[38;5;129;01mnot\u001b[39;00m result_handler\u001b[38;5;241m.\u001b[39mis_alive()) \u001b[38;5;129;01mand\u001b[39;00m (\u001b[38;5;28mlen\u001b[39m(cache) \u001b[38;5;241m!=\u001b[39m \u001b[38;5;241m0\u001b[39m):\n\u001b[1;32m    695\u001b[0m     \u001b[38;5;28;01mraise\u001b[39;00m \u001b[38;5;167;01mAssertionError\u001b[39;00m(\n\u001b[1;32m    696\u001b[0m         \u001b[38;5;124m\"\u001b[39m\u001b[38;5;124mCannot have cache with result_hander not alive\u001b[39m\u001b[38;5;124m\"\u001b[39m)\n",
      "File \u001b[0;32m/data2/ffp/envs/ml_vm2/lib/python3.9/multiprocessing/pool.py:674\u001b[0m, in \u001b[0;36mPool._help_stuff_finish\u001b[0;34m(inqueue, task_handler, size)\u001b[0m\n\u001b[1;32m    672\u001b[0m inqueue\u001b[38;5;241m.\u001b[39m_rlock\u001b[38;5;241m.\u001b[39macquire()\n\u001b[1;32m    673\u001b[0m \u001b[38;5;28;01mwhile\u001b[39;00m task_handler\u001b[38;5;241m.\u001b[39mis_alive() \u001b[38;5;129;01mand\u001b[39;00m inqueue\u001b[38;5;241m.\u001b[39m_reader\u001b[38;5;241m.\u001b[39mpoll():\n\u001b[0;32m--> 674\u001b[0m     \u001b[43minqueue\u001b[49m\u001b[38;5;241;43m.\u001b[39;49m\u001b[43m_reader\u001b[49m\u001b[38;5;241;43m.\u001b[39;49m\u001b[43mrecv\u001b[49m\u001b[43m(\u001b[49m\u001b[43m)\u001b[49m\n\u001b[1;32m    675\u001b[0m     time\u001b[38;5;241m.\u001b[39msleep(\u001b[38;5;241m0\u001b[39m)\n",
      "File \u001b[0;32m/data2/ffp/envs/ml_vm2/lib/python3.9/multiprocessing/connection.py:256\u001b[0m, in \u001b[0;36m_ConnectionBase.recv\u001b[0;34m(self)\u001b[0m\n\u001b[1;32m    254\u001b[0m \u001b[38;5;28mself\u001b[39m\u001b[38;5;241m.\u001b[39m_check_readable()\n\u001b[1;32m    255\u001b[0m buf \u001b[38;5;241m=\u001b[39m \u001b[38;5;28mself\u001b[39m\u001b[38;5;241m.\u001b[39m_recv_bytes()\n\u001b[0;32m--> 256\u001b[0m \u001b[38;5;28;01mreturn\u001b[39;00m \u001b[43m_ForkingPickler\u001b[49m\u001b[38;5;241;43m.\u001b[39;49m\u001b[43mloads\u001b[49m\u001b[43m(\u001b[49m\u001b[43mbuf\u001b[49m\u001b[38;5;241;43m.\u001b[39;49m\u001b[43mgetbuffer\u001b[49m\u001b[43m(\u001b[49m\u001b[43m)\u001b[49m\u001b[43m)\u001b[49m\n",
      "\u001b[0;31mUnpicklingError\u001b[0m: invalid load key, '\\x00'."
     ]
    },
    {
     "name": "stderr",
     "output_type": "stream",
     "text": [
      "  File \"/data2/ffp/envs/ml_vm2/lib/python3.9/multiprocessing/process.py\", line 108, in run\n",
      "    self._target(*self._args, **self._kwargs)\n",
      "  File \"/data2/ffp/envs/ml_vm2/lib/python3.9/multiprocessing/process.py\", line 315, in _bootstrap\n",
      "    self.run()\n",
      "  File \"/data2/ffp/envs/ml_vm2/lib/python3.9/multiprocessing/process.py\", line 108, in run\n",
      "    self._target(*self._args, **self._kwargs)\n",
      "Traceback (most recent call last):\n",
      "  File \"/data2/ffp/envs/ml_vm2/lib/python3.9/multiprocessing/pool.py\", line 114, in worker\n",
      "    task = get()\n",
      "  File \"/data2/ffp/envs/ml_vm2/lib/python3.9/multiprocessing/process.py\", line 108, in run\n",
      "    self._target(*self._args, **self._kwargs)\n",
      "Traceback (most recent call last):\n",
      "  File \"/data2/ffp/envs/ml_vm2/lib/python3.9/multiprocessing/process.py\", line 315, in _bootstrap\n",
      "    self.run()\n",
      "  File \"/data2/ffp/envs/ml_vm2/lib/python3.9/multiprocessing/queues.py\", line 364, in get\n",
      "    with self._rlock:\n",
      "  File \"/data2/ffp/envs/ml_vm2/lib/python3.9/multiprocessing/pool.py\", line 114, in worker\n",
      "    task = get()\n",
      "  File \"/data2/ffp/envs/ml_vm2/lib/python3.9/multiprocessing/pool.py\", line 125, in worker\n",
      "    result = (True, func(*args, **kwds))\n",
      "  File \"/data2/ffp/envs/ml_vm2/lib/python3.9/multiprocessing/synchronize.py\", line 95, in __enter__\n",
      "    return self._semlock.__enter__()\n",
      "  File \"/data2/ffp/envs/ml_vm2/lib/python3.9/multiprocessing/process.py\", line 315, in _bootstrap\n",
      "    self.run()\n",
      "KeyboardInterrupt\n",
      "  File \"/data2/ffp/envs/ml_vm2/lib/python3.9/multiprocessing/process.py\", line 108, in run\n",
      "    self._target(*self._args, **self._kwargs)\n",
      "  File \"/data2/ffp/envs/ml_vm2/lib/python3.9/multiprocessing/process.py\", line 108, in run\n",
      "    self._target(*self._args, **self._kwargs)\n",
      "  File \"/data2/ffp/envs/ml_vm2/lib/python3.9/multiprocessing/pool.py\", line 48, in mapstar\n",
      "    return list(map(*args))\n",
      "  File \"/data2/ffp/envs/ml_vm2/lib/python3.9/multiprocessing/pool.py\", line 114, in worker\n",
      "    task = get()\n",
      "  File \"/data2/ffp/envs/ml_vm2/lib/python3.9/multiprocessing/queues.py\", line 365, in get\n",
      "    res = self._reader.recv_bytes()\n",
      "  File \"<ipython-input-53-9aac96b74817>\", line 36, in assignrow\n",
      "    row, col = get_xy(tabrow[0])\n",
      "  File \"/data2/ffp/envs/ml_vm2/lib/python3.9/multiprocessing/queues.py\", line 364, in get\n",
      "    with self._rlock:\n",
      "  File \"/data2/ffp/envs/ml_vm2/lib/python3.9/multiprocessing/pool.py\", line 114, in worker\n",
      "    task = get()\n",
      "  File \"/data2/ffp/envs/ml_vm2/lib/python3.9/multiprocessing/connection.py\", line 221, in recv_bytes\n",
      "    buf = self._recv_bytes(maxlength)\n",
      "  File \"/data2/ffp/envs/ml_vm2/lib/python3.9/multiprocessing/queues.py\", line 364, in get\n",
      "    with self._rlock:\n",
      "  File \"/data2/ffp/envs/ml_vm2/lib/python3.9/multiprocessing/synchronize.py\", line 95, in __enter__\n",
      "    return self._semlock.__enter__()\n",
      "  File \"/data2/ffp/envs/ml_vm2/lib/python3.9/multiprocessing/connection.py\", line 426, in _recv_bytes\n",
      "    return self._recv(size)\n",
      "  File \"<ipython-input-53-9aac96b74817>\", line 31, in get_grid_xy\n",
      "    row =int((_id-firstid)/rdiff)\n",
      "  File \"/data2/ffp/envs/ml_vm2/lib/python3.9/multiprocessing/synchronize.py\", line 95, in __enter__\n",
      "    return self._semlock.__enter__()\n",
      "KeyboardInterrupt\n",
      "  File \"/data2/ffp/envs/ml_vm2/lib/python3.9/multiprocessing/connection.py\", line 384, in _recv\n",
      "    chunk = read(handle, remaining)\n",
      "KeyboardInterrupt\n",
      "KeyboardInterrupt\n",
      "KeyboardInterrupt\n"
     ]
    }
   ],
   "source": [
    "nruns=1\n",
    "npdayl=list(npday)\n",
    "multimap=[]\n",
    "for cpus in range(1,maxcpus+1):\n",
    "    totalrun=0\n",
    "    for run in range(nruns):\n",
    "        start = time.time()\n",
    "        with Pool(cpus) as p:\n",
    "            p.map(assignr, npdayl)\n",
    "        end = time.time()\n",
    "        totalrun+=(end - start)\n",
    "    print('average time: %.2f sec, cpus: %s'%(totalrun/nruns, cpus))\n",
    "    multimap+=[totalrun/nruns]\n",
    "npdayl=None\n"
   ]
  },
  {
   "cell_type": "code",
   "execution_count": 17,
   "id": "6b8ae6df",
   "metadata": {},
   "outputs": [
    {
     "ename": "NameError",
     "evalue": "name 'multimap' is not defined",
     "output_type": "error",
     "traceback": [
      "\u001b[0;31m---------------------------------------------------------------------------\u001b[0m",
      "\u001b[0;31mNameError\u001b[0m                                 Traceback (most recent call last)",
      "Cell \u001b[0;32mIn [17], line 1\u001b[0m\n\u001b[0;32m----> 1\u001b[0m allwall[\u001b[38;5;124m'\u001b[39m\u001b[38;5;124mMultiprocessing with map\u001b[39m\u001b[38;5;124m'\u001b[39m]\u001b[38;5;241m=\u001b[39m\u001b[43mmultimap\u001b[49m\n",
      "\u001b[0;31mNameError\u001b[0m: name 'multimap' is not defined"
     ]
    }
   ],
   "source": [
    "allwall['Multiprocessing with map']=multimap"
   ]
  },
  {
   "cell_type": "markdown",
   "id": "424386b2",
   "metadata": {},
   "source": [
    "### multiprocessing with shared memory"
   ]
  },
  {
   "cell_type": "code",
   "execution_count": 30,
   "id": "401e5dbe",
   "metadata": {
    "scrolled": true
   },
   "outputs": [
    {
     "name": "stdout",
     "output_type": "stream",
     "text": [
      "time: 3.45 sec, cpu: 1\n",
      "time: 1.98 sec, cpu: 2\n",
      "time: 1.44 sec, cpu: 3\n",
      "time: 1.28 sec, cpu: 4\n",
      "time: 1.15 sec, cpu: 5\n",
      "time: 1.17 sec, cpu: 6\n",
      "time: 1.13 sec, cpu: 7\n",
      "time: 1.16 sec, cpu: 8\n",
      "time: 1.20 sec, cpu: 9\n",
      "time: 1.22 sec, cpu: 10\n",
      "time: 1.26 sec, cpu: 11\n",
      "time: 1.31 sec, cpu: 12\n",
      "time: 1.39 sec, cpu: 13\n",
      "time: 1.62 sec, cpu: 14\n",
      "time: 1.43 sec, cpu: 15\n",
      "time: 1.50 sec, cpu: 16\n"
     ]
    }
   ],
   "source": [
    "nruns=1\n",
    "totalrun=0\n",
    "ncpus=maxcpus\n",
    "multishared=[]\n",
    "for ncpus in range(1,maxcpus+1):\n",
    "    start = time.time()\n",
    "    procs=[]\n",
    "    chunk = int(npday.shape[0] / ncpus)\n",
    "    chunk_rem = npday.shape[0] % ncpus\n",
    "    shm = shared_memory.SharedMemory(create=True, size=4*gridheight*gridwidth*featn)\n",
    "    shDay = np.ndarray((gridheight, gridwidth, featn), dtype=np.float32, buffer=shm.buf)\n",
    "    for cpu in range(ncpus-1):\n",
    "        procs += [Process(target=assignrowshared2, args=(shDay, npday[cpu*chunk:(cpu+1)*chunk]))]\n",
    "        procs[cpu].start()\n",
    "    procs += [Process(target=assignrowshared2, args=(shDay, npday[(ncpus-1)*chunk:]))]\n",
    "    procs[-1].start()\n",
    "    for p in procs: p.join()\n",
    "    #print(shDay[75,804])\n",
    "    shm.close()\n",
    "    shm.unlink()\n",
    "    shDay=None\n",
    "    end = time.time()\n",
    "    print('time: %.2f sec, cpu: %s'%((end-start),ncpus))\n",
    "    multishared+=[end-start]\n"
   ]
  },
  {
   "cell_type": "code",
   "execution_count": 24,
   "id": "2ef75ab4",
   "metadata": {},
   "outputs": [],
   "source": [
    "allwall['Multiprocessing with shared']=multishared"
   ]
  },
  {
   "cell_type": "markdown",
   "id": "3fca67c4",
   "metadata": {},
   "source": [
    "### cython (with shared memory) cpu "
   ]
  },
  {
   "cell_type": "code",
   "execution_count": 21,
   "id": "d2ed194f",
   "metadata": {},
   "outputs": [
    {
     "name": "stdout",
     "output_type": "stream",
     "text": [
      "cpu changes, runs per experiment: 5\n",
      "average time wall: 0.63 sec, average time CPU: 0.63 sec, threads: 1\n",
      "average time wall: 0.50 sec, average time CPU: 0.37 sec, threads: 2\n",
      "average time wall: 0.39 sec, average time CPU: 0.25 sec, threads: 3\n",
      "average time wall: 0.32 sec, average time CPU: 0.18 sec, threads: 4\n",
      "average time wall: 0.30 sec, average time CPU: 0.14 sec, threads: 5\n",
      "average time wall: 0.33 sec, average time CPU: 0.16 sec, threads: 6\n",
      "average time wall: 0.31 sec, average time CPU: 0.14 sec, threads: 7\n",
      "average time wall: 0.33 sec, average time CPU: 0.16 sec, threads: 8\n",
      "average time wall: 0.34 sec, average time CPU: 0.16 sec, threads: 9\n",
      "average time wall: 0.33 sec, average time CPU: 0.17 sec, threads: 10\n",
      "average time wall: 0.27 sec, average time CPU: 0.11 sec, threads: 11\n",
      "average time wall: 0.32 sec, average time CPU: 0.13 sec, threads: 12\n",
      "average time wall: 0.34 sec, average time CPU: 0.17 sec, threads: 13\n",
      "average time wall: 0.34 sec, average time CPU: 0.17 sec, threads: 14\n",
      "average time wall: 0.34 sec, average time CPU: 0.16 sec, threads: 15\n",
      "average time wall: 0.35 sec, average time CPU: 0.16 sec, threads: 16\n"
     ]
    },
    {
     "data": {
      "image/png": "[encoded data removed]",
      "text/plain": [
       "<Figure size 432x288 with 1 Axes>"
      ]
     },
     "metadata": {
      "needs_background": "light"
     },
     "output_type": "display_data"
    }
   ],
   "source": [
    "nruns=5\n",
    "print('cpu changes, runs per experiment: %s'%nruns)\n",
    "proctimes=[]\n",
    "speedtimes=[]\n",
    "walltimes=[]\n",
    "Tseq=0\n",
    "for nt in range(1,maxcpus+1):\n",
    "    proctotal = 0\n",
    "    walltotal = 0\n",
    "    for run in range(nruns):\n",
    "        start = time.time()\n",
    "        stpr = time.process_time()\n",
    "        id2xy, grid = nppar.fillcube(nt, npday, firstid, rdiff, gridwidth, gridheight,intensive=0)\n",
    "        end = time.time()\n",
    "        endpr = time.process_time()\n",
    "        proctotal+=(endpr - stpr)\n",
    "        walltotal+=(end - start)\n",
    "        avgtw = walltotal/nruns\n",
    "        avgtp = proctotal/nruns/nt\n",
    "        if nt==1: \n",
    "            Tseqp=avgtp\n",
    "            Tseqw=avgtw\n",
    "    print('average time wall: %.2f sec, average time CPU: %.2f sec, threads: %s'%(avgtw, avgtp,nt))\n",
    "    proctimes+=[Tseqp/avgtp]\n",
    "    speedtimes+=[Tseqw/avgtw]\n",
    "    walltimes+=[avgtw]\n",
    "# plot\n",
    "plotspeedup(speedtimes, proctimes, maxcpus)"
   ]
  },
  {
   "cell_type": "code",
   "execution_count": 22,
   "id": "8fe12f55",
   "metadata": {},
   "outputs": [],
   "source": [
    "allwall['Cython parallelization with OpenMP']=walltimes"
   ]
  },
  {
   "cell_type": "code",
   "execution_count": 44,
   "id": "1a6c2c9d",
   "metadata": {},
   "outputs": [
    {
     "data": {
      "image/png": "[encoded data removed]",
      "text/plain": [
       "<Figure size 720x432 with 1 Axes>"
      ]
     },
     "metadata": {
      "needs_background": "light"
     },
     "output_type": "display_data"
    }
   ],
   "source": [
    "plotwall(allwall,maxcpus)"
   ]
  },
  {
   "cell_type": "code",
   "execution_count": 45,
   "id": "62597d9f",
   "metadata": {},
   "outputs": [],
   "source": [
    "wallsp={}\n",
    "wallsp['Simple Python Loop']=[1]*maxcpus\n",
    "wallsp['Cython parallelization with OpenMP']=[allwall['Simple Python Loop'][0]/t for t in allwall['Cython parallelization with OpenMP']]\n",
    "wallsp['Multiprocessing with shared']=[allwall['Simple Python Loop'][0]/t for t in allwall['Multiprocessing with shared']]\n"
   ]
  },
  {
   "cell_type": "code",
   "execution_count": 46,
   "id": "e719668c",
   "metadata": {},
   "outputs": [
    {
     "data": {
      "image/png": "[encoded data removed]",
      "text/plain": [
       "<Figure size 720x432 with 1 Axes>"
      ]
     },
     "metadata": {
      "needs_background": "light"
     },
     "output_type": "display_data"
    }
   ],
   "source": [
    "plotwall(wallsp,maxcpus,\"Speed-up\")"
   ]
  },
  {
   "cell_type": "markdown",
   "id": "caed3bd4",
   "metadata": {},
   "source": [
    "### cython (with shared memory) chunks "
   ]
  },
  {
   "cell_type": "code",
   "execution_count": 13,
   "id": "d1a21da0",
   "metadata": {},
   "outputs": [
    {
     "name": "stdout",
     "output_type": "stream",
     "text": [
      "chunk changes\n",
      "rows / threads: 37292 threads: 10\n",
      "time: 0.32 chunk: 1\n",
      "time: 0.28 chunk: 10001\n",
      "time: 0.28 chunk: 20001\n",
      "time: 0.29 chunk: 30001\n",
      "time: 0.26 chunk: 40001\n",
      "time: 0.27 chunk: 50001\n",
      "time: 0.28 chunk: 60001\n",
      "time: 0.29 chunk: 70001\n",
      "time: 0.31 chunk: 80001\n",
      "time: 0.32 chunk: 90001\n",
      "time: 0.33 chunk: 100001\n",
      "time: 0.34 chunk: 110001\n",
      "time: 0.36 chunk: 120001\n",
      "time: 0.37 chunk: 130001\n",
      "time: 0.38 chunk: 140001\n",
      "time: 0.39 chunk: 150001\n",
      "time: 0.40 chunk: 160001\n",
      "time: 0.41 chunk: 170001\n",
      "time: 0.43 chunk: 180001\n",
      "time: 0.43 chunk: 190001\n",
      "time: 0.44 chunk: 200001\n",
      "time: 0.45 chunk: 210001\n",
      "time: 0.46 chunk: 220001\n",
      "time: 0.48 chunk: 230001\n",
      "time: 0.49 chunk: 240001\n",
      "time: 0.50 chunk: 250001\n",
      "time: 0.51 chunk: 260001\n",
      "time: 0.52 chunk: 270001\n",
      "time: 0.53 chunk: 280001\n",
      "time: 0.54 chunk: 290001\n",
      "time: 0.54 chunk: 300001\n",
      "time: 0.58 chunk: 310001\n",
      "time: 0.58 chunk: 320001\n",
      "time: 0.58 chunk: 330001\n",
      "time: 0.58 chunk: 340001\n",
      "time: 0.59 chunk: 350001\n",
      "time: 0.61 chunk: 360001\n",
      "time: 0.62 chunk: 370001\n",
      "time: 0.63 chunk: 380001\n",
      "time: 0.63 chunk: 390001\n"
     ]
    }
   ],
   "source": [
    "print('chunk changes')\n",
    "nt = 10\n",
    "print('rows / threads: %.0f threads: %s' % ((npday.shape[0] / nt),nt))\n",
    "nruns=20\n",
    "for cs in range(1,400000,10000):\n",
    "    totalrun = 0\n",
    "    for run in range(nruns):\n",
    "        start = time.time()\n",
    "        id2xy, grid = nppar.fillcube(nt, npday, firstid,  rdiff, gridwidth, gridheight, 'static', cs)\n",
    "        end = time.time()\n",
    "        totalrun+=(end - start)\n",
    "        avgt = totalrun/nruns\n",
    "        if nt==1: Tseq=avgt\n",
    "    print('average time: %.2f chunk: %s'%(totalrun/nruns, cs))"
   ]
  },
  {
   "cell_type": "markdown",
   "id": "1d80fef3",
   "metadata": {},
   "source": [
    "### cython (with shared memory) OpenMP schedules"
   ]
  },
  {
   "cell_type": "code",
   "execution_count": null,
   "id": "ed2f56c5",
   "metadata": {},
   "outputs": [],
   "source": [
    "nt = 14\n",
    "nruns=30\n",
    "print('optimum rows / threads: %.0f, threads: %s, runs per experiment: %s' % ((npday.shape[0] / nt),nt, nruns))\n",
    "for i in range(3):\n",
    "    id2xy, grid = nppar.fillcube(nt, npday, firstid,  rdiff, gridwidth, gridheight, None)\n",
    "schedules = [None, 'static', 'dynamic', 'guided']\n",
    "random.shuffle(schedules)\n",
    "for schedule in schedules:\n",
    "    totalrun = 0\n",
    "    for run in range(nruns):\n",
    "        start = time.time()\n",
    "        id2xy, grid = nppar.fillcube(nt, npday, firstid,  rdiff, gridwidth, gridheight, schedule)\n",
    "        end = time.time()\n",
    "        totalrun+=(end - start)\n",
    "    print('average time: %.2f sec, schedule: %s'%(totalrun/nruns, schedule))\n",
    "\n",
    "#xaday=xarray.DataArray(data=grid, dims=[\"x\", \"y\", \"feature\"],  coords=dict(x=range(gridwidth), y=range(gridheight), feature=range(len(dt_df.names)-1)))\n",
    "\n"
   ]
  },
  {
   "cell_type": "markdown",
   "id": "c665b00b",
   "metadata": {},
   "source": [
    "### Table Conversion plus IO read/write (csv to netcdf)"
   ]
  },
  {
   "cell_type": "code",
   "execution_count": 5,
   "id": "e9d9e61c",
   "metadata": {},
   "outputs": [],
   "source": [
    "def creategrid_xs_small(rdiff, firstid, gridwidth, gridheight, dayfile, pcpus, ccpus, queue):\n",
    "    # fday = '/data2/ffp/datasets/daily/2021/08/20210803_norm.csv'\n",
    "    #print(\"processing day %s\" % dayfile)\n",
    "    try:\n",
    "        stpr = time.process_time()\n",
    "        orig_path = os.path.dirname(dayfile)\n",
    "        fname = os.path.basename(dayfile)\n",
    "        daygrid = \"%s_grid.nc\" % (fname[0:8])\n",
    "        #if os.path.isfile(os.path.join(orig_path, daygrid)): return\n",
    "        dt_df = dt.fread(dayfile, nthreads=1)#pcpus)\n",
    "        firstfeat = dt_df.names.index('id')\n",
    "        #npday = dt_df[:, firstfeat:].to_numpy(dt.float32)\n",
    "\n",
    "        dynamic_feat=['id', 'max_temp', 'min_temp', 'mean_temp', 'res_max',\n",
    "         'dom_vel', 'rain_7days', #'dem', 'slope', 'curvature', 'aspect',\n",
    "         'ndvi_new', 'evi', 'lst_day', 'lst_night', 'max_dew_temp',\n",
    "         'mean_dew_temp', 'min_dew_temp', 'fire', 'dir_max_1', 'dir_max_2',\n",
    "         'dir_max_3', 'dir_max_4', 'dir_max_5', 'dir_max_6', 'dir_max_7',\n",
    "         'dir_max_8', 'dom_dir_1', 'dom_dir_2', 'dom_dir_3', 'dom_dir_4',\n",
    "         'dom_dir_5', 'dom_dir_6', 'dom_dir_7', 'dom_dir_8', #'corine_111',\n",
    "        # 'corine_112', 'corine_121', 'corine_122', 'corine_123', 'corine_124',\n",
    "        # 'corine_131', 'corine_132', 'corine_133', 'corine_141', 'corine_142',\n",
    "        # 'corine_211', 'corine_212', 'corine_213', 'corine_221', 'corine_222',\n",
    "        # 'corine_223', 'corine_231', 'corine_241', 'corine_242', 'corine_243',\n",
    "        # 'corine_244', 'corine_311', 'corine_312', 'corine_313', 'corine_321',\n",
    "        # 'corine_322', 'corine_323', 'corine_324', 'corine_331', 'corine_332',\n",
    "        # 'corine_333', 'corine_334', 'corine_411', 'corine_412', 'corine_421',\n",
    "        # 'corine_422', 'corine_511', 'corine_512', 'corine_521', 'wkd_0',\n",
    "        # 'wkd_1', 'wkd_2', 'wkd_3', 'wkd_4', 'wkd_5', 'wkd_6', 'month_7',\n",
    "        # 'month_4', 'month_5', 'month_6', 'month_8', 'month_9',\n",
    "        'frequency','f81',]# 'xpos', 'ypos']\n",
    "\n",
    "        dyn_df = dt_df[:, dynamic_feat]\n",
    "        npday = dyn_df.to_numpy(dt.float32)\n",
    "        #print(\"To cython\")\n",
    "\n",
    "        # start = time.time()\n",
    "        id2xy, grid = nppar.fillcube(ccpus, npday, firstid, rdiff, gridwidth, gridheight)\n",
    "        # end = time.time()\n",
    "        # print(end - start)\n",
    "\n",
    "        vardict = {}\n",
    "        for i in range(0, len(dyn_df.names)):\n",
    "            varname = dyn_df.names[i]\n",
    "            if dyn_df.names[i] == 'x' or dyn_df.names[i] == 'y':\n",
    "                varname = '%spos' % varname\n",
    "            vardict[varname] = ([\"x\", \"y\", \"time\"], np.expand_dims(grid[:, :, i], axis=2))\n",
    "\n",
    "        t = datetime.strptime(os.path.basename(dayfile)[0:8], '%Y%m%d')\n",
    "        xsday = xarray.Dataset(data_vars=vardict, coords=dict(x=range(gridwidth), y=range(gridheight), time=[t]))\n",
    "        #print(\"To disk\")\n",
    "        xsday.to_netcdf(os.path.join(orig_path, daygrid))\n",
    "        #print(\"Successfull convertion %s\" % dayfile)\n",
    "        epr = time.process_time()\n",
    "        queue.put(epr-stpr)\n",
    "    except:\n",
    "        print(\"Fail to convert %s\" % dayfile)\n",
    "        traceback.print_exc()\n",
    "        with open(\"/data2/ffp/datasets/daily/failedgrids.log\", \"a\") as f:\n",
    "            f.write(dayfile)\n",
    "\n",
    "def new_process(proclist, day, pthreads, cthreads):\n",
    "    q=mp.Queue()\n",
    "    proclist += [{'proc':Process(target=creategrid, args=(day, pthreads, cthreads, q)), 'queue': q}]\n",
    "    proclist[-1]['proc'].start()\n",
    "\n",
    "def create_xs_files(creategrid, days, pthreads, cthreads):\n",
    "    procs=[]\n",
    "    proctimetotal=0\n",
    "    dayscompleted=[]\n",
    "    for cpu in range(pthreads):\n",
    "        d=days.pop()\n",
    "        dayscompleted+=[d]\n",
    "        #print('initial proc')\n",
    "        new_process(procs, d, pthreads, cthreads)\n",
    "    while len(procs)>0:\n",
    "        time.sleep(0.1)\n",
    "        for p in procs:\n",
    "            try:\n",
    "                proctimetotal+=p['queue'].get_nowait()\n",
    "            except:\n",
    "                pass\n",
    "            if not p['proc'].is_alive():\n",
    "                #print('remove, tot procs: %d'%len(procs))\n",
    "                procs.remove(p)\n",
    "                #print('tot procs: %d'%len(procs))\n",
    "        while len(procs)<pthreads:\n",
    "            if len(days)==0: break\n",
    "            #print('new proc')\n",
    "            d = days.pop()\n",
    "            dayscompleted += [d]\n",
    "            new_process(procs, d, pthreads, cthreads)\n",
    "    return proctimetotal\n",
    "\n",
    "def plotscatter(atimes, typ=0):\n",
    "    for y in range(1,atimes.shape[1]):\n",
    "        plt.scatter(range(1,atimes.shape[0]), [y]*(atimes.shape[0]-1), s=atimes[1:, y, typ])\n",
    "    plt.show()\n",
    "\n",
    "def plotheatmap(atimes, title1='Wall time', title2='Process (CPU) time'):\n",
    "    fig = plt.figure(figsize=(12, 6))\n",
    "    grid = axes_grid1.AxesGrid(\n",
    "        fig, 111, nrows_ncols=(1, 2), axes_pad = 0.5, cbar_location = \"right\",\n",
    "        cbar_mode=\"each\", cbar_size=\"7%\", cbar_pad=\"5%\",)\n",
    "    data=atimes[1:,1:,0]\n",
    "    im0 = grid[0].imshow(data, cmap='turbo', interpolation='None')\n",
    "    grid.cbar_axes[0].colorbar(im0)\n",
    "    # Show all ticks and label them with the respective list entries\n",
    "    grid[0].set_xticks(np.arange(data.shape[1]), labels=np.arange(1,data.shape[1]+1))\n",
    "    grid[0].set_yticks(np.arange(data.shape[0]), labels=np.arange(1,data.shape[0]+1))\n",
    "    grid[0].set_ylabel('# cython threads')\n",
    "    grid[0].set_xlabel('# python threads')\n",
    "    grid[0].title.set_text(title1)\n",
    "    #ax.set_yticks(np.arange(len(vegetables)), labels=vegetables)\n",
    "    if not title2 is None:\n",
    "        data=atimes[1:,1:,1]\n",
    "        im1 = grid[1].imshow(data, cmap='turbo', interpolation='None')\n",
    "        grid[1].set_xticks(np.arange(data.shape[1]), labels=np.arange(1,data.shape[1]+1))\n",
    "        grid[1].set_xlabel('# python threads')\n",
    "        grid[1].title.set_text(title2)\n",
    "        grid.cbar_axes[1].colorbar(im1)\n",
    "    "
   ]
  },
  {
   "cell_type": "code",
   "execution_count": 17,
   "id": "42f30fa5",
   "metadata": {
    "collapsed": true
   },
   "outputs": [
    {
     "name": "stdout",
     "output_type": "stream",
     "text": [
      "wall time: 52.0 sec, process time: 37.2 sec, python threads 1, cython threads 1\n",
      "wall time: 26.9 sec, process time: 46.4 sec, python threads 2, cython threads 1\n",
      "wall time: 27.8 sec, process time: 55.4 sec, python threads 3, cython threads 1\n"
     ]
    },
    {
     "ename": "KeyboardInterrupt",
     "evalue": "",
     "output_type": "error",
     "traceback": [
      "\u001b[0;31m---------------------------------------------------------------------------\u001b[0m",
      "\u001b[0;31mKeyboardInterrupt\u001b[0m                         Traceback (most recent call last)",
      "Cell \u001b[0;32mIn [17], line 10\u001b[0m\n\u001b[1;32m      8\u001b[0m \u001b[38;5;28;01mfor\u001b[39;00m pthreads \u001b[38;5;129;01min\u001b[39;00m ptr:\n\u001b[1;32m      9\u001b[0m     start\u001b[38;5;241m=\u001b[39mtime\u001b[38;5;241m.\u001b[39mtime()\n\u001b[0;32m---> 10\u001b[0m     proctime\u001b[38;5;241m=\u001b[39m\u001b[43mcreate_xs_files\u001b[49m\u001b[43m(\u001b[49m\u001b[43mcreategrid\u001b[49m\u001b[43m,\u001b[49m\u001b[43m \u001b[49m\u001b[43mdayfiles\u001b[49m\u001b[43m[\u001b[49m\u001b[43m:\u001b[49m\u001b[38;5;241;43m10\u001b[39;49m\u001b[43m]\u001b[49m\u001b[43m,\u001b[49m\u001b[43m \u001b[49m\u001b[43mpthreads\u001b[49m\u001b[43m,\u001b[49m\u001b[43m \u001b[49m\u001b[43mcthreads\u001b[49m\u001b[43m)\u001b[49m\n\u001b[1;32m     11\u001b[0m     end\u001b[38;5;241m=\u001b[39mtime\u001b[38;5;241m.\u001b[39mtime()\n\u001b[1;32m     12\u001b[0m     \u001b[38;5;28mprint\u001b[39m(\u001b[38;5;124m'\u001b[39m\u001b[38;5;124mwall time: \u001b[39m\u001b[38;5;132;01m%.1f\u001b[39;00m\u001b[38;5;124m sec, process time: \u001b[39m\u001b[38;5;132;01m%.1f\u001b[39;00m\u001b[38;5;124m sec, python threads \u001b[39m\u001b[38;5;132;01m%s\u001b[39;00m\u001b[38;5;124m, cython threads \u001b[39m\u001b[38;5;132;01m%s\u001b[39;00m\u001b[38;5;124m'\u001b[39m \u001b[38;5;241m%\u001b[39m (end \u001b[38;5;241m-\u001b[39m start, proctime, pthreads, cthreads))\n",
      "Cell \u001b[0;32mIn [16], line 77\u001b[0m, in \u001b[0;36mcreate_xs_files\u001b[0;34m(creategrid, days, pthreads, cthreads)\u001b[0m\n\u001b[1;32m     75\u001b[0m     new_process(procs, d, pthreads, cthreads)\n\u001b[1;32m     76\u001b[0m \u001b[38;5;28;01mwhile\u001b[39;00m \u001b[38;5;28mlen\u001b[39m(procs)\u001b[38;5;241m>\u001b[39m\u001b[38;5;241m0\u001b[39m:\n\u001b[0;32m---> 77\u001b[0m     \u001b[43mtime\u001b[49m\u001b[38;5;241;43m.\u001b[39;49m\u001b[43msleep\u001b[49m\u001b[43m(\u001b[49m\u001b[38;5;241;43m1\u001b[39;49m\u001b[43m)\u001b[49m\n\u001b[1;32m     78\u001b[0m     \u001b[38;5;28;01mfor\u001b[39;00m p \u001b[38;5;129;01min\u001b[39;00m procs:\n\u001b[1;32m     79\u001b[0m         \u001b[38;5;28;01mtry\u001b[39;00m:\n",
      "\u001b[0;31mKeyboardInterrupt\u001b[0m: "
     ]
    },
    {
     "name": "stdout",
     "output_type": "stream",
     "text": [
      "Fail to convert /data2/ffp/datasets/daily/2015/09/20150912_norm.csv\n"
     ]
    },
    {
     "name": "stderr",
     "output_type": "stream",
     "text": [
      "Traceback (most recent call last):\n",
      "  File \"<ipython-input-16-a6fb69d03979>\", line 52, in creategrid_xs_small\n",
      "    xsday.to_netcdf(os.path.join(orig_path, daygrid))\n",
      "  File \"/data2/ffp/envs/ml_vm2/lib/python3.9/site-packages/xarray/core/dataset.py\", line 1902, in to_netcdf\n",
      "    return to_netcdf(\n",
      "  File \"/data2/ffp/envs/ml_vm2/lib/python3.9/site-packages/xarray/backends/api.py\", line 1088, in to_netcdf\n",
      "    store.close()\n",
      "  File \"/data2/ffp/envs/ml_vm2/lib/python3.9/site-packages/xarray/backends/scipy_.py\", line 237, in close\n",
      "    self._manager.close()\n",
      "  File \"/data2/ffp/envs/ml_vm2/lib/python3.9/site-packages/xarray/backends/file_manager.py\", line 222, in close\n",
      "    file.close()\n",
      "  File \"/data2/ffp/envs/ml_vm2/lib/python3.9/site-packages/scipy/io/_netcdf.py\", line 312, in close\n",
      "    self.fp.close()\n",
      "KeyboardInterrupt\n"
     ]
    },
    {
     "name": "stdout",
     "output_type": "stream",
     "text": [
      "Fail to convert /data2/ffp/datasets/daily/2015/09/20150908_norm.csv\n"
     ]
    },
    {
     "name": "stderr",
     "output_type": "stream",
     "text": [
      "Traceback (most recent call last):\n",
      "  File \"<ipython-input-16-a6fb69d03979>\", line 52, in creategrid_xs_small\n",
      "    xsday.to_netcdf(os.path.join(orig_path, daygrid))\n",
      "  File \"/data2/ffp/envs/ml_vm2/lib/python3.9/site-packages/xarray/core/dataset.py\", line 1902, in to_netcdf\n",
      "    return to_netcdf(\n",
      "  File \"/data2/ffp/envs/ml_vm2/lib/python3.9/site-packages/xarray/backends/api.py\", line 1088, in to_netcdf\n",
      "    store.close()\n",
      "  File \"/data2/ffp/envs/ml_vm2/lib/python3.9/site-packages/xarray/backends/scipy_.py\", line 237, in close\n",
      "    self._manager.close()\n",
      "  File \"/data2/ffp/envs/ml_vm2/lib/python3.9/site-packages/xarray/backends/file_manager.py\", line 222, in close\n",
      "    file.close()\n",
      "  File \"/data2/ffp/envs/ml_vm2/lib/python3.9/site-packages/scipy/io/_netcdf.py\", line 312, in close\n",
      "    self.fp.close()\n",
      "KeyboardInterrupt\n"
     ]
    },
    {
     "name": "stdout",
     "output_type": "stream",
     "text": [
      "Fail to convert /data2/ffp/datasets/daily/2015/09/20150905_norm.csv\n"
     ]
    },
    {
     "name": "stderr",
     "output_type": "stream",
     "text": [
      "Traceback (most recent call last):\n",
      "  File \"<ipython-input-16-a6fb69d03979>\", line 52, in creategrid_xs_small\n",
      "    xsday.to_netcdf(os.path.join(orig_path, daygrid))\n",
      "  File \"/data2/ffp/envs/ml_vm2/lib/python3.9/site-packages/xarray/core/dataset.py\", line 1902, in to_netcdf\n",
      "    return to_netcdf(\n",
      "  File \"/data2/ffp/envs/ml_vm2/lib/python3.9/site-packages/xarray/backends/api.py\", line 1088, in to_netcdf\n",
      "    store.close()\n",
      "  File \"/data2/ffp/envs/ml_vm2/lib/python3.9/site-packages/xarray/backends/scipy_.py\", line 237, in close\n",
      "    self._manager.close()\n",
      "  File \"/data2/ffp/envs/ml_vm2/lib/python3.9/site-packages/xarray/backends/file_manager.py\", line 222, in close\n",
      "    file.close()\n",
      "  File \"/data2/ffp/envs/ml_vm2/lib/python3.9/site-packages/scipy/io/_netcdf.py\", line 312, in close\n",
      "    self.fp.close()\n",
      "KeyboardInterrupt\n"
     ]
    },
    {
     "name": "stdout",
     "output_type": "stream",
     "text": [
      "Fail to convert /data2/ffp/datasets/daily/2015/09/20150925_norm.csv\n"
     ]
    },
    {
     "name": "stderr",
     "output_type": "stream",
     "text": [
      "Traceback (most recent call last):\n",
      "  File \"<ipython-input-16-a6fb69d03979>\", line 52, in creategrid_xs_small\n",
      "    xsday.to_netcdf(os.path.join(orig_path, daygrid))\n",
      "  File \"/data2/ffp/envs/ml_vm2/lib/python3.9/site-packages/xarray/core/dataset.py\", line 1902, in to_netcdf\n",
      "    return to_netcdf(\n",
      "  File \"/data2/ffp/envs/ml_vm2/lib/python3.9/site-packages/xarray/backends/api.py\", line 1088, in to_netcdf\n",
      "    store.close()\n",
      "  File \"/data2/ffp/envs/ml_vm2/lib/python3.9/site-packages/xarray/backends/scipy_.py\", line 237, in close\n",
      "    self._manager.close()\n",
      "  File \"/data2/ffp/envs/ml_vm2/lib/python3.9/site-packages/xarray/backends/file_manager.py\", line 222, in close\n",
      "    file.close()\n",
      "  File \"/data2/ffp/envs/ml_vm2/lib/python3.9/site-packages/scipy/io/_netcdf.py\", line 312, in close\n",
      "    self.fp.close()\n",
      "KeyboardInterrupt\n"
     ]
    }
   ],
   "source": [
    "creategrid = partial(creategrid_xs_small, rdiff, firstid, gridwidth, gridheight)\n",
    "nruns=1\n",
    "totalrun=0\n",
    "ctr=range(1,17,1)\n",
    "ptr=range(1,11,1)\n",
    "atimes=np.zeros((max(list(ctr))+1,max(list(ptr))+1,2))\n",
    "for cthreads in ctr:\n",
    "    for pthreads in ptr:\n",
    "        start=time.time()\n",
    "        proctime=create_xs_files(creategrid, dayfiles[:10], pthreads, cthreads)\n",
    "        end=time.time()\n",
    "        print('wall time: %.1f sec, process time: %.1f sec, python threads %s, cython threads %s' % (end - start, proctime, pthreads, cthreads))\n",
    "        atimes[cthreads, pthreads,:]=np.array([end-start,proctime])[:]\n",
    "np.save('tab2convtimes',atimes)        "
   ]
  },
  {
   "cell_type": "code",
   "execution_count": 108,
   "id": "71f29fdb",
   "metadata": {},
   "outputs": [],
   "source": [
    "np.save('tab2convtimes',atimes)"
   ]
  },
  {
   "cell_type": "code",
   "execution_count": 170,
   "id": "90997281",
   "metadata": {},
   "outputs": [],
   "source": [
    "atimes=np.load('tab2convtimes.npy')"
   ]
  },
  {
   "cell_type": "code",
   "execution_count": 171,
   "id": "b0216dbd",
   "metadata": {},
   "outputs": [
    {
     "data": {
      "image/png": "[encoded data removed]",
      "text/plain": [
       "<Figure size 864x432 with 4 Axes>"
      ]
     },
     "metadata": {
      "needs_background": "light"
     },
     "output_type": "display_data"
    }
   ],
   "source": [
    "plotheatmap(atimes)"
   ]
  },
  {
   "cell_type": "code",
   "execution_count": 86,
   "id": "e5717679",
   "metadata": {},
   "outputs": [],
   "source": [
    "ctr=range(1,17,1)\n",
    "ptr=range(1,17,1)"
   ]
  },
  {
   "cell_type": "code",
   "execution_count": 7,
   "id": "4c621f6a",
   "metadata": {},
   "outputs": [
    {
     "name": "stdout",
     "output_type": "stream",
     "text": [
      "wall time: 8.4 sec, process time: 6.6 sec, python threads 1, cython threads 1\n",
      "wall time: 7.6 sec, process time: 7.2 sec, python threads 2, cython threads 1\n",
      "wall time: 10.7 sec, process time: 22.5 sec, python threads 3, cython threads 1\n",
      "wall time: 17.1 sec, process time: 29.8 sec, python threads 4, cython threads 1\n",
      "wall time: 18.8 sec, process time: 41.5 sec, python threads 5, cython threads 1\n",
      "wall time: 19.5 sec, process time: 54.5 sec, python threads 6, cython threads 1\n",
      "wall time: 20.4 sec, process time: 70.5 sec, python threads 7, cython threads 1\n",
      "wall time: 25.1 sec, process time: 94.4 sec, python threads 8, cython threads 1\n",
      "wall time: 28.7 sec, process time: 114.0 sec, python threads 9, cython threads 1\n",
      "wall time: 27.8 sec, process time: 137.1 sec, python threads 10, cython threads 1\n",
      "wall time: 29.5 sec, process time: 179.6 sec, python threads 11, cython threads 1\n",
      "wall time: 36.8 sec, process time: 206.6 sec, python threads 12, cython threads 1\n",
      "wall time: 44.5 sec, process time: 225.2 sec, python threads 13, cython threads 1\n",
      "wall time: 63.1 sec, process time: 267.0 sec, python threads 14, cython threads 1\n",
      "wall time: 52.8 sec, process time: 299.4 sec, python threads 15, cython threads 1\n",
      "wall time: 51.6 sec, process time: 303.1 sec, python threads 16, cython threads 1\n",
      "wall time: 6.0 sec, process time: 6.5 sec, python threads 1, cython threads 2\n",
      "wall time: 9.3 sec, process time: 13.9 sec, python threads 2, cython threads 2\n",
      "wall time: 13.7 sec, process time: 24.1 sec, python threads 3, cython threads 2\n",
      "wall time: 15.5 sec, process time: 36.9 sec, python threads 4, cython threads 2\n",
      "wall time: 20.4 sec, process time: 54.7 sec, python threads 5, cython threads 2\n",
      "wall time: 23.2 sec, process time: 71.0 sec, python threads 6, cython threads 2\n",
      "wall time: 26.9 sec, process time: 90.4 sec, python threads 7, cython threads 2\n",
      "wall time: 28.1 sec, process time: 114.3 sec, python threads 8, cython threads 2\n",
      "wall time: 32.0 sec, process time: 154.0 sec, python threads 9, cython threads 2\n",
      "wall time: 34.4 sec, process time: 179.2 sec, python threads 10, cython threads 2\n",
      "wall time: 41.0 sec, process time: 202.7 sec, python threads 11, cython threads 2\n",
      "wall time: 39.3 sec, process time: 213.8 sec, python threads 12, cython threads 2\n",
      "wall time: 37.7 sec, process time: 219.9 sec, python threads 13, cython threads 2\n",
      "wall time: 46.2 sec, process time: 268.5 sec, python threads 14, cython threads 2\n",
      "wall time: 48.3 sec, process time: 317.6 sec, python threads 15, cython threads 2\n",
      "wall time: 49.0 sec, process time: 304.0 sec, python threads 16, cython threads 2\n",
      "wall time: 6.0 sec, process time: 3.6 sec, python threads 1, cython threads 3\n",
      "wall time: 12.6 sec, process time: 13.2 sec, python threads 2, cython threads 3\n",
      "wall time: 13.7 sec, process time: 24.1 sec, python threads 3, cython threads 3\n",
      "wall time: 15.1 sec, process time: 35.8 sec, python threads 4, cython threads 3\n",
      "wall time: 19.2 sec, process time: 50.1 sec, python threads 5, cython threads 3\n",
      "wall time: 19.6 sec, process time: 67.3 sec, python threads 6, cython threads 3\n",
      "wall time: 23.8 sec, process time: 90.2 sec, python threads 7, cython threads 3\n",
      "wall time: 30.1 sec, process time: 116.8 sec, python threads 8, cython threads 3\n",
      "wall time: 27.7 sec, process time: 142.3 sec, python threads 9, cython threads 3\n",
      "wall time: 35.7 sec, process time: 175.5 sec, python threads 10, cython threads 3\n",
      "wall time: 35.3 sec, process time: 215.2 sec, python threads 11, cython threads 3\n",
      "wall time: 37.0 sec, process time: 233.6 sec, python threads 12, cython threads 3\n",
      "wall time: 39.5 sec, process time: 255.1 sec, python threads 13, cython threads 3\n",
      "wall time: 42.8 sec, process time: 270.2 sec, python threads 14, cython threads 3\n",
      "wall time: 42.7 sec, process time: 310.0 sec, python threads 15, cython threads 3\n",
      "wall time: 53.1 sec, process time: 354.8 sec, python threads 16, cython threads 3\n",
      "wall time: 10.4 sec, process time: 4.5 sec, python threads 1, cython threads 4\n",
      "wall time: 9.2 sec, process time: 8.5 sec, python threads 2, cython threads 4\n",
      "wall time: 12.7 sec, process time: 19.2 sec, python threads 3, cython threads 4\n",
      "wall time: 17.9 sec, process time: 36.4 sec, python threads 4, cython threads 4\n",
      "wall time: 19.5 sec, process time: 48.3 sec, python threads 5, cython threads 4\n",
      "wall time: 21.9 sec, process time: 64.4 sec, python threads 6, cython threads 4\n",
      "wall time: 29.0 sec, process time: 92.4 sec, python threads 7, cython threads 4\n",
      "wall time: 29.1 sec, process time: 110.6 sec, python threads 8, cython threads 4\n",
      "wall time: 31.4 sec, process time: 136.6 sec, python threads 9, cython threads 4\n",
      "wall time: 32.4 sec, process time: 167.5 sec, python threads 10, cython threads 4\n",
      "wall time: 36.8 sec, process time: 200.0 sec, python threads 11, cython threads 4\n",
      "wall time: 42.9 sec, process time: 216.9 sec, python threads 12, cython threads 4\n",
      "wall time: 40.0 sec, process time: 245.9 sec, python threads 13, cython threads 4\n",
      "wall time: 45.2 sec, process time: 274.7 sec, python threads 14, cython threads 4\n",
      "wall time: 49.1 sec, process time: 302.5 sec, python threads 15, cython threads 4\n",
      "wall time: 53.5 sec, process time: 333.8 sec, python threads 16, cython threads 4\n",
      "wall time: 10.1 sec, process time: 4.5 sec, python threads 1, cython threads 5\n",
      "wall time: 13.0 sec, process time: 8.5 sec, python threads 2, cython threads 5\n",
      "wall time: 14.6 sec, process time: 18.6 sec, python threads 3, cython threads 5\n",
      "wall time: 17.4 sec, process time: 35.2 sec, python threads 4, cython threads 5\n",
      "wall time: 19.1 sec, process time: 50.6 sec, python threads 5, cython threads 5\n",
      "wall time: 23.6 sec, process time: 68.2 sec, python threads 6, cython threads 5\n",
      "wall time: 24.0 sec, process time: 89.2 sec, python threads 7, cython threads 5\n",
      "wall time: 27.0 sec, process time: 108.1 sec, python threads 8, cython threads 5\n",
      "wall time: 30.1 sec, process time: 127.7 sec, python threads 9, cython threads 5\n",
      "wall time: 38.0 sec, process time: 151.9 sec, python threads 10, cython threads 5\n",
      "wall time: 36.7 sec, process time: 188.9 sec, python threads 11, cython threads 5\n",
      "wall time: 44.9 sec, process time: 215.1 sec, python threads 12, cython threads 5\n",
      "wall time: 39.7 sec, process time: 219.4 sec, python threads 13, cython threads 5\n",
      "wall time: 42.6 sec, process time: 247.9 sec, python threads 14, cython threads 5\n",
      "wall time: 44.7 sec, process time: 261.2 sec, python threads 15, cython threads 5\n",
      "wall time: 49.2 sec, process time: 273.1 sec, python threads 16, cython threads 5\n",
      "wall time: 6.3 sec, process time: 4.1 sec, python threads 1, cython threads 6\n",
      "wall time: 9.3 sec, process time: 14.0 sec, python threads 2, cython threads 6\n",
      "wall time: 12.2 sec, process time: 22.2 sec, python threads 3, cython threads 6\n",
      "wall time: 17.2 sec, process time: 34.0 sec, python threads 4, cython threads 6\n",
      "wall time: 21.0 sec, process time: 45.9 sec, python threads 5, cython threads 6\n",
      "wall time: 18.7 sec, process time: 61.6 sec, python threads 6, cython threads 6\n",
      "wall time: 21.1 sec, process time: 77.5 sec, python threads 7, cython threads 6\n",
      "wall time: 27.5 sec, process time: 101.1 sec, python threads 8, cython threads 6\n",
      "wall time: 28.0 sec, process time: 117.2 sec, python threads 9, cython threads 6\n",
      "wall time: 37.9 sec, process time: 146.0 sec, python threads 10, cython threads 6\n",
      "wall time: 29.4 sec, process time: 168.6 sec, python threads 11, cython threads 6\n",
      "wall time: 35.1 sec, process time: 184.5 sec, python threads 12, cython threads 6\n",
      "wall time: 38.6 sec, process time: 206.6 sec, python threads 13, cython threads 6\n",
      "wall time: 41.6 sec, process time: 196.6 sec, python threads 14, cython threads 6\n",
      "wall time: 39.9 sec, process time: 205.5 sec, python threads 15, cython threads 6\n",
      "wall time: 46.8 sec, process time: 242.9 sec, python threads 16, cython threads 6\n",
      "wall time: 10.5 sec, process time: 4.9 sec, python threads 1, cython threads 7\n",
      "wall time: 11.4 sec, process time: 8.2 sec, python threads 2, cython threads 7\n",
      "wall time: 12.7 sec, process time: 17.9 sec, python threads 3, cython threads 7\n",
      "wall time: 15.3 sec, process time: 28.4 sec, python threads 4, cython threads 7\n",
      "wall time: 14.9 sec, process time: 37.4 sec, python threads 5, cython threads 7\n",
      "wall time: 17.4 sec, process time: 48.9 sec, python threads 6, cython threads 7\n"
     ]
    },
    {
     "name": "stdout",
     "output_type": "stream",
     "text": [
      "wall time: 19.4 sec, process time: 63.9 sec, python threads 7, cython threads 7\n",
      "wall time: 24.3 sec, process time: 77.9 sec, python threads 8, cython threads 7\n",
      "wall time: 27.0 sec, process time: 92.8 sec, python threads 9, cython threads 7\n",
      "wall time: 28.1 sec, process time: 107.9 sec, python threads 10, cython threads 7\n",
      "wall time: 29.2 sec, process time: 119.7 sec, python threads 11, cython threads 7\n",
      "wall time: 33.3 sec, process time: 148.0 sec, python threads 12, cython threads 7\n",
      "wall time: 34.4 sec, process time: 153.2 sec, python threads 13, cython threads 7\n",
      "wall time: 39.2 sec, process time: 161.0 sec, python threads 14, cython threads 7\n",
      "wall time: 40.2 sec, process time: 200.6 sec, python threads 15, cython threads 7\n",
      "wall time: 43.7 sec, process time: 216.1 sec, python threads 16, cython threads 7\n",
      "wall time: 5.8 sec, process time: 4.1 sec, python threads 1, cython threads 8\n",
      "wall time: 8.7 sec, process time: 13.8 sec, python threads 2, cython threads 8\n",
      "wall time: 12.4 sec, process time: 21.7 sec, python threads 3, cython threads 8\n",
      "wall time: 15.7 sec, process time: 35.8 sec, python threads 4, cython threads 8\n",
      "wall time: 16.9 sec, process time: 40.1 sec, python threads 5, cython threads 8\n",
      "wall time: 18.0 sec, process time: 50.6 sec, python threads 6, cython threads 8\n",
      "wall time: 22.4 sec, process time: 64.5 sec, python threads 7, cython threads 8\n",
      "wall time: 24.2 sec, process time: 75.2 sec, python threads 8, cython threads 8\n",
      "wall time: 26.7 sec, process time: 93.9 sec, python threads 9, cython threads 8\n",
      "wall time: 28.1 sec, process time: 112.9 sec, python threads 10, cython threads 8\n",
      "wall time: 29.5 sec, process time: 130.1 sec, python threads 11, cython threads 8\n",
      "wall time: 32.3 sec, process time: 146.7 sec, python threads 12, cython threads 8\n",
      "wall time: 34.0 sec, process time: 165.3 sec, python threads 13, cython threads 8\n",
      "wall time: 37.2 sec, process time: 180.0 sec, python threads 14, cython threads 8\n",
      "wall time: 40.6 sec, process time: 187.0 sec, python threads 15, cython threads 8\n",
      "wall time: 38.1 sec, process time: 199.2 sec, python threads 16, cython threads 8\n",
      "wall time: 5.4 sec, process time: 3.4 sec, python threads 1, cython threads 9\n",
      "wall time: 9.0 sec, process time: 13.2 sec, python threads 2, cython threads 9\n",
      "wall time: 14.5 sec, process time: 21.4 sec, python threads 3, cython threads 9\n",
      "wall time: 14.5 sec, process time: 29.7 sec, python threads 4, cython threads 9\n",
      "wall time: 17.5 sec, process time: 38.1 sec, python threads 5, cython threads 9\n",
      "wall time: 19.3 sec, process time: 49.7 sec, python threads 6, cython threads 9\n",
      "wall time: 22.2 sec, process time: 63.4 sec, python threads 7, cython threads 9\n",
      "wall time: 22.9 sec, process time: 74.5 sec, python threads 8, cython threads 9\n",
      "wall time: 25.1 sec, process time: 92.4 sec, python threads 9, cython threads 9\n",
      "wall time: 26.1 sec, process time: 111.1 sec, python threads 10, cython threads 9\n",
      "wall time: 28.1 sec, process time: 127.4 sec, python threads 11, cython threads 9\n",
      "wall time: 31.3 sec, process time: 138.5 sec, python threads 12, cython threads 9\n",
      "wall time: 37.4 sec, process time: 149.3 sec, python threads 13, cython threads 9\n",
      "wall time: 36.0 sec, process time: 159.3 sec, python threads 14, cython threads 9\n",
      "wall time: 40.4 sec, process time: 186.4 sec, python threads 15, cython threads 9\n",
      "wall time: 52.9 sec, process time: 193.2 sec, python threads 16, cython threads 9\n",
      "wall time: 5.5 sec, process time: 3.5 sec, python threads 1, cython threads 10\n",
      "wall time: 9.8 sec, process time: 13.4 sec, python threads 2, cython threads 10\n",
      "wall time: 11.1 sec, process time: 21.5 sec, python threads 3, cython threads 10\n",
      "wall time: 15.2 sec, process time: 29.3 sec, python threads 4, cython threads 10\n",
      "wall time: 16.9 sec, process time: 38.6 sec, python threads 5, cython threads 10\n",
      "wall time: 17.9 sec, process time: 50.6 sec, python threads 6, cython threads 10\n",
      "wall time: 25.3 sec, process time: 63.5 sec, python threads 7, cython threads 10\n",
      "wall time: 29.7 sec, process time: 76.5 sec, python threads 8, cython threads 10\n",
      "wall time: 28.7 sec, process time: 91.6 sec, python threads 9, cython threads 10\n",
      "wall time: 31.0 sec, process time: 110.2 sec, python threads 10, cython threads 10\n",
      "wall time: 37.5 sec, process time: 124.1 sec, python threads 11, cython threads 10\n",
      "wall time: 40.3 sec, process time: 138.1 sec, python threads 12, cython threads 10\n",
      "wall time: 37.4 sec, process time: 148.7 sec, python threads 13, cython threads 10\n",
      "wall time: 45.9 sec, process time: 152.8 sec, python threads 14, cython threads 10\n",
      "wall time: 39.7 sec, process time: 171.5 sec, python threads 15, cython threads 10\n",
      "wall time: 40.2 sec, process time: 206.6 sec, python threads 16, cython threads 10\n",
      "wall time: 5.9 sec, process time: 4.2 sec, python threads 1, cython threads 11\n",
      "wall time: 9.9 sec, process time: 14.0 sec, python threads 2, cython threads 11\n",
      "wall time: 12.4 sec, process time: 21.9 sec, python threads 3, cython threads 11\n",
      "wall time: 16.9 sec, process time: 31.2 sec, python threads 4, cython threads 11\n",
      "wall time: 15.2 sec, process time: 39.4 sec, python threads 5, cython threads 11\n",
      "wall time: 20.8 sec, process time: 50.5 sec, python threads 6, cython threads 11\n",
      "wall time: 21.5 sec, process time: 61.8 sec, python threads 7, cython threads 11\n",
      "wall time: 23.2 sec, process time: 77.0 sec, python threads 8, cython threads 11\n",
      "wall time: 26.0 sec, process time: 91.6 sec, python threads 9, cython threads 11\n",
      "wall time: 27.0 sec, process time: 111.3 sec, python threads 10, cython threads 11\n",
      "wall time: 26.7 sec, process time: 120.3 sec, python threads 11, cython threads 11\n",
      "wall time: 36.1 sec, process time: 131.6 sec, python threads 12, cython threads 11\n",
      "wall time: 34.8 sec, process time: 149.7 sec, python threads 13, cython threads 11\n",
      "wall time: 35.0 sec, process time: 153.7 sec, python threads 14, cython threads 11\n",
      "wall time: 35.8 sec, process time: 181.5 sec, python threads 15, cython threads 11\n",
      "wall time: 40.5 sec, process time: 197.8 sec, python threads 16, cython threads 11\n",
      "wall time: 7.2 sec, process time: 3.5 sec, python threads 1, cython threads 12\n",
      "wall time: 9.6 sec, process time: 12.6 sec, python threads 2, cython threads 12\n",
      "wall time: 11.2 sec, process time: 21.5 sec, python threads 3, cython threads 12\n",
      "wall time: 12.8 sec, process time: 30.3 sec, python threads 4, cython threads 12\n",
      "wall time: 19.6 sec, process time: 39.8 sec, python threads 5, cython threads 12\n",
      "wall time: 18.1 sec, process time: 50.2 sec, python threads 6, cython threads 12\n",
      "wall time: 21.5 sec, process time: 62.2 sec, python threads 7, cython threads 12\n",
      "wall time: 24.2 sec, process time: 73.5 sec, python threads 8, cython threads 12\n",
      "wall time: 24.1 sec, process time: 89.8 sec, python threads 9, cython threads 12\n",
      "wall time: 25.6 sec, process time: 102.7 sec, python threads 10, cython threads 12\n",
      "wall time: 27.0 sec, process time: 119.6 sec, python threads 11, cython threads 12\n",
      "wall time: 29.0 sec, process time: 136.8 sec, python threads 12, cython threads 12\n",
      "wall time: 30.7 sec, process time: 150.6 sec, python threads 13, cython threads 12\n",
      "wall time: 32.2 sec, process time: 167.9 sec, python threads 14, cython threads 12\n",
      "wall time: 35.6 sec, process time: 176.1 sec, python threads 15, cython threads 12\n",
      "wall time: 42.8 sec, process time: 207.0 sec, python threads 16, cython threads 12\n",
      "wall time: 4.9 sec, process time: 3.5 sec, python threads 1, cython threads 13\n",
      "wall time: 8.9 sec, process time: 12.7 sec, python threads 2, cython threads 13\n",
      "wall time: 11.7 sec, process time: 19.4 sec, python threads 3, cython threads 13\n",
      "wall time: 14.0 sec, process time: 28.2 sec, python threads 4, cython threads 13\n",
      "wall time: 16.2 sec, process time: 39.0 sec, python threads 5, cython threads 13\n",
      "wall time: 17.0 sec, process time: 50.5 sec, python threads 6, cython threads 13\n",
      "wall time: 19.0 sec, process time: 61.5 sec, python threads 7, cython threads 13\n",
      "wall time: 21.0 sec, process time: 73.8 sec, python threads 8, cython threads 13\n",
      "wall time: 22.6 sec, process time: 90.5 sec, python threads 9, cython threads 13\n",
      "wall time: 25.7 sec, process time: 111.5 sec, python threads 10, cython threads 13\n",
      "wall time: 25.2 sec, process time: 120.7 sec, python threads 11, cython threads 13\n"
     ]
    },
    {
     "name": "stdout",
     "output_type": "stream",
     "text": [
      "wall time: 29.9 sec, process time: 133.9 sec, python threads 12, cython threads 13\n",
      "wall time: 33.3 sec, process time: 140.2 sec, python threads 13, cython threads 13\n",
      "wall time: 38.2 sec, process time: 163.9 sec, python threads 14, cython threads 13\n",
      "wall time: 37.2 sec, process time: 164.2 sec, python threads 15, cython threads 13\n",
      "wall time: 41.2 sec, process time: 200.0 sec, python threads 16, cython threads 13\n",
      "wall time: 6.2 sec, process time: 5.2 sec, python threads 1, cython threads 14\n",
      "wall time: 8.5 sec, process time: 9.5 sec, python threads 2, cython threads 14\n",
      "wall time: 10.6 sec, process time: 20.7 sec, python threads 3, cython threads 14\n",
      "wall time: 12.3 sec, process time: 28.5 sec, python threads 4, cython threads 14\n",
      "wall time: 15.2 sec, process time: 39.6 sec, python threads 5, cython threads 14\n",
      "wall time: 17.1 sec, process time: 51.1 sec, python threads 6, cython threads 14\n",
      "wall time: 19.0 sec, process time: 62.4 sec, python threads 7, cython threads 14\n",
      "wall time: 27.4 sec, process time: 75.4 sec, python threads 8, cython threads 14\n",
      "wall time: 25.1 sec, process time: 97.5 sec, python threads 9, cython threads 14\n",
      "wall time: 26.6 sec, process time: 104.5 sec, python threads 10, cython threads 14\n",
      "wall time: 30.7 sec, process time: 126.3 sec, python threads 11, cython threads 14\n",
      "wall time: 37.5 sec, process time: 125.0 sec, python threads 12, cython threads 14\n",
      "wall time: 32.1 sec, process time: 148.3 sec, python threads 13, cython threads 14\n",
      "wall time: 32.7 sec, process time: 157.8 sec, python threads 14, cython threads 14\n",
      "wall time: 36.9 sec, process time: 174.1 sec, python threads 15, cython threads 14\n",
      "wall time: 41.4 sec, process time: 217.5 sec, python threads 16, cython threads 14\n",
      "wall time: 6.4 sec, process time: 4.0 sec, python threads 1, cython threads 15\n",
      "wall time: 9.4 sec, process time: 10.6 sec, python threads 2, cython threads 15\n",
      "wall time: 10.7 sec, process time: 20.0 sec, python threads 3, cython threads 15\n",
      "wall time: 14.0 sec, process time: 30.0 sec, python threads 4, cython threads 15\n",
      "wall time: 15.6 sec, process time: 38.0 sec, python threads 5, cython threads 15\n",
      "wall time: 16.5 sec, process time: 48.3 sec, python threads 6, cython threads 15\n",
      "wall time: 20.6 sec, process time: 61.7 sec, python threads 7, cython threads 15\n",
      "wall time: 20.7 sec, process time: 71.4 sec, python threads 8, cython threads 15\n",
      "wall time: 23.7 sec, process time: 85.6 sec, python threads 9, cython threads 15\n",
      "wall time: 24.2 sec, process time: 105.1 sec, python threads 10, cython threads 15\n",
      "wall time: 27.1 sec, process time: 118.4 sec, python threads 11, cython threads 15\n",
      "wall time: 45.6 sec, process time: 130.6 sec, python threads 12, cython threads 15\n",
      "wall time: 30.6 sec, process time: 155.2 sec, python threads 13, cython threads 15\n",
      "wall time: 33.8 sec, process time: 174.2 sec, python threads 14, cython threads 15\n",
      "wall time: 36.4 sec, process time: 161.0 sec, python threads 15, cython threads 15\n",
      "wall time: 36.5 sec, process time: 190.0 sec, python threads 16, cython threads 15\n",
      "wall time: 5.1 sec, process time: 4.3 sec, python threads 1, cython threads 16\n",
      "wall time: 8.6 sec, process time: 14.1 sec, python threads 2, cython threads 16\n",
      "wall time: 11.9 sec, process time: 22.5 sec, python threads 3, cython threads 16\n",
      "wall time: 12.6 sec, process time: 32.0 sec, python threads 4, cython threads 16\n",
      "wall time: 14.2 sec, process time: 40.5 sec, python threads 5, cython threads 16\n",
      "wall time: 16.5 sec, process time: 49.0 sec, python threads 6, cython threads 16\n",
      "wall time: 17.8 sec, process time: 60.8 sec, python threads 7, cython threads 16\n",
      "wall time: 19.9 sec, process time: 72.2 sec, python threads 8, cython threads 16\n",
      "wall time: 22.2 sec, process time: 90.3 sec, python threads 9, cython threads 16\n",
      "wall time: 21.9 sec, process time: 102.7 sec, python threads 10, cython threads 16\n",
      "wall time: 29.4 sec, process time: 123.2 sec, python threads 11, cython threads 16\n",
      "wall time: 25.6 sec, process time: 129.2 sec, python threads 12, cython threads 16\n",
      "wall time: 28.8 sec, process time: 141.2 sec, python threads 13, cython threads 16\n",
      "wall time: 29.5 sec, process time: 153.3 sec, python threads 14, cython threads 16\n",
      "wall time: 32.2 sec, process time: 170.8 sec, python threads 15, cython threads 16\n",
      "wall time: 39.2 sec, process time: 210.4 sec, python threads 16, cython threads 16\n"
     ]
    }
   ],
   "source": [
    "creategrid = partial(creategrid_xs_small, rdiff, firstid, gridwidth, gridheight)\n",
    "nruns=1\n",
    "totalrun=0\n",
    "ctr=range(1,17,1)\n",
    "ptr=range(1,17,1)\n",
    "atimes2=np.zeros((max(list(ctr))+1,max(list(ptr))+1,2))\n",
    "for cthreads in ctr:\n",
    "    for pthreads in ptr:\n",
    "        start=time.time()\n",
    "        nfiles=pthreads\n",
    "        proctime=create_xs_files(creategrid, dayfiles[:nfiles], pthreads, cthreads)\n",
    "        end=time.time()\n",
    "        print('wall time: %.1f sec, process time: %.1f sec, python threads %s, cython threads %s' % (end - start, proctime, pthreads, cthreads))\n",
    "        atimes2[cthreads, pthreads,:]=np.array([end-start,proctime])[:]\n",
    "np.save('conv_thread_eq_files_02',atimes2)        "
   ]
  },
  {
   "cell_type": "code",
   "execution_count": 163,
   "id": "2b2e0f2c",
   "metadata": {},
   "outputs": [],
   "source": [
    "atimes2=np.load('tab2convtimes2.npy')\n",
    "#atimes2=np.load('conv_thread_eq_files_01.npy')"
   ]
  },
  {
   "cell_type": "code",
   "execution_count": 164,
   "id": "42a22ed5",
   "metadata": {
    "scrolled": true
   },
   "outputs": [
    {
     "data": {
      "image/png": "[encoded data removed]",
      "text/plain": [
       "<Figure size 864x432 with 4 Axes>"
      ]
     },
     "metadata": {
      "needs_background": "light"
     },
     "output_type": "display_data"
    }
   ],
   "source": [
    "plotheatmap(atimes2)"
   ]
  },
  {
   "cell_type": "code",
   "execution_count": 165,
   "id": "7f6f8e3c",
   "metadata": {},
   "outputs": [],
   "source": [
    "atimes3=atimes2.copy()\n",
    "for p in ptr: atimes3[:,p]=atimes2[:,p]/p"
   ]
  },
  {
   "cell_type": "code",
   "execution_count": 166,
   "id": "3c0cc81f",
   "metadata": {},
   "outputs": [
    {
     "data": {
      "image/png": "[encoded data removed]",
      "text/plain": [
       "<Figure size 864x432 with 4 Axes>"
      ]
     },
     "metadata": {
      "needs_background": "light"
     },
     "output_type": "display_data"
    }
   ],
   "source": [
    "plotheatmap(atimes3,'Wall time / files #', 'Process time / files #')"
   ]
  },
  {
   "cell_type": "code",
   "execution_count": 167,
   "id": "6b6a414e",
   "metadata": {},
   "outputs": [],
   "source": [
    "atimes2=np.load('tab2convtimes2.npy')\n",
    "#atimes2=np.load('conv_thread_eq_files_01.npy')"
   ]
  },
  {
   "cell_type": "code",
   "execution_count": 168,
   "id": "f6f4c3ec",
   "metadata": {},
   "outputs": [],
   "source": [
    "atimes4=atimes2.copy()\n",
    "\n",
    "for j in ptr:\n",
    "    atimes4[1:,j,0]=(atimes2[1,1,0]*j/atimes2[1:,j,0])\n",
    "    atimes4[1:,j,1]=atimes2[1:,j,1]/j"
   ]
  },
  {
   "cell_type": "code",
   "execution_count": 169,
   "id": "6e3dfa36",
   "metadata": {},
   "outputs": [
    {
     "data": {
      "image/png": "[encoded data removed]",
      "text/plain": [
       "<Figure size 864x432 with 4 Axes>"
      ]
     },
     "metadata": {
      "needs_background": "light"
     },
     "output_type": "display_data"
    }
   ],
   "source": [
    "plotheatmap(atimes4, 'Wall time speed-up', 'Process time / files #')"
   ]
  },
  {
   "cell_type": "code",
   "execution_count": 192,
   "id": "bfb18812",
   "metadata": {},
   "outputs": [],
   "source": [
    "bestthres=0.9"
   ]
  },
  {
   "cell_type": "code",
   "execution_count": 193,
   "id": "461c0b38",
   "metadata": {},
   "outputs": [
    {
     "data": {
      "text/plain": [
       "(array([ 1,  1,  1,  1,  2,  2,  4,  5,  5, 11, 13, 13, 15, 16, 16, 16, 16]),\n",
       " array([ 9, 10, 14, 16, 12, 14, 16, 12, 14, 15, 13, 15, 15, 10, 12, 14, 15]))"
      ]
     },
     "execution_count": 193,
     "metadata": {},
     "output_type": "execute_result"
    }
   ],
   "source": [
    "w=np.where(atimes4[:,:,0]>bestthres*atimes4[:,:,0].max())\n",
    "w"
   ]
  },
  {
   "cell_type": "code",
   "execution_count": 194,
   "id": "e9b72f1f",
   "metadata": {},
   "outputs": [
    {
     "data": {
      "text/plain": [
       "array([[4.82584363, 8.21780804],\n",
       "       [4.67121912, 8.41714974],\n",
       "       [4.70735042, 8.56270718],\n",
       "       [5.04349423, 9.34403663],\n",
       "       [4.7763377 , 7.50438112],\n",
       "       [4.66976611, 8.43960477],\n",
       "       [4.6899557 , 9.91555258],\n",
       "       [4.61507721, 8.29928797],\n",
       "       [4.70454841, 9.31969371],\n",
       "       [4.70553829, 8.04736979],\n",
       "       [4.98699502, 7.25486561],\n",
       "       [4.69305044, 7.77098529],\n",
       "       [4.72930264, 7.99719829],\n",
       "       [4.6701357 , 6.637085  ],\n",
       "       [4.78272413, 7.21041537],\n",
       "       [5.12285337, 7.12599365],\n",
       "       [4.84589984, 7.43368513]])"
      ]
     },
     "execution_count": 194,
     "metadata": {},
     "output_type": "execute_result"
    }
   ],
   "source": [
    "best095=atimes4[atimes4[:,:,0]>bestthres*atimes4[:,:,0].max()]\n",
    "best095"
   ]
  },
  {
   "cell_type": "code",
   "execution_count": 195,
   "id": "eabc4312",
   "metadata": {},
   "outputs": [
    {
     "data": {
      "text/plain": [
       "13"
      ]
     },
     "execution_count": 195,
     "metadata": {},
     "output_type": "execute_result"
    }
   ],
   "source": [
    "best095min_idx=np.argmin(best095[:,1])\n",
    "best095min_idx"
   ]
  },
  {
   "cell_type": "code",
   "execution_count": 196,
   "id": "7518b35c",
   "metadata": {},
   "outputs": [
    {
     "data": {
      "text/plain": [
       "array([4.6701357, 6.637085 ])"
      ]
     },
     "execution_count": 196,
     "metadata": {},
     "output_type": "execute_result"
    }
   ],
   "source": [
    "atimes4[w[0][best095min_idx], w[1][best095min_idx]]"
   ]
  },
  {
   "cell_type": "code",
   "execution_count": 197,
   "id": "cb9c2fd9",
   "metadata": {},
   "outputs": [
    {
     "data": {
      "text/plain": [
       "(16, 10)"
      ]
     },
     "execution_count": 197,
     "metadata": {},
     "output_type": "execute_result"
    }
   ],
   "source": [
    "w[0][best095min_idx], w[1][best095min_idx]"
   ]
  },
  {
   "cell_type": "code",
   "execution_count": null,
   "id": "ee823466",
   "metadata": {},
   "outputs": [],
   "source": []
  }
 ],
 "metadata": {
  "kernelspec": {
   "display_name": "Python 3",
   "language": "python",
   "name": "python3"
  },
  "language_info": {
   "codemirror_mode": {
    "name": "ipython",
    "version": 3
   },
   "file_extension": ".py",
   "mimetype": "text/x-python",
   "name": "python",
   "nbconvert_exporter": "python",
   "pygments_lexer": "ipython3",
   "version": "3.9.15"
  }
 },
 "nbformat": 4,
 "nbformat_minor": 5
}
