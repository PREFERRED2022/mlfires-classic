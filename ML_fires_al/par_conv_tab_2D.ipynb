{
 "cells": [
  {
   "cell_type": "code",
   "execution_count": 117,
   "id": "22f0bdb9",
   "metadata": {},
   "outputs": [],
   "source": [
    "import nppar\n",
    "import time\n",
    "import numpy as np\n",
    "import math\n",
    "import datatable as dt\n",
    "import time\n",
    "import xarray\n",
    "import os\n",
    "import fileutils\n",
    "import traceback\n",
    "from datetime import datetime\n",
    "import multiprocessing as mp\n",
    "import random\n",
    "from functools import partial\n",
    "from multiprocessing import Pool, Array, Process, Manager\n",
    "from functools import partial\n",
    "import matplotlib.pyplot as plt\n",
    "import mpl_toolkits.axes_grid1 as axes_grid1"
   ]
  },
  {
   "cell_type": "code",
   "execution_count": 31,
   "id": "187c25d8",
   "metadata": {},
   "outputs": [],
   "source": [
    "def gridinfo():\n",
    "    rdiff=2227\n",
    "    minnorth=333237\n",
    "    #maxwest=1160624\n",
    "    minwest=1156167\n",
    "    maxeast=2747676\n",
    "    maxsouth=3504175\n",
    "    gridwidth=((maxeast-minwest) % rdiff) + 1\n",
    "    firstid = minwest-math.ceil((minwest-minnorth) / rdiff)*rdiff\n",
    "    gridheight=math.ceil((maxsouth-firstid) / rdiff)\n",
    "    return rdiff, firstid, gridwidth, gridheight\n",
    "\n",
    "def walkmonthdays(sfolder):\n",
    "    #sfolder = '/data2/ffp/datasets/daily/2015/08'\n",
    "    exfeat = [\"id\", \"firedate\"]\n",
    "    dayfiles=[]\n",
    "    for dayf in fileutils.find_files(sfolder, '*_norm.csv', listtype=\"walk\"):\n",
    "        dayfiles+=[dayf]\n",
    "        #print(fday)\n",
    "        '''\n",
    "        try:\n",
    "            #fday = '/data2/ffp/datasets/daily/2021/08/20210804_norm.csv'\n",
    "            creategrid_xs(fday, rdiff, firstid, gridwidth, gridheight)\n",
    "        except:\n",
    "            print(\"Fail to convert %s\"%fday)\n",
    "            traceback.print_exc()\n",
    "        '''\n",
    "    return dayfiles\n",
    "\n",
    "def get_grid_xy(firstid, rdiff, _id,):\n",
    "    row =int((_id-firstid)/rdiff)\n",
    "    col = int(_id-firstid-rdiff*row)\n",
    "    return row,col\n",
    "\n",
    "def assignrow(ggrid, tabrow):\n",
    "    row, col = get_xy(tabrow[0])\n",
    "    ggrid[row, col, :]=tabrow[:]\n",
    "\n",
    "def assignrowshared(ggrid_sh, grid_shape, tabrows):\n",
    "    for i in range(tabrows.shape[0]):\n",
    "        tabrow=tabrows[i,:]\n",
    "        try:\n",
    "            row, col = get_xy(tabrow[0])\n",
    "            idx = row*grid_shape[1]*grid_shape[2]+col*grid_shape[2]\n",
    "            ggrid_sh[idx:idx+grid_shape[2]]=tabrow[:]\n",
    "        except:\n",
    "            \"Error row: %s\\n\"%i+traceback.print_exc()"
   ]
  },
  {
   "cell_type": "code",
   "execution_count": 32,
   "id": "d04c98fa",
   "metadata": {},
   "outputs": [],
   "source": [
    "def plotspeedup(wspeedup,pspeedup,ncpus):\n",
    "    plt.plot(range(1,ncpus+1), wspeedup, label = \"wall speed-up\")\n",
    "    plt.plot(range(1,ncpus+1), pspeedup, label = \"speed-up per CPU\")\n",
    "    plt.plot(range(1,ncpus+1), range(1,ncpus+1), label = \"Ideal speed-up\")\n",
    "    plt.xlabel(\"Number of CPUs\")\n",
    "    plt.ylabel(\"Speed-up\")\n",
    "    plt.grid(visible=True, axis='y')\n",
    "    plt.legend()\n",
    "    plt.show()"
   ]
  },
  {
   "cell_type": "code",
   "execution_count": 7,
   "id": "38ea0c35",
   "metadata": {},
   "outputs": [
    {
     "name": "stdout",
     "output_type": "stream",
     "text": [
      "max cpu count 16\n",
      "array rows: 372918\n"
     ]
    }
   ],
   "source": [
    "#initialize\n",
    "rdiff, firstid, gridwidth, gridheight = gridinfo()\n",
    "get_xy=partial(get_grid_xy, firstid, rdiff)\n",
    "dayfiles=walkmonthdays('/data2/ffp/datasets/daily/')\n",
    "fday='/data2/ffp/datasets/daily/2021/08/20210823_norm.csv'\n",
    "dt_df = dt.fread(fday)\n",
    "#creategrid_xs(rdiff, firstid, gridwidth, gridheight, fday)\n",
    "firstfeat=dt_df.names.index('id')\n",
    "npday = dt_df[:, firstfeat:].to_numpy(dt.float32)\n",
    "#npday = dt_df[:, 1:].to_numpy(dt.float32)\n",
    "maxcpus=mp.cpu_count()\n",
    "featn = len(dt_df[:, firstfeat:].names)\n",
    "ggrid = np.zeros((gridwidth, gridheight, featn))\n",
    "ggrid[:,:]=np.nan\n",
    "assignr=partial(assignrow, ggrid)\n",
    "#assignr(list(npday)[0])\n",
    "print('max cpu count %s'%maxcpus)\n",
    "print('array rows: %s'%npday.shape[0])"
   ]
  },
  {
   "cell_type": "markdown",
   "id": "e2ab5dc9",
   "metadata": {},
   "source": [
    "### Simple python run"
   ]
  },
  {
   "cell_type": "code",
   "execution_count": 8,
   "id": "84ad72c4",
   "metadata": {},
   "outputs": [
    {
     "name": "stdout",
     "output_type": "stream",
     "text": [
      "time: 2.90 sec\n"
     ]
    }
   ],
   "source": [
    "nruns=1\n",
    "totalrun=0\n",
    "start = time.time()\n",
    "for i in range(npday.shape[0]):\n",
    "    assignr(npday[i])\n",
    "end = time.time()\n",
    "print('time: %.2f sec'%(end-start))"
   ]
  },
  {
   "cell_type": "markdown",
   "id": "58872ea0",
   "metadata": {},
   "source": [
    "### Multiprocessing with map"
   ]
  },
  {
   "cell_type": "code",
   "execution_count": 6,
   "id": "6e76ca09",
   "metadata": {},
   "outputs": [
    {
     "name": "stdout",
     "output_type": "stream",
     "text": [
      "average time: 169.95 sec, cpus: 10\n"
     ]
    }
   ],
   "source": [
    "nruns=1\n",
    "totalrun=0\n",
    "npdayl=list(npday)\n",
    "for cpus in range(10,11):\n",
    "    for run in range(nruns):\n",
    "        start = time.time()\n",
    "        with Pool(cpus) as p:\n",
    "            p.map(assignr, npdayl)\n",
    "        end = time.time()\n",
    "        totalrun+=(end - start)\n",
    "    print('average time: %.2f sec, cpus: %s'%(totalrun/nruns, cpus))\n",
    "npdayl=None"
   ]
  },
  {
   "cell_type": "markdown",
   "id": "424386b2",
   "metadata": {},
   "source": [
    "### multiprocessing with shared memory"
   ]
  },
  {
   "cell_type": "code",
   "execution_count": 26,
   "id": "401e5dbe",
   "metadata": {},
   "outputs": [
    {
     "name": "stdout",
     "output_type": "stream",
     "text": [
      "time: 8.62 sec, cpu: 1\n",
      "time: 8.94 sec, cpu: 2\n",
      "time: 9.18 sec, cpu: 3\n",
      "time: 8.42 sec, cpu: 4\n",
      "time: 9.14 sec, cpu: 5\n",
      "time: 14.79 sec, cpu: 6\n",
      "time: 30.34 sec, cpu: 7\n"
     ]
    }
   ],
   "source": [
    "nruns=1\n",
    "totalrun=0\n",
    "ncpus=10\n",
    "for ncpus in range(1,8):\n",
    "    start = time.time()\n",
    "    procs=[]\n",
    "    chunk = int(npday.shape[0] / ncpus)\n",
    "    chunk_rem = npday.shape[0] % ncpus\n",
    "    shDay = Array('f', gridwidth * gridheight * featn)\n",
    "    for cpu in range(ncpus-1):\n",
    "        procs += [Process(target=assignrowshared, args=(shDay, (gridwidth, gridheight, featn), npday[cpu*chunk:(cpu+1)*chunk]))]\n",
    "        procs[cpu].start()\n",
    "    procs += [Process(target=assignrowshared, args=(shDay, (gridwidth, gridheight, featn), npday[(ncpus-1)*chunk:]))]\n",
    "    procs[-1].start()\n",
    "    #while True:\n",
    "    #    time.sleep(1)\n",
    "    #    if all([not proc.is_alive() for proc in procs]):\n",
    "    #        break\n",
    "    for p in procs: p.join()\n",
    "    shDay_np = np.frombuffer(shDay.get_obj(), dtype=np.float32).reshape((gridwidth, gridheight, featn))\n",
    "    end = time.time()\n",
    "    print('time: %.2f sec, cpu: %s'%((end-start),ncpus))"
   ]
  },
  {
   "cell_type": "markdown",
   "id": "3fca67c4",
   "metadata": {},
   "source": [
    "### cython (with shared memory) cpu "
   ]
  },
  {
   "cell_type": "code",
   "execution_count": 49,
   "id": "d2ed194f",
   "metadata": {},
   "outputs": [
    {
     "name": "stdout",
     "output_type": "stream",
     "text": [
      "cpu changes, runs per experiment: 10\n",
      "average time wall: 0.65 sec, average time CPU: 0.65 sec, threads: 1\n",
      "average time wall: 0.44 sec, average time CPU: 0.34 sec, threads: 2\n",
      "average time wall: 0.37 sec, average time CPU: 0.24 sec, threads: 3\n",
      "average time wall: 0.37 sec, average time CPU: 0.21 sec, threads: 4\n",
      "average time wall: 0.34 sec, average time CPU: 0.18 sec, threads: 5\n",
      "average time wall: 0.34 sec, average time CPU: 0.17 sec, threads: 6\n",
      "average time wall: 0.33 sec, average time CPU: 0.16 sec, threads: 7\n",
      "average time wall: 0.28 sec, average time CPU: 0.11 sec, threads: 8\n",
      "average time wall: 0.27 sec, average time CPU: 0.10 sec, threads: 9\n",
      "average time wall: 0.28 sec, average time CPU: 0.10 sec, threads: 10\n",
      "average time wall: 0.27 sec, average time CPU: 0.09 sec, threads: 11\n",
      "average time wall: 0.26 sec, average time CPU: 0.08 sec, threads: 12\n",
      "average time wall: 0.26 sec, average time CPU: 0.08 sec, threads: 13\n",
      "average time wall: 0.26 sec, average time CPU: 0.08 sec, threads: 14\n",
      "average time wall: 0.26 sec, average time CPU: 0.07 sec, threads: 15\n",
      "average time wall: 0.28 sec, average time CPU: 0.08 sec, threads: 16\n"
     ]
    },
    {
     "data": {
      "image/png": "[encoded data removed]",
      "text/plain": [
       "<Figure size 432x288 with 1 Axes>"
      ]
     },
     "metadata": {
      "needs_background": "light"
     },
     "output_type": "display_data"
    }
   ],
   "source": [
    "nruns=10\n",
    "print('cpu changes, runs per experiment: %s'%nruns)\n",
    "proctimes=[]\n",
    "walltimes=[]\n",
    "for nt in range(1,maxcpus+1):\n",
    "    proctotal = 0\n",
    "    walltotal = 0\n",
    "    for run in range(nruns):\n",
    "        start = time.time()\n",
    "        stpr = time.process_time()\n",
    "        id2xy, grid = nppar.fillcube(nt, npday, firstid, rdiff, gridwidth, gridheight)\n",
    "        end = time.time()\n",
    "        endpr = time.process_time()\n",
    "        proctotal+=(endpr - stpr)\n",
    "        walltotal+=(end - start)\n",
    "        avgtw = walltotal/nruns\n",
    "        avgtp = proctotal/nruns/nt\n",
    "        if nt==1: \n",
    "            Tseqp=avgtp\n",
    "            Tseqw=avgtw\n",
    "    print('average time wall: %.2f sec, average time CPU: %.2f sec, threads: %s'%(avgtw, avgtp,nt))\n",
    "    proctimes+=[Tseq/avgtp]\n",
    "    walltimes+=[Tseq/avgtw]\n",
    "# plot\n",
    "plotspeedup(walltimes, proctimes, maxcpus)"
   ]
  },
  {
   "cell_type": "markdown",
   "id": "caed3bd4",
   "metadata": {},
   "source": [
    "### cython (with shared memory) chunks "
   ]
  },
  {
   "cell_type": "code",
   "execution_count": 13,
   "id": "d1a21da0",
   "metadata": {},
   "outputs": [
    {
     "name": "stdout",
     "output_type": "stream",
     "text": [
      "chunk changes\n",
      "rows / threads: 37292 threads: 10\n",
      "time: 0.32 chunk: 1\n",
      "time: 0.28 chunk: 10001\n",
      "time: 0.28 chunk: 20001\n",
      "time: 0.29 chunk: 30001\n",
      "time: 0.26 chunk: 40001\n",
      "time: 0.27 chunk: 50001\n",
      "time: 0.28 chunk: 60001\n",
      "time: 0.29 chunk: 70001\n",
      "time: 0.31 chunk: 80001\n",
      "time: 0.32 chunk: 90001\n",
      "time: 0.33 chunk: 100001\n",
      "time: 0.34 chunk: 110001\n",
      "time: 0.36 chunk: 120001\n",
      "time: 0.37 chunk: 130001\n",
      "time: 0.38 chunk: 140001\n",
      "time: 0.39 chunk: 150001\n",
      "time: 0.40 chunk: 160001\n",
      "time: 0.41 chunk: 170001\n",
      "time: 0.43 chunk: 180001\n",
      "time: 0.43 chunk: 190001\n",
      "time: 0.44 chunk: 200001\n",
      "time: 0.45 chunk: 210001\n",
      "time: 0.46 chunk: 220001\n",
      "time: 0.48 chunk: 230001\n",
      "time: 0.49 chunk: 240001\n",
      "time: 0.50 chunk: 250001\n",
      "time: 0.51 chunk: 260001\n",
      "time: 0.52 chunk: 270001\n",
      "time: 0.53 chunk: 280001\n",
      "time: 0.54 chunk: 290001\n",
      "time: 0.54 chunk: 300001\n",
      "time: 0.58 chunk: 310001\n",
      "time: 0.58 chunk: 320001\n",
      "time: 0.58 chunk: 330001\n",
      "time: 0.58 chunk: 340001\n",
      "time: 0.59 chunk: 350001\n",
      "time: 0.61 chunk: 360001\n",
      "time: 0.62 chunk: 370001\n",
      "time: 0.63 chunk: 380001\n",
      "time: 0.63 chunk: 390001\n"
     ]
    }
   ],
   "source": [
    "print('chunk changes')\n",
    "nt = 10\n",
    "print('rows / threads: %.0f threads: %s' % ((npday.shape[0] / nt),nt))\n",
    "nruns=20\n",
    "for cs in range(1,400000,10000):\n",
    "    totalrun = 0\n",
    "    for run in range(nruns):\n",
    "        start = time.time()\n",
    "        id2xy, grid = nppar.fillcube(nt, npday, firstid,  rdiff, gridwidth, gridheight, 'static', cs)\n",
    "        end = time.time()\n",
    "        totalrun+=(end - start)\n",
    "        avgt = totalrun/nruns\n",
    "        if nt==1: Tseq=avgt\n",
    "    print('average time: %.2f chunk: %s'%(totalrun/nruns, cs))"
   ]
  },
  {
   "cell_type": "markdown",
   "id": "1d80fef3",
   "metadata": {},
   "source": [
    "### cython (with shared memory) OpenMP schedules"
   ]
  },
  {
   "cell_type": "code",
   "execution_count": null,
   "id": "ed2f56c5",
   "metadata": {},
   "outputs": [],
   "source": [
    "nt = 14\n",
    "nruns=30\n",
    "print('optimum rows / threads: %.0f, threads: %s, runs per experiment: %s' % ((npday.shape[0] / nt),nt, nruns))\n",
    "for i in range(3):\n",
    "    id2xy, grid = nppar.fillcube(nt, npday, firstid,  rdiff, gridwidth, gridheight, None)\n",
    "schedules = [None, 'static', 'dynamic', 'guided']\n",
    "random.shuffle(schedules)\n",
    "for schedule in schedules:\n",
    "    totalrun = 0\n",
    "    for run in range(nruns):\n",
    "        start = time.time()\n",
    "        id2xy, grid = nppar.fillcube(nt, npday, firstid,  rdiff, gridwidth, gridheight, schedule)\n",
    "        end = time.time()\n",
    "        totalrun+=(end - start)\n",
    "    print('average time: %.2f sec, schedule: %s'%(totalrun/nruns, schedule))\n",
    "\n",
    "#xaday=xarray.DataArray(data=grid, dims=[\"x\", \"y\", \"feature\"],  coords=dict(x=range(gridwidth), y=range(gridheight), feature=range(len(dt_df.names)-1)))\n",
    "\n"
   ]
  },
  {
   "cell_type": "markdown",
   "id": "c665b00b",
   "metadata": {},
   "source": [
    "### Table Conversion plus IO read/write (csv to netcdf)"
   ]
  },
  {
   "cell_type": "code",
   "execution_count": 179,
   "id": "e9d9e61c",
   "metadata": {},
   "outputs": [],
   "source": [
    "def creategrid_xs_small(rdiff, firstid, gridwidth, gridheight, dayfile, pcpus, ccpus, queue):\n",
    "    # fday = '/data2/ffp/datasets/daily/2021/08/20210803_norm.csv'\n",
    "    #print(\"processing day %s\" % dayfile)\n",
    "    try:\n",
    "        stpr = time.process_time()\n",
    "        orig_path = os.path.dirname(dayfile)\n",
    "        fname = os.path.basename(dayfile)\n",
    "        daygrid = \"%s_grid.nc\" % (fname[0:8])\n",
    "        #if os.path.isfile(os.path.join(orig_path, daygrid)): return\n",
    "        dt_df = dt.fread(dayfile, nthreads=1)#pcpus)\n",
    "        firstfeat = dt_df.names.index('id')\n",
    "        #npday = dt_df[:, firstfeat:].to_numpy(dt.float32)\n",
    "\n",
    "        dynamic_feat=['id', 'max_temp', 'min_temp', 'mean_temp', 'res_max',\n",
    "         'dom_vel', 'rain_7days', #'dem', 'slope', 'curvature', 'aspect',\n",
    "         'ndvi_new', 'evi', 'lst_day', 'lst_night', 'max_dew_temp',\n",
    "         'mean_dew_temp', 'min_dew_temp', 'fire', 'dir_max_1', 'dir_max_2',\n",
    "         'dir_max_3', 'dir_max_4', 'dir_max_5', 'dir_max_6', 'dir_max_7',\n",
    "         'dir_max_8', 'dom_dir_1', 'dom_dir_2', 'dom_dir_3', 'dom_dir_4',\n",
    "         'dom_dir_5', 'dom_dir_6', 'dom_dir_7', 'dom_dir_8', #'corine_111',\n",
    "        # 'corine_112', 'corine_121', 'corine_122', 'corine_123', 'corine_124',\n",
    "        # 'corine_131', 'corine_132', 'corine_133', 'corine_141', 'corine_142',\n",
    "        # 'corine_211', 'corine_212', 'corine_213', 'corine_221', 'corine_222',\n",
    "        # 'corine_223', 'corine_231', 'corine_241', 'corine_242', 'corine_243',\n",
    "        # 'corine_244', 'corine_311', 'corine_312', 'corine_313', 'corine_321',\n",
    "        # 'corine_322', 'corine_323', 'corine_324', 'corine_331', 'corine_332',\n",
    "        # 'corine_333', 'corine_334', 'corine_411', 'corine_412', 'corine_421',\n",
    "        # 'corine_422', 'corine_511', 'corine_512', 'corine_521', 'wkd_0',\n",
    "        # 'wkd_1', 'wkd_2', 'wkd_3', 'wkd_4', 'wkd_5', 'wkd_6', 'month_7',\n",
    "        # 'month_4', 'month_5', 'month_6', 'month_8', 'month_9',\n",
    "        'frequency','f81',]# 'xpos', 'ypos']\n",
    "\n",
    "        dyn_df = dt_df[:, dynamic_feat]\n",
    "        npday = dyn_df.to_numpy(dt.float32)\n",
    "\n",
    "        # start = time.time()\n",
    "        id2xy, grid = nppar.fillcube(ccpus, npday, firstid, rdiff, gridwidth, gridheight)\n",
    "        # end = time.time()\n",
    "        # print(end - start)\n",
    "\n",
    "        vardict = {}\n",
    "        for i in range(0, len(dyn_df.names)):\n",
    "            varname = dyn_df.names[i]\n",
    "            if dyn_df.names[i] == 'x' or dyn_df.names[i] == 'y':\n",
    "                varname = '%spos' % varname\n",
    "            vardict[varname] = ([\"x\", \"y\", \"time\"], np.expand_dims(grid[:, :, i], axis=2))\n",
    "\n",
    "        t = datetime.strptime(os.path.basename(dayfile)[0:8], '%Y%m%d')\n",
    "        xsday = xarray.Dataset(data_vars=vardict, coords=dict(x=range(gridwidth), y=range(gridheight), time=[t]))\n",
    "        xsday.to_netcdf(os.path.join(orig_path, daygrid))\n",
    "        #print(\"Successfull convertion %s\" % dayfile)\n",
    "        epr = time.process_time()\n",
    "        queue.put(epr-stpr)\n",
    "    except:\n",
    "        print(\"Fail to convert %s\" % dayfile)\n",
    "        traceback.print_exc()\n",
    "        with open(\"/data2/ffp/datasets/daily/failedgrids.log\", \"a\") as f:\n",
    "            f.write(dayfile)\n",
    "\n",
    "def new_process(proclist, day, pthreads, cthreads):\n",
    "    q=mp.Queue()\n",
    "    proclist += [{'proc':Process(target=creategrid, args=(day, pthreads, cthreads, q)), 'queue': q}]\n",
    "    proclist[-1]['proc'].start()\n",
    "\n",
    "def create_xs_files(creategrid, days, pthreads, cthreads):\n",
    "    procs=[]\n",
    "    proctimetotal=0\n",
    "    dayscompleted=[]\n",
    "    for cpu in range(pthreads):\n",
    "        d=days.pop()\n",
    "        dayscompleted+=[d]\n",
    "        new_process(procs, d, pthreads, cthreads)\n",
    "    while True:\n",
    "        time.sleep(1)\n",
    "        for p in procs:\n",
    "            try:\n",
    "                proctimetotal+=p['queue'].get_nowait()\n",
    "            except:\n",
    "                pass\n",
    "            if not p['proc'].is_alive():\n",
    "                procs.remove(p)\n",
    "        while len(procs)<pthreads:\n",
    "            if len(days)==0: break\n",
    "            d = days.pop()\n",
    "            dayscompleted += [d]\n",
    "            new_process(procs, d, pthreads, cthreads)\n",
    "    return proctimetotal\n",
    "\n",
    "def plotscatter(atimes, typ=0):\n",
    "    for y in range(1,atimes.shape[1]):\n",
    "        plt.scatter(range(1,atimes.shape[0]), [y]*(atimes.shape[0]-1), s=atimes[1:, y, typ])\n",
    "    plt.show()\n",
    "\n",
    "def plotheatmap(atimes):\n",
    "    fig = plt.figure(figsize=(12, 6))\n",
    "    grid = axes_grid1.AxesGrid(\n",
    "        fig, 111, nrows_ncols=(1, 2), axes_pad = 0.5, cbar_location = \"right\",\n",
    "        cbar_mode=\"each\", cbar_size=\"7%\", cbar_pad=\"5%\",)\n",
    "    data=atimes[1:,1:,0]\n",
    "    im0 = grid[0].imshow(data, cmap='turbo', interpolation='None')\n",
    "    grid.cbar_axes[0].colorbar(im0)\n",
    "    # Show all ticks and label them with the respective list entries\n",
    "    grid[0].set_xticks(np.arange(data.shape[1]), labels=np.arange(1,data.shape[1]+1))\n",
    "    grid[0].set_yticks(np.arange(data.shape[0]), labels=np.arange(1,data.shape[0]+1))\n",
    "    grid[0].set_ylabel('# cython threads')\n",
    "    grid[0].set_xlabel('# python threads')\n",
    "    grid[0].title.set_text('Wall time')\n",
    "    #ax.set_yticks(np.arange(len(vegetables)), labels=vegetables)\n",
    "\n",
    "    data=atimes[1:,1:,1]\n",
    "    im1 = grid[1].imshow(data, cmap='turbo', interpolation='None')\n",
    "    grid[1].set_xticks(np.arange(data.shape[1]), labels=np.arange(1,data.shape[1]+1))\n",
    "    grid[1].set_xlabel('# python threads')\n",
    "    grid[1].title.set_text('Process (CPU) time')\n",
    "    grid.cbar_axes[1].colorbar(im1)\n",
    "    "
   ]
  },
  {
   "cell_type": "code",
   "execution_count": 178,
   "id": "42f30fa5",
   "metadata": {},
   "outputs": [
    {
     "name": "stdout",
     "output_type": "stream",
     "text": [
      "wall time: 52.9 sec, process time: 27.4 sec, python threads 1, cython threads 1\n",
      "wall time: 35.8 sec, process time: 40.6 sec, python threads 2, cython threads 1\n",
      "wall time: 26.7 sec, process time: 38.7 sec, python threads 3, cython threads 1\n",
      "wall time: 22.8 sec, process time: 36.9 sec, python threads 4, cython threads 1\n",
      "wall time: 23.7 sec, process time: 33.4 sec, python threads 5, cython threads 1\n",
      "wall time: 26.7 sec, process time: 37.5 sec, python threads 6, cython threads 1\n",
      "wall time: 23.7 sec, process time: 40.5 sec, python threads 7, cython threads 1\n",
      "wall time: 25.7 sec, process time: 49.6 sec, python threads 8, cython threads 1\n",
      "wall time: 24.7 sec, process time: 23.1 sec, python threads 9, cython threads 1\n",
      "wall time: 23.8 sec, process time: 7.6 sec, python threads 10, cython threads 1\n",
      "wall time: 55.8 sec, process time: 28.5 sec, python threads 1, cython threads 2\n",
      "wall time: 33.8 sec, process time: 37.7 sec, python threads 2, cython threads 2\n",
      "wall time: 24.7 sec, process time: 40.1 sec, python threads 3, cython threads 2\n",
      "wall time: 24.7 sec, process time: 38.2 sec, python threads 4, cython threads 2\n",
      "wall time: 20.7 sec, process time: 33.8 sec, python threads 5, cython threads 2\n",
      "wall time: 24.7 sec, process time: 39.2 sec, python threads 6, cython threads 2\n",
      "wall time: 23.8 sec, process time: 46.4 sec, python threads 7, cython threads 2\n",
      "wall time: 24.7 sec, process time: 44.0 sec, python threads 8, cython threads 2\n",
      "wall time: 26.7 sec, process time: 14.6 sec, python threads 9, cython threads 2\n",
      "wall time: 23.7 sec, process time: 14.5 sec, python threads 10, cython threads 2\n",
      "wall time: 56.9 sec, process time: 28.5 sec, python threads 1, cython threads 3\n",
      "wall time: 29.8 sec, process time: 38.8 sec, python threads 2, cython threads 3\n",
      "wall time: 31.8 sec, process time: 37.0 sec, python threads 3, cython threads 3\n",
      "wall time: 27.7 sec, process time: 36.9 sec, python threads 4, cython threads 3\n",
      "wall time: 20.7 sec, process time: 32.7 sec, python threads 5, cython threads 3\n",
      "wall time: 24.7 sec, process time: 39.7 sec, python threads 6, cython threads 3\n",
      "wall time: 29.7 sec, process time: 40.8 sec, python threads 7, cython threads 3\n",
      "wall time: 24.7 sec, process time: 28.1 sec, python threads 8, cython threads 3\n",
      "wall time: 26.7 sec, process time: 18.8 sec, python threads 9, cython threads 3\n",
      "wall time: 28.7 sec, process time: 7.5 sec, python threads 10, cython threads 3\n",
      "wall time: 57.9 sec, process time: 29.0 sec, python threads 1, cython threads 4\n"
     ]
    },
    {
     "ename": "KeyboardInterrupt",
     "evalue": "",
     "output_type": "error",
     "traceback": [
      "\u001b[0;31m---------------------------------------------------------------------------\u001b[0m",
      "\u001b[0;31mKeyboardInterrupt\u001b[0m                         Traceback (most recent call last)",
      "Cell \u001b[0;32mIn [178], line 10\u001b[0m\n\u001b[1;32m      8\u001b[0m \u001b[38;5;28;01mfor\u001b[39;00m pthreads \u001b[38;5;129;01min\u001b[39;00m ptr:\n\u001b[1;32m      9\u001b[0m     start\u001b[38;5;241m=\u001b[39mtime\u001b[38;5;241m.\u001b[39mtime()\n\u001b[0;32m---> 10\u001b[0m     proctime\u001b[38;5;241m=\u001b[39m\u001b[43mcreate_xs_files\u001b[49m\u001b[43m(\u001b[49m\u001b[43mcreategrid\u001b[49m\u001b[43m,\u001b[49m\u001b[43m \u001b[49m\u001b[43mdayfiles\u001b[49m\u001b[43m[\u001b[49m\u001b[43m:\u001b[49m\u001b[38;5;241;43m10\u001b[39;49m\u001b[43m]\u001b[49m\u001b[43m,\u001b[49m\u001b[43m \u001b[49m\u001b[43mpthreads\u001b[49m\u001b[43m,\u001b[49m\u001b[43m \u001b[49m\u001b[43mcthreads\u001b[49m\u001b[43m)\u001b[49m\n\u001b[1;32m     11\u001b[0m     end\u001b[38;5;241m=\u001b[39mtime\u001b[38;5;241m.\u001b[39mtime()\n\u001b[1;32m     12\u001b[0m     \u001b[38;5;28mprint\u001b[39m(\u001b[38;5;124m'\u001b[39m\u001b[38;5;124mwall time: \u001b[39m\u001b[38;5;132;01m%.1f\u001b[39;00m\u001b[38;5;124m sec, process time: \u001b[39m\u001b[38;5;132;01m%.1f\u001b[39;00m\u001b[38;5;124m sec, python threads \u001b[39m\u001b[38;5;132;01m%s\u001b[39;00m\u001b[38;5;124m, cython threads \u001b[39m\u001b[38;5;132;01m%s\u001b[39;00m\u001b[38;5;124m'\u001b[39m \u001b[38;5;241m%\u001b[39m (end \u001b[38;5;241m-\u001b[39m start, proctime, pthreads, cthreads))\n",
      "Cell \u001b[0;32mIn [174], line 74\u001b[0m, in \u001b[0;36mcreate_xs_files\u001b[0;34m(creategrid, days, pthreads, cthreads)\u001b[0m\n\u001b[1;32m     72\u001b[0m     new_process(procs, d, pthreads, cthreads)\n\u001b[1;32m     73\u001b[0m \u001b[38;5;28;01mwhile\u001b[39;00m \u001b[38;5;28;01mTrue\u001b[39;00m:\n\u001b[0;32m---> 74\u001b[0m     \u001b[43mtime\u001b[49m\u001b[38;5;241;43m.\u001b[39;49m\u001b[43msleep\u001b[49m\u001b[43m(\u001b[49m\u001b[38;5;241;43m1\u001b[39;49m\u001b[43m)\u001b[49m\n\u001b[1;32m     75\u001b[0m     \u001b[38;5;28;01mfor\u001b[39;00m p \u001b[38;5;129;01min\u001b[39;00m procs:\n\u001b[1;32m     76\u001b[0m         \u001b[38;5;28;01mtry\u001b[39;00m:\n",
      "\u001b[0;31mKeyboardInterrupt\u001b[0m: "
     ]
    },
    {
     "name": "stdout",
     "output_type": "stream",
     "text": [
      "Fail to convert /data2/ffp/datasets/daily/2015/09/20150928_norm.csv\n"
     ]
    },
    {
     "name": "stderr",
     "output_type": "stream",
     "text": [
      "Traceback (most recent call last):\n",
      "  File \"<ipython-input-174-c0f2e4b52ddf>\", line 50, in creategrid_xs_small\n",
      "    xsday.to_netcdf(os.path.join(orig_path, daygrid))\n",
      "  File \"/data2/ffp/envs/ml_vm2/lib/python3.9/site-packages/xarray/core/dataset.py\", line 1902, in to_netcdf\n",
      "    return to_netcdf(\n",
      "  File \"/data2/ffp/envs/ml_vm2/lib/python3.9/site-packages/xarray/backends/api.py\", line 1088, in to_netcdf\n",
      "    store.close()\n",
      "  File \"/data2/ffp/envs/ml_vm2/lib/python3.9/site-packages/xarray/backends/scipy_.py\", line 237, in close\n",
      "    self._manager.close()\n",
      "  File \"/data2/ffp/envs/ml_vm2/lib/python3.9/site-packages/xarray/backends/file_manager.py\", line 222, in close\n",
      "    file.close()\n",
      "  File \"/data2/ffp/envs/ml_vm2/lib/python3.9/site-packages/scipy/io/_netcdf.py\", line 312, in close\n",
      "    self.fp.close()\n",
      "KeyboardInterrupt\n"
     ]
    },
    {
     "name": "stdout",
     "output_type": "stream",
     "text": [
      "Fail to convert /data2/ffp/datasets/daily/2015/09/20150920_norm.csv\n"
     ]
    },
    {
     "name": "stderr",
     "output_type": "stream",
     "text": [
      "Traceback (most recent call last):\n",
      "  File \"<ipython-input-174-c0f2e4b52ddf>\", line 50, in creategrid_xs_small\n",
      "    xsday.to_netcdf(os.path.join(orig_path, daygrid))\n",
      "  File \"/data2/ffp/envs/ml_vm2/lib/python3.9/site-packages/xarray/core/dataset.py\", line 1902, in to_netcdf\n",
      "    return to_netcdf(\n",
      "  File \"/data2/ffp/envs/ml_vm2/lib/python3.9/site-packages/xarray/backends/api.py\", line 1088, in to_netcdf\n",
      "    store.close()\n",
      "  File \"/data2/ffp/envs/ml_vm2/lib/python3.9/site-packages/xarray/backends/scipy_.py\", line 237, in close\n",
      "    self._manager.close()\n",
      "  File \"/data2/ffp/envs/ml_vm2/lib/python3.9/site-packages/xarray/backends/file_manager.py\", line 222, in close\n",
      "    file.close()\n",
      "  File \"/data2/ffp/envs/ml_vm2/lib/python3.9/site-packages/scipy/io/_netcdf.py\", line 312, in close\n",
      "    self.fp.close()\n",
      "KeyboardInterrupt\n"
     ]
    }
   ],
   "source": [
    "creategrid = partial(creategrid_xs_small, rdiff, firstid, gridwidth, gridheight)\n",
    "nruns=1\n",
    "totalrun=0\n",
    "ctr=range(1,17,1)\n",
    "ptr=range(1,11,1)\n",
    "atimes=np.zeros((max(list(ctr))+1,max(list(ptr))+1,2))\n",
    "for cthreads in ctr:\n",
    "    for pthreads in ptr:\n",
    "        start=time.time()\n",
    "        proctime=create_xs_files(creategrid, dayfiles[:10], pthreads, cthreads)\n",
    "        end=time.time()\n",
    "        print('wall time: %.1f sec, process time: %.1f sec, python threads %s, cython threads %s' % (end - start, proctime, pthreads, cthreads))\n",
    "        atimes[cthreads, pthreads,:]=np.array([end-start,proctime])[:]\n",
    "np.save('tab2convtimes',atimes)        "
   ]
  },
  {
   "cell_type": "code",
   "execution_count": 108,
   "id": "71f29fdb",
   "metadata": {},
   "outputs": [],
   "source": [
    "np.save('tab2convtimes',atimes)"
   ]
  },
  {
   "cell_type": "code",
   "execution_count": 170,
   "id": "90997281",
   "metadata": {},
   "outputs": [],
   "source": [
    "atimes=np.load('tab2convtimes.npy')"
   ]
  },
  {
   "cell_type": "code",
   "execution_count": 171,
   "id": "b0216dbd",
   "metadata": {},
   "outputs": [
    {
     "data": {
      "image/png": "[encoded data removed]",
      "text/plain": [
       "<Figure size 864x432 with 4 Axes>"
      ]
     },
     "metadata": {
      "needs_background": "light"
     },
     "output_type": "display_data"
    }
   ],
   "source": [
    "plotheatmap(atimes)"
   ]
  },
  {
   "cell_type": "code",
   "execution_count": 173,
   "id": "4c621f6a",
   "metadata": {},
   "outputs": [
    {
     "name": "stdout",
     "output_type": "stream",
     "text": [
      "wall time: 13.1 sec, process time: 3.1 sec, python threads 1, cython threads 1\n",
      "wall time: 10.2 sec, process time: 5.8 sec, python threads 2, cython threads 1\n",
      "wall time: 12.2 sec, process time: 11.3 sec, python threads 3, cython threads 1\n",
      "wall time: 13.3 sec, process time: 11.9 sec, python threads 4, cython threads 1\n",
      "wall time: 19.4 sec, process time: 18.1 sec, python threads 5, cython threads 1\n",
      "wall time: 22.4 sec, process time: 18.4 sec, python threads 6, cython threads 1\n",
      "wall time: 17.5 sec, process time: 6.1 sec, python threads 7, cython threads 1\n",
      "wall time: 20.6 sec, process time: 13.9 sec, python threads 8, cython threads 1\n",
      "wall time: 23.6 sec, process time: 7.1 sec, python threads 9, cython threads 1\n"
     ]
    },
    {
     "ename": "KeyboardInterrupt",
     "evalue": "",
     "output_type": "error",
     "traceback": [
      "\u001b[0;31m---------------------------------------------------------------------------\u001b[0m",
      "\u001b[0;31mKeyboardInterrupt\u001b[0m                         Traceback (most recent call last)",
      "Cell \u001b[0;32mIn [173], line 10\u001b[0m\n\u001b[1;32m      8\u001b[0m \u001b[38;5;28;01mfor\u001b[39;00m pthreads \u001b[38;5;129;01min\u001b[39;00m ptr:\n\u001b[1;32m      9\u001b[0m     start\u001b[38;5;241m=\u001b[39mtime\u001b[38;5;241m.\u001b[39mtime()\n\u001b[0;32m---> 10\u001b[0m     proctime\u001b[38;5;241m=\u001b[39m\u001b[43mcreate_xs_files\u001b[49m\u001b[43m(\u001b[49m\u001b[43mcreategrid\u001b[49m\u001b[43m,\u001b[49m\u001b[43m \u001b[49m\u001b[43mdayfiles\u001b[49m\u001b[43m[\u001b[49m\u001b[43m:\u001b[49m\u001b[43mpthreads\u001b[49m\u001b[43m]\u001b[49m\u001b[43m,\u001b[49m\u001b[43m \u001b[49m\u001b[43mpthreads\u001b[49m\u001b[43m,\u001b[49m\u001b[43m \u001b[49m\u001b[43mcthreads\u001b[49m\u001b[43m)\u001b[49m\n\u001b[1;32m     11\u001b[0m     end\u001b[38;5;241m=\u001b[39mtime\u001b[38;5;241m.\u001b[39mtime()\n\u001b[1;32m     12\u001b[0m     \u001b[38;5;28mprint\u001b[39m(\u001b[38;5;124m'\u001b[39m\u001b[38;5;124mwall time: \u001b[39m\u001b[38;5;132;01m%.1f\u001b[39;00m\u001b[38;5;124m sec, process time: \u001b[39m\u001b[38;5;132;01m%.1f\u001b[39;00m\u001b[38;5;124m sec, python threads \u001b[39m\u001b[38;5;132;01m%s\u001b[39;00m\u001b[38;5;124m, cython threads \u001b[39m\u001b[38;5;132;01m%s\u001b[39;00m\u001b[38;5;124m'\u001b[39m \u001b[38;5;241m%\u001b[39m (end \u001b[38;5;241m-\u001b[39m start, proctime, pthreads, cthreads))\n",
      "Cell \u001b[0;32mIn [166], line 74\u001b[0m, in \u001b[0;36mcreate_xs_files\u001b[0;34m(creategrid, days, pthreads, cthreads)\u001b[0m\n\u001b[1;32m     72\u001b[0m     new_process(procs, d)\n\u001b[1;32m     73\u001b[0m \u001b[38;5;28;01mwhile\u001b[39;00m \u001b[38;5;28;01mTrue\u001b[39;00m:\n\u001b[0;32m---> 74\u001b[0m     \u001b[43mtime\u001b[49m\u001b[38;5;241;43m.\u001b[39;49m\u001b[43msleep\u001b[49m\u001b[43m(\u001b[49m\u001b[38;5;241;43m1\u001b[39;49m\u001b[43m)\u001b[49m\n\u001b[1;32m     75\u001b[0m     \u001b[38;5;28;01mfor\u001b[39;00m p \u001b[38;5;129;01min\u001b[39;00m procs:\n\u001b[1;32m     76\u001b[0m         \u001b[38;5;28;01mtry\u001b[39;00m:\n",
      "\u001b[0;31mKeyboardInterrupt\u001b[0m: "
     ]
    },
    {
     "name": "stdout",
     "output_type": "stream",
     "text": [
      "Fail to convert /data2/ffp/datasets/daily/2015/09/20150908_norm.csv\n"
     ]
    },
    {
     "name": "stderr",
     "output_type": "stream",
     "text": [
      "Traceback (most recent call last):\n",
      "  File \"<ipython-input-166-e860f3432324>\", line 50, in creategrid_xs_small\n",
      "    xsday.to_netcdf(os.path.join(orig_path, daygrid))\n",
      "  File \"/data2/ffp/envs/ml_vm2/lib/python3.9/site-packages/xarray/core/dataset.py\", line 1902, in to_netcdf\n",
      "    return to_netcdf(\n",
      "  File \"/data2/ffp/envs/ml_vm2/lib/python3.9/site-packages/xarray/backends/api.py\", line 1088, in to_netcdf\n",
      "    store.close()\n",
      "  File \"/data2/ffp/envs/ml_vm2/lib/python3.9/site-packages/xarray/backends/scipy_.py\", line 237, in close\n",
      "    self._manager.close()\n",
      "  File \"/data2/ffp/envs/ml_vm2/lib/python3.9/site-packages/xarray/backends/file_manager.py\", line 222, in close\n",
      "    file.close()\n",
      "  File \"/data2/ffp/envs/ml_vm2/lib/python3.9/site-packages/scipy/io/_netcdf.py\", line 312, in close\n",
      "    self.fp.close()\n",
      "KeyboardInterrupt\n"
     ]
    },
    {
     "name": "stdout",
     "output_type": "stream",
     "text": [
      "Fail to convert /data2/ffp/datasets/daily/2015/09/20150928_norm.csv\n"
     ]
    },
    {
     "name": "stderr",
     "output_type": "stream",
     "text": [
      "Traceback (most recent call last):\n",
      "  File \"<ipython-input-166-e860f3432324>\", line 50, in creategrid_xs_small\n",
      "    xsday.to_netcdf(os.path.join(orig_path, daygrid))\n",
      "  File \"/data2/ffp/envs/ml_vm2/lib/python3.9/site-packages/xarray/core/dataset.py\", line 1902, in to_netcdf\n",
      "    return to_netcdf(\n",
      "  File \"/data2/ffp/envs/ml_vm2/lib/python3.9/site-packages/xarray/backends/api.py\", line 1088, in to_netcdf\n",
      "    store.close()\n",
      "  File \"/data2/ffp/envs/ml_vm2/lib/python3.9/site-packages/xarray/backends/scipy_.py\", line 237, in close\n",
      "    self._manager.close()\n",
      "  File \"/data2/ffp/envs/ml_vm2/lib/python3.9/site-packages/xarray/backends/file_manager.py\", line 222, in close\n",
      "    file.close()\n",
      "  File \"/data2/ffp/envs/ml_vm2/lib/python3.9/site-packages/scipy/io/_netcdf.py\", line 312, in close\n",
      "    self.fp.close()\n",
      "KeyboardInterrupt\n"
     ]
    },
    {
     "name": "stdout",
     "output_type": "stream",
     "text": [
      "Fail to convert /data2/ffp/datasets/daily/2015/09/20150912_norm.csv\n"
     ]
    },
    {
     "name": "stderr",
     "output_type": "stream",
     "text": [
      "Traceback (most recent call last):\n",
      "  File \"<ipython-input-166-e860f3432324>\", line 50, in creategrid_xs_small\n",
      "    xsday.to_netcdf(os.path.join(orig_path, daygrid))\n",
      "  File \"/data2/ffp/envs/ml_vm2/lib/python3.9/site-packages/xarray/core/dataset.py\", line 1902, in to_netcdf\n",
      "    return to_netcdf(\n",
      "  File \"/data2/ffp/envs/ml_vm2/lib/python3.9/site-packages/xarray/backends/api.py\", line 1088, in to_netcdf\n",
      "    store.close()\n",
      "  File \"/data2/ffp/envs/ml_vm2/lib/python3.9/site-packages/xarray/backends/scipy_.py\", line 237, in close\n",
      "    self._manager.close()\n",
      "  File \"/data2/ffp/envs/ml_vm2/lib/python3.9/site-packages/xarray/backends/file_manager.py\", line 222, in close\n",
      "    file.close()\n",
      "  File \"/data2/ffp/envs/ml_vm2/lib/python3.9/site-packages/scipy/io/_netcdf.py\", line 312, in close\n",
      "    self.fp.close()\n",
      "KeyboardInterrupt\n"
     ]
    },
    {
     "name": "stdout",
     "output_type": "stream",
     "text": [
      "Fail to convert /data2/ffp/datasets/daily/2015/09/20150914_norm.csv\n"
     ]
    },
    {
     "name": "stderr",
     "output_type": "stream",
     "text": [
      "Traceback (most recent call last):\n",
      "  File \"<ipython-input-166-e860f3432324>\", line 50, in creategrid_xs_small\n",
      "    xsday.to_netcdf(os.path.join(orig_path, daygrid))\n",
      "  File \"/data2/ffp/envs/ml_vm2/lib/python3.9/site-packages/xarray/core/dataset.py\", line 1902, in to_netcdf\n",
      "    return to_netcdf(\n",
      "  File \"/data2/ffp/envs/ml_vm2/lib/python3.9/site-packages/xarray/backends/api.py\", line 1088, in to_netcdf\n",
      "    store.close()\n",
      "  File \"/data2/ffp/envs/ml_vm2/lib/python3.9/site-packages/xarray/backends/scipy_.py\", line 237, in close\n",
      "    self._manager.close()\n",
      "  File \"/data2/ffp/envs/ml_vm2/lib/python3.9/site-packages/xarray/backends/file_manager.py\", line 222, in close\n",
      "    file.close()\n",
      "  File \"/data2/ffp/envs/ml_vm2/lib/python3.9/site-packages/scipy/io/_netcdf.py\", line 312, in close\n",
      "    self.fp.close()\n",
      "KeyboardInterrupt\n"
     ]
    },
    {
     "name": "stdout",
     "output_type": "stream",
     "text": [
      "Fail to convert /data2/ffp/datasets/daily/2015/09/20150923_norm.csv\n"
     ]
    },
    {
     "name": "stderr",
     "output_type": "stream",
     "text": [
      "Traceback (most recent call last):\n",
      "  File \"<ipython-input-166-e860f3432324>\", line 50, in creategrid_xs_small\n",
      "    xsday.to_netcdf(os.path.join(orig_path, daygrid))\n",
      "  File \"/data2/ffp/envs/ml_vm2/lib/python3.9/site-packages/xarray/core/dataset.py\", line 1902, in to_netcdf\n",
      "    return to_netcdf(\n",
      "  File \"/data2/ffp/envs/ml_vm2/lib/python3.9/site-packages/xarray/backends/api.py\", line 1088, in to_netcdf\n",
      "    store.close()\n",
      "  File \"/data2/ffp/envs/ml_vm2/lib/python3.9/site-packages/xarray/backends/scipy_.py\", line 237, in close\n",
      "    self._manager.close()\n",
      "  File \"/data2/ffp/envs/ml_vm2/lib/python3.9/site-packages/xarray/backends/file_manager.py\", line 222, in close\n",
      "    file.close()\n",
      "  File \"/data2/ffp/envs/ml_vm2/lib/python3.9/site-packages/scipy/io/_netcdf.py\", line 312, in close\n",
      "    self.fp.close()\n",
      "KeyboardInterrupt\n"
     ]
    },
    {
     "name": "stdout",
     "output_type": "stream",
     "text": [
      "Fail to convert /data2/ffp/datasets/daily/2015/09/20150905_norm.csvFail to convert /data2/ffp/datasets/daily/2015/09/20150911_norm.csvFail to convert /data2/ffp/datasets/daily/2015/09/20150925_norm.csv\n",
      "\n"
     ]
    },
    {
     "name": "stderr",
     "output_type": "stream",
     "text": [
      "Traceback (most recent call last):\n",
      "Traceback (most recent call last):\n",
      "  File \"<ipython-input-166-e860f3432324>\", line 50, in creategrid_xs_small\n",
      "    xsday.to_netcdf(os.path.join(orig_path, daygrid))\n",
      "  File \"<ipython-input-166-e860f3432324>\", line 50, in creategrid_xs_small\n",
      "    xsday.to_netcdf(os.path.join(orig_path, daygrid))\n",
      "  File \"/data2/ffp/envs/ml_vm2/lib/python3.9/site-packages/xarray/core/dataset.py\", line 1902, in to_netcdf\n",
      "    return to_netcdf(\n",
      "  File \"/data2/ffp/envs/ml_vm2/lib/python3.9/site-packages/xarray/core/dataset.py\", line 1902, in to_netcdf\n",
      "    return to_netcdf(\n"
     ]
    },
    {
     "name": "stdout",
     "output_type": "stream",
     "text": [
      "\n"
     ]
    },
    {
     "name": "stderr",
     "output_type": "stream",
     "text": [
      "  File \"/data2/ffp/envs/ml_vm2/lib/python3.9/site-packages/xarray/backends/api.py\", line 1088, in to_netcdf\n",
      "    store.close()\n",
      "  File \"/data2/ffp/envs/ml_vm2/lib/python3.9/site-packages/xarray/backends/api.py\", line 1088, in to_netcdf\n",
      "    store.close()\n",
      "  File \"/data2/ffp/envs/ml_vm2/lib/python3.9/site-packages/xarray/backends/scipy_.py\", line 237, in close\n",
      "    self._manager.close()\n",
      "  File \"/data2/ffp/envs/ml_vm2/lib/python3.9/site-packages/xarray/backends/scipy_.py\", line 237, in close\n",
      "    self._manager.close()\n",
      "  File \"/data2/ffp/envs/ml_vm2/lib/python3.9/site-packages/xarray/backends/file_manager.py\", line 222, in close\n",
      "    file.close()\n",
      "  File \"/data2/ffp/envs/ml_vm2/lib/python3.9/site-packages/xarray/backends/file_manager.py\", line 222, in close\n",
      "    file.close()\n",
      "Traceback (most recent call last):\n",
      "  File \"/data2/ffp/envs/ml_vm2/lib/python3.9/site-packages/scipy/io/_netcdf.py\", line 312, in close\n",
      "    self.fp.close()\n",
      "  File \"<ipython-input-166-e860f3432324>\", line 50, in creategrid_xs_small\n",
      "    xsday.to_netcdf(os.path.join(orig_path, daygrid))\n",
      "KeyboardInterrupt\n",
      "  File \"/data2/ffp/envs/ml_vm2/lib/python3.9/site-packages/scipy/io/_netcdf.py\", line 312, in close\n",
      "    self.fp.close()\n",
      "  File \"/data2/ffp/envs/ml_vm2/lib/python3.9/site-packages/xarray/core/dataset.py\", line 1902, in to_netcdf\n",
      "    return to_netcdf(\n",
      "  File \"/data2/ffp/envs/ml_vm2/lib/python3.9/site-packages/xarray/backends/api.py\", line 1088, in to_netcdf\n",
      "    store.close()\n",
      "  File \"/data2/ffp/envs/ml_vm2/lib/python3.9/site-packages/xarray/backends/scipy_.py\", line 237, in close\n",
      "    self._manager.close()\n",
      "  File \"/data2/ffp/envs/ml_vm2/lib/python3.9/site-packages/xarray/backends/file_manager.py\", line 222, in close\n",
      "    file.close()\n",
      "  File \"/data2/ffp/envs/ml_vm2/lib/python3.9/site-packages/scipy/io/_netcdf.py\", line 312, in close\n",
      "    self.fp.close()\n",
      "KeyboardInterrupt\n",
      "KeyboardInterrupt\n"
     ]
    },
    {
     "name": "stdout",
     "output_type": "stream",
     "text": [
      "Fail to convert /data2/ffp/datasets/daily/2015/09/20150910_norm.csv\n"
     ]
    },
    {
     "name": "stderr",
     "output_type": "stream",
     "text": [
      "Traceback (most recent call last):\n",
      "  File \"<ipython-input-166-e860f3432324>\", line 50, in creategrid_xs_small\n",
      "    xsday.to_netcdf(os.path.join(orig_path, daygrid))\n",
      "  File \"/data2/ffp/envs/ml_vm2/lib/python3.9/site-packages/xarray/core/dataset.py\", line 1902, in to_netcdf\n",
      "    return to_netcdf(\n",
      "  File \"/data2/ffp/envs/ml_vm2/lib/python3.9/site-packages/xarray/backends/api.py\", line 1088, in to_netcdf\n",
      "    store.close()\n",
      "  File \"/data2/ffp/envs/ml_vm2/lib/python3.9/site-packages/xarray/backends/scipy_.py\", line 237, in close\n",
      "    self._manager.close()\n",
      "  File \"/data2/ffp/envs/ml_vm2/lib/python3.9/site-packages/xarray/backends/file_manager.py\", line 222, in close\n",
      "    file.close()\n",
      "  File \"/data2/ffp/envs/ml_vm2/lib/python3.9/site-packages/scipy/io/_netcdf.py\", line 312, in close\n",
      "    self.fp.close()\n",
      "KeyboardInterrupt\n"
     ]
    },
    {
     "name": "stdout",
     "output_type": "stream",
     "text": [
      "Fail to convert /data2/ffp/datasets/daily/2015/09/20150920_norm.csv\n"
     ]
    },
    {
     "name": "stderr",
     "output_type": "stream",
     "text": [
      "Traceback (most recent call last):\n",
      "  File \"<ipython-input-166-e860f3432324>\", line 50, in creategrid_xs_small\n",
      "    xsday.to_netcdf(os.path.join(orig_path, daygrid))\n",
      "  File \"/data2/ffp/envs/ml_vm2/lib/python3.9/site-packages/xarray/core/dataset.py\", line 1902, in to_netcdf\n",
      "    return to_netcdf(\n",
      "  File \"/data2/ffp/envs/ml_vm2/lib/python3.9/site-packages/xarray/backends/api.py\", line 1088, in to_netcdf\n",
      "    store.close()\n",
      "  File \"/data2/ffp/envs/ml_vm2/lib/python3.9/site-packages/xarray/backends/scipy_.py\", line 237, in close\n",
      "    self._manager.close()\n",
      "  File \"/data2/ffp/envs/ml_vm2/lib/python3.9/site-packages/xarray/backends/file_manager.py\", line 222, in close\n",
      "    file.close()\n",
      "  File \"/data2/ffp/envs/ml_vm2/lib/python3.9/site-packages/scipy/io/_netcdf.py\", line 312, in close\n",
      "    self.fp.close()\n",
      "KeyboardInterrupt\n"
     ]
    }
   ],
   "source": [
    "creategrid = partial(creategrid_xs_small, rdiff, firstid, gridwidth, gridheight)\n",
    "nruns=1\n",
    "totalrun=0\n",
    "ctr=range(1,17,1)\n",
    "ptr=range(1,17,1)\n",
    "atimes2=np.zeros((max(list(ctr))+1,max(list(ptr))+1,2))\n",
    "for cthreads in ctr:\n",
    "    for pthreads in ptr:\n",
    "        start=time.time()\n",
    "        proctime=create_xs_files(creategrid, dayfiles[:pthreads], pthreads, cthreads)\n",
    "        end=time.time()\n",
    "        print('wall time: %.1f sec, process time: %.1f sec, python threads %s, cython threads %s' % (end - start, proctime, pthreads, cthreads))\n",
    "        atimes2[cthreads, pthreads,:]=np.array([end-start,proctime])[:]\n",
    "np.save('tab2convtimes2',atimes2)        "
   ]
  },
  {
   "cell_type": "code",
   "execution_count": null,
   "id": "42a22ed5",
   "metadata": {},
   "outputs": [],
   "source": []
  }
 ],
 "metadata": {
  "kernelspec": {
   "display_name": "Python 3",
   "language": "python",
   "name": "python3"
  },
  "language_info": {
   "codemirror_mode": {
    "name": "ipython",
    "version": 3
   },
   "file_extension": ".py",
   "mimetype": "text/x-python",
   "name": "python",
   "nbconvert_exporter": "python",
   "pygments_lexer": "ipython3",
   "version": "3.9.15"
  }
 },
 "nbformat": 4,
 "nbformat_minor": 5
}
