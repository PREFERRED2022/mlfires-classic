{
 "cells": [
  {
   "cell_type": "code",
   "execution_count": 1,
   "metadata": {},
   "outputs": [],
   "source": [
    "import os\n",
    "from os import listdir\n",
    "from os.path import isfile, join\n",
    "import pandas as pd"
   ]
  },
  {
   "cell_type": "code",
   "execution_count": 2,
   "metadata": {},
   "outputs": [],
   "source": [
    "os.chdir('/home/sgirtsou/Documents/ML-dataset_newLU/csvs_withfire_results/LB_results')\n",
    "mypath = '/home/sgirtsou/Documents/ML-dataset_newLU/csvs_withfire_results/LB_results'"
   ]
  },
  {
   "cell_type": "code",
   "execution_count": 3,
   "metadata": {},
   "outputs": [],
   "source": [
    "onlyfiles = [f for f in listdir(mypath) if isfile(join(mypath, f)) and 'comb' in f]\n",
    "combined_csv = pd.concat([pd.read_csv(f) for f in onlyfiles])"
   ]
  },
  {
   "cell_type": "code",
   "execution_count": 4,
   "metadata": {},
   "outputs": [
    {
     "data": {
      "text/plain": [
       "Index(['Unnamed: 0', 'Unnamed: 0.1', 'Unnamed: 0.1.1', 'Unnamed: 0.1.1.1',\n",
       "       'id', 'Corine', 'DEM', 'Slope', 'Aspect', 'Curvature', 'ndvi',\n",
       "       'max_temp', 'min_temp', 'mean_temp', 'rain_7days', 'res_max', 'dir_max',\n",
       "       'dom_vel', 'dom_dir', 'x', 'y', 'fire', 'Class_pred', 'Class_0_proba',\n",
       "       'Class_1_proba', 'Class_pred_lb', 'Class_0_proba_lb',\n",
       "       'Class_1_proba_lb', 'Comb_proba_1', 'Comb_class_pred'],\n",
       "      dtype='object')"
      ]
     },
     "execution_count": 4,
     "metadata": {},
     "output_type": "execute_result"
    }
   ],
   "source": [
    "combined_csv.columns"
   ]
  },
  {
   "cell_type": "code",
   "execution_count": 5,
   "metadata": {},
   "outputs": [],
   "source": [
    "ranges = [0.0,0.2,0.4,0.6,0.8,1.0]"
   ]
  },
  {
   "cell_type": "code",
   "execution_count": 6,
   "metadata": {},
   "outputs": [],
   "source": [
    "combined_cut=pd.cut(combined_csv.Class_1_proba, ranges)"
   ]
  },
  {
   "cell_type": "code",
   "execution_count": 7,
   "metadata": {},
   "outputs": [],
   "source": [
    "combined_cut=combined_cut.rename(\"ranges\")"
   ]
  },
  {
   "cell_type": "code",
   "execution_count": 8,
   "metadata": {},
   "outputs": [],
   "source": [
    "combined_csv_r=pd.concat([combined_csv,combined_cut],axis=1)"
   ]
  },
  {
   "cell_type": "code",
   "execution_count": 9,
   "metadata": {
    "collapsed": true
   },
   "outputs": [
    {
     "data": {
      "text/html": [
       "<div>\n",
       "<style scoped>\n",
       "    .dataframe tbody tr th:only-of-type {\n",
       "        vertical-align: middle;\n",
       "    }\n",
       "\n",
       "    .dataframe tbody tr th {\n",
       "        vertical-align: top;\n",
       "    }\n",
       "\n",
       "    .dataframe thead th {\n",
       "        text-align: right;\n",
       "    }\n",
       "</style>\n",
       "<table border=\"1\" class=\"dataframe\">\n",
       "  <thead>\n",
       "    <tr style=\"text-align: right;\">\n",
       "      <th></th>\n",
       "      <th>Unnamed: 0</th>\n",
       "      <th>Unnamed: 0.1</th>\n",
       "      <th>Unnamed: 0.1.1</th>\n",
       "      <th>Unnamed: 0.1.1.1</th>\n",
       "      <th>id</th>\n",
       "      <th>Corine</th>\n",
       "      <th>DEM</th>\n",
       "      <th>Slope</th>\n",
       "      <th>Aspect</th>\n",
       "      <th>Curvature</th>\n",
       "      <th>...</th>\n",
       "      <th>fire</th>\n",
       "      <th>Class_pred</th>\n",
       "      <th>Class_0_proba</th>\n",
       "      <th>Class_1_proba</th>\n",
       "      <th>Class_pred_lb</th>\n",
       "      <th>Class_0_proba_lb</th>\n",
       "      <th>Class_1_proba_lb</th>\n",
       "      <th>Comb_proba_1</th>\n",
       "      <th>Comb_class_pred</th>\n",
       "      <th>ranges</th>\n",
       "    </tr>\n",
       "  </thead>\n",
       "  <tbody>\n",
       "    <tr>\n",
       "      <th>0</th>\n",
       "      <td>0</td>\n",
       "      <td>0</td>\n",
       "      <td>0</td>\n",
       "      <td>0</td>\n",
       "      <td>333237.0</td>\n",
       "      <td>311</td>\n",
       "      <td>84.3599</td>\n",
       "      <td>1.39337</td>\n",
       "      <td>42.2097</td>\n",
       "      <td>-0.000953</td>\n",
       "      <td>...</td>\n",
       "      <td>0</td>\n",
       "      <td>0</td>\n",
       "      <td>0.559211</td>\n",
       "      <td>0.440789</td>\n",
       "      <td>0</td>\n",
       "      <td>1.000000</td>\n",
       "      <td>1.529111e-08</td>\n",
       "      <td>0.440789</td>\n",
       "      <td>0</td>\n",
       "      <td>(0.4, 0.6]</td>\n",
       "    </tr>\n",
       "    <tr>\n",
       "      <th>1</th>\n",
       "      <td>1</td>\n",
       "      <td>1</td>\n",
       "      <td>1</td>\n",
       "      <td>1</td>\n",
       "      <td>335462.0</td>\n",
       "      <td>311</td>\n",
       "      <td>77.4268</td>\n",
       "      <td>1.34403</td>\n",
       "      <td>344.9420</td>\n",
       "      <td>-0.011174</td>\n",
       "      <td>...</td>\n",
       "      <td>0</td>\n",
       "      <td>0</td>\n",
       "      <td>0.827691</td>\n",
       "      <td>0.172309</td>\n",
       "      <td>0</td>\n",
       "      <td>1.000000</td>\n",
       "      <td>2.366232e-10</td>\n",
       "      <td>0.172309</td>\n",
       "      <td>0</td>\n",
       "      <td>(0.0, 0.2]</td>\n",
       "    </tr>\n",
       "    <tr>\n",
       "      <th>2</th>\n",
       "      <td>2</td>\n",
       "      <td>2</td>\n",
       "      <td>2</td>\n",
       "      <td>2</td>\n",
       "      <td>335463.0</td>\n",
       "      <td>311</td>\n",
       "      <td>90.7271</td>\n",
       "      <td>1.21530</td>\n",
       "      <td>357.5200</td>\n",
       "      <td>0.010208</td>\n",
       "      <td>...</td>\n",
       "      <td>0</td>\n",
       "      <td>0</td>\n",
       "      <td>0.828198</td>\n",
       "      <td>0.171802</td>\n",
       "      <td>0</td>\n",
       "      <td>0.997882</td>\n",
       "      <td>2.118217e-03</td>\n",
       "      <td>0.171802</td>\n",
       "      <td>0</td>\n",
       "      <td>(0.0, 0.2]</td>\n",
       "    </tr>\n",
       "    <tr>\n",
       "      <th>3</th>\n",
       "      <td>3</td>\n",
       "      <td>3</td>\n",
       "      <td>3</td>\n",
       "      <td>3</td>\n",
       "      <td>335464.0</td>\n",
       "      <td>311</td>\n",
       "      <td>84.3599</td>\n",
       "      <td>1.39337</td>\n",
       "      <td>42.2097</td>\n",
       "      <td>-0.000953</td>\n",
       "      <td>...</td>\n",
       "      <td>0</td>\n",
       "      <td>0</td>\n",
       "      <td>0.559211</td>\n",
       "      <td>0.440789</td>\n",
       "      <td>0</td>\n",
       "      <td>1.000000</td>\n",
       "      <td>1.529111e-08</td>\n",
       "      <td>0.440789</td>\n",
       "      <td>0</td>\n",
       "      <td>(0.4, 0.6]</td>\n",
       "    </tr>\n",
       "    <tr>\n",
       "      <th>4</th>\n",
       "      <td>4</td>\n",
       "      <td>4</td>\n",
       "      <td>4</td>\n",
       "      <td>4</td>\n",
       "      <td>337688.0</td>\n",
       "      <td>311</td>\n",
       "      <td>100.3930</td>\n",
       "      <td>1.60630</td>\n",
       "      <td>18.9754</td>\n",
       "      <td>-0.005336</td>\n",
       "      <td>...</td>\n",
       "      <td>0</td>\n",
       "      <td>0</td>\n",
       "      <td>0.537009</td>\n",
       "      <td>0.462991</td>\n",
       "      <td>0</td>\n",
       "      <td>0.999999</td>\n",
       "      <td>5.968874e-07</td>\n",
       "      <td>0.462991</td>\n",
       "      <td>0</td>\n",
       "      <td>(0.4, 0.6]</td>\n",
       "    </tr>\n",
       "    <tr>\n",
       "      <th>...</th>\n",
       "      <td>...</td>\n",
       "      <td>...</td>\n",
       "      <td>...</td>\n",
       "      <td>...</td>\n",
       "      <td>...</td>\n",
       "      <td>...</td>\n",
       "      <td>...</td>\n",
       "      <td>...</td>\n",
       "      <td>...</td>\n",
       "      <td>...</td>\n",
       "      <td>...</td>\n",
       "      <td>...</td>\n",
       "      <td>...</td>\n",
       "      <td>...</td>\n",
       "      <td>...</td>\n",
       "      <td>...</td>\n",
       "      <td>...</td>\n",
       "      <td>...</td>\n",
       "      <td>...</td>\n",
       "      <td>...</td>\n",
       "      <td>...</td>\n",
       "    </tr>\n",
       "    <tr>\n",
       "      <th>373539</th>\n",
       "      <td>373539</td>\n",
       "      <td>373539</td>\n",
       "      <td>373539</td>\n",
       "      <td>373987</td>\n",
       "      <td>3468809.0</td>\n",
       "      <td>323</td>\n",
       "      <td>0.0000</td>\n",
       "      <td>0.00000</td>\n",
       "      <td>0.0000</td>\n",
       "      <td>0.000000</td>\n",
       "      <td>...</td>\n",
       "      <td>0</td>\n",
       "      <td>1</td>\n",
       "      <td>0.278464</td>\n",
       "      <td>0.721536</td>\n",
       "      <td>0</td>\n",
       "      <td>0.999983</td>\n",
       "      <td>1.738859e-05</td>\n",
       "      <td>0.721536</td>\n",
       "      <td>1</td>\n",
       "      <td>(0.6, 0.8]</td>\n",
       "    </tr>\n",
       "    <tr>\n",
       "      <th>373540</th>\n",
       "      <td>373540</td>\n",
       "      <td>373540</td>\n",
       "      <td>373540</td>\n",
       "      <td>373988</td>\n",
       "      <td>3468810.0</td>\n",
       "      <td>323</td>\n",
       "      <td>0.0000</td>\n",
       "      <td>0.00000</td>\n",
       "      <td>-1.0000</td>\n",
       "      <td>-0.000000</td>\n",
       "      <td>...</td>\n",
       "      <td>0</td>\n",
       "      <td>1</td>\n",
       "      <td>0.277591</td>\n",
       "      <td>0.722409</td>\n",
       "      <td>0</td>\n",
       "      <td>0.999986</td>\n",
       "      <td>1.365556e-05</td>\n",
       "      <td>0.722409</td>\n",
       "      <td>1</td>\n",
       "      <td>(0.6, 0.8]</td>\n",
       "    </tr>\n",
       "    <tr>\n",
       "      <th>373541</th>\n",
       "      <td>373541</td>\n",
       "      <td>373541</td>\n",
       "      <td>373541</td>\n",
       "      <td>373989</td>\n",
       "      <td>3462125.0</td>\n",
       "      <td>321</td>\n",
       "      <td>0.0000</td>\n",
       "      <td>0.00000</td>\n",
       "      <td>-1.0000</td>\n",
       "      <td>-0.000000</td>\n",
       "      <td>...</td>\n",
       "      <td>0</td>\n",
       "      <td>1</td>\n",
       "      <td>0.280945</td>\n",
       "      <td>0.719055</td>\n",
       "      <td>0</td>\n",
       "      <td>0.999999</td>\n",
       "      <td>1.228307e-06</td>\n",
       "      <td>0.719055</td>\n",
       "      <td>1</td>\n",
       "      <td>(0.6, 0.8]</td>\n",
       "    </tr>\n",
       "    <tr>\n",
       "      <th>373542</th>\n",
       "      <td>373542</td>\n",
       "      <td>373542</td>\n",
       "      <td>373542</td>\n",
       "      <td>373990</td>\n",
       "      <td>3462126.0</td>\n",
       "      <td>321</td>\n",
       "      <td>0.0000</td>\n",
       "      <td>0.00000</td>\n",
       "      <td>-1.0000</td>\n",
       "      <td>-0.000000</td>\n",
       "      <td>...</td>\n",
       "      <td>0</td>\n",
       "      <td>1</td>\n",
       "      <td>0.280446</td>\n",
       "      <td>0.719554</td>\n",
       "      <td>0</td>\n",
       "      <td>0.999995</td>\n",
       "      <td>5.224599e-06</td>\n",
       "      <td>0.719554</td>\n",
       "      <td>1</td>\n",
       "      <td>(0.6, 0.8]</td>\n",
       "    </tr>\n",
       "    <tr>\n",
       "      <th>373543</th>\n",
       "      <td>373543</td>\n",
       "      <td>373543</td>\n",
       "      <td>373543</td>\n",
       "      <td>373991</td>\n",
       "      <td>3462127.0</td>\n",
       "      <td>321</td>\n",
       "      <td>0.0000</td>\n",
       "      <td>0.00062</td>\n",
       "      <td>270.0000</td>\n",
       "      <td>-0.000009</td>\n",
       "      <td>...</td>\n",
       "      <td>0</td>\n",
       "      <td>1</td>\n",
       "      <td>0.225541</td>\n",
       "      <td>0.774459</td>\n",
       "      <td>0</td>\n",
       "      <td>0.999999</td>\n",
       "      <td>8.706281e-07</td>\n",
       "      <td>0.774459</td>\n",
       "      <td>1</td>\n",
       "      <td>(0.6, 0.8]</td>\n",
       "    </tr>\n",
       "  </tbody>\n",
       "</table>\n",
       "<p>7844424 rows × 31 columns</p>\n",
       "</div>"
      ],
      "text/plain": [
       "        Unnamed: 0  Unnamed: 0.1  Unnamed: 0.1.1  Unnamed: 0.1.1.1         id  \\\n",
       "0                0             0               0                 0   333237.0   \n",
       "1                1             1               1                 1   335462.0   \n",
       "2                2             2               2                 2   335463.0   \n",
       "3                3             3               3                 3   335464.0   \n",
       "4                4             4               4                 4   337688.0   \n",
       "...            ...           ...             ...               ...        ...   \n",
       "373539      373539        373539          373539            373987  3468809.0   \n",
       "373540      373540        373540          373540            373988  3468810.0   \n",
       "373541      373541        373541          373541            373989  3462125.0   \n",
       "373542      373542        373542          373542            373990  3462126.0   \n",
       "373543      373543        373543          373543            373991  3462127.0   \n",
       "\n",
       "        Corine       DEM    Slope    Aspect  Curvature  ...  fire  Class_pred  \\\n",
       "0          311   84.3599  1.39337   42.2097  -0.000953  ...     0           0   \n",
       "1          311   77.4268  1.34403  344.9420  -0.011174  ...     0           0   \n",
       "2          311   90.7271  1.21530  357.5200   0.010208  ...     0           0   \n",
       "3          311   84.3599  1.39337   42.2097  -0.000953  ...     0           0   \n",
       "4          311  100.3930  1.60630   18.9754  -0.005336  ...     0           0   \n",
       "...        ...       ...      ...       ...        ...  ...   ...         ...   \n",
       "373539     323    0.0000  0.00000    0.0000   0.000000  ...     0           1   \n",
       "373540     323    0.0000  0.00000   -1.0000  -0.000000  ...     0           1   \n",
       "373541     321    0.0000  0.00000   -1.0000  -0.000000  ...     0           1   \n",
       "373542     321    0.0000  0.00000   -1.0000  -0.000000  ...     0           1   \n",
       "373543     321    0.0000  0.00062  270.0000  -0.000009  ...     0           1   \n",
       "\n",
       "        Class_0_proba  Class_1_proba  Class_pred_lb  Class_0_proba_lb  \\\n",
       "0            0.559211       0.440789              0          1.000000   \n",
       "1            0.827691       0.172309              0          1.000000   \n",
       "2            0.828198       0.171802              0          0.997882   \n",
       "3            0.559211       0.440789              0          1.000000   \n",
       "4            0.537009       0.462991              0          0.999999   \n",
       "...               ...            ...            ...               ...   \n",
       "373539       0.278464       0.721536              0          0.999983   \n",
       "373540       0.277591       0.722409              0          0.999986   \n",
       "373541       0.280945       0.719055              0          0.999999   \n",
       "373542       0.280446       0.719554              0          0.999995   \n",
       "373543       0.225541       0.774459              0          0.999999   \n",
       "\n",
       "        Class_1_proba_lb  Comb_proba_1  Comb_class_pred      ranges  \n",
       "0           1.529111e-08      0.440789                0  (0.4, 0.6]  \n",
       "1           2.366232e-10      0.172309                0  (0.0, 0.2]  \n",
       "2           2.118217e-03      0.171802                0  (0.0, 0.2]  \n",
       "3           1.529111e-08      0.440789                0  (0.4, 0.6]  \n",
       "4           5.968874e-07      0.462991                0  (0.4, 0.6]  \n",
       "...                  ...           ...              ...         ...  \n",
       "373539      1.738859e-05      0.721536                1  (0.6, 0.8]  \n",
       "373540      1.365556e-05      0.722409                1  (0.6, 0.8]  \n",
       "373541      1.228307e-06      0.719055                1  (0.6, 0.8]  \n",
       "373542      5.224599e-06      0.719554                1  (0.6, 0.8]  \n",
       "373543      8.706281e-07      0.774459                1  (0.6, 0.8]  \n",
       "\n",
       "[7844424 rows x 31 columns]"
      ]
     },
     "execution_count": 9,
     "metadata": {},
     "output_type": "execute_result"
    }
   ],
   "source": [
    "combined_csv_r"
   ]
  },
  {
   "cell_type": "code",
   "execution_count": 10,
   "metadata": {},
   "outputs": [],
   "source": [
    "groups = combined_csv_r.groupby(combined_cut).count()"
   ]
  },
  {
   "cell_type": "code",
   "execution_count": 11,
   "metadata": {},
   "outputs": [
    {
     "data": {
      "text/plain": [
       "Index(['Unnamed: 0', 'Unnamed: 0.1', 'Unnamed: 0.1.1', 'Unnamed: 0.1.1.1',\n",
       "       'id', 'Corine', 'DEM', 'Slope', 'Aspect', 'Curvature', 'ndvi',\n",
       "       'max_temp', 'min_temp', 'mean_temp', 'rain_7days', 'res_max', 'dir_max',\n",
       "       'dom_vel', 'dom_dir', 'x', 'y', 'fire', 'Class_pred', 'Class_0_proba',\n",
       "       'Class_1_proba', 'Class_pred_lb', 'Class_0_proba_lb',\n",
       "       'Class_1_proba_lb', 'Comb_proba_1', 'Comb_class_pred', 'ranges'],\n",
       "      dtype='object')"
      ]
     },
     "execution_count": 11,
     "metadata": {},
     "output_type": "execute_result"
    }
   ],
   "source": [
    "groups.columns"
   ]
  },
  {
   "cell_type": "code",
   "execution_count": 87,
   "metadata": {},
   "outputs": [],
   "source": [
    "combined_csv_fire=combined_csv[combined_csv[\"fire\"]==1]\n",
    "combined_fire_cut=pd.cut(combined_csv_fire.Class_1_proba, ranges)\n",
    "combined_fire_cut=combined_fire_cut.rename(\"ranges_fire\")"
   ]
  },
  {
   "cell_type": "code",
   "execution_count": 88,
   "metadata": {},
   "outputs": [],
   "source": [
    "combined_csv_fire_r=pd.concat([combined_csv_fire,combined_fire_cut],axis=1)"
   ]
  },
  {
   "cell_type": "code",
   "execution_count": 89,
   "metadata": {},
   "outputs": [],
   "source": [
    "groups_fire = combined_csv_fire_r.groupby(combined_fire_cut).count()"
   ]
  },
  {
   "cell_type": "code",
   "execution_count": 90,
   "metadata": {},
   "outputs": [
    {
     "data": {
      "text/plain": [
       "pandas.core.frame.DataFrame"
      ]
     },
     "execution_count": 90,
     "metadata": {},
     "output_type": "execute_result"
    }
   ],
   "source": [
    "allstats=pd.concat([groups[\"ranges\"],groups_fire[\"ranges_fire\"]],axis=1)\n",
    "type(allstats)"
   ]
  },
  {
   "cell_type": "code",
   "execution_count": 95,
   "metadata": {},
   "outputs": [
    {
     "name": "stdout",
     "output_type": "stream",
     "text": [
      "0.0-0.2 : 13.43 6.68\n",
      "0.2-0.4 : 22.98 15.68\n",
      "0.4-0.6 : 26.95 30.33\n",
      "0.6-0.8 : 29.57 31.62\n",
      "0.8-1.0 : 7.07 15.68\n"
     ]
    }
   ],
   "source": [
    "s1=allstats[\"ranges\"].sum()\n",
    "s2=allstats[\"ranges_fire\"].sum()\n",
    "spc1=0\n",
    "spc2=0\n",
    "for index, row in allstats.iterrows():\n",
    "    #print(index,row[\"ranges\"], row[\"ranges_fire\"])\n",
    "    #print(g[\"ranges\"])\n",
    "    pc1=row[\"ranges\"]/s1\n",
    "    spc1+=pc\n",
    "    pc2=row[\"ranges_fire\"]/s2\n",
    "    spc2+=pc\n",
    "    print(\"%s-%s : %3.2f %3.2f\"%(index.left,index.right,pc1*100,pc2*100))\n",
    "#print(\"0.0-1.0 : %3.2f\"%(spc*100))"
   ]
  },
  {
   "cell_type": "code",
   "execution_count": 37,
   "metadata": {},
   "outputs": [
    {
     "data": {
      "text/plain": [
       "7844361"
      ]
     },
     "execution_count": 37,
     "metadata": {},
     "output_type": "execute_result"
    }
   ],
   "source": []
  },
  {
   "cell_type": "code",
   "execution_count": null,
   "metadata": {},
   "outputs": [],
   "source": []
  }
 ],
 "metadata": {
  "kernelspec": {
   "display_name": "Python 3",
   "language": "python",
   "name": "python3"
  },
  "language_info": {
   "codemirror_mode": {
    "name": "ipython",
    "version": 3
   },
   "file_extension": ".py",
   "mimetype": "text/x-python",
   "name": "python",
   "nbconvert_exporter": "python",
   "pygments_lexer": "ipython3",
   "version": "3.6.8"
  }
 },
 "nbformat": 4,
 "nbformat_minor": 4
}
