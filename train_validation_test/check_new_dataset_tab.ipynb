{
 "cells": [
  {
   "cell_type": "code",
   "execution_count": 30,
   "id": "8b3f823a",
   "metadata": {},
   "outputs": [],
   "source": [
    "import pandas as pd"
   ]
  },
  {
   "cell_type": "code",
   "execution_count": 31,
   "id": "734b72bd",
   "metadata": {},
   "outputs": [],
   "source": [
    "df=pd.read_csv(\"/data2/ffp/datasets/trainingsets/newfull/traindataset_new_norm.csv\")"
   ]
  },
  {
   "cell_type": "code",
   "execution_count": 23,
   "id": "8015f755",
   "metadata": {},
   "outputs": [
    {
     "data": {
      "text/html": [
       "<div>\n",
       "<style scoped>\n",
       "    .dataframe tbody tr th:only-of-type {\n",
       "        vertical-align: middle;\n",
       "    }\n",
       "\n",
       "    .dataframe tbody tr th {\n",
       "        vertical-align: top;\n",
       "    }\n",
       "\n",
       "    .dataframe thead th {\n",
       "        text-align: right;\n",
       "    }\n",
       "</style>\n",
       "<table border=\"1\" class=\"dataframe\">\n",
       "  <thead>\n",
       "    <tr style=\"text-align: right;\">\n",
       "      <th></th>\n",
       "      <th>x</th>\n",
       "      <th>y</th>\n",
       "    </tr>\n",
       "  </thead>\n",
       "  <tbody>\n",
       "    <tr>\n",
       "      <th>0</th>\n",
       "      <td>0.256581</td>\n",
       "      <td>0.589740</td>\n",
       "    </tr>\n",
       "    <tr>\n",
       "      <th>1</th>\n",
       "      <td>0.258077</td>\n",
       "      <td>0.589740</td>\n",
       "    </tr>\n",
       "    <tr>\n",
       "      <th>2</th>\n",
       "      <td>0.322944</td>\n",
       "      <td>0.587562</td>\n",
       "    </tr>\n",
       "    <tr>\n",
       "      <th>3</th>\n",
       "      <td>0.279533</td>\n",
       "      <td>0.563605</td>\n",
       "    </tr>\n",
       "    <tr>\n",
       "      <th>4</th>\n",
       "      <td>0.219656</td>\n",
       "      <td>0.556345</td>\n",
       "    </tr>\n",
       "    <tr>\n",
       "      <th>...</th>\n",
       "      <td>...</td>\n",
       "      <td>...</td>\n",
       "    </tr>\n",
       "    <tr>\n",
       "      <th>26599</th>\n",
       "      <td>0.388809</td>\n",
       "      <td>0.834393</td>\n",
       "    </tr>\n",
       "    <tr>\n",
       "      <th>26600</th>\n",
       "      <td>0.389308</td>\n",
       "      <td>0.834393</td>\n",
       "    </tr>\n",
       "    <tr>\n",
       "      <th>26601</th>\n",
       "      <td>0.389807</td>\n",
       "      <td>0.834393</td>\n",
       "    </tr>\n",
       "    <tr>\n",
       "      <th>26602</th>\n",
       "      <td>0.388809</td>\n",
       "      <td>0.835119</td>\n",
       "    </tr>\n",
       "    <tr>\n",
       "      <th>26603</th>\n",
       "      <td>0.389308</td>\n",
       "      <td>0.835119</td>\n",
       "    </tr>\n",
       "  </tbody>\n",
       "</table>\n",
       "<p>26604 rows × 2 columns</p>\n",
       "</div>"
      ],
      "text/plain": [
       "              x         y\n",
       "0      0.256581  0.589740\n",
       "1      0.258077  0.589740\n",
       "2      0.322944  0.587562\n",
       "3      0.279533  0.563605\n",
       "4      0.219656  0.556345\n",
       "...         ...       ...\n",
       "26599  0.388809  0.834393\n",
       "26600  0.389308  0.834393\n",
       "26601  0.389807  0.834393\n",
       "26602  0.388809  0.835119\n",
       "26603  0.389308  0.835119\n",
       "\n",
       "[26604 rows x 2 columns]"
      ]
     },
     "execution_count": 23,
     "metadata": {},
     "output_type": "execute_result"
    }
   ],
   "source": [
    "df[['x','y']]"
   ]
  },
  {
   "cell_type": "code",
   "execution_count": 24,
   "id": "5aa7e38a",
   "metadata": {},
   "outputs": [
    {
     "data": {
      "text/plain": [
       "Index(['dom_dir', 'dom_vel', 'res_max', 'dir_max', 'max_dew_temp',\n",
       "       'min_dew_temp', 'mean_dew_temp', 'max_temp', 'min_temp', 'mean_temp',\n",
       "       'rain_7_days', 'ndvi', 'evi', 'lst_day', 'lst_night', 'fire', 'weekday',\n",
       "       'month', 'x', 'y', 'firedate', 'pop', 'slope', 'road_dens', 'dem',\n",
       "       'aspect', 'f81', 'frequency', 'corine_13', 'corine_4', 'corine_30',\n",
       "       'corine_38', 'corine_36', 'corine_10', 'corine_20', 'corine_18',\n",
       "       'corine_16', 'corine_43', 'corine_27', 'corine_5', 'corine_31',\n",
       "       'corine_17', 'corine_12', 'corine_26', 'corine_37', 'corine_24',\n",
       "       'corine_28', 'corine_29', 'corine_19', 'corine_21', 'corine_6',\n",
       "       'corine_23', 'corine_22', 'corine_1', 'corine_8', 'corine_33',\n",
       "       'corine_2', 'corine_40', 'corine_32', 'corine_41', 'corine_3',\n",
       "       'corine_25', 'corine_35', 'corine_14', 'corine_42', 'corine_11',\n",
       "       'corine_44', 'corine_15', 'corine_7', 'corine_9', 'corine_gr1',\n",
       "       'corine_gr4', 'corine_gr5', 'corine_gr21', 'corine_gr22', 'corine_gr23',\n",
       "       'corine_gr24', 'corine_gr31', 'corine_gr32', 'corine_gr33', 'band'],\n",
       "      dtype='object')"
      ]
     },
     "execution_count": 24,
     "metadata": {},
     "output_type": "execute_result"
    }
   ],
   "source": [
    "df.columns"
   ]
  },
  {
   "cell_type": "code",
   "execution_count": 28,
   "id": "c465f68d",
   "metadata": {},
   "outputs": [
    {
     "name": "stdout",
     "output_type": "stream",
     "text": [
      "dom_dir False True True\n",
      "dom_vel False False False\n",
      "res_max False False False\n",
      "dir_max False True True\n",
      "max_dew_temp False False False\n",
      "min_dew_temp False False False\n",
      "mean_dew_temp False False False\n",
      "max_temp False False False\n",
      "min_temp False False False\n",
      "mean_temp False False False\n",
      "rain_7_days False False False\n",
      "ndvi False False False\n",
      "evi False False False\n",
      "lst_day False False False\n",
      "lst_night False False False\n",
      "fire False False False\n",
      "weekday False True True\n",
      "month False True True\n",
      "x False False False\n",
      "y False False False\n",
      "firedate False True True\n",
      "pop False False False\n",
      "slope False False False\n",
      "road_dens False False False\n",
      "dem False False False\n",
      "aspect False False False\n",
      "f81 False False False\n",
      "frequency False False False\n",
      "corine_13 False False False\n",
      "corine_4 False False False\n",
      "corine_30 False False False\n",
      "corine_38 False False False\n",
      "corine_36 False False False\n",
      "corine_10 False False False\n",
      "corine_20 False False False\n",
      "corine_18 False False False\n",
      "corine_16 False False False\n",
      "corine_43 False False False\n",
      "corine_27 False False False\n",
      "corine_5 False False False\n",
      "corine_31 False False False\n",
      "corine_17 False False False\n",
      "corine_12 False False False\n",
      "corine_26 False False False\n",
      "corine_37 False False False\n",
      "corine_24 False False False\n",
      "corine_28 False False False\n",
      "corine_29 False False False\n",
      "corine_19 False False False\n",
      "corine_21 False False False\n",
      "corine_6 False False False\n",
      "corine_23 False False False\n",
      "corine_22 False False False\n",
      "corine_1 False False False\n",
      "corine_8 False False False\n",
      "corine_33 False False False\n",
      "corine_2 False False False\n",
      "corine_40 False False False\n",
      "corine_32 False False False\n",
      "corine_41 False False False\n",
      "corine_3 False False False\n",
      "corine_25 False False False\n",
      "corine_35 False False False\n",
      "corine_14 False False False\n",
      "corine_42 False False False\n",
      "corine_11 False False False\n",
      "corine_44 False False False\n",
      "corine_15 False False False\n",
      "corine_7 False False False\n",
      "corine_9 False False False\n",
      "corine_gr1 False False False\n",
      "corine_gr4 False False False\n",
      "corine_gr5 False False False\n",
      "corine_gr21 False False False\n",
      "corine_gr22 False False False\n",
      "corine_gr23 False False False\n",
      "corine_gr24 False False False\n",
      "corine_gr31 False False False\n",
      "corine_gr32 False False False\n",
      "corine_gr33 False False False\n",
      "band False False False\n"
     ]
    }
   ],
   "source": [
    "for c in df.columns: \n",
    "    print(c,df[c].min()<0, df[c].max()>1, df[c].mean()>1)"
   ]
  },
  {
   "cell_type": "code",
   "execution_count": 33,
   "id": "48eed646",
   "metadata": {},
   "outputs": [
    {
     "data": {
      "text/plain": [
       "array([ 9.,  8.,  7., 10.,  4.,  6.,  3.,  5.])"
      ]
     },
     "execution_count": 33,
     "metadata": {},
     "output_type": "execute_result"
    }
   ],
   "source": [
    "df['month'].unique()"
   ]
  },
  {
   "cell_type": "code",
   "execution_count": null,
   "id": "427d1ae7",
   "metadata": {},
   "outputs": [],
   "source": []
  }
 ],
 "metadata": {
  "kernelspec": {
   "display_name": "Python 3",
   "language": "python",
   "name": "python3"
  },
  "language_info": {
   "codemirror_mode": {
    "name": "ipython",
    "version": 3
   },
   "file_extension": ".py",
   "mimetype": "text/x-python",
   "name": "python",
   "nbconvert_exporter": "python",
   "pygments_lexer": "ipython3",
   "version": "3.9.15"
  }
 },
 "nbformat": 4,
 "nbformat_minor": 5
}
