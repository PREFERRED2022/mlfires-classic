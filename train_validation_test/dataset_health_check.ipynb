{
 "cells": [
  {
   "cell_type": "code",
   "execution_count": 1,
   "id": "e514dc17",
   "metadata": {},
   "outputs": [
    {
     "data": {
      "text/html": [
       "<style type='text/css'>\n",
       ".datatable table.frame { margin-bottom: 0; }\n",
       ".datatable table.frame thead { border-bottom: none; }\n",
       ".datatable table.frame tr.coltypes td {  color: #FFFFFF;  line-height: 6px;  padding: 0 0.5em;}\n",
       ".datatable .bool    { background: #DDDD99; }\n",
       ".datatable .object  { background: #565656; }\n",
       ".datatable .int     { background: #5D9E5D; }\n",
       ".datatable .float   { background: #4040CC; }\n",
       ".datatable .str     { background: #CC4040; }\n",
       ".datatable .row_index {  background: var(--jp-border-color3);  border-right: 1px solid var(--jp-border-color0);  color: var(--jp-ui-font-color3);  font-size: 9px;}\n",
       ".datatable .frame tr.coltypes .row_index {  background: var(--jp-border-color0);}\n",
       ".datatable th:nth-child(2) { padding-left: 12px; }\n",
       ".datatable .hellipsis {  color: var(--jp-cell-editor-border-color);}\n",
       ".datatable .vellipsis {  background: var(--jp-layout-color0);  color: var(--jp-cell-editor-border-color);}\n",
       ".datatable .na {  color: var(--jp-cell-editor-border-color);  font-size: 80%;}\n",
       ".datatable .footer { font-size: 9px; }\n",
       ".datatable .frame_dimensions {  background: var(--jp-border-color3);  border-top: 1px solid var(--jp-border-color0);  color: var(--jp-ui-font-color3);  display: inline-block;  opacity: 0.6;  padding: 1px 10px 1px 5px;}\n",
       "</style>\n"
      ],
      "text/plain": [
       "<IPython.core.display.HTML object>"
      ]
     },
     "metadata": {},
     "output_type": "display_data"
    }
   ],
   "source": [
    "import os\n",
    "import calendar\n",
    "import time\n",
    "import datatable as dt\n",
    "import fileutils\n",
    "import traceback"
   ]
  },
  {
   "cell_type": "code",
   "execution_count": 2,
   "id": "b187b97d",
   "metadata": {},
   "outputs": [],
   "source": [
    "def load_datatable(fpath, fill=False):\n",
    "    if not os.path.exists(fpath):\n",
    "        print('Path not found : %s'%fpath)\n",
    "        raise\n",
    "    DT = dt.fread(fpath, fill=fill)\n",
    "    return DT"
   ]
  },
  {
   "cell_type": "code",
   "execution_count": 3,
   "id": "993b1199",
   "metadata": {},
   "outputs": [],
   "source": [
    "def walkmonthfiles(sfolder):\n",
    "    for fmonth in fileutils.find_files(sfolder, '*_norm.csv', listtype=\"walk\"):\n",
    "        #print(fmonth)\n",
    "        monthdir = os.path.dirname(fmonth)\n",
    "        year = os.path.basename(os.path.dirname(monthdir))\n",
    "        if year[0:2] != '20':\n",
    "            continue\n",
    "        yield fmonth\n",
    "        #extractdays(fmonth, tfolder)"
   ]
  },
  {
   "cell_type": "code",
   "execution_count": 4,
   "id": "c1a8850e",
   "metadata": {},
   "outputs": [],
   "source": [
    "def read_multiple_csv(sfolder, pattern):\n",
    "    #pattern example '*_norm.csv'\n",
    "    exfeat = [\"\",\"id\", \"firedate\"]\n",
    "    DTall = None\n",
    "    for f in fileutils.find_files(sfolder, pattern, listtype=\"walk\"):\n",
    "        print(f)\n",
    "        try:\n",
    "            DTpart=load_datatable(f)\n",
    "        except:\n",
    "            print(\"Fail to load %s :\\n\"%f+traceback.format_exc())\n",
    "            raise\n",
    "        if DTall is None: \n",
    "            DTall = DTpart\n",
    "        else:\n",
    "            DTall=dt.rbind(DTall, DTpart)\n",
    "    return DTall"
   ]
  },
  {
   "cell_type": "code",
   "execution_count": 5,
   "id": "bc64a921",
   "metadata": {},
   "outputs": [],
   "source": [
    "def filterDT(DT, filt):\n",
    "    DT=DT[:, [name for name in filt]]\n",
    "    return DT\n",
    "    "
   ]
  },
  {
   "cell_type": "code",
   "execution_count": 6,
   "id": "b2c210e9",
   "metadata": {},
   "outputs": [],
   "source": [
    "def aggrfuncs(DTaggr, func, y, pattern, agg):\n",
    "    DTa=func()\n",
    "    DTa['Year'] = '%d'%(y)\n",
    "    DTa['Pattern'] = pattern\n",
    "    DTa['Aggr'] = agg\n",
    "    if DTaggr==None:\n",
    "        DTaggr=DTa\n",
    "    else:\n",
    "        DTaggr = dt.rbind(DTaggr,DTa)\n",
    "    return DTaggr"
   ]
  },
  {
   "cell_type": "code",
   "execution_count": 7,
   "id": "174c0c20",
   "metadata": {},
   "outputs": [],
   "source": [
    "def statmonths(years, sfolder, pattern, filt):\n",
    "    #sfolder = '/data2/ffp/datasets/daily/%s/08'\n",
    "    DTmeans=None; DTmin=None; DTmax=None; DTsd=None;\n",
    "    #filt=['ndvi_new','evi', 'lst_day', 'lst_night']\n",
    "    #filt=['max_temp','min_temp','mean_temp','rain_7days','res_max','dom_vel','max_dew_temp','min_dew_temp','mean_dew_temp']\n",
    "    #exclude onehot = ['corine', 'dir_max', 'dom_dir', 'wkd', 'month']+[\"C0\",\"id\", \"firedate\"]\n",
    "    for y in years:\n",
    "        print(y)\n",
    "        #sfolder = '/data2/ffp/datasets/daily/%d/08'%y\n",
    "        yfolder = sfolder%y\n",
    "        print(yfolder)\n",
    "        DT = read_multiple_csv(yfolder, pattern)\n",
    "        DT = DT[:, [name for name in filt]]\n",
    "        DTmeans = aggrfuncs(DTmeans, DT.mean, y, pattern, 'mean')\n",
    "        DTmin = aggrfuncs(DTmin, DT.min, y, pattern, 'min')\n",
    "        DTmax = aggrfuncs(DTmax, DT.max, y, pattern, 'max')\n",
    "        DTsd = aggrfuncs(DTsd, DT.sd, y, pattern, 'sd')\n",
    "        DT = None\n",
    "    return DTmeans, DTmin, DTmax, DTsd "
   ]
  },
  {
   "cell_type": "code",
   "execution_count": 15,
   "id": "40f1409d",
   "metadata": {},
   "outputs": [],
   "source": [
    "def load_test(years, sfolder, pattern):\n",
    "    for y in years:\n",
    "        print(y)\n",
    "        #sfolder = '/data2/ffp/datasets/daily/%d/08'%y\n",
    "        yfolder = sfolder%y\n",
    "        print(\"%s, %s: Loading\"%(yfolder,pattern))\n",
    "        try:\n",
    "            DT = read_multiple_csv(yfolder, pattern)\n",
    "            if DT is not None:\n",
    "                print(\"%s, %s: Loaded successfully\"%(yfolder,pattern))\n",
    "                print(DT.names)\n",
    "                print('number of days : %d'%DT['firedate'].nunique1())\n",
    "                dt.unique(DT['firedate'])\n",
    "                wdays = len([d for d in DT.names if 'wkd_' in d ])\n",
    "                months = len([d for d in DT.names if 'month_' in d ])\n",
    "                corines = len([d for d in DT.names if 'corine_' in d ])\n",
    "                dir_maxs = len([d for d in DT.names if 'dir_max_' in d ])\n",
    "                dom_dirs = len([d for d in DT.names if 'dom_dir_' in d ])\n",
    "                total_feat = len(DT.names)\n",
    "                print('Total features: %d, week days: %d, months: %d, corine: %d, dom_dir: %d, dir_max: %d'%\\\n",
    "                     (total_feat, wdays, months, corines, dom_dirs, dir_maxs))\n",
    "            else:\n",
    "                print(\"%s, %s: No dataset\"%(yfolder,pattern))\n",
    "        except:\n",
    "            print(traceback.format_exc())"
   ]
  },
  {
   "cell_type": "code",
   "execution_count": 9,
   "id": "dc727c5c",
   "metadata": {
    "scrolled": true
   },
   "outputs": [
    {
     "name": "stdout",
     "output_type": "stream",
     "text": [
      "/data2/ffp/datasets/monthly/2020/06/june_2020_norm.csv\n"
     ]
    },
    {
     "data": {
      "text/html": [
       "<div class='datatable'>\n",
       "  <table class='frame'>\n",
       "  <thead>\n",
       "    <tr class='colnames'><td class='row_index'></td><th>id</th><th>firedate</th><th>max_temp</th><th>min_temp</th><th>mean_temp</th><th>res_max</th><th>dom_vel</th><th>rain_7days</th><th>dem</th><th>slope</th><th class='vellipsis'>&hellip;</th><th>month_9</th><th>frequency</th><th>f81</th><th>x</th><th>y</th></tr>\n",
       "    <tr class='coltypes'><td class='row_index'></td><td class='float' title='float64'>&#x25AA;&#x25AA;&#x25AA;&#x25AA;&#x25AA;&#x25AA;&#x25AA;&#x25AA;</td><td class='int' title='int32'>&#x25AA;&#x25AA;&#x25AA;&#x25AA;</td><td class='float' title='float64'>&#x25AA;&#x25AA;&#x25AA;&#x25AA;&#x25AA;&#x25AA;&#x25AA;&#x25AA;</td><td class='float' title='float64'>&#x25AA;&#x25AA;&#x25AA;&#x25AA;&#x25AA;&#x25AA;&#x25AA;&#x25AA;</td><td class='float' title='float64'>&#x25AA;&#x25AA;&#x25AA;&#x25AA;&#x25AA;&#x25AA;&#x25AA;&#x25AA;</td><td class='float' title='float64'>&#x25AA;&#x25AA;&#x25AA;&#x25AA;&#x25AA;&#x25AA;&#x25AA;&#x25AA;</td><td class='float' title='float64'>&#x25AA;&#x25AA;&#x25AA;&#x25AA;&#x25AA;&#x25AA;&#x25AA;&#x25AA;</td><td class='float' title='float64'>&#x25AA;&#x25AA;&#x25AA;&#x25AA;&#x25AA;&#x25AA;&#x25AA;&#x25AA;</td><td class='float' title='float64'>&#x25AA;&#x25AA;&#x25AA;&#x25AA;&#x25AA;&#x25AA;&#x25AA;&#x25AA;</td><td class='float' title='float64'>&#x25AA;&#x25AA;&#x25AA;&#x25AA;&#x25AA;&#x25AA;&#x25AA;&#x25AA;</td><td></td><td class='bool' title='bool8'>&#x25AA;</td><td class='float' title='float64'>&#x25AA;&#x25AA;&#x25AA;&#x25AA;&#x25AA;&#x25AA;&#x25AA;&#x25AA;</td><td class='float' title='float64'>&#x25AA;&#x25AA;&#x25AA;&#x25AA;&#x25AA;&#x25AA;&#x25AA;&#x25AA;</td><td class='float' title='float64'>&#x25AA;&#x25AA;&#x25AA;&#x25AA;&#x25AA;&#x25AA;&#x25AA;&#x25AA;</td><td class='float' title='float64'>&#x25AA;&#x25AA;&#x25AA;&#x25AA;&#x25AA;&#x25AA;&#x25AA;&#x25AA;</td></tr>\n",
       "  </thead>\n",
       "  <tbody>\n",
       "    <tr><td class='row_index'>0</td><td>333237</td><td>20200605</td><td>0.583038</td><td>0.624735</td><td>0.592991</td><td>0.30241</td><td>0.334799</td><td>0.0483197</td><td>0.0321458</td><td>0.0309607</td><td class=vellipsis>&hellip;</td><td>0</td><td>0</td><td>0.00139211</td><td>0.781966</td><td>1</td></tr>\n",
       "    <tr><td class='row_index'>1</td><td>333237</td><td>20200618</td><td>0.599839</td><td>0.653896</td><td>0.622035</td><td>0.0364355</td><td>0.128298</td><td>0.110203</td><td>0.0321458</td><td>0.0309607</td><td class=vellipsis>&hellip;</td><td>0</td><td>0</td><td>0.00139211</td><td>0.781966</td><td>1</td></tr>\n",
       "    <tr><td class='row_index'>2</td><td>333237</td><td>20200613</td><td>0.59262</td><td>0.674296</td><td>0.609795</td><td>0.126569</td><td>0.0944475</td><td>0.0311833</td><td>0.0321458</td><td>0.0309607</td><td class=vellipsis>&hellip;</td><td>0</td><td>0</td><td>0.00139211</td><td>0.781966</td><td>1</td></tr>\n",
       "    <tr><td class='row_index'>3</td><td>335462</td><td>20200605</td><td>0.570964</td><td>0.628872</td><td>0.587096</td><td>0.30241</td><td>0.329836</td><td>0.0467675</td><td>0.0296805</td><td>0.0298643</td><td class=vellipsis>&hellip;</td><td>0</td><td>0</td><td>0.00139211</td><td>0.780863</td><td>0.999466</td></tr>\n",
       "    <tr><td class='row_index'>4</td><td>335462</td><td>20200618</td><td>0.588786</td><td>0.649126</td><td>0.612406</td><td>0.0364355</td><td>0.131339</td><td>0.127404</td><td>0.0296805</td><td>0.0298643</td><td class=vellipsis>&hellip;</td><td>0</td><td>0</td><td>0.00139211</td><td>0.780863</td><td>0.999466</td></tr>\n",
       "    <tr><td class='row_index'>5</td><td>335462</td><td>20200613</td><td>0.585607</td><td>0.661885</td><td>0.59886</td><td>0.126569</td><td>0.0941413</td><td>0.0397643</td><td>0.0296805</td><td>0.0298643</td><td class=vellipsis>&hellip;</td><td>0</td><td>0</td><td>0.00139211</td><td>0.780863</td><td>0.999466</td></tr>\n",
       "    <tr><td class='row_index'>6</td><td>335463</td><td>20200605</td><td>0.583038</td><td>0.624735</td><td>0.592991</td><td>0.30241</td><td>0.334799</td><td>0.0483197</td><td>0.03441</td><td>0.027004</td><td class=vellipsis>&hellip;</td><td>0</td><td>0</td><td>0.00139211</td><td>0.781199</td><td>0.999647</td></tr>\n",
       "    <tr><td class='row_index'>7</td><td>335463</td><td>20200618</td><td>0.599839</td><td>0.653896</td><td>0.622035</td><td>0.0364355</td><td>0.128298</td><td>0.110203</td><td>0.03441</td><td>0.027004</td><td class=vellipsis>&hellip;</td><td>0</td><td>0</td><td>0.00139211</td><td>0.781199</td><td>0.999647</td></tr>\n",
       "    <tr><td class='row_index'>8</td><td>335463</td><td>20200613</td><td>0.59262</td><td>0.674296</td><td>0.609795</td><td>0.126569</td><td>0.0944475</td><td>0.0311833</td><td>0.03441</td><td>0.027004</td><td class=vellipsis>&hellip;</td><td>0</td><td>0</td><td>0.00139211</td><td>0.781199</td><td>0.999647</td></tr>\n",
       "    <tr><td class='row_index'>9</td><td>335464</td><td>20200605</td><td>0.583038</td><td>0.624735</td><td>0.592991</td><td>0.30241</td><td>0.334799</td><td>0.0483197</td><td>0.0321458</td><td>0.0309607</td><td class=vellipsis>&hellip;</td><td>0</td><td>0</td><td>0.00139211</td><td>0.781797</td><td>0.999929</td></tr>\n",
       "    <tr><td class='row_index'>10</td><td>335464</td><td>20200618</td><td>0.599839</td><td>0.653896</td><td>0.622035</td><td>0.0364355</td><td>0.128298</td><td>0.110203</td><td>0.0321458</td><td>0.0309607</td><td class=vellipsis>&hellip;</td><td>0</td><td>0</td><td>0.00139211</td><td>0.781797</td><td>0.999929</td></tr>\n",
       "    <tr><td class='row_index'>11</td><td>335464</td><td>20200613</td><td>0.59262</td><td>0.674296</td><td>0.609795</td><td>0.126569</td><td>0.0944475</td><td>0.0311833</td><td>0.0321458</td><td>0.0309607</td><td class=vellipsis>&hellip;</td><td>0</td><td>0</td><td>0.00139211</td><td>0.781797</td><td>0.999929</td></tr>\n",
       "    <tr><td class='row_index'>12</td><td>337688</td><td>20200605</td><td>0.570964</td><td>0.628872</td><td>0.587096</td><td>0.30241</td><td>0.329836</td><td>0.0467675</td><td>0.0378472</td><td>0.035692</td><td class=vellipsis>&hellip;</td><td>0</td><td>0</td><td>0.00139211</td><td>0.77985</td><td>0.998927</td></tr>\n",
       "    <tr><td class='row_index'>13</td><td>337688</td><td>20200618</td><td>0.588786</td><td>0.649126</td><td>0.612406</td><td>0.0364355</td><td>0.131339</td><td>0.127404</td><td>0.0378472</td><td>0.035692</td><td class=vellipsis>&hellip;</td><td>0</td><td>0</td><td>0.00139211</td><td>0.77985</td><td>0.998927</td></tr>\n",
       "    <tr><td class='row_index'>14</td><td>337688</td><td>20200613</td><td>0.585607</td><td>0.661885</td><td>0.59886</td><td>0.126569</td><td>0.0941413</td><td>0.0397643</td><td>0.0378472</td><td>0.035692</td><td class=vellipsis>&hellip;</td><td>0</td><td>0</td><td>0.00139211</td><td>0.77985</td><td>0.998927</td></tr>\n",
       "    <tr><td class='row_index'>&#x22EE;</td><td class='hellipsis'>&#x22EE;</td><td class='hellipsis'>&#x22EE;</td><td class='hellipsis'>&#x22EE;</td><td class='hellipsis'>&#x22EE;</td><td class='hellipsis'>&#x22EE;</td><td class='hellipsis'>&#x22EE;</td><td class='hellipsis'>&#x22EE;</td><td class='hellipsis'>&#x22EE;</td><td class='hellipsis'>&#x22EE;</td><td class='hellipsis'>&#x22EE;</td><td class='hellipsis'>&#x22F1;</td><td class='hellipsis'>&#x22EE;</td><td class='hellipsis'>&#x22EE;</td><td class='hellipsis'>&#x22EE;</td><td class='hellipsis'>&#x22EE;</td><td class='hellipsis'>&#x22EE;</td></tr>\n",
       "    <tr><td class='row_index'>11,185,555</td><td>3.46881e+06</td><td>20200603</td><td>0.446177</td><td>0.61304</td><td>0.518399</td><td>0.436325</td><td>0.19757</td><td>0.0408639</td><td>0.0021478</td><td>0</td><td class=vellipsis>&hellip;</td><td>0</td><td>0</td><td>0.0719258</td><td>0.729525</td><td>0.00938286</td></tr>\n",
       "    <tr><td class='row_index'>11,185,556</td><td>3.46881e+06</td><td>20200603</td><td>0.446177</td><td>0.61304</td><td>0.518399</td><td>0.436325</td><td>0.19757</td><td>0.0408639</td><td>0.0021478</td><td>0</td><td class=vellipsis>&hellip;</td><td>0</td><td>0</td><td>0.0719258</td><td>0.730107</td><td>0.00937671</td></tr>\n",
       "    <tr><td class='row_index'>11,185,557</td><td>3.46212e+06</td><td>20200603</td><td>0.446177</td><td>0.61304</td><td>0.518399</td><td>0.436325</td><td>0.19757</td><td>0.0408639</td><td>0.0021478</td><td>0</td><td class=vellipsis>&hellip;</td><td>0</td><td>0</td><td>0.0923434</td><td>0.727665</td><td>0.0112538</td></tr>\n",
       "    <tr><td class='row_index'>11,185,558</td><td>3.46213e+06</td><td>20200603</td><td>0.446177</td><td>0.61304</td><td>0.518399</td><td>0.436325</td><td>0.19757</td><td>0.0408639</td><td>0.0021478</td><td>0</td><td class=vellipsis>&hellip;</td><td>0</td><td>0</td><td>0.0923434</td><td>0.728187</td><td>0.0112646</td></tr>\n",
       "    <tr><td class='row_index'>11,185,559</td><td>3.46213e+06</td><td>20200603</td><td>0.446177</td><td>0.61304</td><td>0.518399</td><td>0.436325</td><td>0.19757</td><td>0.0408639</td><td>0.0021478</td><td>1.37683e-05</td><td class=vellipsis>&hellip;</td><td>0</td><td>0</td><td>0.0923434</td><td>0.728783</td><td>0.0111396</td></tr>\n",
       "  </tbody>\n",
       "  </table>\n",
       "  <div class='footer'>\n",
       "    <div class='frame_dimensions'>11,185,560 rows &times; 93 columns</div>\n",
       "  </div>\n",
       "</div>\n"
      ],
      "text/plain": [
       "<Frame#7fbf569bc8a0 11185560x93>"
      ]
     },
     "execution_count": 9,
     "metadata": {},
     "output_type": "execute_result"
    }
   ],
   "source": [
    "read_multiple_csv('/data2/ffp/datasets/monthly/2020/', 'june_*_norm.csv')"
   ]
  },
  {
   "cell_type": "code",
   "execution_count": 17,
   "id": "805f42d9",
   "metadata": {
    "scrolled": true
   },
   "outputs": [
    {
     "name": "stdout",
     "output_type": "stream",
     "text": [
      "2020\n",
      "/data2/ffp/datasets/monthly/2020/, june_*_norm.csv: Loading\n",
      "/data2/ffp/datasets/monthly/2020/06/june_2020_norm.csv\n",
      "/data2/ffp/datasets/monthly/2020/, june_*_norm.csv: Loaded successfully\n",
      "('id', 'firedate', 'max_temp', 'min_temp', 'mean_temp', 'res_max', 'dom_vel', 'rain_7days', 'dem', 'slope', 'curvature', 'aspect', 'ndvi_new', 'evi', 'lst_day', 'lst_night', 'max_dew_temp', 'mean_dew_temp', 'min_dew_temp', 'fire', 'dir_max_1', 'dir_max_2', 'dir_max_3', 'dir_max_4', 'dir_max_5', 'dir_max_6', 'dir_max_7', 'dir_max_8', 'dom_dir_1', 'dom_dir_2', 'dom_dir_3', 'dom_dir_4', 'dom_dir_5', 'dom_dir_6', 'dom_dir_7', 'dom_dir_8', 'corine_111', 'corine_112', 'corine_121', 'corine_122', 'corine_123', 'corine_124', 'corine_131', 'corine_132', 'corine_133', 'corine_141', 'corine_142', 'corine_211', 'corine_212', 'corine_213', 'corine_221', 'corine_222', 'corine_223', 'corine_231', 'corine_241', 'corine_242', 'corine_243', 'corine_244', 'corine_311', 'corine_312', 'corine_313', 'corine_321', 'corine_322', 'corine_323', 'corine_324', 'corine_331', 'corine_332', 'corine_333', 'corine_334', 'corine_411', 'corine_412', 'corine_421', 'corine_422', 'corine_511', 'corine_512', 'corine_521', 'wkd_0', 'wkd_1', 'wkd_2', 'wkd_3', 'wkd_4', 'wkd_5', 'wkd_6', 'month_8', 'month_4', 'month_5', 'month_6', 'month_7', 'month_9', 'frequency', 'f81', 'x', 'y')\n",
      "number of days : 30\n",
      "Total features: 93, week days: 7, months: 6, corine: 40, dom_dir: 8, dir_max: 8\n",
      "2020\n",
      "/data2/ffp/datasets/monthly/2020/, july_*_norm.csv: Loading\n",
      "/data2/ffp/datasets/monthly/2020/07/july_2020_norm.csv\n",
      "/data2/ffp/datasets/monthly/2020/, july_*_norm.csv: Loaded successfully\n",
      "('id', 'firedate', 'max_temp', 'min_temp', 'mean_temp', 'res_max', 'dom_vel', 'rain_7days', 'dem', 'slope', 'curvature', 'aspect', 'ndvi_new', 'evi', 'lst_day', 'lst_night', 'max_dew_temp', 'mean_dew_temp', 'min_dew_temp', 'fire', 'dir_max_1', 'dir_max_2', 'dir_max_3', 'dir_max_4', 'dir_max_5', 'dir_max_6', 'dir_max_7', 'dir_max_8', 'dom_dir_1', 'dom_dir_2', 'dom_dir_3', 'dom_dir_4', 'dom_dir_5', 'dom_dir_6', 'dom_dir_7', 'dom_dir_8', 'corine_111', 'corine_112', 'corine_121', 'corine_122', 'corine_123', 'corine_124', 'corine_131', 'corine_132', 'corine_133', 'corine_141', 'corine_142', 'corine_211', 'corine_212', 'corine_213', 'corine_221', 'corine_222', 'corine_223', 'corine_231', 'corine_241', 'corine_242', 'corine_243', 'corine_244', 'corine_311', 'corine_312', 'corine_313', 'corine_321', 'corine_322', 'corine_323', 'corine_324', 'corine_331', 'corine_332', 'corine_333', 'corine_334', 'corine_411', 'corine_412', 'corine_421', 'corine_422', 'corine_511', 'corine_512', 'corine_521', 'wkd_0', 'wkd_1', 'wkd_2', 'wkd_3', 'wkd_4', 'wkd_5', 'wkd_6', 'month_8', 'month_4', 'month_5', 'month_6', 'month_7', 'month_9', 'frequency', 'f81', 'x', 'y')\n",
      "number of days : 31\n",
      "Total features: 93, week days: 7, months: 6, corine: 40, dom_dir: 8, dir_max: 8\n",
      "2020\n",
      "/data2/ffp/datasets/monthly/2020/, august_*_norm.csv: Loading\n",
      "/data2/ffp/datasets/monthly/2020/08/august_2020_norm.csv\n",
      "/data2/ffp/datasets/monthly/2020/, august_*_norm.csv: Loaded successfully\n",
      "('id', 'firedate', 'max_temp', 'min_temp', 'mean_temp', 'res_max', 'dom_vel', 'rain_7days', 'dem', 'slope', 'curvature', 'aspect', 'ndvi_new', 'evi', 'lst_day', 'lst_night', 'max_dew_temp', 'mean_dew_temp', 'min_dew_temp', 'fire', 'dir_max_1', 'dir_max_2', 'dir_max_3', 'dir_max_4', 'dir_max_5', 'dir_max_6', 'dir_max_7', 'dir_max_8', 'dom_dir_1', 'dom_dir_2', 'dom_dir_3', 'dom_dir_4', 'dom_dir_5', 'dom_dir_6', 'dom_dir_7', 'dom_dir_8', 'corine_111', 'corine_112', 'corine_121', 'corine_122', 'corine_123', 'corine_124', 'corine_131', 'corine_132', 'corine_133', 'corine_141', 'corine_142', 'corine_211', 'corine_212', 'corine_213', 'corine_221', 'corine_222', 'corine_223', 'corine_231', 'corine_241', 'corine_242', 'corine_243', 'corine_244', 'corine_311', 'corine_312', 'corine_313', 'corine_321', 'corine_322', 'corine_323', 'corine_324', 'corine_331', 'corine_332', 'corine_333', 'corine_334', 'corine_411', 'corine_412', 'corine_421', 'corine_422', 'corine_511', 'corine_512', 'corine_521', 'wkd_0', 'wkd_1', 'wkd_2', 'wkd_3', 'wkd_4', 'wkd_5', 'wkd_6', 'month_8', 'month_4', 'month_5', 'month_6', 'month_7', 'month_9', 'frequency', 'f81', 'x', 'y')\n",
      "number of days : 31\n",
      "Total features: 93, week days: 7, months: 6, corine: 40, dom_dir: 8, dir_max: 8\n",
      "2020\n",
      "/data2/ffp/datasets/monthly/2020/, september_*_norm.csv: Loading\n",
      "/data2/ffp/datasets/monthly/2020/09/september_2020_norm.csv\n",
      "/data2/ffp/datasets/monthly/2020/, september_*_norm.csv: Loaded successfully\n",
      "('id', 'firedate', 'max_temp', 'min_temp', 'mean_temp', 'res_max', 'dom_vel', 'rain_7days', 'dem', 'slope', 'curvature', 'aspect', 'ndvi_new', 'evi', 'lst_day', 'lst_night', 'max_dew_temp', 'mean_dew_temp', 'min_dew_temp', 'fire', 'dir_max_1', 'dir_max_2', 'dir_max_3', 'dir_max_4', 'dir_max_5', 'dir_max_6', 'dir_max_7', 'dir_max_8', 'dom_dir_1', 'dom_dir_2', 'dom_dir_3', 'dom_dir_4', 'dom_dir_5', 'dom_dir_6', 'dom_dir_7', 'dom_dir_8', 'corine_111', 'corine_112', 'corine_121', 'corine_122', 'corine_123', 'corine_124', 'corine_131', 'corine_132', 'corine_133', 'corine_141', 'corine_142', 'corine_211', 'corine_212', 'corine_213', 'corine_221', 'corine_222', 'corine_223', 'corine_231', 'corine_241', 'corine_242', 'corine_243', 'corine_244', 'corine_311', 'corine_312', 'corine_313', 'corine_321', 'corine_322', 'corine_323', 'corine_324', 'corine_331', 'corine_332', 'corine_333', 'corine_334', 'corine_411', 'corine_412', 'corine_421', 'corine_422', 'corine_511', 'corine_512', 'corine_521', 'wkd_0', 'wkd_1', 'wkd_2', 'wkd_3', 'wkd_4', 'wkd_5', 'wkd_6', 'month_8', 'month_4', 'month_5', 'month_6', 'month_7', 'month_9', 'frequency', 'f81', 'x', 'y')\n",
      "number of days : 29\n",
      "Total features: 93, week days: 7, months: 6, corine: 40, dom_dir: 8, dir_max: 8\n"
     ]
    }
   ],
   "source": [
    "#for m in ['june','july','august','september']:\n",
    "for m in ['june','july','august','september']:\n",
    "#for m in ['september']:\n",
    "    load_test(range(2020,2021),'/data2/ffp/datasets/monthly/%d/','%s_*_norm.csv'%m)"
   ]
  },
  {
   "cell_type": "code",
   "execution_count": 34,
   "id": "ebb60927",
   "metadata": {},
   "outputs": [],
   "source": [
    "filt=['ndvi_new','evi', 'lst_day', 'lst_night']\n",
    "#exclude onehot = ['corine', 'dir_max', 'dom_dir', 'wkd', 'month']+[\"C0\",\"id\", \"firedate\"]"
   ]
  },
  {
   "cell_type": "code",
   "execution_count": 38,
   "id": "b6cd7239",
   "metadata": {},
   "outputs": [
    {
     "name": "stdout",
     "output_type": "stream",
     "text": [
      "2019\n",
      "/data2/ffp/datasets/monthly/2019/\n",
      "/data2/ffp/datasets/monthly/2019/06/june_2019_norm.csv\n",
      "2020\n",
      "/data2/ffp/datasets/monthly/2020/\n",
      "/data2/ffp/datasets/monthly/2020/06/june_2020_norm.csv\n"
     ]
    }
   ],
   "source": [
    "filt=['ndvi_new','evi', 'lst_day', 'lst_night']\n",
    "DTmeans, DTmin, DTmax, DTsd = statmonths(range(2019,2021),'/data2/ffp/datasets/monthly/%d/', 'june_*_norm.csv', filt)"
   ]
  },
  {
   "cell_type": "code",
   "execution_count": 36,
   "id": "97e45dce",
   "metadata": {},
   "outputs": [
    {
     "data": {
      "text/html": [
       "<div class='datatable'>\n",
       "  <table class='frame'>\n",
       "  <thead>\n",
       "    <tr class='colnames'><td class='row_index'></td><th>ndvi_new</th><th>evi</th><th>lst_day</th><th>lst_night</th><th>Year</th><th>Pattern</th><th>Aggr</th></tr>\n",
       "    <tr class='coltypes'><td class='row_index'></td><td class='float' title='float64'>&#x25AA;&#x25AA;&#x25AA;&#x25AA;&#x25AA;&#x25AA;&#x25AA;&#x25AA;</td><td class='float' title='float64'>&#x25AA;&#x25AA;&#x25AA;&#x25AA;&#x25AA;&#x25AA;&#x25AA;&#x25AA;</td><td class='float' title='float64'>&#x25AA;&#x25AA;&#x25AA;&#x25AA;&#x25AA;&#x25AA;&#x25AA;&#x25AA;</td><td class='float' title='float64'>&#x25AA;&#x25AA;&#x25AA;&#x25AA;&#x25AA;&#x25AA;&#x25AA;&#x25AA;</td><td class='str' title='str32'>&#x25AA;&#x25AA;&#x25AA;&#x25AA;</td><td class='str' title='str32'>&#x25AA;&#x25AA;&#x25AA;&#x25AA;</td><td class='str' title='str32'>&#x25AA;&#x25AA;&#x25AA;&#x25AA;</td></tr>\n",
       "  </thead>\n",
       "  <tbody>\n",
       "    <tr><td class='row_index'>0</td><td>0.682473</td><td>0.493776</td><td>0.554</td><td>0.513417</td><td>2019</td><td>june_*_norm.csv</td><td>mean</td></tr>\n",
       "    <tr><td class='row_index'>1</td><td>0.675653</td><td>0.489669</td><td>0.527276</td><td>0.475536</td><td>2020</td><td>june_*_norm.csv</td><td>mean</td></tr>\n",
       "  </tbody>\n",
       "  </table>\n",
       "  <div class='footer'>\n",
       "    <div class='frame_dimensions'>2 rows &times; 7 columns</div>\n",
       "  </div>\n",
       "</div>\n"
      ],
      "text/plain": [
       "<Frame#7f2964033480 2x7>"
      ]
     },
     "execution_count": 36,
     "metadata": {},
     "output_type": "execute_result"
    }
   ],
   "source": [
    "DTmeans"
   ]
  },
  {
   "cell_type": "code",
   "execution_count": 41,
   "id": "93df9bae",
   "metadata": {},
   "outputs": [
    {
     "name": "stdout",
     "output_type": "stream",
     "text": [
      "2019\n",
      "/data2/ffp/datasets/monthly/2019/\n",
      "/data2/ffp/datasets/monthly/2019/06/june_2019_norm.csv\n",
      "2020\n",
      "/data2/ffp/datasets/monthly/2020/\n",
      "/data2/ffp/datasets/monthly/2020/06/june_2020_norm.csv\n"
     ]
    }
   ],
   "source": [
    "filt=['max_temp','min_temp','mean_temp','rain_7days','res_max','dom_vel','max_dew_temp','min_dew_temp','mean_dew_temp']\n",
    "DTmeans2, DTmin2, DTmax2, DTsd2 = statmonths(range(2019,2021),'/data2/ffp/datasets/monthly/%d/', 'june_*_norm.csv', filt)"
   ]
  },
  {
   "cell_type": "code",
   "execution_count": 62,
   "id": "41f09b67",
   "metadata": {},
   "outputs": [],
   "source": [
    "DTmeans.to_csv('august_means_sat.csv')\n",
    "DTmax.to_csv('august_max_sat.csv')\n",
    "DTmin.to_csv('august_min_sat.csv')\n",
    "DTsd.to_csv('august_sd_sat.csv')"
   ]
  },
  {
   "cell_type": "code",
   "execution_count": 42,
   "id": "d3d34d7c",
   "metadata": {},
   "outputs": [
    {
     "data": {
      "text/html": [
       "<div class='datatable'>\n",
       "  <table class='frame'>\n",
       "  <thead>\n",
       "    <tr class='colnames'><td class='row_index'></td><th>max_temp</th><th>min_temp</th><th>mean_temp</th><th>rain_7days</th><th>res_max</th><th>dom_vel</th><th>max_dew_temp</th><th>min_dew_temp</th><th>mean_dew_temp</th><th>Year</th><th>Pattern</th><th>Aggr</th></tr>\n",
       "    <tr class='coltypes'><td class='row_index'></td><td class='float' title='float64'>&#x25AA;&#x25AA;&#x25AA;&#x25AA;&#x25AA;&#x25AA;&#x25AA;&#x25AA;</td><td class='float' title='float64'>&#x25AA;&#x25AA;&#x25AA;&#x25AA;&#x25AA;&#x25AA;&#x25AA;&#x25AA;</td><td class='float' title='float64'>&#x25AA;&#x25AA;&#x25AA;&#x25AA;&#x25AA;&#x25AA;&#x25AA;&#x25AA;</td><td class='float' title='float64'>&#x25AA;&#x25AA;&#x25AA;&#x25AA;&#x25AA;&#x25AA;&#x25AA;&#x25AA;</td><td class='float' title='float64'>&#x25AA;&#x25AA;&#x25AA;&#x25AA;&#x25AA;&#x25AA;&#x25AA;&#x25AA;</td><td class='float' title='float64'>&#x25AA;&#x25AA;&#x25AA;&#x25AA;&#x25AA;&#x25AA;&#x25AA;&#x25AA;</td><td class='float' title='float64'>&#x25AA;&#x25AA;&#x25AA;&#x25AA;&#x25AA;&#x25AA;&#x25AA;&#x25AA;</td><td class='float' title='float64'>&#x25AA;&#x25AA;&#x25AA;&#x25AA;&#x25AA;&#x25AA;&#x25AA;&#x25AA;</td><td class='float' title='float64'>&#x25AA;&#x25AA;&#x25AA;&#x25AA;&#x25AA;&#x25AA;&#x25AA;&#x25AA;</td><td class='str' title='str32'>&#x25AA;&#x25AA;&#x25AA;&#x25AA;</td><td class='str' title='str32'>&#x25AA;&#x25AA;&#x25AA;&#x25AA;</td><td class='str' title='str32'>&#x25AA;&#x25AA;&#x25AA;&#x25AA;</td></tr>\n",
       "  </thead>\n",
       "  <tbody>\n",
       "    <tr><td class='row_index'>0</td><td>0.601616</td><td>0.69703</td><td>0.641794</td><td>0.0302464</td><td>0.368251</td><td>0.156004</td><td>0.695115</td><td>0.702692</td><td>0.694463</td><td>2019</td><td>june_*_norm.csv</td><td>mean</td></tr>\n",
       "    <tr><td class='row_index'>1</td><td>0.549206</td><td>0.643685</td><td>0.586011</td><td>0.0389301</td><td>0.321998</td><td>0.16051</td><td>0.645632</td><td>0.663797</td><td>0.648659</td><td>2020</td><td>june_*_norm.csv</td><td>mean</td></tr>\n",
       "  </tbody>\n",
       "  </table>\n",
       "  <div class='footer'>\n",
       "    <div class='frame_dimensions'>2 rows &times; 12 columns</div>\n",
       "  </div>\n",
       "</div>\n"
      ],
      "text/plain": [
       "<Frame#7f29640334e0 2x12>"
      ]
     },
     "execution_count": 42,
     "metadata": {},
     "output_type": "execute_result"
    }
   ],
   "source": [
    "DTmeans2"
   ]
  },
  {
   "cell_type": "code",
   "execution_count": 3,
   "id": "8bed3f4d",
   "metadata": {},
   "outputs": [],
   "source": [
    "DT2 = load_datatable('/data2/ffp/datasets/monthly/2020/august_2020/august_2020_norm.csv')"
   ]
  },
  {
   "cell_type": "code",
   "execution_count": 28,
   "id": "9a6c025f",
   "metadata": {},
   "outputs": [
    {
     "ename": "NameError",
     "evalue": "name 'DT' is not defined",
     "output_type": "error",
     "traceback": [
      "\u001b[0;31m---------------------------------------------------------------------------\u001b[0m",
      "\u001b[0;31mNameError\u001b[0m                                 Traceback (most recent call last)",
      "\u001b[0;32m/tmp/ipykernel_30066/2325595386.py\u001b[0m in \u001b[0;36m<module>\u001b[0;34m\u001b[0m\n\u001b[0;32m----> 1\u001b[0;31m \u001b[0mDT\u001b[0m\u001b[0;34m[\u001b[0m\u001b[0mdt\u001b[0m\u001b[0;34m.\u001b[0m\u001b[0mf\u001b[0m\u001b[0;34m[\u001b[0m\u001b[0;34m\"ndvi_new\"\u001b[0m\u001b[0;34m]\u001b[0m \u001b[0;34m>\u001b[0m \u001b[0;36m1\u001b[0m\u001b[0;34m,\u001b[0m \u001b[0mdt\u001b[0m\u001b[0;34m.\u001b[0m\u001b[0msd\u001b[0m\u001b[0;34m(\u001b[0m\u001b[0;34m)\u001b[0m\u001b[0;34m]\u001b[0m\u001b[0;34m\u001b[0m\u001b[0;34m\u001b[0m\u001b[0m\n\u001b[0m",
      "\u001b[0;31mNameError\u001b[0m: name 'DT' is not defined"
     ]
    }
   ],
   "source": [
    "DT[dt.f[\"ndvi_new\"] > 1, dt.sd()]"
   ]
  },
  {
   "cell_type": "code",
   "execution_count": 34,
   "id": "f7ad5a77",
   "metadata": {},
   "outputs": [
    {
     "data": {
      "text/html": [
       "<div class='datatable'>\n",
       "  <table class='frame'>\n",
       "  <thead>\n",
       "    <tr class='colnames'><td class='row_index'></td><th>evi</th></tr>\n",
       "    <tr class='coltypes'><td class='row_index'></td><td class='int' title='int64'>&#x25AA;&#x25AA;&#x25AA;&#x25AA;&#x25AA;&#x25AA;&#x25AA;&#x25AA;</td></tr>\n",
       "  </thead>\n",
       "  <tbody>\n",
       "    <tr><td class='row_index'>0</td><td>0</td></tr>\n",
       "  </tbody>\n",
       "  </table>\n",
       "  <div class='footer'>\n",
       "    <div class='frame_dimensions'>1 row &times; 1 column</div>\n",
       "  </div>\n",
       "</div>\n"
      ],
      "text/plain": [
       "<Frame#7f10c004b2d0 1x1>"
      ]
     },
     "execution_count": 34,
     "metadata": {},
     "output_type": "execute_result"
    }
   ],
   "source": [
    "DT2[dt.f[\"evi\"] <0, dt.count(dt.f.evi) ]"
   ]
  },
  {
   "cell_type": "code",
   "execution_count": null,
   "id": "ebb1508a",
   "metadata": {},
   "outputs": [],
   "source": [
    "DT2[dt.f[\"evi\"] <= 1, dt.sd(dt.f[\"evi\"])]"
   ]
  },
  {
   "cell_type": "code",
   "execution_count": 10,
   "id": "a89d397d",
   "metadata": {},
   "outputs": [],
   "source": [
    "DT2 = load_datatable('/data2/ffp/datasets/monthly/2020/09/september_2020_norm.csv')"
   ]
  },
  {
   "cell_type": "code",
   "execution_count": 57,
   "id": "6877f629",
   "metadata": {},
   "outputs": [
    {
     "data": {
      "text/html": [
       "<div class='datatable'>\n",
       "  <table class='frame'>\n",
       "  <thead>\n",
       "    <tr class='colnames'><td class='row_index'></td><th>ndvi mean</th><th>ndvi sd</th></tr>\n",
       "    <tr class='coltypes'><td class='row_index'></td><td class='float' title='float64'>&#x25AA;&#x25AA;&#x25AA;&#x25AA;&#x25AA;&#x25AA;&#x25AA;&#x25AA;</td><td class='float' title='float64'>&#x25AA;&#x25AA;&#x25AA;&#x25AA;&#x25AA;&#x25AA;&#x25AA;&#x25AA;</td></tr>\n",
       "  </thead>\n",
       "  <tbody>\n",
       "    <tr><td class='row_index'>0</td><td>0.998264</td><td>0.592549</td></tr>\n",
       "  </tbody>\n",
       "  </table>\n",
       "  <div class='footer'>\n",
       "    <div class='frame_dimensions'>1 row &times; 2 columns</div>\n",
       "  </div>\n",
       "</div>\n"
      ],
      "text/plain": [
       "<Frame#7f10c005b9c0 1x2>"
      ]
     },
     "execution_count": 57,
     "metadata": {},
     "output_type": "execute_result"
    }
   ],
   "source": [
    "DT2[:, {'ndvi mean': dt.mean(dt.f.ndvi_new), 'ndvi sd': dt.sd(dt.f.ndvi_new)}]"
   ]
  },
  {
   "cell_type": "code",
   "execution_count": 14,
   "id": "5fd1e6fb",
   "metadata": {},
   "outputs": [
    {
     "data": {
      "text/plain": [
       "29"
      ]
     },
     "execution_count": 14,
     "metadata": {},
     "output_type": "execute_result"
    }
   ],
   "source": [
    "DT2['firedate'].nunique1()"
   ]
  },
  {
   "cell_type": "code",
   "execution_count": null,
   "id": "2272db93",
   "metadata": {},
   "outputs": [],
   "source": []
  }
 ],
 "metadata": {
  "kernelspec": {
   "display_name": "Python 3",
   "language": "python",
   "name": "python3"
  },
  "language_info": {
   "codemirror_mode": {
    "name": "ipython",
    "version": 3
   },
   "file_extension": ".py",
   "mimetype": "text/x-python",
   "name": "python",
   "nbconvert_exporter": "python",
   "pygments_lexer": "ipython3",
   "version": "3.9.15"
  }
 },
 "nbformat": 4,
 "nbformat_minor": 5
}
